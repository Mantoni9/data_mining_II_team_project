{
  "cells": [
    {
      "cell_type": "markdown",
      "source": [
        "# Amazon KDD Cup 2023 - Task 1 - Next Product Recommendation \n",
        "\n",
        "![](https://images.aicrowd.com/raw_images/challenges/banner_file/1116/6c8fecd6d7c225b4ed11.jpg)\n",
        "\n",
        "This notebook will contains instructions and example submission with random predictions.\n",
        "\n"
      ],
      "metadata": {
        "id": "JjLhdmxVr58v"
      }
    },
    {
      "cell_type": "markdown",
      "source": [
        "## Installations 🤖\n",
        "\n",
        "1. `aicrowd-cli` for downloading challenge data and making submissions\n",
        "2. `pyarrow` for saving to parquet for submissions"
      ],
      "metadata": {
        "id": "Lm6gGYz1kjdQ"
      }
    },
    {
      "cell_type": "code",
      "execution_count": null,
      "metadata": {
        "colab": {
          "base_uri": "https://localhost:8080/"
        },
        "id": "PlGtVN4vg0OF",
        "outputId": "2b7bd601-8eed-4674-8a25-18a0a25eb111"
      },
      "outputs": [
        {
          "output_type": "stream",
          "name": "stdout",
          "text": [
            "Looking in indexes: https://pypi.org/simple, https://us-python.pkg.dev/colab-wheels/public/simple/\n",
            "Requirement already satisfied: aicrowd-cli in /usr/local/lib/python3.9/dist-packages (0.1.15)\n",
            "Requirement already satisfied: pyarrow in /usr/local/lib/python3.9/dist-packages (9.0.0)\n",
            "Requirement already satisfied: tqdm<5,>=4.56.0 in /usr/local/lib/python3.9/dist-packages (from aicrowd-cli) (4.65.0)\n",
            "Requirement already satisfied: pyzmq==22.1.0 in /usr/local/lib/python3.9/dist-packages (from aicrowd-cli) (22.1.0)\n",
            "Requirement already satisfied: python-slugify<6,>=5.0.0 in /usr/local/lib/python3.9/dist-packages (from aicrowd-cli) (5.0.2)\n",
            "Requirement already satisfied: click<8,>=7.1.2 in /usr/local/lib/python3.9/dist-packages (from aicrowd-cli) (7.1.2)\n",
            "Requirement already satisfied: toml<1,>=0.10.2 in /usr/local/lib/python3.9/dist-packages (from aicrowd-cli) (0.10.2)\n",
            "Requirement already satisfied: semver<3,>=2.13.0 in /usr/local/lib/python3.9/dist-packages (from aicrowd-cli) (2.13.0)\n",
            "Requirement already satisfied: rich<11,>=10.0.0 in /usr/local/lib/python3.9/dist-packages (from aicrowd-cli) (10.16.2)\n",
            "Requirement already satisfied: requests<3,>=2.25.1 in /usr/local/lib/python3.9/dist-packages (from aicrowd-cli) (2.27.1)\n",
            "Requirement already satisfied: GitPython==3.1.18 in /usr/local/lib/python3.9/dist-packages (from aicrowd-cli) (3.1.18)\n",
            "Requirement already satisfied: requests-toolbelt<1,>=0.9.1 in /usr/local/lib/python3.9/dist-packages (from aicrowd-cli) (0.10.1)\n",
            "Requirement already satisfied: gitdb<5,>=4.0.1 in /usr/local/lib/python3.9/dist-packages (from GitPython==3.1.18->aicrowd-cli) (4.0.10)\n",
            "Requirement already satisfied: numpy>=1.16.6 in /usr/local/lib/python3.9/dist-packages (from pyarrow) (1.22.4)\n",
            "Requirement already satisfied: text-unidecode>=1.3 in /usr/local/lib/python3.9/dist-packages (from python-slugify<6,>=5.0.0->aicrowd-cli) (1.3)\n",
            "Requirement already satisfied: idna<4,>=2.5 in /usr/local/lib/python3.9/dist-packages (from requests<3,>=2.25.1->aicrowd-cli) (3.4)\n",
            "Requirement already satisfied: charset-normalizer~=2.0.0 in /usr/local/lib/python3.9/dist-packages (from requests<3,>=2.25.1->aicrowd-cli) (2.0.12)\n",
            "Requirement already satisfied: urllib3<1.27,>=1.21.1 in /usr/local/lib/python3.9/dist-packages (from requests<3,>=2.25.1->aicrowd-cli) (1.26.15)\n",
            "Requirement already satisfied: certifi>=2017.4.17 in /usr/local/lib/python3.9/dist-packages (from requests<3,>=2.25.1->aicrowd-cli) (2022.12.7)\n",
            "Requirement already satisfied: colorama<0.5.0,>=0.4.0 in /usr/local/lib/python3.9/dist-packages (from rich<11,>=10.0.0->aicrowd-cli) (0.4.6)\n",
            "Requirement already satisfied: pygments<3.0.0,>=2.6.0 in /usr/local/lib/python3.9/dist-packages (from rich<11,>=10.0.0->aicrowd-cli) (2.14.0)\n",
            "Requirement already satisfied: commonmark<0.10.0,>=0.9.0 in /usr/local/lib/python3.9/dist-packages (from rich<11,>=10.0.0->aicrowd-cli) (0.9.1)\n",
            "Requirement already satisfied: smmap<6,>=3.0.1 in /usr/local/lib/python3.9/dist-packages (from gitdb<5,>=4.0.1->GitPython==3.1.18->aicrowd-cli) (5.0.0)\n"
          ]
        }
      ],
      "source": [
        "!pip install aicrowd-cli pyarrow"
      ]
    },
    {
      "cell_type": "markdown",
      "source": [
        "## Login to AIcrowd and download the data 📚"
      ],
      "metadata": {
        "id": "7POE7L5_kz07"
      }
    },
    {
      "cell_type": "code",
      "execution_count": null,
      "metadata": {
        "id": "5LbTnzGOhBrw",
        "colab": {
          "base_uri": "https://localhost:8080/"
        },
        "outputId": "bdb0465b-bf21-4c3c-b7d7-37e4484d0f1a"
      },
      "outputs": [
        {
          "output_type": "stream",
          "name": "stdout",
          "text": [
            "Please login here: \u001b[34m\u001b[1m\u001b[4mhttps://api.aicrowd.com/auth/HtolSYozw5tBVyE1G3c0veMPORGFB8gx7vSktRwwV4c\u001b[0m\n",
            "/usr/bin/xdg-open: 869: www-browser: not found\n",
            "/usr/bin/xdg-open: 869: links2: not found\n",
            "/usr/bin/xdg-open: 869: elinks: not found\n",
            "/usr/bin/xdg-open: 869: links: not found\n",
            "/usr/bin/xdg-open: 869: lynx: not found\n",
            "/usr/bin/xdg-open: 869: w3m: not found\n",
            "xdg-open: no method available for opening 'https://api.aicrowd.com/auth/HtolSYozw5tBVyE1G3c0veMPORGFB8gx7vSktRwwV4c'\n",
            "\u001b[32mAPI Key valid\u001b[0m\n",
            "\u001b[32mGitlab access token valid\u001b[0m\n",
            "\u001b[32mSaved details successfully!\u001b[0m\n"
          ]
        }
      ],
      "source": [
        "!aicrowd login"
      ]
    },
    {
      "cell_type": "code",
      "execution_count": null,
      "metadata": {
        "colab": {
          "base_uri": "https://localhost:8080/"
        },
        "id": "-QfVS2fthKWr",
        "outputId": "2f9cf870-bc68-46f0-eb25-642876aa8222"
      },
      "outputs": [
        {
          "output_type": "stream",
          "name": "stdout",
          "text": [
            "sessions_test_task1.csv: 100% 19.4M/19.4M [00:00<00:00, 27.3MB/s]\n",
            "sessions_test_task2.csv: 100% 1.92M/1.92M [00:00<00:00, 5.22MB/s]\n",
            "sessions_test_task3.csv: 100% 2.67M/2.67M [00:00<00:00, 7.34MB/s]\n",
            "products_train.csv: 100% 589M/589M [01:07<00:00, 8.78MB/s]\n",
            "sessions_train.csv: 100% 259M/259M [00:43<00:00, 5.94MB/s]\n"
          ]
        }
      ],
      "source": [
        "!aicrowd dataset download --challenge task-1-next-product-recommendation"
      ]
    },
    {
      "cell_type": "markdown",
      "source": [
        "## Setup data and task information"
      ],
      "metadata": {
        "id": "LmjiT10Qk5m8"
      }
    },
    {
      "cell_type": "code",
      "execution_count": null,
      "metadata": {
        "id": "7DjmcQMAgPAJ"
      },
      "outputs": [],
      "source": [
        "import os\n",
        "import numpy as np\n",
        "import pandas as pd\n",
        "from functools import lru_cache\n",
        "import matplotlib.pyplot as plt\n",
        "from sklearn.feature_extraction.text import TfidfVectorizer\n",
        "from sklearn.metrics.pairwise import cosine_similarity"
      ]
    },
    {
      "cell_type": "code",
      "execution_count": null,
      "metadata": {
        "id": "6oiTtQ56gYlY"
      },
      "outputs": [],
      "source": [
        "train_data_dir = '.'\n",
        "test_data_dir = '.'\n",
        "task = 'task1'\n",
        "PREDS_PER_SESSION = 100"
      ]
    },
    {
      "cell_type": "code",
      "execution_count": null,
      "metadata": {
        "id": "qZPWqKGegax-"
      },
      "outputs": [],
      "source": [
        "# Cache loading of data for multiple calls\n",
        "\n",
        "@lru_cache(maxsize=1)\n",
        "def read_product_data():\n",
        "    return pd.read_csv(os.path.join(train_data_dir, 'products_train.csv'))\n",
        "\n",
        "@lru_cache(maxsize=1)\n",
        "def read_train_data():\n",
        "    return pd.read_csv(os.path.join(train_data_dir, 'sessions_train.csv'))\n",
        "\n",
        "@lru_cache(maxsize=3)\n",
        "def read_test_data(task):\n",
        "    return pd.read_csv(os.path.join(test_data_dir, f'sessions_test_{task}.csv'))"
      ]
    },
    {
      "cell_type": "markdown",
      "source": [
        "## Data Description\n",
        "\n",
        "The Multilingual Shopping Session Dataset is a collection of **anonymized customer sessions** containing products from six different locales, namely English, German, Japanese, French, Italian, and Spanish. It consists of two main components: **user sessions** and **product attributes**. User sessions are a list of products that a user has engaged with in chronological order, while product attributes include various details like product title, price in local currency, brand, color, and description.\n",
        "\n",
        "---\n",
        "\n",
        "### Each product as its associated information:\n",
        "\n",
        "\n",
        "**locale**: the locale code of the product (e.g., DE)\n",
        "\n",
        "**id**: a unique for the product. Also known as Amazon Standard Item Number (ASIN) (e.g., B07WSY3MG8)\n",
        "\n",
        "**title**: title of the item (e.g., “Japanese Aesthetic Sakura Flowers Vaporwave Soft Grunge Gift T-Shirt”)\n",
        "\n",
        "**price**: price of the item in local currency (e.g., 24.99)\n",
        "\n",
        "**brand**: item brand name (e.g., “Japanese Aesthetic Flowers & Vaporwave Clothing”)\n",
        "\n",
        "**color**: color of the item (e.g., “Black”)\n",
        "\n",
        "**size**: size of the item (e.g., “xxl”)\n",
        "\n",
        "**model**: model of the item (e.g., “iphone 13”)\n",
        "\n",
        "**material**: material of the item (e.g., “cotton”)\n",
        "\n",
        "**author**: author of the item (e.g., “J. K. Rowling”)\n",
        "\n",
        "**desc**: description about a item’s key features and benefits called out via bullet points (e.g., “Solid colors: 100% Cotton; Heather Grey: 90% Cotton, 10% Polyester; All Other Heathers …”)\n"
      ],
      "metadata": {
        "id": "WrMp8SO2tFtL"
      }
    },
    {
      "cell_type": "markdown",
      "source": [
        "## EDA 💽"
      ],
      "metadata": {
        "id": "9ZEph_ZjlOj0"
      }
    },
    {
      "cell_type": "code",
      "execution_count": null,
      "metadata": {
        "id": "f2L9ImDqge3_"
      },
      "outputs": [],
      "source": [
        "def read_locale_data(locale, task):\n",
        "    products = read_product_data().query(f'locale == \"{locale}\"')\n",
        "    sess_train = read_train_data().query(f'locale == \"{locale}\"')\n",
        "    sess_test = read_test_data(task).query(f'locale == \"{locale}\"')\n",
        "    return products, sess_train, sess_test\n",
        "\n",
        "def show_locale_info(locale, task):\n",
        "    products, sess_train, sess_test = read_locale_data(locale, task)\n",
        "\n",
        "    train_l = sess_train['prev_items'].apply(lambda sess: len(sess))\n",
        "    test_l = sess_test['prev_items'].apply(lambda sess: len(sess))\n",
        "\n",
        "    print(f\"Locale: {locale} \\n\"\n",
        "          f\"Number of products: {products['id'].nunique()} \\n\"\n",
        "          f\"Number of train sessions: {len(sess_train)} \\n\"\n",
        "          f\"Train session lengths - \"\n",
        "          f\"Mean: {train_l.mean():.2f} | Median {train_l.median():.2f} | \"\n",
        "          f\"Min: {train_l.min():.2f} | Max {train_l.max():.2f} \\n\"\n",
        "          f\"Number of test sessions: {len(sess_test)}\"\n",
        "        )\n",
        "    if len(sess_test) > 0:\n",
        "        print(\n",
        "             f\"Test session lengths - \"\n",
        "            f\"Mean: {test_l.mean():.2f} | Median {test_l.median():.2f} | \"\n",
        "            f\"Min: {test_l.min():.2f} | Max {test_l.max():.2f} \\n\"\n",
        "        )\n",
        "    print(\"======================================================================== \\n\")"
      ]
    },
    {
      "cell_type": "markdown",
      "source": [
        "## Products"
      ],
      "metadata": {
        "id": "90qN37-9xyFE"
      }
    },
    {
      "cell_type": "code",
      "execution_count": null,
      "metadata": {
        "colab": {
          "base_uri": "https://localhost:8080/"
        },
        "id": "tWCiG4Odggmo",
        "outputId": "2a1e1301-8dd9-4b93-a157-9dc6f0e03414"
      },
      "outputs": [
        {
          "output_type": "stream",
          "name": "stdout",
          "text": [
            "Locale: DE \n",
            "Number of products: 518327 \n",
            "Number of train sessions: 1111416 \n",
            "Train session lengths - Mean: 57.89 | Median 40.00 | Min: 27.00 | Max 2060.00 \n",
            "Number of test sessions: 104568\n",
            "Test session lengths - Mean: 57.23 | Median 40.00 | Min: 27.00 | Max 700.00 \n",
            "\n",
            "======================================================================== \n",
            "\n",
            "Locale: JP \n",
            "Number of products: 395009 \n",
            "Number of train sessions: 979119 \n",
            "Train session lengths - Mean: 59.61 | Median 40.00 | Min: 27.00 | Max 6257.00 \n",
            "Number of test sessions: 96467\n",
            "Test session lengths - Mean: 59.90 | Median 40.00 | Min: 27.00 | Max 1479.00 \n",
            "\n",
            "======================================================================== \n",
            "\n",
            "Locale: UK \n",
            "Number of products: 500180 \n",
            "Number of train sessions: 1182181 \n",
            "Train session lengths - Mean: 54.85 | Median 40.00 | Min: 27.00 | Max 2654.00 \n",
            "Number of test sessions: 115936\n",
            "Test session lengths - Mean: 53.51 | Median 40.00 | Min: 27.00 | Max 872.00 \n",
            "\n",
            "======================================================================== \n",
            "\n",
            "Locale: ES \n",
            "Number of products: 42503 \n",
            "Number of train sessions: 89047 \n",
            "Train session lengths - Mean: 48.82 | Median 40.00 | Min: 27.00 | Max 792.00 \n",
            "Number of test sessions: 0\n",
            "======================================================================== \n",
            "\n",
            "Locale: FR \n",
            "Number of products: 44577 \n",
            "Number of train sessions: 117561 \n",
            "Train session lengths - Mean: 47.25 | Median 40.00 | Min: 27.00 | Max 687.00 \n",
            "Number of test sessions: 0\n",
            "======================================================================== \n",
            "\n",
            "Locale: IT \n",
            "Number of products: 50461 \n",
            "Number of train sessions: 126925 \n",
            "Train session lengths - Mean: 48.80 | Median 40.00 | Min: 27.00 | Max 621.00 \n",
            "Number of test sessions: 0\n",
            "======================================================================== \n",
            "\n"
          ]
        }
      ],
      "source": [
        "products = read_product_data()\n",
        "locale_names = products['locale'].unique()\n",
        "for locale in locale_names:\n",
        "    show_locale_info(locale, task)"
      ]
    },
    {
      "cell_type": "code",
      "execution_count": null,
      "metadata": {
        "colab": {
          "base_uri": "https://localhost:8080/",
          "height": 617
        },
        "id": "ePOKyZCbgizi",
        "outputId": "645e925d-4f84-4f04-956e-9a5d5d1df433"
      },
      "outputs": [
        {
          "output_type": "execute_result",
          "data": {
            "text/plain": [
              "                 id locale                                              title  \\\n",
              "1269019  B0BC3234YS     UK  Rowwait 60g Halloween Spider Web Stretchable C...   \n",
              "1248825  B08NC9ZBQZ     UK  Keyboard and Mouse, TedGem 2.4G Laptop Keyboar...   \n",
              "510331   B07JDQDKKW     DE  axuanyasi 18 Stück Spiegelfliesen Selbstkleben...   \n",
              "1181874  B08LZ3Q16G     UK  PWM 4 Pin Fan Splitter 1 to 3, Ancable PC PWM ...   \n",
              "272603   B07CXPC2FG     DE  Hon&Guan Alu-Flex-Rohr Alurohr Schlauch Flexsc...   \n",
              "\n",
              "         price     brand   color      size model  \\\n",
              "1269019   1.79   Rowwait      No        no    no   \n",
              "1248825  21.99    TedGem   Black       NaN   NaN   \n",
              "510331    8.99   Toyyevr    Weiß   15 x 15   NaN   \n",
              "1181874   3.99   Ancable  1 to 3     1Pack   NaN   \n",
              "272603    9.98  Hon&Guan  Silver  100mm*2m   NaN   \n",
              "\n",
              "                                        material author  \\\n",
              "1269019                                  Plastic    NaN   \n",
              "1248825                                      NaN    NaN   \n",
              "510331                   Polyethylenterephthalat    NaN   \n",
              "1181874                            Polycarbonate    NaN   \n",
              "272603   Aluminium Aluminiumfolie Stahllegierung    NaN   \n",
              "\n",
              "                                                      desc  \n",
              "1269019  30 Plastic Spiders: Combine Halloween spider w...  \n",
              "1248825  【12 Function Hot Keys Design】110 Keys full siz...  \n",
              "510331   【DIY】Einfach und sehr elegant erweitern sie da...  \n",
              "1181874  100% GUARANTEE, all Ancable products come 100%...  \n",
              "272603   Geeignet für Hochdruck, Mittel-Druck, Niederdr...  "
            ],
            "text/html": [
              "\n",
              "  <div id=\"df-3524d733-fd2d-4eae-9c46-7ed116c2f2c6\">\n",
              "    <div class=\"colab-df-container\">\n",
              "      <div>\n",
              "<style scoped>\n",
              "    .dataframe tbody tr th:only-of-type {\n",
              "        vertical-align: middle;\n",
              "    }\n",
              "\n",
              "    .dataframe tbody tr th {\n",
              "        vertical-align: top;\n",
              "    }\n",
              "\n",
              "    .dataframe thead th {\n",
              "        text-align: right;\n",
              "    }\n",
              "</style>\n",
              "<table border=\"1\" class=\"dataframe\">\n",
              "  <thead>\n",
              "    <tr style=\"text-align: right;\">\n",
              "      <th></th>\n",
              "      <th>id</th>\n",
              "      <th>locale</th>\n",
              "      <th>title</th>\n",
              "      <th>price</th>\n",
              "      <th>brand</th>\n",
              "      <th>color</th>\n",
              "      <th>size</th>\n",
              "      <th>model</th>\n",
              "      <th>material</th>\n",
              "      <th>author</th>\n",
              "      <th>desc</th>\n",
              "    </tr>\n",
              "  </thead>\n",
              "  <tbody>\n",
              "    <tr>\n",
              "      <th>1269019</th>\n",
              "      <td>B0BC3234YS</td>\n",
              "      <td>UK</td>\n",
              "      <td>Rowwait 60g Halloween Spider Web Stretchable C...</td>\n",
              "      <td>1.79</td>\n",
              "      <td>Rowwait</td>\n",
              "      <td>No</td>\n",
              "      <td>no</td>\n",
              "      <td>no</td>\n",
              "      <td>Plastic</td>\n",
              "      <td>NaN</td>\n",
              "      <td>30 Plastic Spiders: Combine Halloween spider w...</td>\n",
              "    </tr>\n",
              "    <tr>\n",
              "      <th>1248825</th>\n",
              "      <td>B08NC9ZBQZ</td>\n",
              "      <td>UK</td>\n",
              "      <td>Keyboard and Mouse, TedGem 2.4G Laptop Keyboar...</td>\n",
              "      <td>21.99</td>\n",
              "      <td>TedGem</td>\n",
              "      <td>Black</td>\n",
              "      <td>NaN</td>\n",
              "      <td>NaN</td>\n",
              "      <td>NaN</td>\n",
              "      <td>NaN</td>\n",
              "      <td>【12 Function Hot Keys Design】110 Keys full siz...</td>\n",
              "    </tr>\n",
              "    <tr>\n",
              "      <th>510331</th>\n",
              "      <td>B07JDQDKKW</td>\n",
              "      <td>DE</td>\n",
              "      <td>axuanyasi 18 Stück Spiegelfliesen Selbstkleben...</td>\n",
              "      <td>8.99</td>\n",
              "      <td>Toyyevr</td>\n",
              "      <td>Weiß</td>\n",
              "      <td>15 x 15</td>\n",
              "      <td>NaN</td>\n",
              "      <td>Polyethylenterephthalat</td>\n",
              "      <td>NaN</td>\n",
              "      <td>【DIY】Einfach und sehr elegant erweitern sie da...</td>\n",
              "    </tr>\n",
              "    <tr>\n",
              "      <th>1181874</th>\n",
              "      <td>B08LZ3Q16G</td>\n",
              "      <td>UK</td>\n",
              "      <td>PWM 4 Pin Fan Splitter 1 to 3, Ancable PC PWM ...</td>\n",
              "      <td>3.99</td>\n",
              "      <td>Ancable</td>\n",
              "      <td>1 to 3</td>\n",
              "      <td>1Pack</td>\n",
              "      <td>NaN</td>\n",
              "      <td>Polycarbonate</td>\n",
              "      <td>NaN</td>\n",
              "      <td>100% GUARANTEE, all Ancable products come 100%...</td>\n",
              "    </tr>\n",
              "    <tr>\n",
              "      <th>272603</th>\n",
              "      <td>B07CXPC2FG</td>\n",
              "      <td>DE</td>\n",
              "      <td>Hon&amp;Guan Alu-Flex-Rohr Alurohr Schlauch Flexsc...</td>\n",
              "      <td>9.98</td>\n",
              "      <td>Hon&amp;Guan</td>\n",
              "      <td>Silver</td>\n",
              "      <td>100mm*2m</td>\n",
              "      <td>NaN</td>\n",
              "      <td>Aluminium Aluminiumfolie Stahllegierung</td>\n",
              "      <td>NaN</td>\n",
              "      <td>Geeignet für Hochdruck, Mittel-Druck, Niederdr...</td>\n",
              "    </tr>\n",
              "  </tbody>\n",
              "</table>\n",
              "</div>\n",
              "      <button class=\"colab-df-convert\" onclick=\"convertToInteractive('df-3524d733-fd2d-4eae-9c46-7ed116c2f2c6')\"\n",
              "              title=\"Convert this dataframe to an interactive table.\"\n",
              "              style=\"display:none;\">\n",
              "        \n",
              "  <svg xmlns=\"http://www.w3.org/2000/svg\" height=\"24px\"viewBox=\"0 0 24 24\"\n",
              "       width=\"24px\">\n",
              "    <path d=\"M0 0h24v24H0V0z\" fill=\"none\"/>\n",
              "    <path d=\"M18.56 5.44l.94 2.06.94-2.06 2.06-.94-2.06-.94-.94-2.06-.94 2.06-2.06.94zm-11 1L8.5 8.5l.94-2.06 2.06-.94-2.06-.94L8.5 2.5l-.94 2.06-2.06.94zm10 10l.94 2.06.94-2.06 2.06-.94-2.06-.94-.94-2.06-.94 2.06-2.06.94z\"/><path d=\"M17.41 7.96l-1.37-1.37c-.4-.4-.92-.59-1.43-.59-.52 0-1.04.2-1.43.59L10.3 9.45l-7.72 7.72c-.78.78-.78 2.05 0 2.83L4 21.41c.39.39.9.59 1.41.59.51 0 1.02-.2 1.41-.59l7.78-7.78 2.81-2.81c.8-.78.8-2.07 0-2.86zM5.41 20L4 18.59l7.72-7.72 1.47 1.35L5.41 20z\"/>\n",
              "  </svg>\n",
              "      </button>\n",
              "      \n",
              "  <style>\n",
              "    .colab-df-container {\n",
              "      display:flex;\n",
              "      flex-wrap:wrap;\n",
              "      gap: 12px;\n",
              "    }\n",
              "\n",
              "    .colab-df-convert {\n",
              "      background-color: #E8F0FE;\n",
              "      border: none;\n",
              "      border-radius: 50%;\n",
              "      cursor: pointer;\n",
              "      display: none;\n",
              "      fill: #1967D2;\n",
              "      height: 32px;\n",
              "      padding: 0 0 0 0;\n",
              "      width: 32px;\n",
              "    }\n",
              "\n",
              "    .colab-df-convert:hover {\n",
              "      background-color: #E2EBFA;\n",
              "      box-shadow: 0px 1px 2px rgba(60, 64, 67, 0.3), 0px 1px 3px 1px rgba(60, 64, 67, 0.15);\n",
              "      fill: #174EA6;\n",
              "    }\n",
              "\n",
              "    [theme=dark] .colab-df-convert {\n",
              "      background-color: #3B4455;\n",
              "      fill: #D2E3FC;\n",
              "    }\n",
              "\n",
              "    [theme=dark] .colab-df-convert:hover {\n",
              "      background-color: #434B5C;\n",
              "      box-shadow: 0px 1px 3px 1px rgba(0, 0, 0, 0.15);\n",
              "      filter: drop-shadow(0px 1px 2px rgba(0, 0, 0, 0.3));\n",
              "      fill: #FFFFFF;\n",
              "    }\n",
              "  </style>\n",
              "\n",
              "      <script>\n",
              "        const buttonEl =\n",
              "          document.querySelector('#df-3524d733-fd2d-4eae-9c46-7ed116c2f2c6 button.colab-df-convert');\n",
              "        buttonEl.style.display =\n",
              "          google.colab.kernel.accessAllowed ? 'block' : 'none';\n",
              "\n",
              "        async function convertToInteractive(key) {\n",
              "          const element = document.querySelector('#df-3524d733-fd2d-4eae-9c46-7ed116c2f2c6');\n",
              "          const dataTable =\n",
              "            await google.colab.kernel.invokeFunction('convertToInteractive',\n",
              "                                                     [key], {});\n",
              "          if (!dataTable) return;\n",
              "\n",
              "          const docLinkHtml = 'Like what you see? Visit the ' +\n",
              "            '<a target=\"_blank\" href=https://colab.research.google.com/notebooks/data_table.ipynb>data table notebook</a>'\n",
              "            + ' to learn more about interactive tables.';\n",
              "          element.innerHTML = '';\n",
              "          dataTable['output_type'] = 'display_data';\n",
              "          await google.colab.output.renderOutput(dataTable, element);\n",
              "          const docLink = document.createElement('div');\n",
              "          docLink.innerHTML = docLinkHtml;\n",
              "          element.appendChild(docLink);\n",
              "        }\n",
              "      </script>\n",
              "    </div>\n",
              "  </div>\n",
              "  "
            ]
          },
          "metadata": {},
          "execution_count": 17
        }
      ],
      "source": [
        "products.sample(5)"
      ]
    },
    {
      "cell_type": "code",
      "source": [
        "len(products)"
      ],
      "metadata": {
        "colab": {
          "base_uri": "https://localhost:8080/"
        },
        "id": "HsgLMQtSqDmY",
        "outputId": "42d13819-d18c-4615-dfc3-a28da027b725"
      },
      "execution_count": null,
      "outputs": [
        {
          "output_type": "execute_result",
          "data": {
            "text/plain": [
              "1551057"
            ]
          },
          "metadata": {},
          "execution_count": 18
        }
      ]
    },
    {
      "cell_type": "code",
      "source": [
        "products.info()"
      ],
      "metadata": {
        "colab": {
          "base_uri": "https://localhost:8080/"
        },
        "id": "HTFoW9r0tZ0t",
        "outputId": "49e33b73-0b6d-4400-b738-6ca3c9197c64"
      },
      "execution_count": null,
      "outputs": [
        {
          "output_type": "stream",
          "name": "stdout",
          "text": [
            "<class 'pandas.core.frame.DataFrame'>\n",
            "RangeIndex: 1551057 entries, 0 to 1551056\n",
            "Data columns (total 11 columns):\n",
            " #   Column    Non-Null Count    Dtype  \n",
            "---  ------    --------------    -----  \n",
            " 0   id        1551057 non-null  object \n",
            " 1   locale    1551057 non-null  object \n",
            " 2   title     1551049 non-null  object \n",
            " 3   price     1551057 non-null  float64\n",
            " 4   brand     1531691 non-null  object \n",
            " 5   color     1125432 non-null  object \n",
            " 6   size      917091 non-null   object \n",
            " 7   model     761137 non-null   object \n",
            " 8   material  834382 non-null   object \n",
            " 9   author    73509 non-null    object \n",
            " 10  desc      1424083 non-null  object \n",
            "dtypes: float64(1), object(10)\n",
            "memory usage: 130.2+ MB\n"
          ]
        }
      ]
    },
    {
      "cell_type": "code",
      "source": [
        "nan_count = products.isna().sum()\n",
        "plt.bar(nan_count.index,  nan_count.values)\n",
        "plt.xticks(rotation=45)"
      ],
      "metadata": {
        "colab": {
          "base_uri": "https://localhost:8080/",
          "height": 690
        },
        "id": "t1T11QihtanF",
        "outputId": "bb61b77b-4790-457a-e206-389f8311ef28"
      },
      "execution_count": null,
      "outputs": [
        {
          "output_type": "execute_result",
          "data": {
            "text/plain": [
              "([0, 1, 2, 3, 4, 5, 6, 7, 8, 9, 10],\n",
              " [Text(0, 0, 'id'),\n",
              "  Text(1, 0, 'locale'),\n",
              "  Text(2, 0, 'title'),\n",
              "  Text(3, 0, 'price'),\n",
              "  Text(4, 0, 'brand'),\n",
              "  Text(5, 0, 'color'),\n",
              "  Text(6, 0, 'size'),\n",
              "  Text(7, 0, 'model'),\n",
              "  Text(8, 0, 'material'),\n",
              "  Text(9, 0, 'author'),\n",
              "  Text(10, 0, 'desc')])"
            ]
          },
          "metadata": {},
          "execution_count": 20
        },
        {
          "output_type": "display_data",
          "data": {
            "text/plain": [
              "<Figure size 640x480 with 1 Axes>"
            ],
            "image/png": "[encoded data removed]"
          },
          "metadata": {}
        }
      ]
    },
    {
      "cell_type": "code",
      "source": [
        "products['price'].describe()"
      ],
      "metadata": {
        "colab": {
          "base_uri": "https://localhost:8080/"
        },
        "id": "rZxoOEfffQKX",
        "outputId": "2df6e167-a3f8-4a06-f356-1b966b5353bb"
      },
      "execution_count": null,
      "outputs": [
        {
          "output_type": "execute_result",
          "data": {
            "text/plain": [
              "count    1.551057e+06\n",
              "mean     1.806107e+06\n",
              "std      8.302930e+06\n",
              "min      0.000000e+00\n",
              "25%      1.119000e+01\n",
              "50%      2.328000e+01\n",
              "75%      7.990000e+02\n",
              "max      4.000000e+07\n",
              "Name: price, dtype: float64"
            ]
          },
          "metadata": {},
          "execution_count": 21
        }
      ]
    },
    {
      "cell_type": "code",
      "source": [
        "products.columns"
      ],
      "metadata": {
        "id": "wrZMsRIJgf6W"
      },
      "execution_count": null,
      "outputs": []
    },
    {
      "cell_type": "code",
      "source": [
        "plt.boxplot(products['price'])"
      ],
      "metadata": {
        "id": "QQCyhjmzflEk",
        "colab": {
          "base_uri": "https://localhost:8080/",
          "height": 584
        },
        "outputId": "6ff1eac4-9492-4a1c-bd5d-8c0f2fabee9b"
      },
      "execution_count": null,
      "outputs": [
        {
          "output_type": "execute_result",
          "data": {
            "text/plain": [
              "{'whiskers': [<matplotlib.lines.Line2D at 0x7f819893b250>,\n",
              "  <matplotlib.lines.Line2D at 0x7f81f575dcd0>],\n",
              " 'caps': [<matplotlib.lines.Line2D at 0x7f81f575df70>,\n",
              "  <matplotlib.lines.Line2D at 0x7f81f5782250>],\n",
              " 'boxes': [<matplotlib.lines.Line2D at 0x7f81f575d9d0>],\n",
              " 'medians': [<matplotlib.lines.Line2D at 0x7f81f57824f0>],\n",
              " 'fliers': [<matplotlib.lines.Line2D at 0x7f81f5782790>],\n",
              " 'means': []}"
            ]
          },
          "metadata": {},
          "execution_count": 9
        },
        {
          "output_type": "display_data",
          "data": {
            "text/plain": [
              "<Figure size 640x480 with 1 Axes>"
            ],
            "image/png": "[encoded data removed]"
          },
          "metadata": {}
        }
      ]
    },
    {
      "cell_type": "code",
      "source": [
        "plt.hist(products['price'], bins=5)"
      ],
      "metadata": {
        "id": "1YaRV4PKiBKR",
        "colab": {
          "base_uri": "https://localhost:8080/",
          "height": 532
        },
        "outputId": "89a4e947-5ecf-4458-ab35-09a9b037f4d0"
      },
      "execution_count": null,
      "outputs": [
        {
          "output_type": "execute_result",
          "data": {
            "text/plain": [
              "(array([1481065.,       0.,       0.,       0.,   69992.]),\n",
              " array([       0.   ,  8000000.014, 16000000.028, 24000000.042,\n",
              "        32000000.056, 40000000.07 ]),\n",
              " <BarContainer object of 5 artists>)"
            ]
          },
          "metadata": {},
          "execution_count": 10
        },
        {
          "output_type": "display_data",
          "data": {
            "text/plain": [
              "<Figure size 640x480 with 1 Axes>"
            ],
            "image/png": "[encoded data removed]"
          },
          "metadata": {}
        }
      ]
    },
    {
      "cell_type": "code",
      "source": [
        "plt.hist(products['price'].drop(products.index[products['price'] > 100000]))"
      ],
      "metadata": {
        "id": "2Dhw4BW9iXL8",
        "colab": {
          "base_uri": "https://localhost:8080/",
          "height": 549
        },
        "outputId": "3f5913ae-7fed-4e80-9aac-28df390dc14d"
      },
      "execution_count": null,
      "outputs": [
        {
          "output_type": "execute_result",
          "data": {
            "text/plain": [
              "(array([1.452998e+06, 1.596200e+04, 4.956000e+03, 2.531000e+03,\n",
              "        1.355000e+03, 8.090000e+02, 4.980000e+02, 3.500000e+02,\n",
              "        2.360000e+02, 2.100000e+02]),\n",
              " array([     0.,  10000.,  20000.,  30000.,  40000.,  50000.,  60000.,\n",
              "         70000.,  80000.,  90000., 100000.]),\n",
              " <BarContainer object of 10 artists>)"
            ]
          },
          "metadata": {},
          "execution_count": 11
        },
        {
          "output_type": "display_data",
          "data": {
            "text/plain": [
              "<Figure size 640x480 with 1 Axes>"
            ],
            "image/png": "[encoded data removed]"
          },
          "metadata": {}
        }
      ]
    },
    {
      "cell_type": "code",
      "source": [
        "outlier_index = products.index[products['price'] > 100000]\n",
        "products_without_outliers = products.drop(outlier_index)\n",
        "products_without_outliers[products_without_outliers['price'] > 10000]"
      ],
      "metadata": {
        "id": "qSe3sPfdke6i",
        "colab": {
          "base_uri": "https://localhost:8080/",
          "height": 571
        },
        "outputId": "54d21ef4-a353-4ac4-a358-3530c6e5351c"
      },
      "execution_count": null,
      "outputs": [
        {
          "output_type": "execute_result",
          "data": {
            "text/plain": [
              "                id locale                                              title  \\\n",
              "518365  B0BCF8G1Z1     JP  Dowinx ゲーミングチェア ファブリック オットマン付き オフィスチェア パソコンチェア...   \n",
              "518385  B096RQXDWQ     JP  [ザノースフェイス] パンツ アルパインライトパンツ メンズ NB32210 撥水 ストレッ...   \n",
              "518398  B07VLPB1T9     JP  Creative Outdoor 折りたたみ式ワゴンカート カーゴ用 | 全地形 | ビーチ...   \n",
              "518411  B0BDFBQ9CN     JP                     リンナイ RC-U5801PE-WH [都市ガス ホワイト]   \n",
              "518438  B084MWGN9Z     JP  [アメリカンツーリスター] スーツケース キャリーケース アップライト スピナー 55/20...   \n",
              "...            ...    ...                                                ...   \n",
              "913252  B09X34ZHRP     JP  ワインセラー コンプレッサー式 22本収納 Rintuf 70L ワインクーラー 4℃-16...   \n",
              "913283  B019ENUMBK     JP  サンワダイレクト キッチン椅子 キャスター/固定脚付 座面高さ54.5～67.5cm 360...   \n",
              "913303  B093C4GJCS     JP  Donner アコースティックギター 単板トップ 初心者セット 41インチ 上質な木材 アコ...   \n",
              "913313  B09SG7LMD9     JP  Logicool G ハンコン G923 & 低遅延 ワイヤレス ゲーミングヘッドセット グ...   \n",
              "913324  B081YT9BGD     JP  TOTO ウォシュレット 一体形便器 ZJ1 CES9151#NW1 ホワイト 手洗い付 床...   \n",
              "\n",
              "          price                                          brand         color  \\\n",
              "518365  24400.0                                         Dowinx  4Dアームレストのピンク   \n",
              "518385  12938.0                       THE NORTH FACE(ザノースフェイス)          ブラック   \n",
              "518398  38216.0                   Creative Outdoor Distributor        クールブルー   \n",
              "518411  51295.0                                           リンナイ          ホワイト   \n",
              "518438  19800.0                              AmericanTourister    ブラック/グリーン2   \n",
              "...         ...                                            ...           ...   \n",
              "913252  38800.0  NINGBO HICON INTERNATIONAL INDUSTRY CO., LTD.          ブラック   \n",
              "913283  10800.0                                       サンワダイレクト          ホワイト   \n",
              "913303  16980.0                                         Donner           琥珀色   \n",
              "913313  58800.0                            Logicool G(ロジクール G)          ブラック   \n",
              "913324  61980.0                                           TOTO          ホワイト   \n",
              "\n",
              "            size         model             material author  \\\n",
              "518365       NaN           NaN                  NaN    NaN   \n",
              "518385         S       NB32210  92% ナイロン, 8% ポリウレタン    NaN   \n",
              "518398       NaN        900179                  合金鋼    NaN   \n",
              "518411       NaN           NaN                  NaN    NaN   \n",
              "518438  One Size        132373                  その他    NaN   \n",
              "...          ...           ...                  ...    ...   \n",
              "913252       70L           NaN                  NaN    NaN   \n",
              "913283       NaN  150-SNCH008W                  NaN    NaN   \n",
              "913303     JFボディ           NaN                  NaN    NaN   \n",
              "913313       NaN          G923                  NaN    NaN   \n",
              "913324       NaN           NaN                  NaN    NaN   \n",
              "\n",
              "                                                     desc  \n",
              "518365  【ソファーの座り心地を再現】 ゲーミングチェアカテゴリの中、唯一高級ソファーに採用されている...  \n",
              "518385                             1年を通して山岳エリアでの行動を支えるパンツ  \n",
              "518398                                                NaN  \n",
              "518411                                      4951309364002  \n",
              "518438                                    TSAロック付き(ダイアル式)  \n",
              "...                                                   ...  \n",
              "913252  【4～16℃幅広い温度設定】理想的な湿度レベルを維持しながら、4~16℃の範囲で温度設定でき...  \n",
              "913283  キャスター使用時は軽い力でスイスイ移動することができ、キッチンでのちょっとした移動に最適です...  \n",
              "913303  【JFボディによる暖かい生音】DonnerギターはJFボディに加えて、カッタウェイデザインを...  \n",
              "913313                                                NaN  \n",
              "913324                セット品番：CES9151（機能部TCF9151+便器部CS348B）  \n",
              "\n",
              "[26783 rows x 11 columns]"
            ],
            "text/html": [
              "\n",
              "  <div id=\"df-3afc5be2-29e5-410a-b5cc-c1b98f9015a6\">\n",
              "    <div class=\"colab-df-container\">\n",
              "      <div>\n",
              "<style scoped>\n",
              "    .dataframe tbody tr th:only-of-type {\n",
              "        vertical-align: middle;\n",
              "    }\n",
              "\n",
              "    .dataframe tbody tr th {\n",
              "        vertical-align: top;\n",
              "    }\n",
              "\n",
              "    .dataframe thead th {\n",
              "        text-align: right;\n",
              "    }\n",
              "</style>\n",
              "<table border=\"1\" class=\"dataframe\">\n",
              "  <thead>\n",
              "    <tr style=\"text-align: right;\">\n",
              "      <th></th>\n",
              "      <th>id</th>\n",
              "      <th>locale</th>\n",
              "      <th>title</th>\n",
              "      <th>price</th>\n",
              "      <th>brand</th>\n",
              "      <th>color</th>\n",
              "      <th>size</th>\n",
              "      <th>model</th>\n",
              "      <th>material</th>\n",
              "      <th>author</th>\n",
              "      <th>desc</th>\n",
              "    </tr>\n",
              "  </thead>\n",
              "  <tbody>\n",
              "    <tr>\n",
              "      <th>518365</th>\n",
              "      <td>B0BCF8G1Z1</td>\n",
              "      <td>JP</td>\n",
              "      <td>Dowinx ゲーミングチェア ファブリック オットマン付き オフィスチェア パソコンチェア...</td>\n",
              "      <td>24400.0</td>\n",
              "      <td>Dowinx</td>\n",
              "      <td>4Dアームレストのピンク</td>\n",
              "      <td>NaN</td>\n",
              "      <td>NaN</td>\n",
              "      <td>NaN</td>\n",
              "      <td>NaN</td>\n",
              "      <td>【ソファーの座り心地を再現】 ゲーミングチェアカテゴリの中、唯一高級ソファーに採用されている...</td>\n",
              "    </tr>\n",
              "    <tr>\n",
              "      <th>518385</th>\n",
              "      <td>B096RQXDWQ</td>\n",
              "      <td>JP</td>\n",
              "      <td>[ザノースフェイス] パンツ アルパインライトパンツ メンズ NB32210 撥水 ストレッ...</td>\n",
              "      <td>12938.0</td>\n",
              "      <td>THE NORTH FACE(ザノースフェイス)</td>\n",
              "      <td>ブラック</td>\n",
              "      <td>S</td>\n",
              "      <td>NB32210</td>\n",
              "      <td>92% ナイロン, 8% ポリウレタン</td>\n",
              "      <td>NaN</td>\n",
              "      <td>1年を通して山岳エリアでの行動を支えるパンツ</td>\n",
              "    </tr>\n",
              "    <tr>\n",
              "      <th>518398</th>\n",
              "      <td>B07VLPB1T9</td>\n",
              "      <td>JP</td>\n",
              "      <td>Creative Outdoor 折りたたみ式ワゴンカート カーゴ用 | 全地形 | ビーチ...</td>\n",
              "      <td>38216.0</td>\n",
              "      <td>Creative Outdoor Distributor</td>\n",
              "      <td>クールブルー</td>\n",
              "      <td>NaN</td>\n",
              "      <td>900179</td>\n",
              "      <td>合金鋼</td>\n",
              "      <td>NaN</td>\n",
              "      <td>NaN</td>\n",
              "    </tr>\n",
              "    <tr>\n",
              "      <th>518411</th>\n",
              "      <td>B0BDFBQ9CN</td>\n",
              "      <td>JP</td>\n",
              "      <td>リンナイ RC-U5801PE-WH [都市ガス ホワイト]</td>\n",
              "      <td>51295.0</td>\n",
              "      <td>リンナイ</td>\n",
              "      <td>ホワイト</td>\n",
              "      <td>NaN</td>\n",
              "      <td>NaN</td>\n",
              "      <td>NaN</td>\n",
              "      <td>NaN</td>\n",
              "      <td>4951309364002</td>\n",
              "    </tr>\n",
              "    <tr>\n",
              "      <th>518438</th>\n",
              "      <td>B084MWGN9Z</td>\n",
              "      <td>JP</td>\n",
              "      <td>[アメリカンツーリスター] スーツケース キャリーケース アップライト スピナー 55/20...</td>\n",
              "      <td>19800.0</td>\n",
              "      <td>AmericanTourister</td>\n",
              "      <td>ブラック/グリーン2</td>\n",
              "      <td>One Size</td>\n",
              "      <td>132373</td>\n",
              "      <td>その他</td>\n",
              "      <td>NaN</td>\n",
              "      <td>TSAロック付き(ダイアル式)</td>\n",
              "    </tr>\n",
              "    <tr>\n",
              "      <th>...</th>\n",
              "      <td>...</td>\n",
              "      <td>...</td>\n",
              "      <td>...</td>\n",
              "      <td>...</td>\n",
              "      <td>...</td>\n",
              "      <td>...</td>\n",
              "      <td>...</td>\n",
              "      <td>...</td>\n",
              "      <td>...</td>\n",
              "      <td>...</td>\n",
              "      <td>...</td>\n",
              "    </tr>\n",
              "    <tr>\n",
              "      <th>913252</th>\n",
              "      <td>B09X34ZHRP</td>\n",
              "      <td>JP</td>\n",
              "      <td>ワインセラー コンプレッサー式 22本収納 Rintuf 70L ワインクーラー 4℃-16...</td>\n",
              "      <td>38800.0</td>\n",
              "      <td>NINGBO HICON INTERNATIONAL INDUSTRY CO., LTD.</td>\n",
              "      <td>ブラック</td>\n",
              "      <td>70L</td>\n",
              "      <td>NaN</td>\n",
              "      <td>NaN</td>\n",
              "      <td>NaN</td>\n",
              "      <td>【4～16℃幅広い温度設定】理想的な湿度レベルを維持しながら、4~16℃の範囲で温度設定でき...</td>\n",
              "    </tr>\n",
              "    <tr>\n",
              "      <th>913283</th>\n",
              "      <td>B019ENUMBK</td>\n",
              "      <td>JP</td>\n",
              "      <td>サンワダイレクト キッチン椅子 キャスター/固定脚付 座面高さ54.5～67.5cm 360...</td>\n",
              "      <td>10800.0</td>\n",
              "      <td>サンワダイレクト</td>\n",
              "      <td>ホワイト</td>\n",
              "      <td>NaN</td>\n",
              "      <td>150-SNCH008W</td>\n",
              "      <td>NaN</td>\n",
              "      <td>NaN</td>\n",
              "      <td>キャスター使用時は軽い力でスイスイ移動することができ、キッチンでのちょっとした移動に最適です...</td>\n",
              "    </tr>\n",
              "    <tr>\n",
              "      <th>913303</th>\n",
              "      <td>B093C4GJCS</td>\n",
              "      <td>JP</td>\n",
              "      <td>Donner アコースティックギター 単板トップ 初心者セット 41インチ 上質な木材 アコ...</td>\n",
              "      <td>16980.0</td>\n",
              "      <td>Donner</td>\n",
              "      <td>琥珀色</td>\n",
              "      <td>JFボディ</td>\n",
              "      <td>NaN</td>\n",
              "      <td>NaN</td>\n",
              "      <td>NaN</td>\n",
              "      <td>【JFボディによる暖かい生音】DonnerギターはJFボディに加えて、カッタウェイデザインを...</td>\n",
              "    </tr>\n",
              "    <tr>\n",
              "      <th>913313</th>\n",
              "      <td>B09SG7LMD9</td>\n",
              "      <td>JP</td>\n",
              "      <td>Logicool G ハンコン G923 &amp; 低遅延 ワイヤレス ゲーミングヘッドセット グ...</td>\n",
              "      <td>58800.0</td>\n",
              "      <td>Logicool G(ロジクール G)</td>\n",
              "      <td>ブラック</td>\n",
              "      <td>NaN</td>\n",
              "      <td>G923</td>\n",
              "      <td>NaN</td>\n",
              "      <td>NaN</td>\n",
              "      <td>NaN</td>\n",
              "    </tr>\n",
              "    <tr>\n",
              "      <th>913324</th>\n",
              "      <td>B081YT9BGD</td>\n",
              "      <td>JP</td>\n",
              "      <td>TOTO ウォシュレット 一体形便器 ZJ1 CES9151#NW1 ホワイト 手洗い付 床...</td>\n",
              "      <td>61980.0</td>\n",
              "      <td>TOTO</td>\n",
              "      <td>ホワイト</td>\n",
              "      <td>NaN</td>\n",
              "      <td>NaN</td>\n",
              "      <td>NaN</td>\n",
              "      <td>NaN</td>\n",
              "      <td>セット品番：CES9151（機能部TCF9151+便器部CS348B）</td>\n",
              "    </tr>\n",
              "  </tbody>\n",
              "</table>\n",
              "<p>26783 rows × 11 columns</p>\n",
              "</div>\n",
              "      <button class=\"colab-df-convert\" onclick=\"convertToInteractive('df-3afc5be2-29e5-410a-b5cc-c1b98f9015a6')\"\n",
              "              title=\"Convert this dataframe to an interactive table.\"\n",
              "              style=\"display:none;\">\n",
              "        \n",
              "  <svg xmlns=\"http://www.w3.org/2000/svg\" height=\"24px\"viewBox=\"0 0 24 24\"\n",
              "       width=\"24px\">\n",
              "    <path d=\"M0 0h24v24H0V0z\" fill=\"none\"/>\n",
              "    <path d=\"M18.56 5.44l.94 2.06.94-2.06 2.06-.94-2.06-.94-.94-2.06-.94 2.06-2.06.94zm-11 1L8.5 8.5l.94-2.06 2.06-.94-2.06-.94L8.5 2.5l-.94 2.06-2.06.94zm10 10l.94 2.06.94-2.06 2.06-.94-2.06-.94-.94-2.06-.94 2.06-2.06.94z\"/><path d=\"M17.41 7.96l-1.37-1.37c-.4-.4-.92-.59-1.43-.59-.52 0-1.04.2-1.43.59L10.3 9.45l-7.72 7.72c-.78.78-.78 2.05 0 2.83L4 21.41c.39.39.9.59 1.41.59.51 0 1.02-.2 1.41-.59l7.78-7.78 2.81-2.81c.8-.78.8-2.07 0-2.86zM5.41 20L4 18.59l7.72-7.72 1.47 1.35L5.41 20z\"/>\n",
              "  </svg>\n",
              "      </button>\n",
              "      \n",
              "  <style>\n",
              "    .colab-df-container {\n",
              "      display:flex;\n",
              "      flex-wrap:wrap;\n",
              "      gap: 12px;\n",
              "    }\n",
              "\n",
              "    .colab-df-convert {\n",
              "      background-color: #E8F0FE;\n",
              "      border: none;\n",
              "      border-radius: 50%;\n",
              "      cursor: pointer;\n",
              "      display: none;\n",
              "      fill: #1967D2;\n",
              "      height: 32px;\n",
              "      padding: 0 0 0 0;\n",
              "      width: 32px;\n",
              "    }\n",
              "\n",
              "    .colab-df-convert:hover {\n",
              "      background-color: #E2EBFA;\n",
              "      box-shadow: 0px 1px 2px rgba(60, 64, 67, 0.3), 0px 1px 3px 1px rgba(60, 64, 67, 0.15);\n",
              "      fill: #174EA6;\n",
              "    }\n",
              "\n",
              "    [theme=dark] .colab-df-convert {\n",
              "      background-color: #3B4455;\n",
              "      fill: #D2E3FC;\n",
              "    }\n",
              "\n",
              "    [theme=dark] .colab-df-convert:hover {\n",
              "      background-color: #434B5C;\n",
              "      box-shadow: 0px 1px 3px 1px rgba(0, 0, 0, 0.15);\n",
              "      filter: drop-shadow(0px 1px 2px rgba(0, 0, 0, 0.3));\n",
              "      fill: #FFFFFF;\n",
              "    }\n",
              "  </style>\n",
              "\n",
              "      <script>\n",
              "        const buttonEl =\n",
              "          document.querySelector('#df-3afc5be2-29e5-410a-b5cc-c1b98f9015a6 button.colab-df-convert');\n",
              "        buttonEl.style.display =\n",
              "          google.colab.kernel.accessAllowed ? 'block' : 'none';\n",
              "\n",
              "        async function convertToInteractive(key) {\n",
              "          const element = document.querySelector('#df-3afc5be2-29e5-410a-b5cc-c1b98f9015a6');\n",
              "          const dataTable =\n",
              "            await google.colab.kernel.invokeFunction('convertToInteractive',\n",
              "                                                     [key], {});\n",
              "          if (!dataTable) return;\n",
              "\n",
              "          const docLinkHtml = 'Like what you see? Visit the ' +\n",
              "            '<a target=\"_blank\" href=https://colab.research.google.com/notebooks/data_table.ipynb>data table notebook</a>'\n",
              "            + ' to learn more about interactive tables.';\n",
              "          element.innerHTML = '';\n",
              "          dataTable['output_type'] = 'display_data';\n",
              "          await google.colab.output.renderOutput(dataTable, element);\n",
              "          const docLink = document.createElement('div');\n",
              "          docLink.innerHTML = docLinkHtml;\n",
              "          element.appendChild(docLink);\n",
              "        }\n",
              "      </script>\n",
              "    </div>\n",
              "  </div>\n",
              "  "
            ]
          },
          "metadata": {},
          "execution_count": 12
        }
      ]
    },
    {
      "cell_type": "code",
      "source": [
        "plt.hist(products_without_outliers[products_without_outliers['price'] < 20000].price)"
      ],
      "metadata": {
        "id": "8EBw98xgqXsw",
        "colab": {
          "base_uri": "https://localhost:8080/",
          "height": 532
        },
        "outputId": "8a4014e3-0cfb-4861-98f7-7df0338adafa"
      },
      "execution_count": null,
      "outputs": [
        {
          "output_type": "execute_result",
          "data": {
            "text/plain": [
              "(array([1308260.,   95326.,   27958.,   13289.,    8165.,    4538.,\n",
              "           3950.,    3123.,    2281.,    2070.]),\n",
              " array([    0. ,  1999.9,  3999.8,  5999.7,  7999.6,  9999.5, 11999.4,\n",
              "        13999.3, 15999.2, 17999.1, 19999. ]),\n",
              " <BarContainer object of 10 artists>)"
            ]
          },
          "metadata": {},
          "execution_count": 33
        },
        {
          "output_type": "display_data",
          "data": {
            "text/plain": [
              "<Figure size 640x480 with 1 Axes>"
            ],
            "image/png": "[encoded data removed]"
          },
          "metadata": {}
        }
      ]
    },
    {
      "cell_type": "code",
      "source": [
        "plt.hist(products[products['locale'] == 'JP'].price)"
      ],
      "metadata": {
        "id": "-Rth2pzQls65",
        "colab": {
          "base_uri": "https://localhost:8080/",
          "height": 552
        },
        "outputId": "4c5fd809-96ba-4da8-f370-aca96a2c52f0"
      },
      "execution_count": null,
      "outputs": [
        {
          "output_type": "execute_result",
          "data": {
            "text/plain": [
              "(array([379203.,      0.,      0.,      0.,      0.,      0.,      0.,\n",
              "             0.,      0.,  15806.]),\n",
              " array([       0.   ,  4000000.007,  8000000.014, 12000000.021,\n",
              "        16000000.028, 20000000.035, 24000000.042, 28000000.049,\n",
              "        32000000.056, 36000000.063, 40000000.07 ]),\n",
              " <BarContainer object of 10 artists>)"
            ]
          },
          "metadata": {},
          "execution_count": 14
        },
        {
          "output_type": "display_data",
          "data": {
            "text/plain": [
              "<Figure size 640x480 with 1 Axes>"
            ],
            "image/png": "[encoded data removed]"
          },
          "metadata": {}
        }
      ]
    },
    {
      "cell_type": "code",
      "source": [
        "products[(products['locale'] == 'JP') & (products['price'] > 1000000)]"
      ],
      "metadata": {
        "id": "5vUM4t3pmfU8",
        "colab": {
          "base_uri": "https://localhost:8080/",
          "height": 589
        },
        "outputId": "c81e01c9-2da0-4ba8-c30b-97b3228c488e"
      },
      "execution_count": null,
      "outputs": [
        {
          "output_type": "execute_result",
          "data": {
            "text/plain": [
              "                id locale                                              title  \\\n",
              "518393  B00A3PNT2S     JP  アール【すりガラス対応】 【日本製】 【結露対策】 すりガラス用結露吸水テープ トナカイ H...   \n",
              "518401  B07G2L16ZK     JP  [東京下町工房] 本革コインケース 小銭入れ 完全手作り 手縫い仕上げ コンパクト 使いやす...   \n",
              "518443  B07SHBFG97     JP  N NEWKOIN 【最新強化版】 室内 HD テレビ アンテナ地デジアンテナ 卓上 TV ...   \n",
              "518451  B0B615DW5G     JP                                     イヌノカガヤキニチジョウヘン   \n",
              "518474  B0B9NG2KQ8     JP  ハロウィン 飾り付け 風船 バルーン 装飾セット パーティー イベント HAPPY HALL...   \n",
              "...            ...    ...                                                ...   \n",
              "913248  B00D0X3KH4     JP  【正規品】 Herman Miller (ハーマンミラー) セイルチェア オフィスチェア グ...   \n",
              "913274  B0B2RMRNFH     JP                        くらしモアさぬき丸一製麺 本場熟成さぬきうどん 5食入   \n",
              "913289  B07Y8HG5F7     JP  CINECE ハロウィン 飾り コウモリ ステッカー 108枚セット PVC製 立体 取り外...   \n",
              "913299  B0BCWJK33Y     JP  フック 壁 傷つけない 耐荷重5kg (3個入り) 石膏ボード 壁紙 賃貸 ホチキスで取付 ...   \n",
              "913323  B07K8N85HK     JP                               ギャクテンサイバンナルホドウセレクション   \n",
              "\n",
              "              price                   brand  color              size  \\\n",
              "518393  40000000.07                     アール   ホワイト               NaN   \n",
              "518401  40000000.07                  東京下町工房   ブラック            Medium   \n",
              "518443  40000000.07               N NEWKOIN   Blue             SW003   \n",
              "518451  40000000.07                     NaN    NaN               NaN   \n",
              "518474  40000000.07                 Xinvery  B set               NaN   \n",
              "...             ...                     ...    ...               ...   \n",
              "913248  40000000.07   HermanMiller(ハーマンミラー)    グレー  巾73x奥行73ｘ高さ89~99   \n",
              "913274  40000000.07            くらしモアさぬき丸一製麺    NaN               NaN   \n",
              "913289  40000000.07                  CINECE    NaN               NaN   \n",
              "913299  40000000.07  ウエルスジャパン(Wealth JAPAN)   ホワイト    ‎縦5.2×横3×厚さ2cm   \n",
              "913323  40000000.07                    カプコン    NaN               NaN   \n",
              "\n",
              "                                model material author  \\\n",
              "518393                          H-281      PET    NaN   \n",
              "518401                           0917      レザー    NaN   \n",
              "518443                            NaN      NaN    NaN   \n",
              "518451                            NaN      NaN    NaN   \n",
              "518474                          X0002      紙吹雪    NaN   \n",
              "...                               ...      ...    ...   \n",
              "913248  AS1YA23HA N2 65 BB SG SG 7314   アルミニウム    NaN   \n",
              "913274                            NaN      NaN    NaN   \n",
              "913289                            NaN  ポリ塩化ビニル    NaN   \n",
              "913299                            NaN      NaN    NaN   \n",
              "913323                            NaN      NaN    NaN   \n",
              "\n",
              "                                                     desc  \n",
              "518393                                     サイズ:8*180*0.3㎝  \n",
              "518401  【完全手作り】 完全手作りで一つひとつ人の手により、丁寧に仕上げられています。シンプルで高級...  \n",
              "518443  【購入する前に読んでください】このアンテナを購入する前に、近くに信号塔があることを確認してく...  \n",
              "518451                                                NaN  \n",
              "518474  【 楽しく飾りつけ】初心者＆自信がない方でもスムーズにご準備できます。素敵なガーランドが作り...  \n",
              "...                                                   ...  \n",
              "913248  「設置・組立・引き取り」サービスを一部地域でご利用いただけます。本ページ内に「サービスオプシ...  \n",
              "913274                                                 冷凍  \n",
              "913289                   付属の両面シールを胴体部分に貼って壁に貼り付ける仕様になります。  \n",
              "913299                                 壁面の有効利用で・お部屋がスッキリ!  \n",
              "913323  2019年初頭、シリーズの原点となる初期3作品を1本に収めた『逆転裁判123 成歩堂セレクシ...  \n",
              "\n",
              "[15809 rows x 11 columns]"
            ],
            "text/html": [
              "\n",
              "  <div id=\"df-1b4ae738-0d5f-482f-a61b-4930eebf93e6\">\n",
              "    <div class=\"colab-df-container\">\n",
              "      <div>\n",
              "<style scoped>\n",
              "    .dataframe tbody tr th:only-of-type {\n",
              "        vertical-align: middle;\n",
              "    }\n",
              "\n",
              "    .dataframe tbody tr th {\n",
              "        vertical-align: top;\n",
              "    }\n",
              "\n",
              "    .dataframe thead th {\n",
              "        text-align: right;\n",
              "    }\n",
              "</style>\n",
              "<table border=\"1\" class=\"dataframe\">\n",
              "  <thead>\n",
              "    <tr style=\"text-align: right;\">\n",
              "      <th></th>\n",
              "      <th>id</th>\n",
              "      <th>locale</th>\n",
              "      <th>title</th>\n",
              "      <th>price</th>\n",
              "      <th>brand</th>\n",
              "      <th>color</th>\n",
              "      <th>size</th>\n",
              "      <th>model</th>\n",
              "      <th>material</th>\n",
              "      <th>author</th>\n",
              "      <th>desc</th>\n",
              "    </tr>\n",
              "  </thead>\n",
              "  <tbody>\n",
              "    <tr>\n",
              "      <th>518393</th>\n",
              "      <td>B00A3PNT2S</td>\n",
              "      <td>JP</td>\n",
              "      <td>アール【すりガラス対応】 【日本製】 【結露対策】 すりガラス用結露吸水テープ トナカイ H...</td>\n",
              "      <td>40000000.07</td>\n",
              "      <td>アール</td>\n",
              "      <td>ホワイト</td>\n",
              "      <td>NaN</td>\n",
              "      <td>H-281</td>\n",
              "      <td>PET</td>\n",
              "      <td>NaN</td>\n",
              "      <td>サイズ:8*180*0.3㎝</td>\n",
              "    </tr>\n",
              "    <tr>\n",
              "      <th>518401</th>\n",
              "      <td>B07G2L16ZK</td>\n",
              "      <td>JP</td>\n",
              "      <td>[東京下町工房] 本革コインケース 小銭入れ 完全手作り 手縫い仕上げ コンパクト 使いやす...</td>\n",
              "      <td>40000000.07</td>\n",
              "      <td>東京下町工房</td>\n",
              "      <td>ブラック</td>\n",
              "      <td>Medium</td>\n",
              "      <td>0917</td>\n",
              "      <td>レザー</td>\n",
              "      <td>NaN</td>\n",
              "      <td>【完全手作り】 完全手作りで一つひとつ人の手により、丁寧に仕上げられています。シンプルで高級...</td>\n",
              "    </tr>\n",
              "    <tr>\n",
              "      <th>518443</th>\n",
              "      <td>B07SHBFG97</td>\n",
              "      <td>JP</td>\n",
              "      <td>N NEWKOIN 【最新強化版】 室内 HD テレビ アンテナ地デジアンテナ 卓上 TV ...</td>\n",
              "      <td>40000000.07</td>\n",
              "      <td>N NEWKOIN</td>\n",
              "      <td>Blue</td>\n",
              "      <td>SW003</td>\n",
              "      <td>NaN</td>\n",
              "      <td>NaN</td>\n",
              "      <td>NaN</td>\n",
              "      <td>【購入する前に読んでください】このアンテナを購入する前に、近くに信号塔があることを確認してく...</td>\n",
              "    </tr>\n",
              "    <tr>\n",
              "      <th>518451</th>\n",
              "      <td>B0B615DW5G</td>\n",
              "      <td>JP</td>\n",
              "      <td>イヌノカガヤキニチジョウヘン</td>\n",
              "      <td>40000000.07</td>\n",
              "      <td>NaN</td>\n",
              "      <td>NaN</td>\n",
              "      <td>NaN</td>\n",
              "      <td>NaN</td>\n",
              "      <td>NaN</td>\n",
              "      <td>NaN</td>\n",
              "      <td>NaN</td>\n",
              "    </tr>\n",
              "    <tr>\n",
              "      <th>518474</th>\n",
              "      <td>B0B9NG2KQ8</td>\n",
              "      <td>JP</td>\n",
              "      <td>ハロウィン 飾り付け 風船 バルーン 装飾セット パーティー イベント HAPPY HALL...</td>\n",
              "      <td>40000000.07</td>\n",
              "      <td>Xinvery</td>\n",
              "      <td>B set</td>\n",
              "      <td>NaN</td>\n",
              "      <td>X0002</td>\n",
              "      <td>紙吹雪</td>\n",
              "      <td>NaN</td>\n",
              "      <td>【 楽しく飾りつけ】初心者＆自信がない方でもスムーズにご準備できます。素敵なガーランドが作り...</td>\n",
              "    </tr>\n",
              "    <tr>\n",
              "      <th>...</th>\n",
              "      <td>...</td>\n",
              "      <td>...</td>\n",
              "      <td>...</td>\n",
              "      <td>...</td>\n",
              "      <td>...</td>\n",
              "      <td>...</td>\n",
              "      <td>...</td>\n",
              "      <td>...</td>\n",
              "      <td>...</td>\n",
              "      <td>...</td>\n",
              "      <td>...</td>\n",
              "    </tr>\n",
              "    <tr>\n",
              "      <th>913248</th>\n",
              "      <td>B00D0X3KH4</td>\n",
              "      <td>JP</td>\n",
              "      <td>【正規品】 Herman Miller (ハーマンミラー) セイルチェア オフィスチェア グ...</td>\n",
              "      <td>40000000.07</td>\n",
              "      <td>HermanMiller(ハーマンミラー)</td>\n",
              "      <td>グレー</td>\n",
              "      <td>巾73x奥行73ｘ高さ89~99</td>\n",
              "      <td>AS1YA23HA N2 65 BB SG SG 7314</td>\n",
              "      <td>アルミニウム</td>\n",
              "      <td>NaN</td>\n",
              "      <td>「設置・組立・引き取り」サービスを一部地域でご利用いただけます。本ページ内に「サービスオプシ...</td>\n",
              "    </tr>\n",
              "    <tr>\n",
              "      <th>913274</th>\n",
              "      <td>B0B2RMRNFH</td>\n",
              "      <td>JP</td>\n",
              "      <td>くらしモアさぬき丸一製麺 本場熟成さぬきうどん 5食入</td>\n",
              "      <td>40000000.07</td>\n",
              "      <td>くらしモアさぬき丸一製麺</td>\n",
              "      <td>NaN</td>\n",
              "      <td>NaN</td>\n",
              "      <td>NaN</td>\n",
              "      <td>NaN</td>\n",
              "      <td>NaN</td>\n",
              "      <td>冷凍</td>\n",
              "    </tr>\n",
              "    <tr>\n",
              "      <th>913289</th>\n",
              "      <td>B07Y8HG5F7</td>\n",
              "      <td>JP</td>\n",
              "      <td>CINECE ハロウィン 飾り コウモリ ステッカー 108枚セット PVC製 立体 取り外...</td>\n",
              "      <td>40000000.07</td>\n",
              "      <td>CINECE</td>\n",
              "      <td>NaN</td>\n",
              "      <td>NaN</td>\n",
              "      <td>NaN</td>\n",
              "      <td>ポリ塩化ビニル</td>\n",
              "      <td>NaN</td>\n",
              "      <td>付属の両面シールを胴体部分に貼って壁に貼り付ける仕様になります。</td>\n",
              "    </tr>\n",
              "    <tr>\n",
              "      <th>913299</th>\n",
              "      <td>B0BCWJK33Y</td>\n",
              "      <td>JP</td>\n",
              "      <td>フック 壁 傷つけない 耐荷重5kg (3個入り) 石膏ボード 壁紙 賃貸 ホチキスで取付 ...</td>\n",
              "      <td>40000000.07</td>\n",
              "      <td>ウエルスジャパン(Wealth JAPAN)</td>\n",
              "      <td>ホワイト</td>\n",
              "      <td>‎縦5.2×横3×厚さ2cm</td>\n",
              "      <td>NaN</td>\n",
              "      <td>NaN</td>\n",
              "      <td>NaN</td>\n",
              "      <td>壁面の有効利用で・お部屋がスッキリ!</td>\n",
              "    </tr>\n",
              "    <tr>\n",
              "      <th>913323</th>\n",
              "      <td>B07K8N85HK</td>\n",
              "      <td>JP</td>\n",
              "      <td>ギャクテンサイバンナルホドウセレクション</td>\n",
              "      <td>40000000.07</td>\n",
              "      <td>カプコン</td>\n",
              "      <td>NaN</td>\n",
              "      <td>NaN</td>\n",
              "      <td>NaN</td>\n",
              "      <td>NaN</td>\n",
              "      <td>NaN</td>\n",
              "      <td>2019年初頭、シリーズの原点となる初期3作品を1本に収めた『逆転裁判123 成歩堂セレクシ...</td>\n",
              "    </tr>\n",
              "  </tbody>\n",
              "</table>\n",
              "<p>15809 rows × 11 columns</p>\n",
              "</div>\n",
              "      <button class=\"colab-df-convert\" onclick=\"convertToInteractive('df-1b4ae738-0d5f-482f-a61b-4930eebf93e6')\"\n",
              "              title=\"Convert this dataframe to an interactive table.\"\n",
              "              style=\"display:none;\">\n",
              "        \n",
              "  <svg xmlns=\"http://www.w3.org/2000/svg\" height=\"24px\"viewBox=\"0 0 24 24\"\n",
              "       width=\"24px\">\n",
              "    <path d=\"M0 0h24v24H0V0z\" fill=\"none\"/>\n",
              "    <path d=\"M18.56 5.44l.94 2.06.94-2.06 2.06-.94-2.06-.94-.94-2.06-.94 2.06-2.06.94zm-11 1L8.5 8.5l.94-2.06 2.06-.94-2.06-.94L8.5 2.5l-.94 2.06-2.06.94zm10 10l.94 2.06.94-2.06 2.06-.94-2.06-.94-.94-2.06-.94 2.06-2.06.94z\"/><path d=\"M17.41 7.96l-1.37-1.37c-.4-.4-.92-.59-1.43-.59-.52 0-1.04.2-1.43.59L10.3 9.45l-7.72 7.72c-.78.78-.78 2.05 0 2.83L4 21.41c.39.39.9.59 1.41.59.51 0 1.02-.2 1.41-.59l7.78-7.78 2.81-2.81c.8-.78.8-2.07 0-2.86zM5.41 20L4 18.59l7.72-7.72 1.47 1.35L5.41 20z\"/>\n",
              "  </svg>\n",
              "      </button>\n",
              "      \n",
              "  <style>\n",
              "    .colab-df-container {\n",
              "      display:flex;\n",
              "      flex-wrap:wrap;\n",
              "      gap: 12px;\n",
              "    }\n",
              "\n",
              "    .colab-df-convert {\n",
              "      background-color: #E8F0FE;\n",
              "      border: none;\n",
              "      border-radius: 50%;\n",
              "      cursor: pointer;\n",
              "      display: none;\n",
              "      fill: #1967D2;\n",
              "      height: 32px;\n",
              "      padding: 0 0 0 0;\n",
              "      width: 32px;\n",
              "    }\n",
              "\n",
              "    .colab-df-convert:hover {\n",
              "      background-color: #E2EBFA;\n",
              "      box-shadow: 0px 1px 2px rgba(60, 64, 67, 0.3), 0px 1px 3px 1px rgba(60, 64, 67, 0.15);\n",
              "      fill: #174EA6;\n",
              "    }\n",
              "\n",
              "    [theme=dark] .colab-df-convert {\n",
              "      background-color: #3B4455;\n",
              "      fill: #D2E3FC;\n",
              "    }\n",
              "\n",
              "    [theme=dark] .colab-df-convert:hover {\n",
              "      background-color: #434B5C;\n",
              "      box-shadow: 0px 1px 3px 1px rgba(0, 0, 0, 0.15);\n",
              "      filter: drop-shadow(0px 1px 2px rgba(0, 0, 0, 0.3));\n",
              "      fill: #FFFFFF;\n",
              "    }\n",
              "  </style>\n",
              "\n",
              "      <script>\n",
              "        const buttonEl =\n",
              "          document.querySelector('#df-1b4ae738-0d5f-482f-a61b-4930eebf93e6 button.colab-df-convert');\n",
              "        buttonEl.style.display =\n",
              "          google.colab.kernel.accessAllowed ? 'block' : 'none';\n",
              "\n",
              "        async function convertToInteractive(key) {\n",
              "          const element = document.querySelector('#df-1b4ae738-0d5f-482f-a61b-4930eebf93e6');\n",
              "          const dataTable =\n",
              "            await google.colab.kernel.invokeFunction('convertToInteractive',\n",
              "                                                     [key], {});\n",
              "          if (!dataTable) return;\n",
              "\n",
              "          const docLinkHtml = 'Like what you see? Visit the ' +\n",
              "            '<a target=\"_blank\" href=https://colab.research.google.com/notebooks/data_table.ipynb>data table notebook</a>'\n",
              "            + ' to learn more about interactive tables.';\n",
              "          element.innerHTML = '';\n",
              "          dataTable['output_type'] = 'display_data';\n",
              "          await google.colab.output.renderOutput(dataTable, element);\n",
              "          const docLink = document.createElement('div');\n",
              "          docLink.innerHTML = docLinkHtml;\n",
              "          element.appendChild(docLink);\n",
              "        }\n",
              "      </script>\n",
              "    </div>\n",
              "  </div>\n",
              "  "
            ]
          },
          "metadata": {},
          "execution_count": 15
        }
      ]
    },
    {
      "cell_type": "code",
      "source": [
        "plt.hist(products[(products['locale'] == 'JP') & (products['price'] < 100000)].price)"
      ],
      "metadata": {
        "id": "2EHbKFdtqxAH",
        "colab": {
          "base_uri": "https://localhost:8080/",
          "height": 517
        },
        "outputId": "4f77c6f1-73e4-4974-bd39-d771243cdee8"
      },
      "execution_count": null,
      "outputs": [
        {
          "output_type": "execute_result",
          "data": {
            "text/plain": [
              "(array([3.5089e+05, 1.6128e+04, 4.9940e+03, 2.5470e+03, 1.3710e+03,\n",
              "        8.0600e+02, 5.0800e+02, 3.5000e+02, 2.3700e+02, 2.0800e+02]),\n",
              " array([    0. ,  9997.6, 19995.2, 29992.8, 39990.4, 49988. , 59985.6,\n",
              "        69983.2, 79980.8, 89978.4, 99976. ]),\n",
              " <BarContainer object of 10 artists>)"
            ]
          },
          "metadata": {},
          "execution_count": 16
        },
        {
          "output_type": "display_data",
          "data": {
            "text/plain": [
              "<Figure size 640x480 with 1 Axes>"
            ],
            "image/png": "[encoded data removed]"
          },
          "metadata": {}
        }
      ]
    },
    {
      "cell_type": "code",
      "source": [
        "products[(products['locale'] == 'DE') & (products['price'] > 1000000)]"
      ],
      "metadata": {
        "id": "dSAdzOj_nDO0",
        "colab": {
          "base_uri": "https://localhost:8080/",
          "height": 423
        },
        "outputId": "bd9ccc8c-b6e4-43de-f3d9-c0464b025575"
      },
      "execution_count": null,
      "outputs": [
        {
          "output_type": "execute_result",
          "data": {
            "text/plain": [
              "                id locale                                              title  \\\n",
              "32      B01MREMJ90     DE  The New York Doll Collection 11 Zoll /28cm Afr...   \n",
              "35      B00IK6I6YS     DE                              Donnie Darko [dt./OV]   \n",
              "54      B0B59DRXBT     DE  GOYJOY Hundekäfig für Auto, groß, tragbar, fal...   \n",
              "58      B07QCQK6CV     DE                             Der mit dem Wolf tanzt   \n",
              "70      B08BPH1WMD     DE  SET MIT 6 STÜCK einfachen Aufbewahrungsboxen a...   \n",
              "...            ...    ...                                                ...   \n",
              "518281  B08DTVRHB6     DE  Kostümplanet® Hexenkostüm Kinder mit Hut Mädch...   \n",
              "518285  B0BGHTCLY2     DE  GREENSKY 912 XL Druckerpatronen Set Kompatibel...   \n",
              "518316  B07TNTJXVC     DE  PremiumCord DVI-VGA Verbindungskabel - 2m, DVI...   \n",
              "518319  B09JM3D9TW     DE  PLIMA fix für schmale Glasleisten - Universal ...   \n",
              "518322  B0B1CTCTTV     DE  FOSHIO 3 Stück Professional 9mm Messer Cutterm...   \n",
              "\n",
              "              price                         brand  \\\n",
              "32      40000000.07  The New York Doll Collection   \n",
              "35      40000000.07                           NaN   \n",
              "54      40000000.07                        GOYJOY   \n",
              "58      40000000.07                           NaN   \n",
              "70      40000000.07                       KANGURU   \n",
              "...             ...                           ...   \n",
              "518281  40000000.07                  Kostümplanet   \n",
              "518285  40000000.07                      GREENSKY   \n",
              "518316  40000000.07                   KRUP s.r.o.   \n",
              "518319  40000000.07                         PLIMA   \n",
              "518322  40000000.07                        FOSHIO   \n",
              "\n",
              "                               color        size                model  \\\n",
              "32                  African American         NaN                 B121   \n",
              "35                               NaN         NaN                  NaN   \n",
              "54                              Gelb           S                  NaN   \n",
              "58                               NaN         NaN                  NaN   \n",
              "70                              Grau  29x51x20cm               616 AZ   \n",
              "...                              ...         ...                  ...   \n",
              "518281                     Rosa-pink         116                  NaN   \n",
              "518285  Schwarz, Cyan, Magenta, Gelb         NaN  912 912XL multipack   \n",
              "518316                           NaN         2 m             kpdvi1a2   \n",
              "518319                          Weiß         NaN                  NaN   \n",
              "518322                       Schwarz         NaN                  NaN   \n",
              "\n",
              "              material                      author  \\\n",
              "32               Vinyl                         NaN   \n",
              "35                 NaN              Drew Barrymore   \n",
              "54               Eisen                         NaN   \n",
              "58                 NaN  Floyd „Red Crow“ Westerman   \n",
              "70              Karton                         NaN   \n",
              "...                ...                         ...   \n",
              "518281  100% Polyester                         NaN   \n",
              "518285             NaN                         NaN   \n",
              "518316             NaN                         NaN   \n",
              "518319      Kunststoff                         NaN   \n",
              "518322          Papier                         NaN   \n",
              "\n",
              "                                                     desc  \n",
              "32      11 Zoll/28cm Größe, die für kleine Kinder leic...  \n",
              "35                                                    NaN  \n",
              "54      Atmungsaktiv, belüftet auf allen Seiten, wird ...  \n",
              "58                                                    NaN  \n",
              "70                            100% HERGESTELLT IN ITALIEN  \n",
              "...                                                   ...  \n",
              "518281            ✅ Komplettes Kinderkostüm inklusive Hut  \n",
              "518285  912 XL Multipack Patronen Kompatibel für HP Of...  \n",
              "518316         Anschlüsse: VGA 15-Stecker / DVI-I-Stecker  \n",
              "518319  ! PVC-Glasleistentiefe bis zur Dichtung 4-12 m...  \n",
              "518322  Das Cuttermesser 9mm Robustes Design mit Gehäu...  \n",
              "\n",
              "[23624 rows x 11 columns]"
            ],
            "text/html": [
              "\n",
              "  <div id=\"df-dc2aa11d-badb-4c46-a66c-c20deefc2c5a\">\n",
              "    <div class=\"colab-df-container\">\n",
              "      <div>\n",
              "<style scoped>\n",
              "    .dataframe tbody tr th:only-of-type {\n",
              "        vertical-align: middle;\n",
              "    }\n",
              "\n",
              "    .dataframe tbody tr th {\n",
              "        vertical-align: top;\n",
              "    }\n",
              "\n",
              "    .dataframe thead th {\n",
              "        text-align: right;\n",
              "    }\n",
              "</style>\n",
              "<table border=\"1\" class=\"dataframe\">\n",
              "  <thead>\n",
              "    <tr style=\"text-align: right;\">\n",
              "      <th></th>\n",
              "      <th>id</th>\n",
              "      <th>locale</th>\n",
              "      <th>title</th>\n",
              "      <th>price</th>\n",
              "      <th>brand</th>\n",
              "      <th>color</th>\n",
              "      <th>size</th>\n",
              "      <th>model</th>\n",
              "      <th>material</th>\n",
              "      <th>author</th>\n",
              "      <th>desc</th>\n",
              "    </tr>\n",
              "  </thead>\n",
              "  <tbody>\n",
              "    <tr>\n",
              "      <th>32</th>\n",
              "      <td>B01MREMJ90</td>\n",
              "      <td>DE</td>\n",
              "      <td>The New York Doll Collection 11 Zoll /28cm Afr...</td>\n",
              "      <td>40000000.07</td>\n",
              "      <td>The New York Doll Collection</td>\n",
              "      <td>African American</td>\n",
              "      <td>NaN</td>\n",
              "      <td>B121</td>\n",
              "      <td>Vinyl</td>\n",
              "      <td>NaN</td>\n",
              "      <td>11 Zoll/28cm Größe, die für kleine Kinder leic...</td>\n",
              "    </tr>\n",
              "    <tr>\n",
              "      <th>35</th>\n",
              "      <td>B00IK6I6YS</td>\n",
              "      <td>DE</td>\n",
              "      <td>Donnie Darko [dt./OV]</td>\n",
              "      <td>40000000.07</td>\n",
              "      <td>NaN</td>\n",
              "      <td>NaN</td>\n",
              "      <td>NaN</td>\n",
              "      <td>NaN</td>\n",
              "      <td>NaN</td>\n",
              "      <td>Drew Barrymore</td>\n",
              "      <td>NaN</td>\n",
              "    </tr>\n",
              "    <tr>\n",
              "      <th>54</th>\n",
              "      <td>B0B59DRXBT</td>\n",
              "      <td>DE</td>\n",
              "      <td>GOYJOY Hundekäfig für Auto, groß, tragbar, fal...</td>\n",
              "      <td>40000000.07</td>\n",
              "      <td>GOYJOY</td>\n",
              "      <td>Gelb</td>\n",
              "      <td>S</td>\n",
              "      <td>NaN</td>\n",
              "      <td>Eisen</td>\n",
              "      <td>NaN</td>\n",
              "      <td>Atmungsaktiv, belüftet auf allen Seiten, wird ...</td>\n",
              "    </tr>\n",
              "    <tr>\n",
              "      <th>58</th>\n",
              "      <td>B07QCQK6CV</td>\n",
              "      <td>DE</td>\n",
              "      <td>Der mit dem Wolf tanzt</td>\n",
              "      <td>40000000.07</td>\n",
              "      <td>NaN</td>\n",
              "      <td>NaN</td>\n",
              "      <td>NaN</td>\n",
              "      <td>NaN</td>\n",
              "      <td>NaN</td>\n",
              "      <td>Floyd „Red Crow“ Westerman</td>\n",
              "      <td>NaN</td>\n",
              "    </tr>\n",
              "    <tr>\n",
              "      <th>70</th>\n",
              "      <td>B08BPH1WMD</td>\n",
              "      <td>DE</td>\n",
              "      <td>SET MIT 6 STÜCK einfachen Aufbewahrungsboxen a...</td>\n",
              "      <td>40000000.07</td>\n",
              "      <td>KANGURU</td>\n",
              "      <td>Grau</td>\n",
              "      <td>29x51x20cm</td>\n",
              "      <td>616 AZ</td>\n",
              "      <td>Karton</td>\n",
              "      <td>NaN</td>\n",
              "      <td>100% HERGESTELLT IN ITALIEN</td>\n",
              "    </tr>\n",
              "    <tr>\n",
              "      <th>...</th>\n",
              "      <td>...</td>\n",
              "      <td>...</td>\n",
              "      <td>...</td>\n",
              "      <td>...</td>\n",
              "      <td>...</td>\n",
              "      <td>...</td>\n",
              "      <td>...</td>\n",
              "      <td>...</td>\n",
              "      <td>...</td>\n",
              "      <td>...</td>\n",
              "      <td>...</td>\n",
              "    </tr>\n",
              "    <tr>\n",
              "      <th>518281</th>\n",
              "      <td>B08DTVRHB6</td>\n",
              "      <td>DE</td>\n",
              "      <td>Kostümplanet® Hexenkostüm Kinder mit Hut Mädch...</td>\n",
              "      <td>40000000.07</td>\n",
              "      <td>Kostümplanet</td>\n",
              "      <td>Rosa-pink</td>\n",
              "      <td>116</td>\n",
              "      <td>NaN</td>\n",
              "      <td>100% Polyester</td>\n",
              "      <td>NaN</td>\n",
              "      <td>✅ Komplettes Kinderkostüm inklusive Hut</td>\n",
              "    </tr>\n",
              "    <tr>\n",
              "      <th>518285</th>\n",
              "      <td>B0BGHTCLY2</td>\n",
              "      <td>DE</td>\n",
              "      <td>GREENSKY 912 XL Druckerpatronen Set Kompatibel...</td>\n",
              "      <td>40000000.07</td>\n",
              "      <td>GREENSKY</td>\n",
              "      <td>Schwarz, Cyan, Magenta, Gelb</td>\n",
              "      <td>NaN</td>\n",
              "      <td>912 912XL multipack</td>\n",
              "      <td>NaN</td>\n",
              "      <td>NaN</td>\n",
              "      <td>912 XL Multipack Patronen Kompatibel für HP Of...</td>\n",
              "    </tr>\n",
              "    <tr>\n",
              "      <th>518316</th>\n",
              "      <td>B07TNTJXVC</td>\n",
              "      <td>DE</td>\n",
              "      <td>PremiumCord DVI-VGA Verbindungskabel - 2m, DVI...</td>\n",
              "      <td>40000000.07</td>\n",
              "      <td>KRUP s.r.o.</td>\n",
              "      <td>NaN</td>\n",
              "      <td>2 m</td>\n",
              "      <td>kpdvi1a2</td>\n",
              "      <td>NaN</td>\n",
              "      <td>NaN</td>\n",
              "      <td>Anschlüsse: VGA 15-Stecker / DVI-I-Stecker</td>\n",
              "    </tr>\n",
              "    <tr>\n",
              "      <th>518319</th>\n",
              "      <td>B09JM3D9TW</td>\n",
              "      <td>DE</td>\n",
              "      <td>PLIMA fix für schmale Glasleisten - Universal ...</td>\n",
              "      <td>40000000.07</td>\n",
              "      <td>PLIMA</td>\n",
              "      <td>Weiß</td>\n",
              "      <td>NaN</td>\n",
              "      <td>NaN</td>\n",
              "      <td>Kunststoff</td>\n",
              "      <td>NaN</td>\n",
              "      <td>! PVC-Glasleistentiefe bis zur Dichtung 4-12 m...</td>\n",
              "    </tr>\n",
              "    <tr>\n",
              "      <th>518322</th>\n",
              "      <td>B0B1CTCTTV</td>\n",
              "      <td>DE</td>\n",
              "      <td>FOSHIO 3 Stück Professional 9mm Messer Cutterm...</td>\n",
              "      <td>40000000.07</td>\n",
              "      <td>FOSHIO</td>\n",
              "      <td>Schwarz</td>\n",
              "      <td>NaN</td>\n",
              "      <td>NaN</td>\n",
              "      <td>Papier</td>\n",
              "      <td>NaN</td>\n",
              "      <td>Das Cuttermesser 9mm Robustes Design mit Gehäu...</td>\n",
              "    </tr>\n",
              "  </tbody>\n",
              "</table>\n",
              "<p>23624 rows × 11 columns</p>\n",
              "</div>\n",
              "      <button class=\"colab-df-convert\" onclick=\"convertToInteractive('df-dc2aa11d-badb-4c46-a66c-c20deefc2c5a')\"\n",
              "              title=\"Convert this dataframe to an interactive table.\"\n",
              "              style=\"display:none;\">\n",
              "        \n",
              "  <svg xmlns=\"http://www.w3.org/2000/svg\" height=\"24px\"viewBox=\"0 0 24 24\"\n",
              "       width=\"24px\">\n",
              "    <path d=\"M0 0h24v24H0V0z\" fill=\"none\"/>\n",
              "    <path d=\"M18.56 5.44l.94 2.06.94-2.06 2.06-.94-2.06-.94-.94-2.06-.94 2.06-2.06.94zm-11 1L8.5 8.5l.94-2.06 2.06-.94-2.06-.94L8.5 2.5l-.94 2.06-2.06.94zm10 10l.94 2.06.94-2.06 2.06-.94-2.06-.94-.94-2.06-.94 2.06-2.06.94z\"/><path d=\"M17.41 7.96l-1.37-1.37c-.4-.4-.92-.59-1.43-.59-.52 0-1.04.2-1.43.59L10.3 9.45l-7.72 7.72c-.78.78-.78 2.05 0 2.83L4 21.41c.39.39.9.59 1.41.59.51 0 1.02-.2 1.41-.59l7.78-7.78 2.81-2.81c.8-.78.8-2.07 0-2.86zM5.41 20L4 18.59l7.72-7.72 1.47 1.35L5.41 20z\"/>\n",
              "  </svg>\n",
              "      </button>\n",
              "      \n",
              "  <style>\n",
              "    .colab-df-container {\n",
              "      display:flex;\n",
              "      flex-wrap:wrap;\n",
              "      gap: 12px;\n",
              "    }\n",
              "\n",
              "    .colab-df-convert {\n",
              "      background-color: #E8F0FE;\n",
              "      border: none;\n",
              "      border-radius: 50%;\n",
              "      cursor: pointer;\n",
              "      display: none;\n",
              "      fill: #1967D2;\n",
              "      height: 32px;\n",
              "      padding: 0 0 0 0;\n",
              "      width: 32px;\n",
              "    }\n",
              "\n",
              "    .colab-df-convert:hover {\n",
              "      background-color: #E2EBFA;\n",
              "      box-shadow: 0px 1px 2px rgba(60, 64, 67, 0.3), 0px 1px 3px 1px rgba(60, 64, 67, 0.15);\n",
              "      fill: #174EA6;\n",
              "    }\n",
              "\n",
              "    [theme=dark] .colab-df-convert {\n",
              "      background-color: #3B4455;\n",
              "      fill: #D2E3FC;\n",
              "    }\n",
              "\n",
              "    [theme=dark] .colab-df-convert:hover {\n",
              "      background-color: #434B5C;\n",
              "      box-shadow: 0px 1px 3px 1px rgba(0, 0, 0, 0.15);\n",
              "      filter: drop-shadow(0px 1px 2px rgba(0, 0, 0, 0.3));\n",
              "      fill: #FFFFFF;\n",
              "    }\n",
              "  </style>\n",
              "\n",
              "      <script>\n",
              "        const buttonEl =\n",
              "          document.querySelector('#df-dc2aa11d-badb-4c46-a66c-c20deefc2c5a button.colab-df-convert');\n",
              "        buttonEl.style.display =\n",
              "          google.colab.kernel.accessAllowed ? 'block' : 'none';\n",
              "\n",
              "        async function convertToInteractive(key) {\n",
              "          const element = document.querySelector('#df-dc2aa11d-badb-4c46-a66c-c20deefc2c5a');\n",
              "          const dataTable =\n",
              "            await google.colab.kernel.invokeFunction('convertToInteractive',\n",
              "                                                     [key], {});\n",
              "          if (!dataTable) return;\n",
              "\n",
              "          const docLinkHtml = 'Like what you see? Visit the ' +\n",
              "            '<a target=\"_blank\" href=https://colab.research.google.com/notebooks/data_table.ipynb>data table notebook</a>'\n",
              "            + ' to learn more about interactive tables.';\n",
              "          element.innerHTML = '';\n",
              "          dataTable['output_type'] = 'display_data';\n",
              "          await google.colab.output.renderOutput(dataTable, element);\n",
              "          const docLink = document.createElement('div');\n",
              "          docLink.innerHTML = docLinkHtml;\n",
              "          element.appendChild(docLink);\n",
              "        }\n",
              "      </script>\n",
              "    </div>\n",
              "  </div>\n",
              "  "
            ]
          },
          "metadata": {},
          "execution_count": 17
        }
      ]
    },
    {
      "cell_type": "code",
      "source": [
        "plt.hist(products[(products['locale'] == 'DE') & (products['price'] < 2000)].price)"
      ],
      "metadata": {
        "id": "vr63fAaarKjp",
        "colab": {
          "base_uri": "https://localhost:8080/",
          "height": 517
        },
        "outputId": "3d4ef80c-7164-465e-a9b6-42e1ba686a7c"
      },
      "execution_count": null,
      "outputs": [
        {
          "output_type": "execute_result",
          "data": {
            "text/plain": [
              "(array([4.82566e+05, 6.80400e+03, 2.21000e+03, 1.08500e+03, 7.36000e+02,\n",
              "        3.60000e+02, 2.45000e+02, 2.00000e+02, 1.29000e+02, 1.21000e+02]),\n",
              " array([   0.   ,  199.999,  399.998,  599.997,  799.996,  999.995,\n",
              "        1199.994, 1399.993, 1599.992, 1799.991, 1999.99 ]),\n",
              " <BarContainer object of 10 artists>)"
            ]
          },
          "metadata": {},
          "execution_count": 18
        },
        {
          "output_type": "display_data",
          "data": {
            "text/plain": [
              "<Figure size 640x480 with 1 Axes>"
            ],
            "image/png": "[encoded data removed]"
          },
          "metadata": {}
        }
      ]
    },
    {
      "cell_type": "code",
      "source": [
        "products[(products['locale'] == 'UK') & (products['price'] > 1000000)]"
      ],
      "metadata": {
        "id": "78ggs381nFhL",
        "colab": {
          "base_uri": "https://localhost:8080/",
          "height": 423
        },
        "outputId": "e8bcfca6-c022-4c6e-e325-572997e2219d"
      },
      "execution_count": null,
      "outputs": [
        {
          "output_type": "execute_result",
          "data": {
            "text/plain": [
              "                 id locale                                              title  \\\n",
              "913359   B01AS7VCY2     UK  Greek Style EasiYo Yogurt 8 Sachet Pack | Each...   \n",
              "913360   B08BR59PCZ     UK  ROCKBROS Bike Mudguards Set, Adjustable 2 Part...   \n",
              "913365   B09R526SLM     UK  Kena: Bridge of Spirits - Deluxe Edition (PS4/...   \n",
              "913408   B0B88CRKCX     UK  ADMOS 50 Citronella Incense Sticks With Wooden...   \n",
              "913410   B078SV63KN     UK                 Morrisons Sweetcorn in Water, 326g   \n",
              "...             ...    ...                                                ...   \n",
              "1413384  B07VD72BMH     UK  Outus 30 Pieces Foam Halloween Pumpkins Foam P...   \n",
              "1413408  B09BW3C3K7     UK  Marriner Get Cosy Super Chunky Yarn with 100% ...   \n",
              "1413416  B0BD3ZLRJK     UK  Hanging Halloween Decorations Single Pre-Insta...   \n",
              "1413448  B09B4B58NS     UK  Padded Envelopes A3 A4 A5 A6, Padded Bubble En...   \n",
              "1413475  B09WZGP7BC     UK  Müller Rice Strawberry Sauce With Low Fat Crea...   \n",
              "\n",
              "               price          brand       color         size       model  \\\n",
              "913359   40000000.07         EasiYo         NaN          NaN         NaN   \n",
              "913360   40000000.07       ROCKBROS       Black     One Size         NaN   \n",
              "913365   40000000.07  Maximum Games         NaN          NaN  KBS-PS4-EU   \n",
              "913408   40000000.07          ADMOS       Brown            M      AD-128   \n",
              "913410   40000000.07      Morrisons         NaN          NaN   109381100   \n",
              "...              ...            ...         ...          ...         ...   \n",
              "1413384  40000000.07          Outus         NaN          NaN         NaN   \n",
              "1413408  40000000.07       Marriner       Cream  5 Ball Pack         NaN   \n",
              "1413416  40000000.07        YAAVAAW      Orange            L  YA-Hanging   \n",
              "1413448  40000000.07       Merrimen  100pk Gold           A4         NaN   \n",
              "1413475  40000000.07         Müller  Strawberry    Pack of 1         NaN   \n",
              "\n",
              "          material author                                               desc  \n",
              "913359         NaN    NaN  3 EASY STEPS - Add the contents of your chosen...  \n",
              "913360         NaN    NaN  🚴‍♂️DURABLE & ADJUSTABLE: High quality bicycle...  \n",
              "913365         NaN    NaN  Build Your Team: Find and collect Rot to gain ...  \n",
              "913408         NaN    NaN  ADMOS Brand Citronella Incense Sticks with woo...  \n",
              "913410         NaN    NaN  A 1/2 can serving contains 1 portion of your 5...  \n",
              "...            ...    ...                                                ...  \n",
              "1413384       Foam    NaN  DIY crafts: these blank foam pumpkin can be dr...  \n",
              "1413408  Polyester    NaN  A luxuriously soft yarn that could not be more...  \n",
              "1413416  Polyester    NaN  Design:A unique design that combines the grima...  \n",
              "1413448        NaN    NaN  Easy to use with excellent label adhesion. Wri...  \n",
              "1413475        NaN    NaN  Delicious creamy rice with an underlayer of ba...  \n",
              "\n",
              "[25280 rows x 11 columns]"
            ],
            "text/html": [
              "\n",
              "  <div id=\"df-0e6b525d-195c-42ad-82f4-fe1f1bf913fb\">\n",
              "    <div class=\"colab-df-container\">\n",
              "      <div>\n",
              "<style scoped>\n",
              "    .dataframe tbody tr th:only-of-type {\n",
              "        vertical-align: middle;\n",
              "    }\n",
              "\n",
              "    .dataframe tbody tr th {\n",
              "        vertical-align: top;\n",
              "    }\n",
              "\n",
              "    .dataframe thead th {\n",
              "        text-align: right;\n",
              "    }\n",
              "</style>\n",
              "<table border=\"1\" class=\"dataframe\">\n",
              "  <thead>\n",
              "    <tr style=\"text-align: right;\">\n",
              "      <th></th>\n",
              "      <th>id</th>\n",
              "      <th>locale</th>\n",
              "      <th>title</th>\n",
              "      <th>price</th>\n",
              "      <th>brand</th>\n",
              "      <th>color</th>\n",
              "      <th>size</th>\n",
              "      <th>model</th>\n",
              "      <th>material</th>\n",
              "      <th>author</th>\n",
              "      <th>desc</th>\n",
              "    </tr>\n",
              "  </thead>\n",
              "  <tbody>\n",
              "    <tr>\n",
              "      <th>913359</th>\n",
              "      <td>B01AS7VCY2</td>\n",
              "      <td>UK</td>\n",
              "      <td>Greek Style EasiYo Yogurt 8 Sachet Pack | Each...</td>\n",
              "      <td>40000000.07</td>\n",
              "      <td>EasiYo</td>\n",
              "      <td>NaN</td>\n",
              "      <td>NaN</td>\n",
              "      <td>NaN</td>\n",
              "      <td>NaN</td>\n",
              "      <td>NaN</td>\n",
              "      <td>3 EASY STEPS - Add the contents of your chosen...</td>\n",
              "    </tr>\n",
              "    <tr>\n",
              "      <th>913360</th>\n",
              "      <td>B08BR59PCZ</td>\n",
              "      <td>UK</td>\n",
              "      <td>ROCKBROS Bike Mudguards Set, Adjustable 2 Part...</td>\n",
              "      <td>40000000.07</td>\n",
              "      <td>ROCKBROS</td>\n",
              "      <td>Black</td>\n",
              "      <td>One Size</td>\n",
              "      <td>NaN</td>\n",
              "      <td>NaN</td>\n",
              "      <td>NaN</td>\n",
              "      <td>🚴‍♂️DURABLE &amp; ADJUSTABLE: High quality bicycle...</td>\n",
              "    </tr>\n",
              "    <tr>\n",
              "      <th>913365</th>\n",
              "      <td>B09R526SLM</td>\n",
              "      <td>UK</td>\n",
              "      <td>Kena: Bridge of Spirits - Deluxe Edition (PS4/...</td>\n",
              "      <td>40000000.07</td>\n",
              "      <td>Maximum Games</td>\n",
              "      <td>NaN</td>\n",
              "      <td>NaN</td>\n",
              "      <td>KBS-PS4-EU</td>\n",
              "      <td>NaN</td>\n",
              "      <td>NaN</td>\n",
              "      <td>Build Your Team: Find and collect Rot to gain ...</td>\n",
              "    </tr>\n",
              "    <tr>\n",
              "      <th>913408</th>\n",
              "      <td>B0B88CRKCX</td>\n",
              "      <td>UK</td>\n",
              "      <td>ADMOS 50 Citronella Incense Sticks With Wooden...</td>\n",
              "      <td>40000000.07</td>\n",
              "      <td>ADMOS</td>\n",
              "      <td>Brown</td>\n",
              "      <td>M</td>\n",
              "      <td>AD-128</td>\n",
              "      <td>NaN</td>\n",
              "      <td>NaN</td>\n",
              "      <td>ADMOS Brand Citronella Incense Sticks with woo...</td>\n",
              "    </tr>\n",
              "    <tr>\n",
              "      <th>913410</th>\n",
              "      <td>B078SV63KN</td>\n",
              "      <td>UK</td>\n",
              "      <td>Morrisons Sweetcorn in Water, 326g</td>\n",
              "      <td>40000000.07</td>\n",
              "      <td>Morrisons</td>\n",
              "      <td>NaN</td>\n",
              "      <td>NaN</td>\n",
              "      <td>109381100</td>\n",
              "      <td>NaN</td>\n",
              "      <td>NaN</td>\n",
              "      <td>A 1/2 can serving contains 1 portion of your 5...</td>\n",
              "    </tr>\n",
              "    <tr>\n",
              "      <th>...</th>\n",
              "      <td>...</td>\n",
              "      <td>...</td>\n",
              "      <td>...</td>\n",
              "      <td>...</td>\n",
              "      <td>...</td>\n",
              "      <td>...</td>\n",
              "      <td>...</td>\n",
              "      <td>...</td>\n",
              "      <td>...</td>\n",
              "      <td>...</td>\n",
              "      <td>...</td>\n",
              "    </tr>\n",
              "    <tr>\n",
              "      <th>1413384</th>\n",
              "      <td>B07VD72BMH</td>\n",
              "      <td>UK</td>\n",
              "      <td>Outus 30 Pieces Foam Halloween Pumpkins Foam P...</td>\n",
              "      <td>40000000.07</td>\n",
              "      <td>Outus</td>\n",
              "      <td>NaN</td>\n",
              "      <td>NaN</td>\n",
              "      <td>NaN</td>\n",
              "      <td>Foam</td>\n",
              "      <td>NaN</td>\n",
              "      <td>DIY crafts: these blank foam pumpkin can be dr...</td>\n",
              "    </tr>\n",
              "    <tr>\n",
              "      <th>1413408</th>\n",
              "      <td>B09BW3C3K7</td>\n",
              "      <td>UK</td>\n",
              "      <td>Marriner Get Cosy Super Chunky Yarn with 100% ...</td>\n",
              "      <td>40000000.07</td>\n",
              "      <td>Marriner</td>\n",
              "      <td>Cream</td>\n",
              "      <td>5 Ball Pack</td>\n",
              "      <td>NaN</td>\n",
              "      <td>Polyester</td>\n",
              "      <td>NaN</td>\n",
              "      <td>A luxuriously soft yarn that could not be more...</td>\n",
              "    </tr>\n",
              "    <tr>\n",
              "      <th>1413416</th>\n",
              "      <td>B0BD3ZLRJK</td>\n",
              "      <td>UK</td>\n",
              "      <td>Hanging Halloween Decorations Single Pre-Insta...</td>\n",
              "      <td>40000000.07</td>\n",
              "      <td>YAAVAAW</td>\n",
              "      <td>Orange</td>\n",
              "      <td>L</td>\n",
              "      <td>YA-Hanging</td>\n",
              "      <td>Polyester</td>\n",
              "      <td>NaN</td>\n",
              "      <td>Design:A unique design that combines the grima...</td>\n",
              "    </tr>\n",
              "    <tr>\n",
              "      <th>1413448</th>\n",
              "      <td>B09B4B58NS</td>\n",
              "      <td>UK</td>\n",
              "      <td>Padded Envelopes A3 A4 A5 A6, Padded Bubble En...</td>\n",
              "      <td>40000000.07</td>\n",
              "      <td>Merrimen</td>\n",
              "      <td>100pk Gold</td>\n",
              "      <td>A4</td>\n",
              "      <td>NaN</td>\n",
              "      <td>NaN</td>\n",
              "      <td>NaN</td>\n",
              "      <td>Easy to use with excellent label adhesion. Wri...</td>\n",
              "    </tr>\n",
              "    <tr>\n",
              "      <th>1413475</th>\n",
              "      <td>B09WZGP7BC</td>\n",
              "      <td>UK</td>\n",
              "      <td>Müller Rice Strawberry Sauce With Low Fat Crea...</td>\n",
              "      <td>40000000.07</td>\n",
              "      <td>Müller</td>\n",
              "      <td>Strawberry</td>\n",
              "      <td>Pack of 1</td>\n",
              "      <td>NaN</td>\n",
              "      <td>NaN</td>\n",
              "      <td>NaN</td>\n",
              "      <td>Delicious creamy rice with an underlayer of ba...</td>\n",
              "    </tr>\n",
              "  </tbody>\n",
              "</table>\n",
              "<p>25280 rows × 11 columns</p>\n",
              "</div>\n",
              "      <button class=\"colab-df-convert\" onclick=\"convertToInteractive('df-0e6b525d-195c-42ad-82f4-fe1f1bf913fb')\"\n",
              "              title=\"Convert this dataframe to an interactive table.\"\n",
              "              style=\"display:none;\">\n",
              "        \n",
              "  <svg xmlns=\"http://www.w3.org/2000/svg\" height=\"24px\"viewBox=\"0 0 24 24\"\n",
              "       width=\"24px\">\n",
              "    <path d=\"M0 0h24v24H0V0z\" fill=\"none\"/>\n",
              "    <path d=\"M18.56 5.44l.94 2.06.94-2.06 2.06-.94-2.06-.94-.94-2.06-.94 2.06-2.06.94zm-11 1L8.5 8.5l.94-2.06 2.06-.94-2.06-.94L8.5 2.5l-.94 2.06-2.06.94zm10 10l.94 2.06.94-2.06 2.06-.94-2.06-.94-.94-2.06-.94 2.06-2.06.94z\"/><path d=\"M17.41 7.96l-1.37-1.37c-.4-.4-.92-.59-1.43-.59-.52 0-1.04.2-1.43.59L10.3 9.45l-7.72 7.72c-.78.78-.78 2.05 0 2.83L4 21.41c.39.39.9.59 1.41.59.51 0 1.02-.2 1.41-.59l7.78-7.78 2.81-2.81c.8-.78.8-2.07 0-2.86zM5.41 20L4 18.59l7.72-7.72 1.47 1.35L5.41 20z\"/>\n",
              "  </svg>\n",
              "      </button>\n",
              "      \n",
              "  <style>\n",
              "    .colab-df-container {\n",
              "      display:flex;\n",
              "      flex-wrap:wrap;\n",
              "      gap: 12px;\n",
              "    }\n",
              "\n",
              "    .colab-df-convert {\n",
              "      background-color: #E8F0FE;\n",
              "      border: none;\n",
              "      border-radius: 50%;\n",
              "      cursor: pointer;\n",
              "      display: none;\n",
              "      fill: #1967D2;\n",
              "      height: 32px;\n",
              "      padding: 0 0 0 0;\n",
              "      width: 32px;\n",
              "    }\n",
              "\n",
              "    .colab-df-convert:hover {\n",
              "      background-color: #E2EBFA;\n",
              "      box-shadow: 0px 1px 2px rgba(60, 64, 67, 0.3), 0px 1px 3px 1px rgba(60, 64, 67, 0.15);\n",
              "      fill: #174EA6;\n",
              "    }\n",
              "\n",
              "    [theme=dark] .colab-df-convert {\n",
              "      background-color: #3B4455;\n",
              "      fill: #D2E3FC;\n",
              "    }\n",
              "\n",
              "    [theme=dark] .colab-df-convert:hover {\n",
              "      background-color: #434B5C;\n",
              "      box-shadow: 0px 1px 3px 1px rgba(0, 0, 0, 0.15);\n",
              "      filter: drop-shadow(0px 1px 2px rgba(0, 0, 0, 0.3));\n",
              "      fill: #FFFFFF;\n",
              "    }\n",
              "  </style>\n",
              "\n",
              "      <script>\n",
              "        const buttonEl =\n",
              "          document.querySelector('#df-0e6b525d-195c-42ad-82f4-fe1f1bf913fb button.colab-df-convert');\n",
              "        buttonEl.style.display =\n",
              "          google.colab.kernel.accessAllowed ? 'block' : 'none';\n",
              "\n",
              "        async function convertToInteractive(key) {\n",
              "          const element = document.querySelector('#df-0e6b525d-195c-42ad-82f4-fe1f1bf913fb');\n",
              "          const dataTable =\n",
              "            await google.colab.kernel.invokeFunction('convertToInteractive',\n",
              "                                                     [key], {});\n",
              "          if (!dataTable) return;\n",
              "\n",
              "          const docLinkHtml = 'Like what you see? Visit the ' +\n",
              "            '<a target=\"_blank\" href=https://colab.research.google.com/notebooks/data_table.ipynb>data table notebook</a>'\n",
              "            + ' to learn more about interactive tables.';\n",
              "          element.innerHTML = '';\n",
              "          dataTable['output_type'] = 'display_data';\n",
              "          await google.colab.output.renderOutput(dataTable, element);\n",
              "          const docLink = document.createElement('div');\n",
              "          docLink.innerHTML = docLinkHtml;\n",
              "          element.appendChild(docLink);\n",
              "        }\n",
              "      </script>\n",
              "    </div>\n",
              "  </div>\n",
              "  "
            ]
          },
          "metadata": {},
          "execution_count": 19
        }
      ]
    },
    {
      "cell_type": "code",
      "source": [
        "products[(products['locale'] == 'UK')].head()"
      ],
      "metadata": {
        "id": "ZAuOfF8rslAM",
        "colab": {
          "base_uri": "https://localhost:8080/",
          "height": 206
        },
        "outputId": "e816315e-5f24-4da5-83c8-9d5cee2485e9"
      },
      "execution_count": null,
      "outputs": [
        {
          "output_type": "execute_result",
          "data": {
            "text/plain": [
              "                id locale                                              title  \\\n",
              "913336  B087LZNPHS     UK  SOCHOW Sherpa Fleece Throw Blanket, Double-Sid...   \n",
              "913337  B08THFN1KX     UK  Hippowarehouse Personalised Photo Printed Mous...   \n",
              "913338  0804185328     UK  500 Easy Recipes for Every Machine, Both Stove...   \n",
              "913339  B09VBKDBW6     UK  TYHJOY Mini Bag Sealer, Handheld Vacuum Heat S...   \n",
              "913340  B096ZW8B49     UK  Lucosobie Steering Wheel Lock - Car Anti-Theft...   \n",
              "\n",
              "        price            brand       color                  size  \\\n",
              "913336  24.99           SOCHOW  Teal Green           127cm×150cm   \n",
              "913337   9.95   Hippowarehouse       White  240mm x 190mm x 60mm   \n",
              "913338  16.49  Clarkson Potter       White                   NaN   \n",
              "913339  11.99           TYHJOY       Black                   NaN   \n",
              "913340  26.99        Lucosobie       Black                   NaN   \n",
              "\n",
              "                   model                         material            author  \\\n",
              "913336               NaN                   100% Polyester               NaN   \n",
              "913337   50245-Mat-Perso                           Rubber               NaN   \n",
              "913338               NaN                              NaN  Scarbrough, Mark   \n",
              "913339  FBA-sealer-black  Acrylonitrile Butadiene Styrene               NaN   \n",
              "913340               NaN                      Alloy Steel               NaN   \n",
              "\n",
              "                                                     desc  \n",
              "913336  COLOR: The sherpa throw blanket is available i...  \n",
              "913337                               Competitively priced  \n",
              "913338                                                NaN  \n",
              "913339  【AFTER-SALE】This handheld food heat sealer sho...  \n",
              "913340  🔐【 Anti-Friction & Customer First】Each box of ...  "
            ],
            "text/html": [
              "\n",
              "  <div id=\"df-7db4838a-77a8-40b4-a0a5-88a4d1ed5fb1\">\n",
              "    <div class=\"colab-df-container\">\n",
              "      <div>\n",
              "<style scoped>\n",
              "    .dataframe tbody tr th:only-of-type {\n",
              "        vertical-align: middle;\n",
              "    }\n",
              "\n",
              "    .dataframe tbody tr th {\n",
              "        vertical-align: top;\n",
              "    }\n",
              "\n",
              "    .dataframe thead th {\n",
              "        text-align: right;\n",
              "    }\n",
              "</style>\n",
              "<table border=\"1\" class=\"dataframe\">\n",
              "  <thead>\n",
              "    <tr style=\"text-align: right;\">\n",
              "      <th></th>\n",
              "      <th>id</th>\n",
              "      <th>locale</th>\n",
              "      <th>title</th>\n",
              "      <th>price</th>\n",
              "      <th>brand</th>\n",
              "      <th>color</th>\n",
              "      <th>size</th>\n",
              "      <th>model</th>\n",
              "      <th>material</th>\n",
              "      <th>author</th>\n",
              "      <th>desc</th>\n",
              "    </tr>\n",
              "  </thead>\n",
              "  <tbody>\n",
              "    <tr>\n",
              "      <th>913336</th>\n",
              "      <td>B087LZNPHS</td>\n",
              "      <td>UK</td>\n",
              "      <td>SOCHOW Sherpa Fleece Throw Blanket, Double-Sid...</td>\n",
              "      <td>24.99</td>\n",
              "      <td>SOCHOW</td>\n",
              "      <td>Teal Green</td>\n",
              "      <td>127cm×150cm</td>\n",
              "      <td>NaN</td>\n",
              "      <td>100% Polyester</td>\n",
              "      <td>NaN</td>\n",
              "      <td>COLOR: The sherpa throw blanket is available i...</td>\n",
              "    </tr>\n",
              "    <tr>\n",
              "      <th>913337</th>\n",
              "      <td>B08THFN1KX</td>\n",
              "      <td>UK</td>\n",
              "      <td>Hippowarehouse Personalised Photo Printed Mous...</td>\n",
              "      <td>9.95</td>\n",
              "      <td>Hippowarehouse</td>\n",
              "      <td>White</td>\n",
              "      <td>240mm x 190mm x 60mm</td>\n",
              "      <td>50245-Mat-Perso</td>\n",
              "      <td>Rubber</td>\n",
              "      <td>NaN</td>\n",
              "      <td>Competitively priced</td>\n",
              "    </tr>\n",
              "    <tr>\n",
              "      <th>913338</th>\n",
              "      <td>0804185328</td>\n",
              "      <td>UK</td>\n",
              "      <td>500 Easy Recipes for Every Machine, Both Stove...</td>\n",
              "      <td>16.49</td>\n",
              "      <td>Clarkson Potter</td>\n",
              "      <td>White</td>\n",
              "      <td>NaN</td>\n",
              "      <td>NaN</td>\n",
              "      <td>NaN</td>\n",
              "      <td>Scarbrough, Mark</td>\n",
              "      <td>NaN</td>\n",
              "    </tr>\n",
              "    <tr>\n",
              "      <th>913339</th>\n",
              "      <td>B09VBKDBW6</td>\n",
              "      <td>UK</td>\n",
              "      <td>TYHJOY Mini Bag Sealer, Handheld Vacuum Heat S...</td>\n",
              "      <td>11.99</td>\n",
              "      <td>TYHJOY</td>\n",
              "      <td>Black</td>\n",
              "      <td>NaN</td>\n",
              "      <td>FBA-sealer-black</td>\n",
              "      <td>Acrylonitrile Butadiene Styrene</td>\n",
              "      <td>NaN</td>\n",
              "      <td>【AFTER-SALE】This handheld food heat sealer sho...</td>\n",
              "    </tr>\n",
              "    <tr>\n",
              "      <th>913340</th>\n",
              "      <td>B096ZW8B49</td>\n",
              "      <td>UK</td>\n",
              "      <td>Lucosobie Steering Wheel Lock - Car Anti-Theft...</td>\n",
              "      <td>26.99</td>\n",
              "      <td>Lucosobie</td>\n",
              "      <td>Black</td>\n",
              "      <td>NaN</td>\n",
              "      <td>NaN</td>\n",
              "      <td>Alloy Steel</td>\n",
              "      <td>NaN</td>\n",
              "      <td>🔐【 Anti-Friction &amp; Customer First】Each box of ...</td>\n",
              "    </tr>\n",
              "  </tbody>\n",
              "</table>\n",
              "</div>\n",
              "      <button class=\"colab-df-convert\" onclick=\"convertToInteractive('df-7db4838a-77a8-40b4-a0a5-88a4d1ed5fb1')\"\n",
              "              title=\"Convert this dataframe to an interactive table.\"\n",
              "              style=\"display:none;\">\n",
              "        \n",
              "  <svg xmlns=\"http://www.w3.org/2000/svg\" height=\"24px\"viewBox=\"0 0 24 24\"\n",
              "       width=\"24px\">\n",
              "    <path d=\"M0 0h24v24H0V0z\" fill=\"none\"/>\n",
              "    <path d=\"M18.56 5.44l.94 2.06.94-2.06 2.06-.94-2.06-.94-.94-2.06-.94 2.06-2.06.94zm-11 1L8.5 8.5l.94-2.06 2.06-.94-2.06-.94L8.5 2.5l-.94 2.06-2.06.94zm10 10l.94 2.06.94-2.06 2.06-.94-2.06-.94-.94-2.06-.94 2.06-2.06.94z\"/><path d=\"M17.41 7.96l-1.37-1.37c-.4-.4-.92-.59-1.43-.59-.52 0-1.04.2-1.43.59L10.3 9.45l-7.72 7.72c-.78.78-.78 2.05 0 2.83L4 21.41c.39.39.9.59 1.41.59.51 0 1.02-.2 1.41-.59l7.78-7.78 2.81-2.81c.8-.78.8-2.07 0-2.86zM5.41 20L4 18.59l7.72-7.72 1.47 1.35L5.41 20z\"/>\n",
              "  </svg>\n",
              "      </button>\n",
              "      \n",
              "  <style>\n",
              "    .colab-df-container {\n",
              "      display:flex;\n",
              "      flex-wrap:wrap;\n",
              "      gap: 12px;\n",
              "    }\n",
              "\n",
              "    .colab-df-convert {\n",
              "      background-color: #E8F0FE;\n",
              "      border: none;\n",
              "      border-radius: 50%;\n",
              "      cursor: pointer;\n",
              "      display: none;\n",
              "      fill: #1967D2;\n",
              "      height: 32px;\n",
              "      padding: 0 0 0 0;\n",
              "      width: 32px;\n",
              "    }\n",
              "\n",
              "    .colab-df-convert:hover {\n",
              "      background-color: #E2EBFA;\n",
              "      box-shadow: 0px 1px 2px rgba(60, 64, 67, 0.3), 0px 1px 3px 1px rgba(60, 64, 67, 0.15);\n",
              "      fill: #174EA6;\n",
              "    }\n",
              "\n",
              "    [theme=dark] .colab-df-convert {\n",
              "      background-color: #3B4455;\n",
              "      fill: #D2E3FC;\n",
              "    }\n",
              "\n",
              "    [theme=dark] .colab-df-convert:hover {\n",
              "      background-color: #434B5C;\n",
              "      box-shadow: 0px 1px 3px 1px rgba(0, 0, 0, 0.15);\n",
              "      filter: drop-shadow(0px 1px 2px rgba(0, 0, 0, 0.3));\n",
              "      fill: #FFFFFF;\n",
              "    }\n",
              "  </style>\n",
              "\n",
              "      <script>\n",
              "        const buttonEl =\n",
              "          document.querySelector('#df-7db4838a-77a8-40b4-a0a5-88a4d1ed5fb1 button.colab-df-convert');\n",
              "        buttonEl.style.display =\n",
              "          google.colab.kernel.accessAllowed ? 'block' : 'none';\n",
              "\n",
              "        async function convertToInteractive(key) {\n",
              "          const element = document.querySelector('#df-7db4838a-77a8-40b4-a0a5-88a4d1ed5fb1');\n",
              "          const dataTable =\n",
              "            await google.colab.kernel.invokeFunction('convertToInteractive',\n",
              "                                                     [key], {});\n",
              "          if (!dataTable) return;\n",
              "\n",
              "          const docLinkHtml = 'Like what you see? Visit the ' +\n",
              "            '<a target=\"_blank\" href=https://colab.research.google.com/notebooks/data_table.ipynb>data table notebook</a>'\n",
              "            + ' to learn more about interactive tables.';\n",
              "          element.innerHTML = '';\n",
              "          dataTable['output_type'] = 'display_data';\n",
              "          await google.colab.output.renderOutput(dataTable, element);\n",
              "          const docLink = document.createElement('div');\n",
              "          docLink.innerHTML = docLinkHtml;\n",
              "          element.appendChild(docLink);\n",
              "        }\n",
              "      </script>\n",
              "    </div>\n",
              "  </div>\n",
              "  "
            ]
          },
          "metadata": {},
          "execution_count": 20
        }
      ]
    },
    {
      "cell_type": "code",
      "source": [
        "plt.hist(products[(products['locale'] == 'UK') & (products['price'] < 2000)].price)"
      ],
      "metadata": {
        "id": "x25xwsq-rahE",
        "colab": {
          "base_uri": "https://localhost:8080/",
          "height": 517
        },
        "outputId": "67ba3f73-a41c-4843-d370-85a07d5e3656"
      },
      "execution_count": null,
      "outputs": [
        {
          "output_type": "execute_result",
          "data": {
            "text/plain": [
              "(array([4.69781e+05, 3.37300e+03, 7.93000e+02, 3.79000e+02, 2.35000e+02,\n",
              "        1.11000e+02, 8.30000e+01, 5.30000e+01, 3.20000e+01, 1.30000e+01]),\n",
              " array([   0.   ,  199.999,  399.998,  599.997,  799.996,  999.995,\n",
              "        1199.994, 1399.993, 1599.992, 1799.991, 1999.99 ]),\n",
              " <BarContainer object of 10 artists>)"
            ]
          },
          "metadata": {},
          "execution_count": 21
        },
        {
          "output_type": "display_data",
          "data": {
            "text/plain": [
              "<Figure size 640x480 with 1 Axes>"
            ],
            "image/png": "[encoded data removed]"
          },
          "metadata": {}
        }
      ]
    },
    {
      "cell_type": "code",
      "source": [
        "uk_product_sample = products[(products['locale'] == 'UK') & (products['price'] < 100000)].sample(100)\n",
        "uk_product_sample"
      ],
      "metadata": {
        "id": "Nwa4lMtk_mbc",
        "colab": {
          "base_uri": "https://localhost:8080/",
          "height": 423
        },
        "outputId": "d2093715-9805-47ec-d2d9-22863c87fd5e"
      },
      "execution_count": null,
      "outputs": [
        {
          "output_type": "execute_result",
          "data": {
            "text/plain": [
              "                 id locale                                              title  \\\n",
              "1059581  184990149X     UK  My Kitchen Table: 100 Cakes and Bakes (My Kitc...   \n",
              "1150238  B08Q15C2FB     UK  TRESemme Rich Moisture all-day hydration with ...   \n",
              "1399991  B09YHDLT2J     UK  2023 Diary A5 Week to View, Weekly & Monthly P...   \n",
              "1064355  B0BCP5PJQN     UK  LANDOT 6Pcs Nail Art Brushes Set, Nail Design ...   \n",
              "1011424  B01FULV4LW     UK  Veewon Silicone Pot Holder Oven Mini Mitt Cook...   \n",
              "...             ...    ...                                                ...   \n",
              "927410   B09DXVS518     UK  12 Pack Fruit Fly Traps, Double-sided Sticky F...   \n",
              "1378819  B09ZL4KS52     UK  JINYUDOME Blue Dusters Refills for Cleaning Di...   \n",
              "1176606  B07PTRHJWH     UK  Alphabet barn 1st Anniversary Plaque Wooden Gi...   \n",
              "1335892  B07TL9WJWX     UK  Ridge XT200 Pro Spin 360 Freestyle Stunt Scoot...   \n",
              "1084937  B0B4SLC32V     UK  Hot Wheels V6697 50 Diecast Car Pack and Mini ...   \n",
              "\n",
              "         price            brand             color                  size  \\\n",
              "1059581   4.49        BBC Books               NaN                   NaN   \n",
              "1150238   5.00         TRESEMME             WHITE    900 ml (Pack of 1)   \n",
              "1399991  11.99             ZXHQ               NaN  Flowers & Birds 2023   \n",
              "1064355   7.99        LANDOTPRO  Nail Pen Brushes                   NaN   \n",
              "1011424   6.99           Veewon               Red                   NaN   \n",
              "...        ...              ...               ...                   ...   \n",
              "927410    2.99            lohey           12 PACK                   NaN   \n",
              "1378819  16.99  Hangzhou jigeji             Blue1                     1   \n",
              "1176606   5.99    Alphabet Barn              Gold                1 year   \n",
              "1335892  99.99   Ridge Scooters    Full Neochrome                   NaN   \n",
              "1084937  77.98       Hot Wheels        Multicolor              1 - Pack   \n",
              "\n",
              "                     model   material       author  \\\n",
              "1059581                NaN        NaN  Berry, Mary   \n",
              "1150238             TRE247        NaN          NaN   \n",
              "1399991   ZXNLB2023ZLA0005        NaN          NaN   \n",
              "1064355                NaN        NaN          NaN   \n",
              "1011424                NaN        PVC          NaN   \n",
              "...                    ...        ...          ...   \n",
              "927410                 NaN      Paper          NaN   \n",
              "1378819                 20        NaN          NaN   \n",
              "1176606                NaN       Wood          NaN   \n",
              "1335892  XT200-101-FULLNEO  Aluminium          NaN   \n",
              "1084937              V6697      Metal          NaN   \n",
              "\n",
              "                                                      desc  \n",
              "1059581                                                NaN  \n",
              "1150238  After shampooing with Tresemme Rich Moisture S...  \n",
              "1399991  2023 Weekly & Monthly Diary: Week to view page...  \n",
              "1064355  💖【CONVENIENT DESIGN】Brush pen Macaron color, b...  \n",
              "1011424  Heat resistant pvc plastic gloves.Great additi...  \n",
              "...                                                    ...  \n",
              "927410   Comfortable Appearance & Easy to setup: Butter...  \n",
              "1378819  Dusting furniture, knick-knacks, bookshelves, ...  \n",
              "1176606  1st WEDDING ANNIVERSARY or PAPER ANNIVERSARY –...  \n",
              "1335892           ABEC 7 Bearings / Rider Max Weight 100kg  \n",
              "1084937                                            Age: 3+  \n",
              "\n",
              "[100 rows x 11 columns]"
            ],
            "text/html": [
              "\n",
              "  <div id=\"df-dadb3957-79ff-4589-9851-be3ef1092ca7\">\n",
              "    <div class=\"colab-df-container\">\n",
              "      <div>\n",
              "<style scoped>\n",
              "    .dataframe tbody tr th:only-of-type {\n",
              "        vertical-align: middle;\n",
              "    }\n",
              "\n",
              "    .dataframe tbody tr th {\n",
              "        vertical-align: top;\n",
              "    }\n",
              "\n",
              "    .dataframe thead th {\n",
              "        text-align: right;\n",
              "    }\n",
              "</style>\n",
              "<table border=\"1\" class=\"dataframe\">\n",
              "  <thead>\n",
              "    <tr style=\"text-align: right;\">\n",
              "      <th></th>\n",
              "      <th>id</th>\n",
              "      <th>locale</th>\n",
              "      <th>title</th>\n",
              "      <th>price</th>\n",
              "      <th>brand</th>\n",
              "      <th>color</th>\n",
              "      <th>size</th>\n",
              "      <th>model</th>\n",
              "      <th>material</th>\n",
              "      <th>author</th>\n",
              "      <th>desc</th>\n",
              "    </tr>\n",
              "  </thead>\n",
              "  <tbody>\n",
              "    <tr>\n",
              "      <th>1059581</th>\n",
              "      <td>184990149X</td>\n",
              "      <td>UK</td>\n",
              "      <td>My Kitchen Table: 100 Cakes and Bakes (My Kitc...</td>\n",
              "      <td>4.49</td>\n",
              "      <td>BBC Books</td>\n",
              "      <td>NaN</td>\n",
              "      <td>NaN</td>\n",
              "      <td>NaN</td>\n",
              "      <td>NaN</td>\n",
              "      <td>Berry, Mary</td>\n",
              "      <td>NaN</td>\n",
              "    </tr>\n",
              "    <tr>\n",
              "      <th>1150238</th>\n",
              "      <td>B08Q15C2FB</td>\n",
              "      <td>UK</td>\n",
              "      <td>TRESemme Rich Moisture all-day hydration with ...</td>\n",
              "      <td>5.00</td>\n",
              "      <td>TRESEMME</td>\n",
              "      <td>WHITE</td>\n",
              "      <td>900 ml (Pack of 1)</td>\n",
              "      <td>TRE247</td>\n",
              "      <td>NaN</td>\n",
              "      <td>NaN</td>\n",
              "      <td>After shampooing with Tresemme Rich Moisture S...</td>\n",
              "    </tr>\n",
              "    <tr>\n",
              "      <th>1399991</th>\n",
              "      <td>B09YHDLT2J</td>\n",
              "      <td>UK</td>\n",
              "      <td>2023 Diary A5 Week to View, Weekly &amp; Monthly P...</td>\n",
              "      <td>11.99</td>\n",
              "      <td>ZXHQ</td>\n",
              "      <td>NaN</td>\n",
              "      <td>Flowers &amp; Birds 2023</td>\n",
              "      <td>ZXNLB2023ZLA0005</td>\n",
              "      <td>NaN</td>\n",
              "      <td>NaN</td>\n",
              "      <td>2023 Weekly &amp; Monthly Diary: Week to view page...</td>\n",
              "    </tr>\n",
              "    <tr>\n",
              "      <th>1064355</th>\n",
              "      <td>B0BCP5PJQN</td>\n",
              "      <td>UK</td>\n",
              "      <td>LANDOT 6Pcs Nail Art Brushes Set, Nail Design ...</td>\n",
              "      <td>7.99</td>\n",
              "      <td>LANDOTPRO</td>\n",
              "      <td>Nail Pen Brushes</td>\n",
              "      <td>NaN</td>\n",
              "      <td>NaN</td>\n",
              "      <td>NaN</td>\n",
              "      <td>NaN</td>\n",
              "      <td>💖【CONVENIENT DESIGN】Brush pen Macaron color, b...</td>\n",
              "    </tr>\n",
              "    <tr>\n",
              "      <th>1011424</th>\n",
              "      <td>B01FULV4LW</td>\n",
              "      <td>UK</td>\n",
              "      <td>Veewon Silicone Pot Holder Oven Mini Mitt Cook...</td>\n",
              "      <td>6.99</td>\n",
              "      <td>Veewon</td>\n",
              "      <td>Red</td>\n",
              "      <td>NaN</td>\n",
              "      <td>NaN</td>\n",
              "      <td>PVC</td>\n",
              "      <td>NaN</td>\n",
              "      <td>Heat resistant pvc plastic gloves.Great additi...</td>\n",
              "    </tr>\n",
              "    <tr>\n",
              "      <th>...</th>\n",
              "      <td>...</td>\n",
              "      <td>...</td>\n",
              "      <td>...</td>\n",
              "      <td>...</td>\n",
              "      <td>...</td>\n",
              "      <td>...</td>\n",
              "      <td>...</td>\n",
              "      <td>...</td>\n",
              "      <td>...</td>\n",
              "      <td>...</td>\n",
              "      <td>...</td>\n",
              "    </tr>\n",
              "    <tr>\n",
              "      <th>927410</th>\n",
              "      <td>B09DXVS518</td>\n",
              "      <td>UK</td>\n",
              "      <td>12 Pack Fruit Fly Traps, Double-sided Sticky F...</td>\n",
              "      <td>2.99</td>\n",
              "      <td>lohey</td>\n",
              "      <td>12 PACK</td>\n",
              "      <td>NaN</td>\n",
              "      <td>NaN</td>\n",
              "      <td>Paper</td>\n",
              "      <td>NaN</td>\n",
              "      <td>Comfortable Appearance &amp; Easy to setup: Butter...</td>\n",
              "    </tr>\n",
              "    <tr>\n",
              "      <th>1378819</th>\n",
              "      <td>B09ZL4KS52</td>\n",
              "      <td>UK</td>\n",
              "      <td>JINYUDOME Blue Dusters Refills for Cleaning Di...</td>\n",
              "      <td>16.99</td>\n",
              "      <td>Hangzhou jigeji</td>\n",
              "      <td>Blue1</td>\n",
              "      <td>1</td>\n",
              "      <td>20</td>\n",
              "      <td>NaN</td>\n",
              "      <td>NaN</td>\n",
              "      <td>Dusting furniture, knick-knacks, bookshelves, ...</td>\n",
              "    </tr>\n",
              "    <tr>\n",
              "      <th>1176606</th>\n",
              "      <td>B07PTRHJWH</td>\n",
              "      <td>UK</td>\n",
              "      <td>Alphabet barn 1st Anniversary Plaque Wooden Gi...</td>\n",
              "      <td>5.99</td>\n",
              "      <td>Alphabet Barn</td>\n",
              "      <td>Gold</td>\n",
              "      <td>1 year</td>\n",
              "      <td>NaN</td>\n",
              "      <td>Wood</td>\n",
              "      <td>NaN</td>\n",
              "      <td>1st WEDDING ANNIVERSARY or PAPER ANNIVERSARY –...</td>\n",
              "    </tr>\n",
              "    <tr>\n",
              "      <th>1335892</th>\n",
              "      <td>B07TL9WJWX</td>\n",
              "      <td>UK</td>\n",
              "      <td>Ridge XT200 Pro Spin 360 Freestyle Stunt Scoot...</td>\n",
              "      <td>99.99</td>\n",
              "      <td>Ridge Scooters</td>\n",
              "      <td>Full Neochrome</td>\n",
              "      <td>NaN</td>\n",
              "      <td>XT200-101-FULLNEO</td>\n",
              "      <td>Aluminium</td>\n",
              "      <td>NaN</td>\n",
              "      <td>ABEC 7 Bearings / Rider Max Weight 100kg</td>\n",
              "    </tr>\n",
              "    <tr>\n",
              "      <th>1084937</th>\n",
              "      <td>B0B4SLC32V</td>\n",
              "      <td>UK</td>\n",
              "      <td>Hot Wheels V6697 50 Diecast Car Pack and Mini ...</td>\n",
              "      <td>77.98</td>\n",
              "      <td>Hot Wheels</td>\n",
              "      <td>Multicolor</td>\n",
              "      <td>1 - Pack</td>\n",
              "      <td>V6697</td>\n",
              "      <td>Metal</td>\n",
              "      <td>NaN</td>\n",
              "      <td>Age: 3+</td>\n",
              "    </tr>\n",
              "  </tbody>\n",
              "</table>\n",
              "<p>100 rows × 11 columns</p>\n",
              "</div>\n",
              "      <button class=\"colab-df-convert\" onclick=\"convertToInteractive('df-dadb3957-79ff-4589-9851-be3ef1092ca7')\"\n",
              "              title=\"Convert this dataframe to an interactive table.\"\n",
              "              style=\"display:none;\">\n",
              "        \n",
              "  <svg xmlns=\"http://www.w3.org/2000/svg\" height=\"24px\"viewBox=\"0 0 24 24\"\n",
              "       width=\"24px\">\n",
              "    <path d=\"M0 0h24v24H0V0z\" fill=\"none\"/>\n",
              "    <path d=\"M18.56 5.44l.94 2.06.94-2.06 2.06-.94-2.06-.94-.94-2.06-.94 2.06-2.06.94zm-11 1L8.5 8.5l.94-2.06 2.06-.94-2.06-.94L8.5 2.5l-.94 2.06-2.06.94zm10 10l.94 2.06.94-2.06 2.06-.94-2.06-.94-.94-2.06-.94 2.06-2.06.94z\"/><path d=\"M17.41 7.96l-1.37-1.37c-.4-.4-.92-.59-1.43-.59-.52 0-1.04.2-1.43.59L10.3 9.45l-7.72 7.72c-.78.78-.78 2.05 0 2.83L4 21.41c.39.39.9.59 1.41.59.51 0 1.02-.2 1.41-.59l7.78-7.78 2.81-2.81c.8-.78.8-2.07 0-2.86zM5.41 20L4 18.59l7.72-7.72 1.47 1.35L5.41 20z\"/>\n",
              "  </svg>\n",
              "      </button>\n",
              "      \n",
              "  <style>\n",
              "    .colab-df-container {\n",
              "      display:flex;\n",
              "      flex-wrap:wrap;\n",
              "      gap: 12px;\n",
              "    }\n",
              "\n",
              "    .colab-df-convert {\n",
              "      background-color: #E8F0FE;\n",
              "      border: none;\n",
              "      border-radius: 50%;\n",
              "      cursor: pointer;\n",
              "      display: none;\n",
              "      fill: #1967D2;\n",
              "      height: 32px;\n",
              "      padding: 0 0 0 0;\n",
              "      width: 32px;\n",
              "    }\n",
              "\n",
              "    .colab-df-convert:hover {\n",
              "      background-color: #E2EBFA;\n",
              "      box-shadow: 0px 1px 2px rgba(60, 64, 67, 0.3), 0px 1px 3px 1px rgba(60, 64, 67, 0.15);\n",
              "      fill: #174EA6;\n",
              "    }\n",
              "\n",
              "    [theme=dark] .colab-df-convert {\n",
              "      background-color: #3B4455;\n",
              "      fill: #D2E3FC;\n",
              "    }\n",
              "\n",
              "    [theme=dark] .colab-df-convert:hover {\n",
              "      background-color: #434B5C;\n",
              "      box-shadow: 0px 1px 3px 1px rgba(0, 0, 0, 0.15);\n",
              "      filter: drop-shadow(0px 1px 2px rgba(0, 0, 0, 0.3));\n",
              "      fill: #FFFFFF;\n",
              "    }\n",
              "  </style>\n",
              "\n",
              "      <script>\n",
              "        const buttonEl =\n",
              "          document.querySelector('#df-dadb3957-79ff-4589-9851-be3ef1092ca7 button.colab-df-convert');\n",
              "        buttonEl.style.display =\n",
              "          google.colab.kernel.accessAllowed ? 'block' : 'none';\n",
              "\n",
              "        async function convertToInteractive(key) {\n",
              "          const element = document.querySelector('#df-dadb3957-79ff-4589-9851-be3ef1092ca7');\n",
              "          const dataTable =\n",
              "            await google.colab.kernel.invokeFunction('convertToInteractive',\n",
              "                                                     [key], {});\n",
              "          if (!dataTable) return;\n",
              "\n",
              "          const docLinkHtml = 'Like what you see? Visit the ' +\n",
              "            '<a target=\"_blank\" href=https://colab.research.google.com/notebooks/data_table.ipynb>data table notebook</a>'\n",
              "            + ' to learn more about interactive tables.';\n",
              "          element.innerHTML = '';\n",
              "          dataTable['output_type'] = 'display_data';\n",
              "          await google.colab.output.renderOutput(dataTable, element);\n",
              "          const docLink = document.createElement('div');\n",
              "          docLink.innerHTML = docLinkHtml;\n",
              "          element.appendChild(docLink);\n",
              "        }\n",
              "      </script>\n",
              "    </div>\n",
              "  </div>\n",
              "  "
            ]
          },
          "metadata": {},
          "execution_count": 22
        }
      ]
    },
    {
      "cell_type": "code",
      "source": [
        "tfidf_vectorizer = TfidfVectorizer()"
      ],
      "metadata": {
        "id": "FmnDACq66hEx"
      },
      "execution_count": null,
      "outputs": []
    },
    {
      "cell_type": "code",
      "source": [
        "uk_product_titles = uk_product_sample.title"
      ],
      "metadata": {
        "id": "7rOblljh6zbm"
      },
      "execution_count": null,
      "outputs": []
    },
    {
      "cell_type": "code",
      "source": [
        "tfidf_matrix = tfidf_vectorizer.fit_transform(uk_product_titles)"
      ],
      "metadata": {
        "id": "ealJ0QyE7Ki6"
      },
      "execution_count": null,
      "outputs": []
    },
    {
      "cell_type": "code",
      "source": [
        "similarity_matrix = cosine_similarity(tfidf_matrix)"
      ],
      "metadata": {
        "id": "lenS70fE7Ua8"
      },
      "execution_count": null,
      "outputs": []
    },
    {
      "cell_type": "code",
      "source": [
        "similarity_matrix"
      ],
      "metadata": {
        "colab": {
          "base_uri": "https://localhost:8080/"
        },
        "id": "XZsHRVPD8H7S",
        "outputId": "5d7339d1-9883-4dfe-a385-0b931d5901a5"
      },
      "execution_count": null,
      "outputs": [
        {
          "output_type": "execute_result",
          "data": {
            "text/plain": [
              "array([[1.        , 0.        , 0.        , ..., 0.        , 0.        ,\n",
              "        0.        ],\n",
              "       [0.        , 1.        , 0.        , ..., 0.        , 0.        ,\n",
              "        0.10489951],\n",
              "       [0.        , 0.        , 1.        , ..., 0.        , 0.        ,\n",
              "        0.        ],\n",
              "       ...,\n",
              "       [0.        , 0.        , 0.        , ..., 1.        , 0.        ,\n",
              "        0.05445574],\n",
              "       [0.        , 0.        , 0.        , ..., 0.        , 1.        ,\n",
              "        0.        ],\n",
              "       [0.        , 0.10489951, 0.        , ..., 0.05445574, 0.        ,\n",
              "        1.        ]])"
            ]
          },
          "metadata": {},
          "execution_count": 14
        }
      ]
    },
    {
      "cell_type": "code",
      "source": [
        "plt.imshow(similarity_matrix, cmap='YlGnBu')\n",
        "plt.colorbar()\n",
        "plt.show()"
      ],
      "metadata": {
        "colab": {
          "base_uri": "https://localhost:8080/",
          "height": 435
        },
        "id": "NX3x8pwn7b60",
        "outputId": "8291b931-2eab-4203-dd3c-c51fc7b9e5d3"
      },
      "execution_count": null,
      "outputs": [
        {
          "output_type": "display_data",
          "data": {
            "text/plain": [
              "<Figure size 640x480 with 2 Axes>"
            ],
            "image/png": "[encoded data removed]"
          },
          "metadata": {}
        }
      ]
    },
    {
      "cell_type": "markdown",
      "source": [
        "## Train and Test Sessions"
      ],
      "metadata": {
        "id": "R9kTdD1bxrDp"
      }
    },
    {
      "cell_type": "code",
      "execution_count": null,
      "metadata": {
        "colab": {
          "base_uri": "https://localhost:8080/",
          "height": 206
        },
        "id": "S1S19qsFgk43",
        "outputId": "7911d7a4-a203-406b-8028-ae6a1eb3c955"
      },
      "outputs": [
        {
          "output_type": "execute_result",
          "data": {
            "text/plain": [
              "                                                prev_items   next_item locale\n",
              "3116859  ['B0925RQM9T' 'B0925T7MWM' 'B0925RLH8T' 'B08MV...  B08MVRDFF2     UK\n",
              "1838298                        ['B0B9W5SFX4' 'B0978RWNXM']  B000WMIQ48     JP\n",
              "1098977                        ['B07WKN8NQQ' 'B074XFMCXZ']  B00M49PJ1U     DE\n",
              "1415395                        ['B00LTKUNJS' 'B00LTKUK28']  B07KR61KM2     JP\n",
              "485655                         ['B08KRYTY5P' 'B00OKPGK4G']  B07KMF1N39     DE"
            ],
            "text/html": [
              "\n",
              "  <div id=\"df-0c728a62-3ae8-4ce8-9e34-451e8ef1bbe5\">\n",
              "    <div class=\"colab-df-container\">\n",
              "      <div>\n",
              "<style scoped>\n",
              "    .dataframe tbody tr th:only-of-type {\n",
              "        vertical-align: middle;\n",
              "    }\n",
              "\n",
              "    .dataframe tbody tr th {\n",
              "        vertical-align: top;\n",
              "    }\n",
              "\n",
              "    .dataframe thead th {\n",
              "        text-align: right;\n",
              "    }\n",
              "</style>\n",
              "<table border=\"1\" class=\"dataframe\">\n",
              "  <thead>\n",
              "    <tr style=\"text-align: right;\">\n",
              "      <th></th>\n",
              "      <th>prev_items</th>\n",
              "      <th>next_item</th>\n",
              "      <th>locale</th>\n",
              "    </tr>\n",
              "  </thead>\n",
              "  <tbody>\n",
              "    <tr>\n",
              "      <th>3116859</th>\n",
              "      <td>['B0925RQM9T' 'B0925T7MWM' 'B0925RLH8T' 'B08MV...</td>\n",
              "      <td>B08MVRDFF2</td>\n",
              "      <td>UK</td>\n",
              "    </tr>\n",
              "    <tr>\n",
              "      <th>1838298</th>\n",
              "      <td>['B0B9W5SFX4' 'B0978RWNXM']</td>\n",
              "      <td>B000WMIQ48</td>\n",
              "      <td>JP</td>\n",
              "    </tr>\n",
              "    <tr>\n",
              "      <th>1098977</th>\n",
              "      <td>['B07WKN8NQQ' 'B074XFMCXZ']</td>\n",
              "      <td>B00M49PJ1U</td>\n",
              "      <td>DE</td>\n",
              "    </tr>\n",
              "    <tr>\n",
              "      <th>1415395</th>\n",
              "      <td>['B00LTKUNJS' 'B00LTKUK28']</td>\n",
              "      <td>B07KR61KM2</td>\n",
              "      <td>JP</td>\n",
              "    </tr>\n",
              "    <tr>\n",
              "      <th>485655</th>\n",
              "      <td>['B08KRYTY5P' 'B00OKPGK4G']</td>\n",
              "      <td>B07KMF1N39</td>\n",
              "      <td>DE</td>\n",
              "    </tr>\n",
              "  </tbody>\n",
              "</table>\n",
              "</div>\n",
              "      <button class=\"colab-df-convert\" onclick=\"convertToInteractive('df-0c728a62-3ae8-4ce8-9e34-451e8ef1bbe5')\"\n",
              "              title=\"Convert this dataframe to an interactive table.\"\n",
              "              style=\"display:none;\">\n",
              "        \n",
              "  <svg xmlns=\"http://www.w3.org/2000/svg\" height=\"24px\"viewBox=\"0 0 24 24\"\n",
              "       width=\"24px\">\n",
              "    <path d=\"M0 0h24v24H0V0z\" fill=\"none\"/>\n",
              "    <path d=\"M18.56 5.44l.94 2.06.94-2.06 2.06-.94-2.06-.94-.94-2.06-.94 2.06-2.06.94zm-11 1L8.5 8.5l.94-2.06 2.06-.94-2.06-.94L8.5 2.5l-.94 2.06-2.06.94zm10 10l.94 2.06.94-2.06 2.06-.94-2.06-.94-.94-2.06-.94 2.06-2.06.94z\"/><path d=\"M17.41 7.96l-1.37-1.37c-.4-.4-.92-.59-1.43-.59-.52 0-1.04.2-1.43.59L10.3 9.45l-7.72 7.72c-.78.78-.78 2.05 0 2.83L4 21.41c.39.39.9.59 1.41.59.51 0 1.02-.2 1.41-.59l7.78-7.78 2.81-2.81c.8-.78.8-2.07 0-2.86zM5.41 20L4 18.59l7.72-7.72 1.47 1.35L5.41 20z\"/>\n",
              "  </svg>\n",
              "      </button>\n",
              "      \n",
              "  <style>\n",
              "    .colab-df-container {\n",
              "      display:flex;\n",
              "      flex-wrap:wrap;\n",
              "      gap: 12px;\n",
              "    }\n",
              "\n",
              "    .colab-df-convert {\n",
              "      background-color: #E8F0FE;\n",
              "      border: none;\n",
              "      border-radius: 50%;\n",
              "      cursor: pointer;\n",
              "      display: none;\n",
              "      fill: #1967D2;\n",
              "      height: 32px;\n",
              "      padding: 0 0 0 0;\n",
              "      width: 32px;\n",
              "    }\n",
              "\n",
              "    .colab-df-convert:hover {\n",
              "      background-color: #E2EBFA;\n",
              "      box-shadow: 0px 1px 2px rgba(60, 64, 67, 0.3), 0px 1px 3px 1px rgba(60, 64, 67, 0.15);\n",
              "      fill: #174EA6;\n",
              "    }\n",
              "\n",
              "    [theme=dark] .colab-df-convert {\n",
              "      background-color: #3B4455;\n",
              "      fill: #D2E3FC;\n",
              "    }\n",
              "\n",
              "    [theme=dark] .colab-df-convert:hover {\n",
              "      background-color: #434B5C;\n",
              "      box-shadow: 0px 1px 3px 1px rgba(0, 0, 0, 0.15);\n",
              "      filter: drop-shadow(0px 1px 2px rgba(0, 0, 0, 0.3));\n",
              "      fill: #FFFFFF;\n",
              "    }\n",
              "  </style>\n",
              "\n",
              "      <script>\n",
              "        const buttonEl =\n",
              "          document.querySelector('#df-0c728a62-3ae8-4ce8-9e34-451e8ef1bbe5 button.colab-df-convert');\n",
              "        buttonEl.style.display =\n",
              "          google.colab.kernel.accessAllowed ? 'block' : 'none';\n",
              "\n",
              "        async function convertToInteractive(key) {\n",
              "          const element = document.querySelector('#df-0c728a62-3ae8-4ce8-9e34-451e8ef1bbe5');\n",
              "          const dataTable =\n",
              "            await google.colab.kernel.invokeFunction('convertToInteractive',\n",
              "                                                     [key], {});\n",
              "          if (!dataTable) return;\n",
              "\n",
              "          const docLinkHtml = 'Like what you see? Visit the ' +\n",
              "            '<a target=\"_blank\" href=https://colab.research.google.com/notebooks/data_table.ipynb>data table notebook</a>'\n",
              "            + ' to learn more about interactive tables.';\n",
              "          element.innerHTML = '';\n",
              "          dataTable['output_type'] = 'display_data';\n",
              "          await google.colab.output.renderOutput(dataTable, element);\n",
              "          const docLink = document.createElement('div');\n",
              "          docLink.innerHTML = docLinkHtml;\n",
              "          element.appendChild(docLink);\n",
              "        }\n",
              "      </script>\n",
              "    </div>\n",
              "  </div>\n",
              "  "
            ]
          },
          "metadata": {},
          "execution_count": 22
        }
      ],
      "source": [
        "train_sessions = read_train_data()\n",
        "train_sessions.sample(5)"
      ]
    },
    {
      "cell_type": "code",
      "source": [
        "train_sessions.head(5)"
      ],
      "metadata": {
        "colab": {
          "base_uri": "https://localhost:8080/",
          "height": 206
        },
        "id": "z9Pq1Lwvds8i",
        "outputId": "4a9b4e48-e888-4c69-8b1e-42fc1499ba45"
      },
      "execution_count": null,
      "outputs": [
        {
          "output_type": "execute_result",
          "data": {
            "text/plain": [
              "                                          prev_items   next_item locale\n",
              "0                        ['B09W9FND7K' 'B09JSPLN1M']  B09M7GY217     DE\n",
              "1  ['B076THCGSG' 'B007MO8IME' 'B08MF65MLV' 'B001B...  B001B4THSA     DE\n",
              "2  ['B0B1LGXWDS' 'B00AZYORS2' 'B0B1LGXWDS' 'B00AZ...  B0767DTG2Q     DE\n",
              "3  ['B09XMTWDVT' 'B0B4MZZ8MB' 'B0B7HZ2GWX' 'B09XM...  B0B4R9NN4B     DE\n",
              "4           ['B09Y5CSL3T' 'B09Y5DPTXN' 'B09FKD61R8']  B0BGVBKWGZ     DE"
            ],
            "text/html": [
              "\n",
              "  <div id=\"df-d6524182-d052-4938-898e-38d337b52fad\">\n",
              "    <div class=\"colab-df-container\">\n",
              "      <div>\n",
              "<style scoped>\n",
              "    .dataframe tbody tr th:only-of-type {\n",
              "        vertical-align: middle;\n",
              "    }\n",
              "\n",
              "    .dataframe tbody tr th {\n",
              "        vertical-align: top;\n",
              "    }\n",
              "\n",
              "    .dataframe thead th {\n",
              "        text-align: right;\n",
              "    }\n",
              "</style>\n",
              "<table border=\"1\" class=\"dataframe\">\n",
              "  <thead>\n",
              "    <tr style=\"text-align: right;\">\n",
              "      <th></th>\n",
              "      <th>prev_items</th>\n",
              "      <th>next_item</th>\n",
              "      <th>locale</th>\n",
              "    </tr>\n",
              "  </thead>\n",
              "  <tbody>\n",
              "    <tr>\n",
              "      <th>0</th>\n",
              "      <td>['B09W9FND7K' 'B09JSPLN1M']</td>\n",
              "      <td>B09M7GY217</td>\n",
              "      <td>DE</td>\n",
              "    </tr>\n",
              "    <tr>\n",
              "      <th>1</th>\n",
              "      <td>['B076THCGSG' 'B007MO8IME' 'B08MF65MLV' 'B001B...</td>\n",
              "      <td>B001B4THSA</td>\n",
              "      <td>DE</td>\n",
              "    </tr>\n",
              "    <tr>\n",
              "      <th>2</th>\n",
              "      <td>['B0B1LGXWDS' 'B00AZYORS2' 'B0B1LGXWDS' 'B00AZ...</td>\n",
              "      <td>B0767DTG2Q</td>\n",
              "      <td>DE</td>\n",
              "    </tr>\n",
              "    <tr>\n",
              "      <th>3</th>\n",
              "      <td>['B09XMTWDVT' 'B0B4MZZ8MB' 'B0B7HZ2GWX' 'B09XM...</td>\n",
              "      <td>B0B4R9NN4B</td>\n",
              "      <td>DE</td>\n",
              "    </tr>\n",
              "    <tr>\n",
              "      <th>4</th>\n",
              "      <td>['B09Y5CSL3T' 'B09Y5DPTXN' 'B09FKD61R8']</td>\n",
              "      <td>B0BGVBKWGZ</td>\n",
              "      <td>DE</td>\n",
              "    </tr>\n",
              "  </tbody>\n",
              "</table>\n",
              "</div>\n",
              "      <button class=\"colab-df-convert\" onclick=\"convertToInteractive('df-d6524182-d052-4938-898e-38d337b52fad')\"\n",
              "              title=\"Convert this dataframe to an interactive table.\"\n",
              "              style=\"display:none;\">\n",
              "        \n",
              "  <svg xmlns=\"http://www.w3.org/2000/svg\" height=\"24px\"viewBox=\"0 0 24 24\"\n",
              "       width=\"24px\">\n",
              "    <path d=\"M0 0h24v24H0V0z\" fill=\"none\"/>\n",
              "    <path d=\"M18.56 5.44l.94 2.06.94-2.06 2.06-.94-2.06-.94-.94-2.06-.94 2.06-2.06.94zm-11 1L8.5 8.5l.94-2.06 2.06-.94-2.06-.94L8.5 2.5l-.94 2.06-2.06.94zm10 10l.94 2.06.94-2.06 2.06-.94-2.06-.94-.94-2.06-.94 2.06-2.06.94z\"/><path d=\"M17.41 7.96l-1.37-1.37c-.4-.4-.92-.59-1.43-.59-.52 0-1.04.2-1.43.59L10.3 9.45l-7.72 7.72c-.78.78-.78 2.05 0 2.83L4 21.41c.39.39.9.59 1.41.59.51 0 1.02-.2 1.41-.59l7.78-7.78 2.81-2.81c.8-.78.8-2.07 0-2.86zM5.41 20L4 18.59l7.72-7.72 1.47 1.35L5.41 20z\"/>\n",
              "  </svg>\n",
              "      </button>\n",
              "      \n",
              "  <style>\n",
              "    .colab-df-container {\n",
              "      display:flex;\n",
              "      flex-wrap:wrap;\n",
              "      gap: 12px;\n",
              "    }\n",
              "\n",
              "    .colab-df-convert {\n",
              "      background-color: #E8F0FE;\n",
              "      border: none;\n",
              "      border-radius: 50%;\n",
              "      cursor: pointer;\n",
              "      display: none;\n",
              "      fill: #1967D2;\n",
              "      height: 32px;\n",
              "      padding: 0 0 0 0;\n",
              "      width: 32px;\n",
              "    }\n",
              "\n",
              "    .colab-df-convert:hover {\n",
              "      background-color: #E2EBFA;\n",
              "      box-shadow: 0px 1px 2px rgba(60, 64, 67, 0.3), 0px 1px 3px 1px rgba(60, 64, 67, 0.15);\n",
              "      fill: #174EA6;\n",
              "    }\n",
              "\n",
              "    [theme=dark] .colab-df-convert {\n",
              "      background-color: #3B4455;\n",
              "      fill: #D2E3FC;\n",
              "    }\n",
              "\n",
              "    [theme=dark] .colab-df-convert:hover {\n",
              "      background-color: #434B5C;\n",
              "      box-shadow: 0px 1px 3px 1px rgba(0, 0, 0, 0.15);\n",
              "      filter: drop-shadow(0px 1px 2px rgba(0, 0, 0, 0.3));\n",
              "      fill: #FFFFFF;\n",
              "    }\n",
              "  </style>\n",
              "\n",
              "      <script>\n",
              "        const buttonEl =\n",
              "          document.querySelector('#df-d6524182-d052-4938-898e-38d337b52fad button.colab-df-convert');\n",
              "        buttonEl.style.display =\n",
              "          google.colab.kernel.accessAllowed ? 'block' : 'none';\n",
              "\n",
              "        async function convertToInteractive(key) {\n",
              "          const element = document.querySelector('#df-d6524182-d052-4938-898e-38d337b52fad');\n",
              "          const dataTable =\n",
              "            await google.colab.kernel.invokeFunction('convertToInteractive',\n",
              "                                                     [key], {});\n",
              "          if (!dataTable) return;\n",
              "\n",
              "          const docLinkHtml = 'Like what you see? Visit the ' +\n",
              "            '<a target=\"_blank\" href=https://colab.research.google.com/notebooks/data_table.ipynb>data table notebook</a>'\n",
              "            + ' to learn more about interactive tables.';\n",
              "          element.innerHTML = '';\n",
              "          dataTable['output_type'] = 'display_data';\n",
              "          await google.colab.output.renderOutput(dataTable, element);\n",
              "          const docLink = document.createElement('div');\n",
              "          docLink.innerHTML = docLinkHtml;\n",
              "          element.appendChild(docLink);\n",
              "        }\n",
              "      </script>\n",
              "    </div>\n",
              "  </div>\n",
              "  "
            ]
          },
          "metadata": {},
          "execution_count": 23
        }
      ]
    },
    {
      "cell_type": "code",
      "source": [
        "train_sessions['prev_items'].str.strip(\"[']\").str.replace(\"\\n\", \"\").str.split(\"' '\")"
      ],
      "metadata": {
        "colab": {
          "base_uri": "https://localhost:8080/"
        },
        "id": "2IJ0jep_dan9",
        "outputId": "9609c5cb-b440-45e4-ccdd-6bc3b26506b9"
      },
      "execution_count": null,
      "outputs": [
        {
          "output_type": "execute_result",
          "data": {
            "text/plain": [
              "0                                   [B09W9FND7K, B09JSPLN1M]\n",
              "1           [B076THCGSG, B007MO8IME, B08MF65MLV, B001B4TKA0]\n",
              "2          [B0B1LGXWDS, B00AZYORS2, B0B1LGXWDS, B00AZYORS...\n",
              "3          [B09XMTWDVT, B0B4MZZ8MB, B0B7HZ2GWX, B09XMTWDV...\n",
              "4                       [B09Y5CSL3T, B09Y5DPTXN, B09FKD61R8]\n",
              "                                 ...                        \n",
              "3606244                 [B086CYFSKW, B0874F9859, B086CYFSKW]\n",
              "3606245                             [B09NRZKZ7V, B08WJTPV93]\n",
              "3606246                             [B085JFX7MP, B085JGHW8R]\n",
              "3606247                             [B00B0UING2, B00B0UING2]\n",
              "3606248     [B092S9D1SD, B09XQQ1S72, B0852MS7QC, B0B1V43MN1]\n",
              "Name: prev_items, Length: 3606249, dtype: object"
            ]
          },
          "metadata": {},
          "execution_count": 25
        }
      ]
    },
    {
      "cell_type": "code",
      "source": [
        "train_sessions.info()"
      ],
      "metadata": {
        "colab": {
          "base_uri": "https://localhost:8080/"
        },
        "id": "AifpVPNWx2ff",
        "outputId": "316ed87f-bdcf-4611-f59e-dbf1127583fd"
      },
      "execution_count": null,
      "outputs": [
        {
          "output_type": "stream",
          "name": "stdout",
          "text": [
            "<class 'pandas.core.frame.DataFrame'>\n",
            "RangeIndex: 3606249 entries, 0 to 3606248\n",
            "Data columns (total 3 columns):\n",
            " #   Column      Dtype \n",
            "---  ------      ----- \n",
            " 0   prev_items  object\n",
            " 1   next_item   object\n",
            " 2   locale      object\n",
            "dtypes: object(3)\n",
            "memory usage: 82.5+ MB\n"
          ]
        }
      ]
    },
    {
      "cell_type": "code",
      "source": [
        "def string2list(list_):\n",
        "  list_ = list_.replace(' ', ',') \n",
        "  list_ = list_.replace('\\'', '\"')\n",
        "  list_ = list_.replace('\\n', '')\n",
        "  list_ = list_.replace('\\r', '')\n",
        "\n",
        "  return list_"
      ],
      "metadata": {
        "id": "C3beG40t5uF8"
      },
      "execution_count": null,
      "outputs": []
    },
    {
      "cell_type": "code",
      "source": [
        "train_sessions['prev_items'] = train_sessions['prev_items'].apply(string2list).apply(lambda sess: len(sess))"
      ],
      "metadata": {
        "id": "E-DUzT6uzWqK"
      },
      "execution_count": null,
      "outputs": []
    },
    {
      "cell_type": "code",
      "source": [
        "train_sessions['prev_items']"
      ],
      "metadata": {
        "colab": {
          "base_uri": "https://localhost:8080/"
        },
        "id": "pMhlXxcweIQN",
        "outputId": "ffacddac-af67-41c0-df3f-c35fca9cce27"
      },
      "execution_count": null,
      "outputs": [
        {
          "output_type": "execute_result",
          "data": {
            "text/plain": [
              "0           27\n",
              "1           53\n",
              "2          118\n",
              "3           92\n",
              "4           40\n",
              "          ... \n",
              "3606244     40\n",
              "3606245     27\n",
              "3606246     27\n",
              "3606247     27\n",
              "3606248     53\n",
              "Name: prev_items, Length: 3606249, dtype: int64"
            ]
          },
          "metadata": {},
          "execution_count": 26
        }
      ]
    },
    {
      "cell_type": "code",
      "source": [
        "train_sessions['prev_items'].value_counts()"
      ],
      "metadata": {
        "id": "bbf61zBpHi-y",
        "colab": {
          "base_uri": "https://localhost:8080/"
        },
        "outputId": "b2421b6a-95bd-42cb-854d-8220e2e8a161"
      },
      "execution_count": null,
      "outputs": [
        {
          "output_type": "execute_result",
          "data": {
            "text/plain": [
              "27      1349564\n",
              "40       746720\n",
              "53       462070\n",
              "66       296836\n",
              "79       200392\n",
              "         ...   \n",
              "1327          1\n",
              "1132          1\n",
              "1548          1\n",
              "1678          1\n",
              "2614          1\n",
              "Name: prev_items, Length: 134, dtype: int64"
            ]
          },
          "metadata": {},
          "execution_count": 25
        }
      ]
    },
    {
      "cell_type": "code",
      "source": [
        "train_sessions['prev_items'].apply(lambda x: len(x))"
      ],
      "metadata": {
        "colab": {
          "base_uri": "https://localhost:8080/"
        },
        "id": "2TnIwSe6JQME",
        "outputId": "06fa7915-be3c-40fb-aa11-8085c0e6e1fe"
      },
      "execution_count": null,
      "outputs": [
        {
          "output_type": "execute_result",
          "data": {
            "text/plain": [
              "0           27\n",
              "1           53\n",
              "2          119\n",
              "3           93\n",
              "4           40\n",
              "          ... \n",
              "3606244     40\n",
              "3606245     27\n",
              "3606246     27\n",
              "3606247     27\n",
              "3606248     53\n",
              "Name: prev_items, Length: 3606249, dtype: int64"
            ]
          },
          "metadata": {},
          "execution_count": 39
        }
      ]
    },
    {
      "cell_type": "code",
      "source": [
        "prev_items_expanded = train_sessions['prev_items'].apply(pd.Series)"
      ],
      "metadata": {
        "id": "3ZeAfBx19XBJ"
      },
      "execution_count": null,
      "outputs": []
    },
    {
      "cell_type": "code",
      "source": [
        "prev_items_expanded"
      ],
      "metadata": {
        "id": "rgmaBwCRBqkV"
      },
      "execution_count": null,
      "outputs": []
    },
    {
      "cell_type": "code",
      "source": [
        "train_sessions_de = train_sessions.loc[train_sessions['locale'] == 'DE']\n",
        "train_sessions_uk = train_sessions.loc[train_sessions['locale'] == 'UK']\n",
        "train_sessions_jp = train_sessions.loc[train_sessions['locale'] == 'JP']"
      ],
      "metadata": {
        "id": "8OTYcLZVx8Vz"
      },
      "execution_count": null,
      "outputs": []
    },
    {
      "cell_type": "code",
      "source": [
        "train_sessions_de"
      ],
      "metadata": {
        "id": "fwFXV_orzNTN"
      },
      "execution_count": null,
      "outputs": []
    },
    {
      "cell_type": "code",
      "execution_count": null,
      "metadata": {
        "colab": {
          "base_uri": "https://localhost:8080/",
          "height": 206
        },
        "id": "tbllmbaEgmBg",
        "outputId": "c83ff766-618c-4560-a7e4-3c6c175b4c7c"
      },
      "outputs": [
        {
          "output_type": "execute_result",
          "data": {
            "text/plain": [
              "                                               prev_items locale\n",
              "3553    ['B01IBL6MPQ' 'B00M35Y2MC' 'B01IBL6MPQ' 'B01LY...     DE\n",
              "206329                        ['B07KYPW8RS' 'B07KYNWX7X']     UK\n",
              "234067  ['B0B1LKLC18' 'B09WXZYN7C' 'B0875CTMGH' 'B07Z9...     UK\n",
              "188509  ['B09ZPH4TPR' 'B09ZPHB6GG' 'B087JSP6ZZ' 'B07MF...     JP\n",
              "18027                         ['B00GUYHCME' 'B09L1D6BSC']     DE"
            ],
            "text/html": [
              "\n",
              "  <div id=\"df-533adfde-88e6-4177-80d1-f4b00cac1893\">\n",
              "    <div class=\"colab-df-container\">\n",
              "      <div>\n",
              "<style scoped>\n",
              "    .dataframe tbody tr th:only-of-type {\n",
              "        vertical-align: middle;\n",
              "    }\n",
              "\n",
              "    .dataframe tbody tr th {\n",
              "        vertical-align: top;\n",
              "    }\n",
              "\n",
              "    .dataframe thead th {\n",
              "        text-align: right;\n",
              "    }\n",
              "</style>\n",
              "<table border=\"1\" class=\"dataframe\">\n",
              "  <thead>\n",
              "    <tr style=\"text-align: right;\">\n",
              "      <th></th>\n",
              "      <th>prev_items</th>\n",
              "      <th>locale</th>\n",
              "    </tr>\n",
              "  </thead>\n",
              "  <tbody>\n",
              "    <tr>\n",
              "      <th>3553</th>\n",
              "      <td>['B01IBL6MPQ' 'B00M35Y2MC' 'B01IBL6MPQ' 'B01LY...</td>\n",
              "      <td>DE</td>\n",
              "    </tr>\n",
              "    <tr>\n",
              "      <th>206329</th>\n",
              "      <td>['B07KYPW8RS' 'B07KYNWX7X']</td>\n",
              "      <td>UK</td>\n",
              "    </tr>\n",
              "    <tr>\n",
              "      <th>234067</th>\n",
              "      <td>['B0B1LKLC18' 'B09WXZYN7C' 'B0875CTMGH' 'B07Z9...</td>\n",
              "      <td>UK</td>\n",
              "    </tr>\n",
              "    <tr>\n",
              "      <th>188509</th>\n",
              "      <td>['B09ZPH4TPR' 'B09ZPHB6GG' 'B087JSP6ZZ' 'B07MF...</td>\n",
              "      <td>JP</td>\n",
              "    </tr>\n",
              "    <tr>\n",
              "      <th>18027</th>\n",
              "      <td>['B00GUYHCME' 'B09L1D6BSC']</td>\n",
              "      <td>DE</td>\n",
              "    </tr>\n",
              "  </tbody>\n",
              "</table>\n",
              "</div>\n",
              "      <button class=\"colab-df-convert\" onclick=\"convertToInteractive('df-533adfde-88e6-4177-80d1-f4b00cac1893')\"\n",
              "              title=\"Convert this dataframe to an interactive table.\"\n",
              "              style=\"display:none;\">\n",
              "        \n",
              "  <svg xmlns=\"http://www.w3.org/2000/svg\" height=\"24px\"viewBox=\"0 0 24 24\"\n",
              "       width=\"24px\">\n",
              "    <path d=\"M0 0h24v24H0V0z\" fill=\"none\"/>\n",
              "    <path d=\"M18.56 5.44l.94 2.06.94-2.06 2.06-.94-2.06-.94-.94-2.06-.94 2.06-2.06.94zm-11 1L8.5 8.5l.94-2.06 2.06-.94-2.06-.94L8.5 2.5l-.94 2.06-2.06.94zm10 10l.94 2.06.94-2.06 2.06-.94-2.06-.94-.94-2.06-.94 2.06-2.06.94z\"/><path d=\"M17.41 7.96l-1.37-1.37c-.4-.4-.92-.59-1.43-.59-.52 0-1.04.2-1.43.59L10.3 9.45l-7.72 7.72c-.78.78-.78 2.05 0 2.83L4 21.41c.39.39.9.59 1.41.59.51 0 1.02-.2 1.41-.59l7.78-7.78 2.81-2.81c.8-.78.8-2.07 0-2.86zM5.41 20L4 18.59l7.72-7.72 1.47 1.35L5.41 20z\"/>\n",
              "  </svg>\n",
              "      </button>\n",
              "      \n",
              "  <style>\n",
              "    .colab-df-container {\n",
              "      display:flex;\n",
              "      flex-wrap:wrap;\n",
              "      gap: 12px;\n",
              "    }\n",
              "\n",
              "    .colab-df-convert {\n",
              "      background-color: #E8F0FE;\n",
              "      border: none;\n",
              "      border-radius: 50%;\n",
              "      cursor: pointer;\n",
              "      display: none;\n",
              "      fill: #1967D2;\n",
              "      height: 32px;\n",
              "      padding: 0 0 0 0;\n",
              "      width: 32px;\n",
              "    }\n",
              "\n",
              "    .colab-df-convert:hover {\n",
              "      background-color: #E2EBFA;\n",
              "      box-shadow: 0px 1px 2px rgba(60, 64, 67, 0.3), 0px 1px 3px 1px rgba(60, 64, 67, 0.15);\n",
              "      fill: #174EA6;\n",
              "    }\n",
              "\n",
              "    [theme=dark] .colab-df-convert {\n",
              "      background-color: #3B4455;\n",
              "      fill: #D2E3FC;\n",
              "    }\n",
              "\n",
              "    [theme=dark] .colab-df-convert:hover {\n",
              "      background-color: #434B5C;\n",
              "      box-shadow: 0px 1px 3px 1px rgba(0, 0, 0, 0.15);\n",
              "      filter: drop-shadow(0px 1px 2px rgba(0, 0, 0, 0.3));\n",
              "      fill: #FFFFFF;\n",
              "    }\n",
              "  </style>\n",
              "\n",
              "      <script>\n",
              "        const buttonEl =\n",
              "          document.querySelector('#df-533adfde-88e6-4177-80d1-f4b00cac1893 button.colab-df-convert');\n",
              "        buttonEl.style.display =\n",
              "          google.colab.kernel.accessAllowed ? 'block' : 'none';\n",
              "\n",
              "        async function convertToInteractive(key) {\n",
              "          const element = document.querySelector('#df-533adfde-88e6-4177-80d1-f4b00cac1893');\n",
              "          const dataTable =\n",
              "            await google.colab.kernel.invokeFunction('convertToInteractive',\n",
              "                                                     [key], {});\n",
              "          if (!dataTable) return;\n",
              "\n",
              "          const docLinkHtml = 'Like what you see? Visit the ' +\n",
              "            '<a target=\"_blank\" href=https://colab.research.google.com/notebooks/data_table.ipynb>data table notebook</a>'\n",
              "            + ' to learn more about interactive tables.';\n",
              "          element.innerHTML = '';\n",
              "          dataTable['output_type'] = 'display_data';\n",
              "          await google.colab.output.renderOutput(dataTable, element);\n",
              "          const docLink = document.createElement('div');\n",
              "          docLink.innerHTML = docLinkHtml;\n",
              "          element.appendChild(docLink);\n",
              "        }\n",
              "      </script>\n",
              "    </div>\n",
              "  </div>\n",
              "  "
            ]
          },
          "metadata": {},
          "execution_count": 11
        }
      ],
      "source": [
        "test_sessions = read_test_data(task)\n",
        "test_sessions.sample(5)"
      ]
    },
    {
      "cell_type": "markdown",
      "source": [
        "# Preprocessing and Prediction\n",
        "\n",
        "### Note \n",
        "\n",
        "Approach and methods used in the following are drawn from the following articel:\n",
        "https://www.pinecone.io/learn/faiss-tutorial/\n",
        "\n",
        "Function for dimensionality reduction used: https://scikit-learn.org/stable/modules/generated/sklearn.decomposition.TruncatedSVD.html"
      ],
      "metadata": {
        "id": "xBVdCccHrqTU"
      }
    },
    {
      "cell_type": "code",
      "source": [
        "!apt install libomp-dev\n",
        "!pip install faiss-gpu # if you don't have a NVIDA GPU use pip install faiss\n"
      ],
      "metadata": {
        "colab": {
          "base_uri": "https://localhost:8080/"
        },
        "id": "2_j75Whrv7za",
        "outputId": "9c20c033-52ba-4624-cfc7-74221350bd74"
      },
      "execution_count": null,
      "outputs": [
        {
          "output_type": "stream",
          "name": "stdout",
          "text": [
            "Reading package lists... Done\n",
            "Building dependency tree       \n",
            "Reading state information... Done\n",
            "libomp-dev is already the newest version (1:10.0-50~exp1).\n",
            "0 upgraded, 0 newly installed, 0 to remove and 24 not upgraded.\n",
            "Looking in indexes: https://pypi.org/simple, https://us-python.pkg.dev/colab-wheels/public/simple/\n",
            "Requirement already satisfied: faiss-gpu in /usr/local/lib/python3.9/dist-packages (1.7.2)\n"
          ]
        }
      ]
    },
    {
      "cell_type": "code",
      "source": [
        "import faiss"
      ],
      "metadata": {
        "id": "siuZsJj4-vrr"
      },
      "execution_count": null,
      "outputs": []
    },
    {
      "cell_type": "code",
      "source": [
        "products['title'].head(5)"
      ],
      "metadata": {
        "colab": {
          "base_uri": "https://localhost:8080/"
        },
        "id": "MUq5Ih709CbX",
        "outputId": "c22ede1b-4abb-40bc-fac7-ef0390e3346b"
      },
      "execution_count": null,
      "outputs": [
        {
          "output_type": "execute_result",
          "data": {
            "text/plain": [
              "0    RED DRAGON Amberjack 3 - Steel Tip 22 Gramm Wo...\n",
              "1    Simply Keto Lower Carb* Schokodrops ohne Zucke...\n",
              "2    Sennheiser 508377 PC 5.2 Chat, Stilvolles Mult...\n",
              "3    AmyBenton Auto ab 1 2 3 ahre - Baby Aufziehbar...\n",
              "4        PLAYMOBIL - 70522 - Cavaliere mit grauem Pony\n",
              "Name: title, dtype: object"
            ]
          },
          "metadata": {},
          "execution_count": 11
        }
      ]
    },
    {
      "cell_type": "code",
      "source": [
        "products = products[~products['locale'].isin(['ES', 'FR', 'IT'])].loc[:, ['id', 'locale', 'title']]"
      ],
      "metadata": {
        "id": "bzrtYy7p9Liv"
      },
      "execution_count": null,
      "outputs": []
    },
    {
      "cell_type": "code",
      "source": [
        "products_de = products[products['locale'] == 'DE']"
      ],
      "metadata": {
        "id": "GlBqEFZbheE_"
      },
      "execution_count": null,
      "outputs": []
    },
    {
      "cell_type": "code",
      "source": [
        "products_de.info()"
      ],
      "metadata": {
        "colab": {
          "base_uri": "https://localhost:8080/"
        },
        "id": "iIwRDFhAVwIp",
        "outputId": "9bf27fcb-8fe2-41b0-80ed-f48eac75d4ea"
      },
      "execution_count": null,
      "outputs": [
        {
          "output_type": "stream",
          "name": "stdout",
          "text": [
            "<class 'pandas.core.frame.DataFrame'>\n",
            "Int64Index: 518327 entries, 0 to 518326\n",
            "Data columns (total 3 columns):\n",
            " #   Column  Non-Null Count   Dtype \n",
            "---  ------  --------------   ----- \n",
            " 0   id      518327 non-null  object\n",
            " 1   locale  518327 non-null  object\n",
            " 2   title   518327 non-null  object\n",
            "dtypes: object(3)\n",
            "memory usage: 15.8+ MB\n"
          ]
        }
      ]
    },
    {
      "cell_type": "code",
      "source": [
        "tfidf_vectorizer = TfidfVectorizer()"
      ],
      "metadata": {
        "id": "6lClPXcp9dD4"
      },
      "execution_count": null,
      "outputs": []
    },
    {
      "cell_type": "code",
      "source": [
        "title_vectors_de = tfidf_vectorizer.fit_transform(products_de['title'].fillna(''))"
      ],
      "metadata": {
        "id": "_MOcKAKJ-KiH"
      },
      "execution_count": null,
      "outputs": []
    },
    {
      "cell_type": "code",
      "source": [
        "!nvidia-smi\n"
      ],
      "metadata": {
        "colab": {
          "base_uri": "https://localhost:8080/"
        },
        "id": "2YFfh_IC_oIo",
        "outputId": "d77e5a12-c185-426f-8d51-88504ecdefb8"
      },
      "execution_count": null,
      "outputs": [
        {
          "output_type": "stream",
          "name": "stdout",
          "text": [
            "Mon Apr 24 18:05:31 2023       \n",
            "+-----------------------------------------------------------------------------+\n",
            "| NVIDIA-SMI 525.85.12    Driver Version: 525.85.12    CUDA Version: 12.0     |\n",
            "|-------------------------------+----------------------+----------------------+\n",
            "| GPU  Name        Persistence-M| Bus-Id        Disp.A | Volatile Uncorr. ECC |\n",
            "| Fan  Temp  Perf  Pwr:Usage/Cap|         Memory-Usage | GPU-Util  Compute M. |\n",
            "|                               |                      |               MIG M. |\n",
            "|===============================+======================+======================|\n",
            "|   0  Tesla T4            Off  | 00000000:00:04.0 Off |                    0 |\n",
            "| N/A   60C    P8    10W /  70W |      0MiB / 15360MiB |      0%      Default |\n",
            "|                               |                      |                  N/A |\n",
            "+-------------------------------+----------------------+----------------------+\n",
            "                                                                               \n",
            "+-----------------------------------------------------------------------------+\n",
            "| Processes:                                                                  |\n",
            "|  GPU   GI   CI        PID   Type   Process name                  GPU Memory |\n",
            "|        ID   ID                                                   Usage      |\n",
            "|=============================================================================|\n",
            "|  No running processes found                                                 |\n",
            "+-----------------------------------------------------------------------------+\n"
          ]
        }
      ]
    },
    {
      "cell_type": "code",
      "source": [
        "title_vectors_de.shape"
      ],
      "metadata": {
        "colab": {
          "base_uri": "https://localhost:8080/"
        },
        "id": "Kw7KsGrKBBgg",
        "outputId": "cc145433-6980-4330-e5c8-69f27c338df7"
      },
      "execution_count": null,
      "outputs": [
        {
          "output_type": "execute_result",
          "data": {
            "text/plain": [
              "(518327, 326988)"
            ]
          },
          "metadata": {},
          "execution_count": 18
        }
      ]
    },
    {
      "cell_type": "code",
      "source": [
        "from sklearn.decomposition import TruncatedSVD"
      ],
      "metadata": {
        "id": "rvq1or8wfTQA"
      },
      "execution_count": null,
      "outputs": []
    },
    {
      "cell_type": "code",
      "source": [
        "svd = TruncatedSVD(n_components=100)\n",
        "tfidf_reduced = svd.fit_transform(title_vectors_de)"
      ],
      "metadata": {
        "id": "W14Fm-MAfUeE"
      },
      "execution_count": null,
      "outputs": []
    },
    {
      "cell_type": "code",
      "source": [
        "dim = tfidf_reduced.shape[1]"
      ],
      "metadata": {
        "id": "3LGLfVIb_Gyl"
      },
      "execution_count": null,
      "outputs": []
    },
    {
      "cell_type": "code",
      "source": [
        "# get possible no. of centroids in final vector\n",
        "for n in range(1, 101):\n",
        "  modulo = dim % n\n",
        "  if modulo == 0:\n",
        "    print(n)"
      ],
      "metadata": {
        "colab": {
          "base_uri": "https://localhost:8080/"
        },
        "id": "G-CMqLZDS9ZI",
        "outputId": "72dd1530-551d-457c-ef7a-8e9c0cd00837"
      },
      "execution_count": null,
      "outputs": [
        {
          "output_type": "stream",
          "name": "stdout",
          "text": [
            "1\n",
            "2\n",
            "4\n",
            "5\n",
            "10\n",
            "20\n",
            "25\n",
            "50\n",
            "100\n"
          ]
        }
      ]
    },
    {
      "cell_type": "code",
      "source": [
        "dim"
      ],
      "metadata": {
        "colab": {
          "base_uri": "https://localhost:8080/"
        },
        "id": "uNnJhA4shgrG",
        "outputId": "4c57fa20-521d-4639-b57d-8c7367e0c91c"
      },
      "execution_count": null,
      "outputs": [
        {
          "output_type": "execute_result",
          "data": {
            "text/plain": [
              "100"
            ]
          },
          "metadata": {},
          "execution_count": 23
        }
      ]
    },
    {
      "cell_type": "code",
      "source": [
        "nlist = 100 # number of voronoi cells, i.e. partitions of vectors in a search space\n",
        "m = 20 # number of centroids in the final vector, d must be a multiple of m - see for loop in previous cell\n",
        "bits = 8 # some parameter which may need to be adjusted depending on the other parameters for it to work (however don't quite understand what it actually does) - 8 bits seems to be fine\n",
        "quantizer = faiss.IndexFlatL2(dim) # intermediate step needed to later get back the \"real\" index of a vector, while searching the index"
      ],
      "metadata": {
        "id": "fUL0GK_LM2Th"
      },
      "execution_count": null,
      "outputs": []
    },
    {
      "cell_type": "code",
      "source": [
        "# the chosen index needs to be trained as it clusters sub-splits of vectors\n",
        "# training the index on the whole tfidf-vector-matrix is not feasable, we need to sample and train on a sample\n",
        "num_samples = 10000\n",
        "sample_indices = np.random.choice(tfidf_reduced.shape[0], num_samples, replace=False)\n",
        "sample_vectors = tfidf_reduced[sample_indices]"
      ],
      "metadata": {
        "id": "GQ1Ak4YUbQaw"
      },
      "execution_count": null,
      "outputs": []
    },
    {
      "cell_type": "code",
      "source": [
        "sample_vectors.shape[1]"
      ],
      "metadata": {
        "colab": {
          "base_uri": "https://localhost:8080/"
        },
        "id": "nEx8T7r4mlus",
        "outputId": "432ea8b9-2125-4bd1-8da9-b74598528869"
      },
      "execution_count": null,
      "outputs": [
        {
          "output_type": "execute_result",
          "data": {
            "text/plain": [
              "100"
            ]
          },
          "metadata": {},
          "execution_count": 26
        }
      ]
    },
    {
      "cell_type": "code",
      "source": [
        "index_cpu = faiss.IndexIVFPQ(quantizer, dim, nlist, m, bits)\n",
        "index_gpu = faiss.index_cpu_to_gpu(faiss.StandardGpuResources(), 0, index_cpu) # not needed for cpu only"
      ],
      "metadata": {
        "id": "1LYo1dZXIooJ"
      },
      "execution_count": null,
      "outputs": []
    },
    {
      "cell_type": "code",
      "source": [
        "index_gpu.is_trained"
      ],
      "metadata": {
        "colab": {
          "base_uri": "https://localhost:8080/"
        },
        "id": "dMhkGA5-W-Up",
        "outputId": "bd6016dc-5417-4879-ebe9-c2d4981d2927"
      },
      "execution_count": null,
      "outputs": [
        {
          "output_type": "execute_result",
          "data": {
            "text/plain": [
              "False"
            ]
          },
          "metadata": {},
          "execution_count": 28
        }
      ]
    },
    {
      "cell_type": "code",
      "source": [
        "# train index\n",
        "index_gpu.train(sample_vectors.astype('float32'))"
      ],
      "metadata": {
        "id": "woK59lmhNXY1"
      },
      "execution_count": null,
      "outputs": []
    },
    {
      "cell_type": "code",
      "source": [
        "index_gpu.is_trained"
      ],
      "metadata": {
        "colab": {
          "base_uri": "https://localhost:8080/"
        },
        "id": "iVyUMhcjZ504",
        "outputId": "a9b87efb-6bb1-45c7-f338-84ec55e15fba"
      },
      "execution_count": null,
      "outputs": [
        {
          "output_type": "execute_result",
          "data": {
            "text/plain": [
              "True"
            ]
          },
          "metadata": {},
          "execution_count": 30
        }
      ]
    },
    {
      "cell_type": "code",
      "source": [
        "index_gpu.add(tfidf_reduced.astype('float32')) # add vectors to the index"
      ],
      "metadata": {
        "id": "SCsQSb5oJa-I"
      },
      "execution_count": null,
      "outputs": []
    },
    {
      "cell_type": "code",
      "source": [
        "search_query = [\"PLAYMOBIL - 70522 - Cavaliere mit grauem Pony\"] # input for our prediction\n",
        "xq = tfidf_vectorizer.transform(search_query) # transform to shape needed\n",
        "xq_transformed = svd.transform(xq).astype('float32') # transform to shape needed\n",
        "k = 100 # number of nearest neighbours to be searched in the index"
      ],
      "metadata": {
        "id": "G_iGzY6To9Qx"
      },
      "execution_count": null,
      "outputs": []
    },
    {
      "cell_type": "code",
      "source": [
        "xq.shape"
      ],
      "metadata": {
        "colab": {
          "base_uri": "https://localhost:8080/"
        },
        "id": "yusBVAStsVlb",
        "outputId": "63806172-0d90-4d45-fa06-525261f9d458"
      },
      "execution_count": null,
      "outputs": [
        {
          "output_type": "execute_result",
          "data": {
            "text/plain": [
              "(1, 326988)"
            ]
          },
          "metadata": {},
          "execution_count": 33
        }
      ]
    },
    {
      "cell_type": "code",
      "source": [
        "D, I = index_gpu.search(xq_transformed, k) # search index with a search query xq"
      ],
      "metadata": {
        "id": "dQYBGlNvo05r"
      },
      "execution_count": null,
      "outputs": []
    },
    {
      "cell_type": "code",
      "source": [
        "print(I)"
      ],
      "metadata": {
        "colab": {
          "base_uri": "https://localhost:8080/"
        },
        "id": "Af9Bd_QYdC9n",
        "outputId": "5acfba48-b506-4c81-c6f2-0be96b33bd83"
      },
      "execution_count": null,
      "outputs": [
        {
          "output_type": "stream",
          "name": "stdout",
          "text": [
            "[[     4 490480 120306 488475 243448  85545 433488 269577 147701 294046\n",
            "   87867 438126 453478 107823 355422 358185 185062 211151  44500 504294\n",
            "  314623 482606  89068 391820 456366 263204 340205 263996  50147 351725\n",
            "  505678 282086 266150   8321 301704 382171 287861  92411 358042 227101\n",
            "  236209 304482 369682 335797 132502 191289 370701 368756  53513  62500\n",
            "  336146  51081  76389 150096  84726 497387 475182 220597 486071 195138\n",
            "   50244 344001 450647 434939 490520 138078 517385 271146  98895 413056\n",
            "  461797 334218  57538 435610   1839 358365  94439 517384 388329 252357\n",
            "  103351 345594  34556 119635 329026 152676 280982 298286 417074  61746\n",
            "   11564   6016 247297 404635 308611  29463 451348 219432 351895 506064]]\n"
          ]
        }
      ]
    },
    {
      "cell_type": "code",
      "source": [
        "[f\"{i}: {products_de.loc[i]['title']}\" for i in I[0]]"
      ],
      "metadata": {
        "colab": {
          "base_uri": "https://localhost:8080/"
        },
        "id": "9vgKJwpDdIBp",
        "outputId": "65fed92f-7721-4bd2-bcad-159cdd2f73e1"
      },
      "execution_count": null,
      "outputs": [
        {
          "output_type": "execute_result",
          "data": {
            "text/plain": [
              "['4: PLAYMOBIL - 70522 - Cavaliere mit grauem Pony',\n",
              " '490480: PLAYMOBIL - 70521 - Cavaliere mit beigem Pony',\n",
              " '120306: Schleich 41431 - Pferdepflegerin mit Island Pony Stute',\n",
              " '488475: PLAYMOBIL 1.2.3 - 70402 - Fee mit Kitz',\n",
              " '243448: PLAYMOBIL 70098 - Meerjungfrau mit Meeresschnecke',\n",
              " '85545: PLAYMOBIL 70060 - Reiter mit Pony',\n",
              " '433488: Playmobil 6879 - Ganoven-Quad mit Seilwinde',\n",
              " '269577: Playmobil 5187 - Polizei-Truck mit Speedboot',\n",
              " '147701: Playmobil 6657 - Kinderklinik mit Einrichtung',\n",
              " '294046: PLAYMOBIL® 70987 Poolparty mit Rutsche',\n",
              " '87867: PLAYMOBIL® 70609 Aqua Park mit Rutschen',\n",
              " '438126: PLAYMOBIL Summer Fun 6669 Aquapark mit Rutschentower',\n",
              " '453478: PLAYMOBIL - 70709 - SCOOBY-DOO mit dunklem Ritter',\n",
              " '107823: Play-Doh Kitchen Creations Pizzabäckerei Spielset mit 6 Dosen 8 Accessoires',\n",
              " '355422: PLAYMOBIL® 70744 Speedboot mit Unterwassermotor',\n",
              " '358185: PLAYMOBIL - 70820 - Stuntshow-Starterpaket mit Rampe',\n",
              " '185062: Playmobil 5176 - Polizei-Kommandostation mit Alarmanlage',\n",
              " '211151: Playmobil 9289 Königspavillon mit Pegasus-Kutsche',\n",
              " '44500: PLAYMOBIL® 70637 Fangspaß mit Meerestierchen',\n",
              " '504294: PLAYMOBIL - 70710 - SCOOBY-DOO mit Clowngeist',\n",
              " '314623: PLAYMOBIL 70343 L�wenfamilie mit Vegetation',\n",
              " '482606: Playmobil 6356 2 Rinder mit Kälbchen (Folienverpackung)',\n",
              " '89068: Playmobil 9248 - Drago mit Donnerklaue',\n",
              " '391820: PLAYMOBIL - 70435 - Bungalow mit Swimmingpool',\n",
              " '456366: PLAYMOBIL® 70635 Badeinsel mit Wasserrutsche',\n",
              " '263204: Playmobil 5336 - Einbauküche mit Sitzecke',\n",
              " '340205: PLAYMOBIL® 70741 Abenteuerspielplatz mit Schiffswrack',\n",
              " '263996: PLAYMOBIL® 70610 Spaßbecken mit Wasserspritze',\n",
              " '50147: PLAYMOBIL® 4041 - Förderanlage mit Kompaktlader',\n",
              " '351725: Playmobil 6813 - Holztransporter mit Kran',\n",
              " '505678: Playmobil 4344 - Tierpflegestation mit Freigehege',\n",
              " '282086: PLAYMOBIL 6339 2 Bauarbeiter mit Folienverpackung',\n",
              " '266150: PLAYMOBIL - 70806 - AYUMA - Waldfee mit Lieblingstier',\n",
              " '8321: PLAYMOBIL - 70802 - AYUMA - Ritterfee mit Lieblingstier',\n",
              " '301704: PLAYMOBIL - 70706 - SCOOBY-DOO mit Snow Specter',\n",
              " '382171: PLAYMOBIL 9830 Seilbahn mit Bergstation (Folienverpackung)',\n",
              " '287861: PLAYMOBIL 70909 Agenten-Starterpaket mit Feuerskorpion',\n",
              " '92411: Schleich 42496 - Panzerkröte mit Waffe',\n",
              " '358042: Playmobil 5444 - Feeninsel mit magischer Edelsteinquelle',\n",
              " '227101: Schleich 42448 - Eismonster mit Waffe',\n",
              " '236209: PLAYMOBIL 1.2.3 - 70269 - Wasserschaukel mit Gie�kanne',\n",
              " '304482: BRIO Bahn 33888 - Güterzug mit Frachtladung',\n",
              " '369682: Deutschbuch Gymnasium - Bayern - Neubearbeitung - 6. Jahrgangsstufe: Schulaufgabentrainer mit Lösungen',\n",
              " '335797: Deutschbuch Gymnasium - Bayern - Neubearbeitung - 5. Jahrgangsstufe: Schulaufgabentrainer mit Lösungen',\n",
              " '132502: Piatnik 2802 - Kartenmischmaschine mit Schlitten',\n",
              " '191289: L.O.L. Surprise! Disco-Haus – Virtuelles Sammelspiel mit Puppen',\n",
              " '370701: PLAYMOBIL 70095 - Leuchtende Muschel mit Sirenen',\n",
              " '368756: PLAYMOBIL® 70611 Kinderbecken mit Whirlpool',\n",
              " '53513: PLAYMOBIL 70997 Partydeko mit Ponys',\n",
              " '62500: Crea Stempelset Smiley mit 4 Smile Stempeln',\n",
              " '336146: Beko WDPS742GS Kondenstrockner mit Wärmepumpentechnologie',\n",
              " '51081: wolfcraft 3406301 Bohrständer mit Schraubstock',\n",
              " '76389: GEAR- FLON Hochleistungsfett mit Teflon',\n",
              " '150096: Vogelhaus, Vogelhäuschen behandelt mit Bitumschindeln',\n",
              " '84726: Blaue Eule: Lenormandkarten mit Kartenabbildungen',\n",
              " '497387: Mirácoli Fertiggerichte Maccaroni mit Tomatensauce 3 Portionen, 360g',\n",
              " '475182: Yummeez Small Bones Hundesnack mit Hohem Fleischanteil, 175 g',\n",
              " '220597: Handgelenktrainer mit einstellbarem Widerstand Unterarmtrainer Handtrainer',\n",
              " '486071: Gizeh Slimfilter 6mm mit Klebefläche (20x120)',\n",
              " '195138: Komm mit mir: Milliardär Liebesromane',\n",
              " '50244: Playmobil 5120 - Bauernhaus mit Hofladen',\n",
              " '344001: Mathematik aktuell 5 BDS Verlag Arbeitsheft mit Lösungen',\n",
              " '450647: Dickie Toys 203342008 - Polizeikelle mit Lichtfunktion',\n",
              " '434939: Ex-Gangster-Komödie mit rasanter Action',\n",
              " '490520: Christian Tanner 0932.3 - Großes Sortiment mit Holzteilen',\n",
              " '138078: Hempbed Hanfeinstreu 15kg mit Eukalyptus',\n",
              " '517385: Igelrolle mit langem Stiel Massageroller Rückenmassage',\n",
              " '271146: Schnellkochtopf mit Bügel Ø22cm 6L CLASSIQUE',\n",
              " '98895: Schluss – mit lustig!: Wahre Wiener Begräbnisgeschichten',\n",
              " '413056: Schnellkochtopf mit Bajonettverschluss Ø24cm 10L ILLICO',\n",
              " '461797: Schnellkochtopf mit Bügel Ø24cm 8L CLASSIQUE',\n",
              " '334218: Katzenstreu Flamingo mit Babypuderduft Sparpack 2x15kg',\n",
              " '57538: Europa Parkscheibe Parkuhr mit Benzinrechner',\n",
              " '435610: Blind Date mit einem Rocker. Rockerroman',\n",
              " '1839: Spielpl�tzeWir mit Rutsche',\n",
              " '358365: Gardena 5570 Waschbürste mit weichen Borsten',\n",
              " '94439: Playtastic Sparschwein: Tresor-Spardose mit Zahlenschloss (Sparbox)',\n",
              " '517384: Playmobil 9438 - Sonnenfee mit Einhornfohlen Spiel',\n",
              " '388329: PLAYMOBIL 1.2.3 - 70409 - Arbeiter mit Schubkarre',\n",
              " '252357: PLAYMOBIL® 70682 Ponys mit Fohlen',\n",
              " '103351: Barbie Ferienhaus mit Puppe + Glam Cabrio',\n",
              " '345594: Schleich 42447 - Lava Golem & 42448 - Eismonster mit Waffe',\n",
              " '34556: PLAYMOBIL® 70612 Paddleboot-Verleih mit Saftbar',\n",
              " '119635: PLAYMOBIL 70905 AYUMA Starterpaket Ritterfee mit Waschb�r',\n",
              " '329026: PLAYMOBIL® 70772 Gabelstapler mit Fracht & ® 70774 Containerfertigung',\n",
              " '152676: Wiesenknopf Kaninchenfutter 4,5kg Strukturfutter mit Kräuter',\n",
              " '280982: Amed Professionelles Analoges Aneroid Blutdruckmessgerät mit Stethoskop',\n",
              " '298286: Kitchenaid 5KN1PS Spritzschutz mit Einfüllschütte',\n",
              " \"417074: Cahier d'activités mit Mediensammlung 2. Lernjahr\",\n",
              " '61746: SHD Tierabwehrspray mit Lichtmodul 40ml',\n",
              " '11564: Clever knobeln - mit Köpfchen. Standardspiel',\n",
              " '6016: FELIWAY Help! Nachfüllset, mit 3 Pheromonkartuschen',\n",
              " \"247297: Cahier d'activités mit Mediensammlung 5. Lernjahr\",\n",
              " \"404635: Cahier d'activités mit Mediensammlung 1. Lernjahr\",\n",
              " '308611: Meermomente mit Zuckerguss: Romantische Komödie',\n",
              " '29463: DREISTERN Gemüseeintopf mit Schweinefleisch, 1200 g',\n",
              " '451348: DREISTERN Kartoffeleintopf mit Schweinefleisch, 1200 g',\n",
              " '219432: Verlobt mit dem Herzlosen Herzensbrecher',\n",
              " '351895: Ausgezeichnet mit dem Pulitzer Prize 1953',\n",
              " '506064: Woozle Goozle - Experimente mit Wumms!']"
            ]
          },
          "metadata": {},
          "execution_count": 49
        }
      ]
    },
    {
      "cell_type": "markdown",
      "source": [
        "# TO-DO\n",
        "\n",
        "1. Function: Searches for the title of products in a session of a user and processes it as an input for the search in the index\n",
        "2. Function: Creates the ANN index for a locale\n",
        "3. Function: Predicts the next 100 items for each session in a locale"
      ],
      "metadata": {
        "id": "0M5t1IHkrksA"
      }
    },
    {
      "cell_type": "markdown",
      "metadata": {
        "id": "yJoalTbYgnnp"
      },
      "source": [
        "## Generate Submission 🏋️‍♀️\n",
        "\n",
        "\n",
        "\n",
        "Submission format:\n",
        "1. The submission should be a **parquet** file with the sessions from all the locales. \n",
        "2. Predicted products ids per locale should only be a valid product id of that locale. \n",
        "3. Predictions should be added in new column named **\"next_item_prediction\"**.\n",
        "4. Predictions should be a list of string id values"
      ]
    },
    {
      "cell_type": "code",
      "execution_count": null,
      "metadata": {
        "id": "B3zsYp_Jgn_J"
      },
      "outputs": [],
      "source": [
        "def random_predicitons(locale, sess_test_locale):\n",
        "    random_state = np.random.RandomState(42)\n",
        "    products = read_product_data().query(f'locale == \"{locale}\"')\n",
        "    predictions = []\n",
        "    for _ in range(len(sess_test_locale)):\n",
        "        predictions.append(\n",
        "            list(products['id'].sample(PREDS_PER_SESSION, replace=True, random_state=random_state))\n",
        "        ) \n",
        "    sess_test_locale['next_item_prediction'] = predictions\n",
        "    sess_test_locale.drop('prev_items', inplace=True, axis=1)\n",
        "    return sess_test_locale"
      ]
    },
    {
      "cell_type": "code",
      "execution_count": null,
      "metadata": {
        "colab": {
          "base_uri": "https://localhost:8080/",
          "height": 206
        },
        "id": "mv6TZEFqgrFu",
        "outputId": "528ea05c-c83a-4bf6-8f87-f34d8bfce85f"
      },
      "outputs": [
        {
          "output_type": "execute_result",
          "data": {
            "text/plain": [
              "       locale                               next_item_prediction\n",
              "197622     JP  [B0B3JKGTBH, B07WFD1L1R, B0B1N2FMMG, B0BLJSMWJ...\n",
              "108611     JP  [B07WV5GXPB, B0B7DS3HQL, B0866HDFTS, B009GQYDX...\n",
              "284074     UK  [B09BB5SPR3, B0816CXMSZ, B08JV76967, B08MW68KC...\n",
              "34652      DE  [B007H6POYW, B08M5GZGFT, B08JQZMFL7, B0BKP9BSL...\n",
              "268639     UK  [B06XCGCKG7, B0B9NXKN54, B091YX63K7, B00Z65X1G..."
            ],
            "text/html": [
              "\n",
              "  <div id=\"df-43303668-60d3-40e4-b5b5-b7890e9a9a29\">\n",
              "    <div class=\"colab-df-container\">\n",
              "      <div>\n",
              "<style scoped>\n",
              "    .dataframe tbody tr th:only-of-type {\n",
              "        vertical-align: middle;\n",
              "    }\n",
              "\n",
              "    .dataframe tbody tr th {\n",
              "        vertical-align: top;\n",
              "    }\n",
              "\n",
              "    .dataframe thead th {\n",
              "        text-align: right;\n",
              "    }\n",
              "</style>\n",
              "<table border=\"1\" class=\"dataframe\">\n",
              "  <thead>\n",
              "    <tr style=\"text-align: right;\">\n",
              "      <th></th>\n",
              "      <th>locale</th>\n",
              "      <th>next_item_prediction</th>\n",
              "    </tr>\n",
              "  </thead>\n",
              "  <tbody>\n",
              "    <tr>\n",
              "      <th>197622</th>\n",
              "      <td>JP</td>\n",
              "      <td>[B0B3JKGTBH, B07WFD1L1R, B0B1N2FMMG, B0BLJSMWJ...</td>\n",
              "    </tr>\n",
              "    <tr>\n",
              "      <th>108611</th>\n",
              "      <td>JP</td>\n",
              "      <td>[B07WV5GXPB, B0B7DS3HQL, B0866HDFTS, B009GQYDX...</td>\n",
              "    </tr>\n",
              "    <tr>\n",
              "      <th>284074</th>\n",
              "      <td>UK</td>\n",
              "      <td>[B09BB5SPR3, B0816CXMSZ, B08JV76967, B08MW68KC...</td>\n",
              "    </tr>\n",
              "    <tr>\n",
              "      <th>34652</th>\n",
              "      <td>DE</td>\n",
              "      <td>[B007H6POYW, B08M5GZGFT, B08JQZMFL7, B0BKP9BSL...</td>\n",
              "    </tr>\n",
              "    <tr>\n",
              "      <th>268639</th>\n",
              "      <td>UK</td>\n",
              "      <td>[B06XCGCKG7, B0B9NXKN54, B091YX63K7, B00Z65X1G...</td>\n",
              "    </tr>\n",
              "  </tbody>\n",
              "</table>\n",
              "</div>\n",
              "      <button class=\"colab-df-convert\" onclick=\"convertToInteractive('df-43303668-60d3-40e4-b5b5-b7890e9a9a29')\"\n",
              "              title=\"Convert this dataframe to an interactive table.\"\n",
              "              style=\"display:none;\">\n",
              "        \n",
              "  <svg xmlns=\"http://www.w3.org/2000/svg\" height=\"24px\"viewBox=\"0 0 24 24\"\n",
              "       width=\"24px\">\n",
              "    <path d=\"M0 0h24v24H0V0z\" fill=\"none\"/>\n",
              "    <path d=\"M18.56 5.44l.94 2.06.94-2.06 2.06-.94-2.06-.94-.94-2.06-.94 2.06-2.06.94zm-11 1L8.5 8.5l.94-2.06 2.06-.94-2.06-.94L8.5 2.5l-.94 2.06-2.06.94zm10 10l.94 2.06.94-2.06 2.06-.94-2.06-.94-.94-2.06-.94 2.06-2.06.94z\"/><path d=\"M17.41 7.96l-1.37-1.37c-.4-.4-.92-.59-1.43-.59-.52 0-1.04.2-1.43.59L10.3 9.45l-7.72 7.72c-.78.78-.78 2.05 0 2.83L4 21.41c.39.39.9.59 1.41.59.51 0 1.02-.2 1.41-.59l7.78-7.78 2.81-2.81c.8-.78.8-2.07 0-2.86zM5.41 20L4 18.59l7.72-7.72 1.47 1.35L5.41 20z\"/>\n",
              "  </svg>\n",
              "      </button>\n",
              "      \n",
              "  <style>\n",
              "    .colab-df-container {\n",
              "      display:flex;\n",
              "      flex-wrap:wrap;\n",
              "      gap: 12px;\n",
              "    }\n",
              "\n",
              "    .colab-df-convert {\n",
              "      background-color: #E8F0FE;\n",
              "      border: none;\n",
              "      border-radius: 50%;\n",
              "      cursor: pointer;\n",
              "      display: none;\n",
              "      fill: #1967D2;\n",
              "      height: 32px;\n",
              "      padding: 0 0 0 0;\n",
              "      width: 32px;\n",
              "    }\n",
              "\n",
              "    .colab-df-convert:hover {\n",
              "      background-color: #E2EBFA;\n",
              "      box-shadow: 0px 1px 2px rgba(60, 64, 67, 0.3), 0px 1px 3px 1px rgba(60, 64, 67, 0.15);\n",
              "      fill: #174EA6;\n",
              "    }\n",
              "\n",
              "    [theme=dark] .colab-df-convert {\n",
              "      background-color: #3B4455;\n",
              "      fill: #D2E3FC;\n",
              "    }\n",
              "\n",
              "    [theme=dark] .colab-df-convert:hover {\n",
              "      background-color: #434B5C;\n",
              "      box-shadow: 0px 1px 3px 1px rgba(0, 0, 0, 0.15);\n",
              "      filter: drop-shadow(0px 1px 2px rgba(0, 0, 0, 0.3));\n",
              "      fill: #FFFFFF;\n",
              "    }\n",
              "  </style>\n",
              "\n",
              "      <script>\n",
              "        const buttonEl =\n",
              "          document.querySelector('#df-43303668-60d3-40e4-b5b5-b7890e9a9a29 button.colab-df-convert');\n",
              "        buttonEl.style.display =\n",
              "          google.colab.kernel.accessAllowed ? 'block' : 'none';\n",
              "\n",
              "        async function convertToInteractive(key) {\n",
              "          const element = document.querySelector('#df-43303668-60d3-40e4-b5b5-b7890e9a9a29');\n",
              "          const dataTable =\n",
              "            await google.colab.kernel.invokeFunction('convertToInteractive',\n",
              "                                                     [key], {});\n",
              "          if (!dataTable) return;\n",
              "\n",
              "          const docLinkHtml = 'Like what you see? Visit the ' +\n",
              "            '<a target=\"_blank\" href=https://colab.research.google.com/notebooks/data_table.ipynb>data table notebook</a>'\n",
              "            + ' to learn more about interactive tables.';\n",
              "          element.innerHTML = '';\n",
              "          dataTable['output_type'] = 'display_data';\n",
              "          await google.colab.output.renderOutput(dataTable, element);\n",
              "          const docLink = document.createElement('div');\n",
              "          docLink.innerHTML = docLinkHtml;\n",
              "          element.appendChild(docLink);\n",
              "        }\n",
              "      </script>\n",
              "    </div>\n",
              "  </div>\n",
              "  "
            ]
          },
          "metadata": {},
          "execution_count": 17
        }
      ],
      "source": [
        "test_sessions = read_test_data(task)\n",
        "predictions = []\n",
        "test_locale_names = test_sessions['locale'].unique()\n",
        "for locale in test_locale_names:\n",
        "    sess_test_locale = test_sessions.query(f'locale == \"{locale}\"').copy()\n",
        "    predictions.append(\n",
        "        random_predicitons(locale, sess_test_locale)\n",
        "    )\n",
        "predictions = pd.concat(predictions).reset_index(drop=True)\n",
        "predictions.sample(5)"
      ]
    },
    {
      "cell_type": "markdown",
      "source": [
        "# Validate predictions ✅"
      ],
      "metadata": {
        "id": "vNB90dXKlZkR"
      }
    },
    {
      "cell_type": "code",
      "execution_count": null,
      "metadata": {
        "id": "B1XKTojogtF2"
      },
      "outputs": [],
      "source": [
        "def check_predictions(predictions, check_products=False):\n",
        "    \"\"\"\n",
        "    These tests need to pass as they will also be applied on the evaluator\n",
        "    \"\"\"\n",
        "    test_locale_names = test_sessions['locale'].unique()\n",
        "    for locale in test_locale_names:\n",
        "        sess_test = test_sessions.query(f'locale == \"{locale}\"')\n",
        "        preds_locale =  predictions[predictions['locale'] == sess_test['locale'].iloc[0]]\n",
        "        assert sorted(preds_locale.index.values) == sorted(sess_test.index.values), f\"Session ids of {locale} doesn't match\"\n",
        "\n",
        "        if check_products:\n",
        "            # This check is not done on the evaluator\n",
        "            # but you can run it to verify there is no mixing of products between locales\n",
        "            # Since the ground truth next item will always belong to the same locale\n",
        "            # Warning - This can be slow to run\n",
        "            products = read_product_data().query(f'locale == \"{locale}\"')\n",
        "            predicted_products = np.unique( np.array(list(preds_locale[\"next_item_prediction\"].values)) )\n",
        "            assert np.all( np.isin(predicted_products, products['id']) ), f\"Invalid products in {locale} predictions\""
      ]
    },
    {
      "cell_type": "code",
      "execution_count": null,
      "metadata": {
        "id": "FJA368Gzguk7"
      },
      "outputs": [],
      "source": [
        "check_predictions(predictions)"
      ]
    },
    {
      "cell_type": "code",
      "execution_count": null,
      "metadata": {
        "id": "1dTvU5VOgv0j"
      },
      "outputs": [],
      "source": [
        "# Its important that the parquet file you submit is saved with pyarrow backend\n",
        "predictions.to_parquet(f'submission_{task}.parquet', engine='pyarrow')"
      ]
    },
    {
      "cell_type": "markdown",
      "metadata": {
        "id": "dVrZ_TfnjL09"
      },
      "source": [
        "## Submit to AIcrowd 🚀"
      ]
    },
    {
      "cell_type": "code",
      "execution_count": null,
      "metadata": {
        "id": "rd9OYWEgixPZ"
      },
      "outputs": [],
      "source": [
        "# You can submit with aicrowd-cli, or upload manually on the challenge page.\n",
        "!aicrowd submission create -c task-1-next-product-recommendation -f \"submission_task1.parquet\""
      ]
    }
  ],
  "metadata": {
    "colab": {
      "provenance": [],
      "gpuType": "T4"
    },
    "kernelspec": {
      "display_name": "Python 3",
      "name": "python3"
    },
    "language_info": {
      "name": "python"
    },
    "accelerator": "GPU",
    "gpuClass": "standard"
  },
  "nbformat": 4,
  "nbformat_minor": 0
}