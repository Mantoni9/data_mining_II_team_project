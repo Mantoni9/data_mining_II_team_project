{
 "cells": [
  {
   "cell_type": "markdown",
   "id": "3de0026b-392e-497e-b144-e7275c53c882",
   "metadata": {},
   "source": [
    "# FAISS Predictions"
   ]
  },
  {
   "cell_type": "code",
   "execution_count": 1,
   "id": "5c24999d-0630-4db0-be5b-0cdca295e4e9",
   "metadata": {
    "tags": []
   },
   "outputs": [],
   "source": [
    "import pandas as pd\n",
    "import numpy as np"
   ]
  },
  {
   "cell_type": "code",
   "execution_count": 2,
   "id": "2f8509b0-4a03-4a9f-baa4-a34bf2c070ab",
   "metadata": {
    "tags": []
   },
   "outputs": [
    {
     "data": {
      "text/html": [
       "<div>\n",
       "<style scoped>\n",
       "    .dataframe tbody tr th:only-of-type {\n",
       "        vertical-align: middle;\n",
       "    }\n",
       "\n",
       "    .dataframe tbody tr th {\n",
       "        vertical-align: top;\n",
       "    }\n",
       "\n",
       "    .dataframe thead th {\n",
       "        text-align: right;\n",
       "    }\n",
       "</style>\n",
       "<table border=\"1\" class=\"dataframe\">\n",
       "  <thead>\n",
       "    <tr style=\"text-align: right;\">\n",
       "      <th></th>\n",
       "      <th>prev_items</th>\n",
       "      <th>locale</th>\n",
       "      <th>next_item</th>\n",
       "    </tr>\n",
       "  </thead>\n",
       "  <tbody>\n",
       "    <tr>\n",
       "      <th>0</th>\n",
       "      <td>['B08V12CT4C', 'B08V1KXBQD', 'B01BVG1XJS', 'B0...</td>\n",
       "      <td>DE</td>\n",
       "      <td>['B08V1KXBQD', 'B07TV22X9M', 'B08V12CT4C', 'B0...</td>\n",
       "    </tr>\n",
       "    <tr>\n",
       "      <th>1</th>\n",
       "      <td>['B00R9R5ND6', 'B00R9RZ9ZS', 'B00R9RZ9ZS']</td>\n",
       "      <td>DE</td>\n",
       "      <td>['B00R9RZ9ZS', 'B00R9R5ND6', 'B095TL42FL', '37...</td>\n",
       "    </tr>\n",
       "    <tr>\n",
       "      <th>2</th>\n",
       "      <td>['B07YSRXJD3', 'B07G7Q5N6G', 'B08C9Q7QVK', 'B0...</td>\n",
       "      <td>DE</td>\n",
       "      <td>['B07G7Q5N6G', 'B08C9Q7QVK', 'B099277D7Q', 'B0...</td>\n",
       "    </tr>\n",
       "    <tr>\n",
       "      <th>3</th>\n",
       "      <td>['B08KQBYV43', '3955350843', '3955350843', '39...</td>\n",
       "      <td>DE</td>\n",
       "      <td>['3741524131', '3955350878', '395535086X', 'B0...</td>\n",
       "    </tr>\n",
       "    <tr>\n",
       "      <th>4</th>\n",
       "      <td>['B09FPTCWMC', 'B09FPTQP68', 'B08HMRY8NG', 'B0...</td>\n",
       "      <td>DE</td>\n",
       "      <td>['B09J8V18FL', 'B09J8VPTTW', 'B09J8TTZ68', 'B0...</td>\n",
       "    </tr>\n",
       "  </tbody>\n",
       "</table>\n",
       "</div>"
      ],
      "text/plain": [
       "                                          prev_items locale  \\\n",
       "0  ['B08V12CT4C', 'B08V1KXBQD', 'B01BVG1XJS', 'B0...     DE   \n",
       "1         ['B00R9R5ND6', 'B00R9RZ9ZS', 'B00R9RZ9ZS']     DE   \n",
       "2  ['B07YSRXJD3', 'B07G7Q5N6G', 'B08C9Q7QVK', 'B0...     DE   \n",
       "3  ['B08KQBYV43', '3955350843', '3955350843', '39...     DE   \n",
       "4  ['B09FPTCWMC', 'B09FPTQP68', 'B08HMRY8NG', 'B0...     DE   \n",
       "\n",
       "                                           next_item  \n",
       "0  ['B08V1KXBQD', 'B07TV22X9M', 'B08V12CT4C', 'B0...  \n",
       "1  ['B00R9RZ9ZS', 'B00R9R5ND6', 'B095TL42FL', '37...  \n",
       "2  ['B07G7Q5N6G', 'B08C9Q7QVK', 'B099277D7Q', 'B0...  \n",
       "3  ['3741524131', '3955350878', '395535086X', 'B0...  \n",
       "4  ['B09J8V18FL', 'B09J8VPTTW', 'B09J8TTZ68', 'B0...  "
      ]
     },
     "metadata": {},
     "output_type": "display_data"
    },
    {
     "data": {
      "text/html": [
       "<div>\n",
       "<style scoped>\n",
       "    .dataframe tbody tr th:only-of-type {\n",
       "        vertical-align: middle;\n",
       "    }\n",
       "\n",
       "    .dataframe tbody tr th {\n",
       "        vertical-align: top;\n",
       "    }\n",
       "\n",
       "    .dataframe thead th {\n",
       "        text-align: right;\n",
       "    }\n",
       "</style>\n",
       "<table border=\"1\" class=\"dataframe\">\n",
       "  <thead>\n",
       "    <tr style=\"text-align: right;\">\n",
       "      <th></th>\n",
       "      <th>prev_items</th>\n",
       "      <th>locale</th>\n",
       "      <th>next_item</th>\n",
       "    </tr>\n",
       "  </thead>\n",
       "  <tbody>\n",
       "    <tr>\n",
       "      <th>201035</th>\n",
       "      <td>['B007MO0FIO', 'B09QXPN2TL', 'B005PA3I8G', 'B0...</td>\n",
       "      <td>UK</td>\n",
       "      <td>['B091TLGK2T', 'B0BFX4PPYM', 'B08WPCZ8KR', 'B0...</td>\n",
       "    </tr>\n",
       "    <tr>\n",
       "      <th>201036</th>\n",
       "      <td>['B082P6M3HC', 'B082BHJ9G8', 'B0797QCXS6', 'B0...</td>\n",
       "      <td>UK</td>\n",
       "      <td>['B0791BS4NL', 'B09SH64F6S', 'B07S7CZZ7L', 'B0...</td>\n",
       "    </tr>\n",
       "    <tr>\n",
       "      <th>201037</th>\n",
       "      <td>['B0894HWG1H', 'B07S79G11S', 'B092VCHVS7', 'B0...</td>\n",
       "      <td>UK</td>\n",
       "      <td>['B0B7RW8HYV', 'B07TS1NXSH', 'B07MMWKWH1', 'B0...</td>\n",
       "    </tr>\n",
       "    <tr>\n",
       "      <th>201038</th>\n",
       "      <td>['B00FLTE8OE', 'B07CRNCKMR', 'B0784T65RK']</td>\n",
       "      <td>UK</td>\n",
       "      <td>['B0B717ZVD5', 'B006L4DLW8', 'B091F4QN7K', 'B0...</td>\n",
       "    </tr>\n",
       "    <tr>\n",
       "      <th>201039</th>\n",
       "      <td>['B0B5XPGRXD', 'B0BHSXQLSX', 'B0BJKJZJNM']</td>\n",
       "      <td>UK</td>\n",
       "      <td>['3742322508', 'B095XWVYMN', 'B001QCELXS', 'B0...</td>\n",
       "    </tr>\n",
       "  </tbody>\n",
       "</table>\n",
       "</div>"
      ],
      "text/plain": [
       "                                               prev_items locale  \\\n",
       "201035  ['B007MO0FIO', 'B09QXPN2TL', 'B005PA3I8G', 'B0...     UK   \n",
       "201036  ['B082P6M3HC', 'B082BHJ9G8', 'B0797QCXS6', 'B0...     UK   \n",
       "201037  ['B0894HWG1H', 'B07S79G11S', 'B092VCHVS7', 'B0...     UK   \n",
       "201038         ['B00FLTE8OE', 'B07CRNCKMR', 'B0784T65RK']     UK   \n",
       "201039         ['B0B5XPGRXD', 'B0BHSXQLSX', 'B0BJKJZJNM']     UK   \n",
       "\n",
       "                                                next_item  \n",
       "201035  ['B091TLGK2T', 'B0BFX4PPYM', 'B08WPCZ8KR', 'B0...  \n",
       "201036  ['B0791BS4NL', 'B09SH64F6S', 'B07S7CZZ7L', 'B0...  \n",
       "201037  ['B0B7RW8HYV', 'B07TS1NXSH', 'B07MMWKWH1', 'B0...  \n",
       "201038  ['B0B717ZVD5', 'B006L4DLW8', 'B091F4QN7K', 'B0...  \n",
       "201039  ['3742322508', 'B095XWVYMN', 'B001QCELXS', 'B0...  "
      ]
     },
     "metadata": {},
     "output_type": "display_data"
    },
    {
     "data": {
      "text/html": [
       "<div>\n",
       "<style scoped>\n",
       "    .dataframe tbody tr th:only-of-type {\n",
       "        vertical-align: middle;\n",
       "    }\n",
       "\n",
       "    .dataframe tbody tr th {\n",
       "        vertical-align: top;\n",
       "    }\n",
       "\n",
       "    .dataframe thead th {\n",
       "        text-align: right;\n",
       "    }\n",
       "</style>\n",
       "<table border=\"1\" class=\"dataframe\">\n",
       "  <thead>\n",
       "    <tr style=\"text-align: right;\">\n",
       "      <th></th>\n",
       "      <th>prev_items</th>\n",
       "      <th>locale</th>\n",
       "      <th>next_item</th>\n",
       "    </tr>\n",
       "  </thead>\n",
       "  <tbody>\n",
       "    <tr>\n",
       "      <th>104568</th>\n",
       "      <td>['B09NZHMKXW', 'B0823M5W31', 'B017GSMOJS', 'B0...</td>\n",
       "      <td>JP</td>\n",
       "      <td>['B08NZN9WC1', 'B09S25SZ1Q', 'B06Y4F4NDS', 'B0...</td>\n",
       "    </tr>\n",
       "    <tr>\n",
       "      <th>104569</th>\n",
       "      <td>['B08S31PW4G', 'B09TKN5SGL']</td>\n",
       "      <td>JP</td>\n",
       "      <td>['B09BHP5PP1', 'B07F3WG12T', 'B09CG7D7LN', 'B0...</td>\n",
       "    </tr>\n",
       "    <tr>\n",
       "      <th>104570</th>\n",
       "      <td>['B0BHWBZ4ZJ', 'B0BHWBZ4ZJ', 'B09MQCDRZ1', 'B0...</td>\n",
       "      <td>JP</td>\n",
       "      <td>['B09V7RBRWN', 'B000J3VKLQ', 'B09CD5BQ7Y', 'B0...</td>\n",
       "    </tr>\n",
       "    <tr>\n",
       "      <th>104571</th>\n",
       "      <td>['B07VHJZQYB', 'B07Y1P1B5T']</td>\n",
       "      <td>JP</td>\n",
       "      <td>['B087CQM9BT', 'B089SWFFFV', 'B07VCLCJT3', 'B0...</td>\n",
       "    </tr>\n",
       "    <tr>\n",
       "      <th>104572</th>\n",
       "      <td>['B09JK112HQ', 'B07GCTJ7JX', 'B0BKK2NRPJ', 'B0...</td>\n",
       "      <td>JP</td>\n",
       "      <td>['B09FSNXWKP', 'B0926NWR4L', 'B09QXDVQ1V', 'B0...</td>\n",
       "    </tr>\n",
       "  </tbody>\n",
       "</table>\n",
       "</div>"
      ],
      "text/plain": [
       "                                               prev_items locale  \\\n",
       "104568  ['B09NZHMKXW', 'B0823M5W31', 'B017GSMOJS', 'B0...     JP   \n",
       "104569                       ['B08S31PW4G', 'B09TKN5SGL']     JP   \n",
       "104570  ['B0BHWBZ4ZJ', 'B0BHWBZ4ZJ', 'B09MQCDRZ1', 'B0...     JP   \n",
       "104571                       ['B07VHJZQYB', 'B07Y1P1B5T']     JP   \n",
       "104572  ['B09JK112HQ', 'B07GCTJ7JX', 'B0BKK2NRPJ', 'B0...     JP   \n",
       "\n",
       "                                                next_item  \n",
       "104568  ['B08NZN9WC1', 'B09S25SZ1Q', 'B06Y4F4NDS', 'B0...  \n",
       "104569  ['B09BHP5PP1', 'B07F3WG12T', 'B09CG7D7LN', 'B0...  \n",
       "104570  ['B09V7RBRWN', 'B000J3VKLQ', 'B09CD5BQ7Y', 'B0...  \n",
       "104571  ['B087CQM9BT', 'B089SWFFFV', 'B07VCLCJT3', 'B0...  \n",
       "104572  ['B09FSNXWKP', 'B0926NWR4L', 'B09QXDVQ1V', 'B0...  "
      ]
     },
     "metadata": {},
     "output_type": "display_data"
    }
   ],
   "source": [
    "# read predictions files\n",
    "preds_de_path = \"/pfs/work7/workspace/scratch/ma_ndoering-data_mining_2/pred_sessions_test_task1_de.csv\"\n",
    "preds_uk_path = \"/pfs/work7/workspace/scratch/ma_ndoering-data_mining_2/pred_sessions_test_task1_uk.csv\"\n",
    "preds_jp_path = \"/pfs/work7/workspace/scratch/ma_ndoering-data_mining_2/pred_sessions_test_task1_jp.csv\"\n",
    "\n",
    "preds_de = pd.read_csv(preds_de_path, index_col=[0])\n",
    "preds_uk = pd.read_csv(preds_uk_path, index_col=[0])\n",
    "preds_jp = pd.read_csv(preds_jp_path, index_col=[0])\n",
    "\n",
    "display(preds_de.head())\n",
    "display(preds_uk.head())\n",
    "display(preds_jp.head())"
   ]
  },
  {
   "cell_type": "code",
   "execution_count": 3,
   "id": "4c2fcece-3a67-4261-92aa-7f10fb137391",
   "metadata": {
    "tags": []
   },
   "outputs": [
    {
     "data": {
      "text/html": [
       "<div>\n",
       "<style scoped>\n",
       "    .dataframe tbody tr th:only-of-type {\n",
       "        vertical-align: middle;\n",
       "    }\n",
       "\n",
       "    .dataframe tbody tr th {\n",
       "        vertical-align: top;\n",
       "    }\n",
       "\n",
       "    .dataframe thead th {\n",
       "        text-align: right;\n",
       "    }\n",
       "</style>\n",
       "<table border=\"1\" class=\"dataframe\">\n",
       "  <thead>\n",
       "    <tr style=\"text-align: right;\">\n",
       "      <th></th>\n",
       "      <th>prev_items</th>\n",
       "      <th>locale</th>\n",
       "      <th>next_item</th>\n",
       "    </tr>\n",
       "  </thead>\n",
       "  <tbody>\n",
       "    <tr>\n",
       "      <th>0</th>\n",
       "      <td>['B08V12CT4C', 'B08V1KXBQD', 'B01BVG1XJS', 'B0...</td>\n",
       "      <td>DE</td>\n",
       "      <td>[B08V1KXBQD, B07TV22X9M, B08V12CT4C, B099NS1XP...</td>\n",
       "    </tr>\n",
       "    <tr>\n",
       "      <th>1</th>\n",
       "      <td>['B00R9R5ND6', 'B00R9RZ9ZS', 'B00R9RZ9ZS']</td>\n",
       "      <td>DE</td>\n",
       "      <td>[B00R9RZ9ZS, B00R9R5ND6, B095TL42FL, 377246997...</td>\n",
       "    </tr>\n",
       "    <tr>\n",
       "      <th>2</th>\n",
       "      <td>['B07YSRXJD3', 'B07G7Q5N6G', 'B08C9Q7QVK', 'B0...</td>\n",
       "      <td>DE</td>\n",
       "      <td>[B07G7Q5N6G, B08C9Q7QVK, B099277D7Q, B09XTMPM8...</td>\n",
       "    </tr>\n",
       "    <tr>\n",
       "      <th>3</th>\n",
       "      <td>['B08KQBYV43', '3955350843', '3955350843', '39...</td>\n",
       "      <td>DE</td>\n",
       "      <td>[3741524131, 3955350878, 395535086X, B0041VW2D...</td>\n",
       "    </tr>\n",
       "    <tr>\n",
       "      <th>4</th>\n",
       "      <td>['B09FPTCWMC', 'B09FPTQP68', 'B08HMRY8NG', 'B0...</td>\n",
       "      <td>DE</td>\n",
       "      <td>[B09J8V18FL, B09J8VPTTW, B09J8TTZ68, B09J8SKX9...</td>\n",
       "    </tr>\n",
       "  </tbody>\n",
       "</table>\n",
       "</div>"
      ],
      "text/plain": [
       "                                          prev_items locale  \\\n",
       "0  ['B08V12CT4C', 'B08V1KXBQD', 'B01BVG1XJS', 'B0...     DE   \n",
       "1         ['B00R9R5ND6', 'B00R9RZ9ZS', 'B00R9RZ9ZS']     DE   \n",
       "2  ['B07YSRXJD3', 'B07G7Q5N6G', 'B08C9Q7QVK', 'B0...     DE   \n",
       "3  ['B08KQBYV43', '3955350843', '3955350843', '39...     DE   \n",
       "4  ['B09FPTCWMC', 'B09FPTQP68', 'B08HMRY8NG', 'B0...     DE   \n",
       "\n",
       "                                           next_item  \n",
       "0  [B08V1KXBQD, B07TV22X9M, B08V12CT4C, B099NS1XP...  \n",
       "1  [B00R9RZ9ZS, B00R9R5ND6, B095TL42FL, 377246997...  \n",
       "2  [B07G7Q5N6G, B08C9Q7QVK, B099277D7Q, B09XTMPM8...  \n",
       "3  [3741524131, 3955350878, 395535086X, B0041VW2D...  \n",
       "4  [B09J8V18FL, B09J8VPTTW, B09J8TTZ68, B09J8SKX9...  "
      ]
     },
     "metadata": {},
     "output_type": "display_data"
    },
    {
     "data": {
      "text/html": [
       "<div>\n",
       "<style scoped>\n",
       "    .dataframe tbody tr th:only-of-type {\n",
       "        vertical-align: middle;\n",
       "    }\n",
       "\n",
       "    .dataframe tbody tr th {\n",
       "        vertical-align: top;\n",
       "    }\n",
       "\n",
       "    .dataframe thead th {\n",
       "        text-align: right;\n",
       "    }\n",
       "</style>\n",
       "<table border=\"1\" class=\"dataframe\">\n",
       "  <thead>\n",
       "    <tr style=\"text-align: right;\">\n",
       "      <th></th>\n",
       "      <th>prev_items</th>\n",
       "      <th>locale</th>\n",
       "      <th>next_item</th>\n",
       "    </tr>\n",
       "  </thead>\n",
       "  <tbody>\n",
       "    <tr>\n",
       "      <th>201035</th>\n",
       "      <td>['B007MO0FIO', 'B09QXPN2TL', 'B005PA3I8G', 'B0...</td>\n",
       "      <td>UK</td>\n",
       "      <td>[B091TLGK2T, B0BFX4PPYM, B08WPCZ8KR, B09J95XLG...</td>\n",
       "    </tr>\n",
       "    <tr>\n",
       "      <th>201036</th>\n",
       "      <td>['B082P6M3HC', 'B082BHJ9G8', 'B0797QCXS6', 'B0...</td>\n",
       "      <td>UK</td>\n",
       "      <td>[B0791BS4NL, B09SH64F6S, B07S7CZZ7L, B09WZ4FJ3...</td>\n",
       "    </tr>\n",
       "    <tr>\n",
       "      <th>201037</th>\n",
       "      <td>['B0894HWG1H', 'B07S79G11S', 'B092VCHVS7', 'B0...</td>\n",
       "      <td>UK</td>\n",
       "      <td>[B0B7RW8HYV, B07TS1NXSH, B07MMWKWH1, B08HFJJTJ...</td>\n",
       "    </tr>\n",
       "    <tr>\n",
       "      <th>201038</th>\n",
       "      <td>['B00FLTE8OE', 'B07CRNCKMR', 'B0784T65RK']</td>\n",
       "      <td>UK</td>\n",
       "      <td>[B0B717ZVD5, B006L4DLW8, B091F4QN7K, B09PF9CPN...</td>\n",
       "    </tr>\n",
       "    <tr>\n",
       "      <th>201039</th>\n",
       "      <td>['B0B5XPGRXD', 'B0BHSXQLSX', 'B0BJKJZJNM']</td>\n",
       "      <td>UK</td>\n",
       "      <td>[3742322508, B095XWVYMN, B001QCELXS, B00629V1D...</td>\n",
       "    </tr>\n",
       "  </tbody>\n",
       "</table>\n",
       "</div>"
      ],
      "text/plain": [
       "                                               prev_items locale  \\\n",
       "201035  ['B007MO0FIO', 'B09QXPN2TL', 'B005PA3I8G', 'B0...     UK   \n",
       "201036  ['B082P6M3HC', 'B082BHJ9G8', 'B0797QCXS6', 'B0...     UK   \n",
       "201037  ['B0894HWG1H', 'B07S79G11S', 'B092VCHVS7', 'B0...     UK   \n",
       "201038         ['B00FLTE8OE', 'B07CRNCKMR', 'B0784T65RK']     UK   \n",
       "201039         ['B0B5XPGRXD', 'B0BHSXQLSX', 'B0BJKJZJNM']     UK   \n",
       "\n",
       "                                                next_item  \n",
       "201035  [B091TLGK2T, B0BFX4PPYM, B08WPCZ8KR, B09J95XLG...  \n",
       "201036  [B0791BS4NL, B09SH64F6S, B07S7CZZ7L, B09WZ4FJ3...  \n",
       "201037  [B0B7RW8HYV, B07TS1NXSH, B07MMWKWH1, B08HFJJTJ...  \n",
       "201038  [B0B717ZVD5, B006L4DLW8, B091F4QN7K, B09PF9CPN...  \n",
       "201039  [3742322508, B095XWVYMN, B001QCELXS, B00629V1D...  "
      ]
     },
     "metadata": {},
     "output_type": "display_data"
    },
    {
     "data": {
      "text/html": [
       "<div>\n",
       "<style scoped>\n",
       "    .dataframe tbody tr th:only-of-type {\n",
       "        vertical-align: middle;\n",
       "    }\n",
       "\n",
       "    .dataframe tbody tr th {\n",
       "        vertical-align: top;\n",
       "    }\n",
       "\n",
       "    .dataframe thead th {\n",
       "        text-align: right;\n",
       "    }\n",
       "</style>\n",
       "<table border=\"1\" class=\"dataframe\">\n",
       "  <thead>\n",
       "    <tr style=\"text-align: right;\">\n",
       "      <th></th>\n",
       "      <th>prev_items</th>\n",
       "      <th>locale</th>\n",
       "      <th>next_item</th>\n",
       "    </tr>\n",
       "  </thead>\n",
       "  <tbody>\n",
       "    <tr>\n",
       "      <th>104568</th>\n",
       "      <td>['B09NZHMKXW', 'B0823M5W31', 'B017GSMOJS', 'B0...</td>\n",
       "      <td>JP</td>\n",
       "      <td>[B08NZN9WC1, B09S25SZ1Q, B06Y4F4NDS, B0BBW7QVH...</td>\n",
       "    </tr>\n",
       "    <tr>\n",
       "      <th>104569</th>\n",
       "      <td>['B08S31PW4G', 'B09TKN5SGL']</td>\n",
       "      <td>JP</td>\n",
       "      <td>[B09BHP5PP1, B07F3WG12T, B09CG7D7LN, B08FB62GK...</td>\n",
       "    </tr>\n",
       "    <tr>\n",
       "      <th>104570</th>\n",
       "      <td>['B0BHWBZ4ZJ', 'B0BHWBZ4ZJ', 'B09MQCDRZ1', 'B0...</td>\n",
       "      <td>JP</td>\n",
       "      <td>[B09V7RBRWN, B000J3VKLQ, B09CD5BQ7Y, B0B7NHB4Q...</td>\n",
       "    </tr>\n",
       "    <tr>\n",
       "      <th>104571</th>\n",
       "      <td>['B07VHJZQYB', 'B07Y1P1B5T']</td>\n",
       "      <td>JP</td>\n",
       "      <td>[B087CQM9BT, B089SWFFFV, B07VCLCJT3, B07K9LGGQ...</td>\n",
       "    </tr>\n",
       "    <tr>\n",
       "      <th>104572</th>\n",
       "      <td>['B09JK112HQ', 'B07GCTJ7JX', 'B0BKK2NRPJ', 'B0...</td>\n",
       "      <td>JP</td>\n",
       "      <td>[B09FSNXWKP, B0926NWR4L, B09QXDVQ1V, B088ZW7GD...</td>\n",
       "    </tr>\n",
       "  </tbody>\n",
       "</table>\n",
       "</div>"
      ],
      "text/plain": [
       "                                               prev_items locale  \\\n",
       "104568  ['B09NZHMKXW', 'B0823M5W31', 'B017GSMOJS', 'B0...     JP   \n",
       "104569                       ['B08S31PW4G', 'B09TKN5SGL']     JP   \n",
       "104570  ['B0BHWBZ4ZJ', 'B0BHWBZ4ZJ', 'B09MQCDRZ1', 'B0...     JP   \n",
       "104571                       ['B07VHJZQYB', 'B07Y1P1B5T']     JP   \n",
       "104572  ['B09JK112HQ', 'B07GCTJ7JX', 'B0BKK2NRPJ', 'B0...     JP   \n",
       "\n",
       "                                                next_item  \n",
       "104568  [B08NZN9WC1, B09S25SZ1Q, B06Y4F4NDS, B0BBW7QVH...  \n",
       "104569  [B09BHP5PP1, B07F3WG12T, B09CG7D7LN, B08FB62GK...  \n",
       "104570  [B09V7RBRWN, B000J3VKLQ, B09CD5BQ7Y, B0B7NHB4Q...  \n",
       "104571  [B087CQM9BT, B089SWFFFV, B07VCLCJT3, B07K9LGGQ...  \n",
       "104572  [B09FSNXWKP, B0926NWR4L, B09QXDVQ1V, B088ZW7GD...  "
      ]
     },
     "metadata": {},
     "output_type": "display_data"
    }
   ],
   "source": [
    "# strings to lists\n",
    "preds_de['next_item'] = preds_de['next_item'].str.strip(\"[']\").str.split(\"', '\")\n",
    "preds_uk['next_item'] = preds_uk['next_item'].str.strip(\"[']\").str.split(\"', '\")\n",
    "preds_jp['next_item'] = preds_jp['next_item'].str.strip(\"[']\").str.split(\"', '\")\n",
    "\n",
    "display(preds_de.head())\n",
    "display(preds_uk.head())\n",
    "display(preds_jp.head())"
   ]
  },
  {
   "cell_type": "code",
   "execution_count": 4,
   "id": "978ec813-94f2-41ab-b782-76512fbbf978",
   "metadata": {
    "tags": []
   },
   "outputs": [
    {
     "name": "stdout",
     "output_type": "stream",
     "text": [
      "lenghts of next item lists (DE):\n",
      "100    104566\n",
      "6           2\n",
      "Name: next_item, dtype: int64\n",
      "lenghts of next item lists (UK):\n",
      "100    115914\n",
      "46         14\n",
      "81          5\n",
      "50          3\n",
      "Name: next_item, dtype: int64\n",
      "lenghts of next item lists (JP):\n",
      "100    96464\n",
      "29         3\n",
      "Name: next_item, dtype: int64\n"
     ]
    }
   ],
   "source": [
    "# lengths of the next item lists\n",
    "print(\"lenghts of next item lists (DE):\")\n",
    "print(preds_de[\"next_item\"].apply(lambda l: len(l)).value_counts())\n",
    "print(\"lenghts of next item lists (UK):\")\n",
    "print(preds_uk[\"next_item\"].apply(lambda l: len(l)).value_counts())\n",
    "print(\"lenghts of next item lists (JP):\")\n",
    "print(preds_jp[\"next_item\"].apply(lambda l: len(l)).value_counts())"
   ]
  },
  {
   "cell_type": "code",
   "execution_count": 5,
   "id": "0e46c0d3-3483-47a0-b4d6-5c3285e9086d",
   "metadata": {
    "tags": []
   },
   "outputs": [
    {
     "data": {
      "text/html": [
       "<div>\n",
       "<style scoped>\n",
       "    .dataframe tbody tr th:only-of-type {\n",
       "        vertical-align: middle;\n",
       "    }\n",
       "\n",
       "    .dataframe tbody tr th {\n",
       "        vertical-align: top;\n",
       "    }\n",
       "\n",
       "    .dataframe thead th {\n",
       "        text-align: right;\n",
       "    }\n",
       "</style>\n",
       "<table border=\"1\" class=\"dataframe\">\n",
       "  <thead>\n",
       "    <tr style=\"text-align: right;\">\n",
       "      <th></th>\n",
       "      <th>prev_items</th>\n",
       "      <th>next_item</th>\n",
       "      <th>locale</th>\n",
       "    </tr>\n",
       "  </thead>\n",
       "  <tbody>\n",
       "    <tr>\n",
       "      <th>0</th>\n",
       "      <td>[B09W9FND7K, B09JSPLN1M]</td>\n",
       "      <td>B09M7GY217</td>\n",
       "      <td>DE</td>\n",
       "    </tr>\n",
       "    <tr>\n",
       "      <th>1</th>\n",
       "      <td>[B076THCGSG, B007MO8IME, B08MF65MLV, B001B4TKA0]</td>\n",
       "      <td>B001B4THSA</td>\n",
       "      <td>DE</td>\n",
       "    </tr>\n",
       "    <tr>\n",
       "      <th>2</th>\n",
       "      <td>[B0B1LGXWDS, B00AZYORS2, B0B1LGXWDS, B00AZYORS...</td>\n",
       "      <td>B0767DTG2Q</td>\n",
       "      <td>DE</td>\n",
       "    </tr>\n",
       "    <tr>\n",
       "      <th>3</th>\n",
       "      <td>[B09XMTWDVT, B0B4MZZ8MB, B0B7HZ2GWX, B09XMTWDV...</td>\n",
       "      <td>B0B4R9NN4B</td>\n",
       "      <td>DE</td>\n",
       "    </tr>\n",
       "    <tr>\n",
       "      <th>4</th>\n",
       "      <td>[B09Y5CSL3T, B09Y5DPTXN, B09FKD61R8]</td>\n",
       "      <td>B0BGVBKWGZ</td>\n",
       "      <td>DE</td>\n",
       "    </tr>\n",
       "  </tbody>\n",
       "</table>\n",
       "</div>"
      ],
      "text/plain": [
       "                                          prev_items   next_item locale\n",
       "0                           [B09W9FND7K, B09JSPLN1M]  B09M7GY217     DE\n",
       "1   [B076THCGSG, B007MO8IME, B08MF65MLV, B001B4TKA0]  B001B4THSA     DE\n",
       "2  [B0B1LGXWDS, B00AZYORS2, B0B1LGXWDS, B00AZYORS...  B0767DTG2Q     DE\n",
       "3  [B09XMTWDVT, B0B4MZZ8MB, B0B7HZ2GWX, B09XMTWDV...  B0B4R9NN4B     DE\n",
       "4               [B09Y5CSL3T, B09Y5DPTXN, B09FKD61R8]  B0BGVBKWGZ     DE"
      ]
     },
     "execution_count": 5,
     "metadata": {},
     "output_type": "execute_result"
    }
   ],
   "source": [
    "# read train sessions\n",
    "train_sessions_path = \"./data/sessions_train.csv\"\n",
    "train_sessions = pd.read_csv(train_sessions_path)\n",
    "train_sessions['prev_items'] = train_sessions['prev_items'].str.strip(\"[']\").str.replace(\"\\n\", \"\").str.split(\"' '\")\n",
    "\n",
    "train_sessions.head()"
   ]
  },
  {
   "cell_type": "code",
   "execution_count": 6,
   "id": "4c678cf0-d850-48ee-9742-451929ce9329",
   "metadata": {
    "tags": []
   },
   "outputs": [],
   "source": [
    "# 100 most common items per locale\n",
    "most_common_de = list(train_sessions[train_sessions[\"locale\"] == \"DE\"][\"next_item\"].value_counts()[:100].index)\n",
    "most_common_uk = list(train_sessions[train_sessions[\"locale\"] == \"DE\"][\"next_item\"].value_counts()[:100].index)\n",
    "most_common_jp = list(train_sessions[train_sessions[\"locale\"] == \"DE\"][\"next_item\"].value_counts()[:100].index)"
   ]
  },
  {
   "cell_type": "code",
   "execution_count": 7,
   "id": "56331110-ea59-4949-82a4-d09787bf654e",
   "metadata": {
    "tags": []
   },
   "outputs": [],
   "source": [
    "# fill up next_item lists that are shorter than 100 items with most common items\n",
    "def fill_up(next_items, locale):\n",
    "    n_items_missing = 100 - len(next_items)\n",
    "    if n_items_missing > 0:\n",
    "        if locale == \"DE\":\n",
    "            return next_items + most_common_de[:n_items_missing]\n",
    "        if locale == \"UK\":\n",
    "            return next_items + most_common_uk[:n_items_missing]\n",
    "        if locale == \"JP\":\n",
    "            return next_items + most_common_jp[:n_items_missing]\n",
    "    else:\n",
    "        return next_items"
   ]
  },
  {
   "cell_type": "code",
   "execution_count": 8,
   "id": "aa541279-72bd-4f44-b790-5a509ebd37d9",
   "metadata": {
    "tags": []
   },
   "outputs": [],
   "source": [
    "preds_de[\"next_item\"] = preds_de[\"next_item\"].apply(lambda l: fill_up(l, \"DE\"))\n",
    "preds_uk[\"next_item\"] = preds_uk[\"next_item\"].apply(lambda l: fill_up(l, \"UK\"))\n",
    "preds_jp[\"next_item\"] = preds_jp[\"next_item\"].apply(lambda l: fill_up(l, \"JP\"))"
   ]
  },
  {
   "cell_type": "code",
   "execution_count": 9,
   "id": "7207da7e-72e0-4b1e-bee7-8d83327b0eac",
   "metadata": {
    "tags": []
   },
   "outputs": [
    {
     "name": "stdout",
     "output_type": "stream",
     "text": [
      "lenghts of next item lists (DE):\n",
      "100    104568\n",
      "Name: next_item, dtype: int64\n",
      "lenghts of next item lists (UK):\n",
      "100    115936\n",
      "Name: next_item, dtype: int64\n",
      "lenghts of next item lists (JP):\n",
      "100    96467\n",
      "Name: next_item, dtype: int64\n"
     ]
    }
   ],
   "source": [
    "# lengths of the next item lists\n",
    "print(\"lenghts of next item lists (DE):\")\n",
    "print(preds_de[\"next_item\"].apply(lambda l: len(l)).value_counts())\n",
    "print(\"lenghts of next item lists (UK):\")\n",
    "print(preds_uk[\"next_item\"].apply(lambda l: len(l)).value_counts())\n",
    "print(\"lenghts of next item lists (JP):\")\n",
    "print(preds_jp[\"next_item\"].apply(lambda l: len(l)).value_counts())"
   ]
  },
  {
   "cell_type": "code",
   "execution_count": 15,
   "id": "84856cfd-c0ae-4c69-bacd-b09d4b619778",
   "metadata": {
    "tags": []
   },
   "outputs": [
    {
     "data": {
      "text/html": [
       "<div>\n",
       "<style scoped>\n",
       "    .dataframe tbody tr th:only-of-type {\n",
       "        vertical-align: middle;\n",
       "    }\n",
       "\n",
       "    .dataframe tbody tr th {\n",
       "        vertical-align: top;\n",
       "    }\n",
       "\n",
       "    .dataframe thead th {\n",
       "        text-align: right;\n",
       "    }\n",
       "</style>\n",
       "<table border=\"1\" class=\"dataframe\">\n",
       "  <thead>\n",
       "    <tr style=\"text-align: right;\">\n",
       "      <th></th>\n",
       "      <th>locale</th>\n",
       "      <th>next_item_prediction</th>\n",
       "    </tr>\n",
       "  </thead>\n",
       "  <tbody>\n",
       "    <tr>\n",
       "      <th>0</th>\n",
       "      <td>DE</td>\n",
       "      <td>[B08V1KXBQD, B07TV22X9M, B08V12CT4C, B099NS1XP...</td>\n",
       "    </tr>\n",
       "    <tr>\n",
       "      <th>1</th>\n",
       "      <td>DE</td>\n",
       "      <td>[B00R9RZ9ZS, B00R9R5ND6, B095TL42FL, 377246997...</td>\n",
       "    </tr>\n",
       "    <tr>\n",
       "      <th>2</th>\n",
       "      <td>DE</td>\n",
       "      <td>[B07G7Q5N6G, B08C9Q7QVK, B099277D7Q, B09XTMPM8...</td>\n",
       "    </tr>\n",
       "    <tr>\n",
       "      <th>3</th>\n",
       "      <td>DE</td>\n",
       "      <td>[3741524131, 3955350878, 395535086X, B0041VW2D...</td>\n",
       "    </tr>\n",
       "    <tr>\n",
       "      <th>4</th>\n",
       "      <td>DE</td>\n",
       "      <td>[B09J8V18FL, B09J8VPTTW, B09J8TTZ68, B09J8SKX9...</td>\n",
       "    </tr>\n",
       "  </tbody>\n",
       "</table>\n",
       "</div>"
      ],
      "text/plain": [
       "  locale                               next_item_prediction\n",
       "0     DE  [B08V1KXBQD, B07TV22X9M, B08V12CT4C, B099NS1XP...\n",
       "1     DE  [B00R9RZ9ZS, B00R9R5ND6, B095TL42FL, 377246997...\n",
       "2     DE  [B07G7Q5N6G, B08C9Q7QVK, B099277D7Q, B09XTMPM8...\n",
       "3     DE  [3741524131, 3955350878, 395535086X, B0041VW2D...\n",
       "4     DE  [B09J8V18FL, B09J8VPTTW, B09J8TTZ68, B09J8SKX9..."
      ]
     },
     "execution_count": 15,
     "metadata": {},
     "output_type": "execute_result"
    }
   ],
   "source": [
    "# make submission\n",
    "predictions = pd.concat([\n",
    "    preds_de[[\"locale\", \"next_item\"]].rename(columns={\"next_item\": \"next_item_prediction\"}),\n",
    "    preds_jp[[\"locale\", \"next_item\"]].rename(columns={\"next_item\": \"next_item_prediction\"}),\n",
    "    preds_uk[[\"locale\", \"next_item\"]].rename(columns={\"next_item\": \"next_item_prediction\"}),\n",
    "])\n",
    "\n",
    "predictions.head()"
   ]
  },
  {
   "cell_type": "code",
   "execution_count": 16,
   "id": "39b64296-2d6c-458a-b38c-aad7e9c8b0ef",
   "metadata": {
    "tags": []
   },
   "outputs": [],
   "source": [
    "def check_predictions(predictions, check_products=False):\n",
    "    \"\"\"\n",
    "    These tests need to pass as they will also be applied on the evaluator\n",
    "    \"\"\"\n",
    "    test_locale_names = test_sessions['locale'].unique()\n",
    "    for locale in test_locale_names:\n",
    "        sess_test = test_sessions.query(f'locale == \"{locale}\"')\n",
    "        preds_locale =  predictions[predictions['locale'] == sess_test['locale'].iloc[0]]\n",
    "        assert sorted(preds_locale.index.values) == sorted(sess_test.index.values), f\"Session ids of {locale} doesn't match\"\n",
    "\n",
    "        if check_products:\n",
    "            # This check is not done on the evaluator\n",
    "            # but you can run it to verify there is no mixing of products between locales\n",
    "            # Since the ground truth next item will always belong to the same locale\n",
    "            # Warning - This can be slow to run\n",
    "            products = products_df.query(f'locale == \"{locale}\"')\n",
    "            predicted_products = np.unique( np.array(list(preds_locale[\"next_item_prediction\"].values)) )\n",
    "            assert np.all( np.isin(predicted_products, products['id']) ), f\"Invalid products in {locale} predictions\""
   ]
  },
  {
   "cell_type": "code",
   "execution_count": 17,
   "id": "cbf10cb0-562d-40ed-b467-27e967ba5c5c",
   "metadata": {
    "tags": []
   },
   "outputs": [],
   "source": [
    "check_predictions(predictions)"
   ]
  },
  {
   "cell_type": "code",
   "execution_count": 23,
   "id": "68cb601b-fd77-4bee-b50a-29766e70254d",
   "metadata": {
    "tags": []
   },
   "outputs": [
    {
     "name": "stdout",
     "output_type": "stream",
     "text": [
      "Defaulting to user installation because normal site-packages is not writeable\n",
      "Collecting aicrowd-cli\n",
      "  Using cached aicrowd_cli-0.1.15-py3-none-any.whl (51 kB)\n",
      "Requirement already satisfied: pyarrow in /pfs/data5/home/ma/ma_ma/ma_fvogl/.local/lib/python3.9/site-packages (12.0.0)\n",
      "Collecting python-slugify<6,>=5.0.0\n",
      "  Using cached python_slugify-5.0.2-py2.py3-none-any.whl (6.7 kB)\n",
      "Collecting toml<1,>=0.10.2\n",
      "  Using cached toml-0.10.2-py2.py3-none-any.whl (16 kB)\n",
      "Collecting requests-toolbelt<1,>=0.9.1\n",
      "  Using cached requests_toolbelt-0.10.1-py2.py3-none-any.whl (54 kB)\n",
      "Requirement already satisfied: requests<3,>=2.25.1 in /pfs/data5/software_uc2/bwhpc/common/jupyter/tensorflow/2023-03-24/lib/python3.9/site-packages (from aicrowd-cli) (2.28.2)\n",
      "Collecting pyzmq==22.1.0\n",
      "  Using cached pyzmq-22.1.0-cp39-cp39-manylinux2010_x86_64.whl (1.1 MB)\n",
      "Collecting rich<11,>=10.0.0\n",
      "  Using cached rich-10.16.2-py3-none-any.whl (214 kB)\n",
      "Requirement already satisfied: tqdm<5,>=4.56.0 in /pfs/data5/software_uc2/bwhpc/common/jupyter/tensorflow/2023-03-24/lib/python3.9/site-packages (from aicrowd-cli) (4.65.0)\n",
      "Collecting click<8,>=7.1.2\n",
      "  Using cached click-7.1.2-py2.py3-none-any.whl (82 kB)\n",
      "Collecting GitPython==3.1.18\n",
      "  Using cached GitPython-3.1.18-py3-none-any.whl (170 kB)\n",
      "Collecting semver<3,>=2.13.0\n",
      "  Using cached semver-2.13.0-py2.py3-none-any.whl (12 kB)\n",
      "Collecting gitdb<5,>=4.0.1\n",
      "  Using cached gitdb-4.0.10-py3-none-any.whl (62 kB)\n",
      "Requirement already satisfied: numpy>=1.16.6 in /pfs/data5/software_uc2/bwhpc/common/jupyter/tensorflow/2023-03-24/lib/python3.9/site-packages (from pyarrow) (1.23.5)\n",
      "Collecting text-unidecode>=1.3\n",
      "  Using cached text_unidecode-1.3-py2.py3-none-any.whl (78 kB)\n",
      "Requirement already satisfied: idna<4,>=2.5 in /pfs/data5/software_uc2/bwhpc/common/jupyter/tensorflow/2023-03-24/lib/python3.9/site-packages (from requests<3,>=2.25.1->aicrowd-cli) (3.4)\n",
      "Requirement already satisfied: charset-normalizer<4,>=2 in /pfs/data5/software_uc2/bwhpc/common/jupyter/tensorflow/2023-03-24/lib/python3.9/site-packages (from requests<3,>=2.25.1->aicrowd-cli) (3.1.0)\n",
      "Requirement already satisfied: certifi>=2017.4.17 in /pfs/data5/software_uc2/bwhpc/common/jupyter/tensorflow/2023-03-24/lib/python3.9/site-packages (from requests<3,>=2.25.1->aicrowd-cli) (2022.12.7)\n",
      "Requirement already satisfied: urllib3<1.27,>=1.21.1 in /pfs/data5/software_uc2/bwhpc/common/jupyter/tensorflow/2023-03-24/lib/python3.9/site-packages (from requests<3,>=2.25.1->aicrowd-cli) (1.26.15)\n",
      "Collecting colorama<0.5.0,>=0.4.0\n",
      "  Using cached colorama-0.4.6-py2.py3-none-any.whl (25 kB)\n",
      "Collecting commonmark<0.10.0,>=0.9.0\n",
      "  Using cached commonmark-0.9.1-py2.py3-none-any.whl (51 kB)\n",
      "Requirement already satisfied: pygments<3.0.0,>=2.6.0 in /pfs/data5/software_uc2/bwhpc/common/jupyter/tensorflow/2023-03-24/lib/python3.9/site-packages (from rich<11,>=10.0.0->aicrowd-cli) (2.14.0)\n",
      "Collecting smmap<6,>=3.0.1\n",
      "  Using cached smmap-5.0.0-py3-none-any.whl (24 kB)\n",
      "\u001b[31mERROR: Will not install to the user site because it will lack sys.path precedence to pyzmq in /pfs/data5/software_uc2/bwhpc/common/jupyter/tensorflow/2023-03-24/lib/python3.9/site-packages\u001b[0m\u001b[31m\n",
      "\u001b[0m\n",
      "\u001b[1m[\u001b[0m\u001b[34;49mnotice\u001b[0m\u001b[1;39;49m]\u001b[0m\u001b[39;49m A new release of pip is available: \u001b[0m\u001b[31;49m23.0.1\u001b[0m\u001b[39;49m -> \u001b[0m\u001b[32;49m23.1.2\u001b[0m\n",
      "\u001b[1m[\u001b[0m\u001b[34;49mnotice\u001b[0m\u001b[1;39;49m]\u001b[0m\u001b[39;49m To update, run: \u001b[0m\u001b[32;49mpip install --upgrade pip\u001b[0m\n"
     ]
    }
   ],
   "source": [
    "!pip install aicrowd-cli pyarrow"
   ]
  },
  {
   "cell_type": "code",
   "execution_count": 21,
   "id": "a11d492e-69eb-4018-b4d8-15e993c7cf0a",
   "metadata": {
    "tags": []
   },
   "outputs": [],
   "source": [
    "# Its important that the parquet file you submit is saved with pyarrow backend\n",
    "predictions.to_parquet(f'data/submissions/faiss_submission_task1.parquet', engine='pyarrow')"
   ]
  },
  {
   "cell_type": "code",
   "execution_count": 24,
   "id": "e5de7171-4c55-4ac1-937d-03b483bce64a",
   "metadata": {
    "tags": []
   },
   "outputs": [
    {
     "name": "stdout",
     "output_type": "stream",
     "text": [
      "/bin/bash: aicrowd: command not found\n"
     ]
    }
   ],
   "source": [
    "!aicrowd login"
   ]
  },
  {
   "cell_type": "code",
   "execution_count": null,
   "id": "949b8126-d844-4e04-b461-0e8796d87f1f",
   "metadata": {},
   "outputs": [],
   "source": [
    "# You can submit with aicrowd-cli, or upload manually on the challenge page.\n",
    "!aicrowd submission create -c task-1-next-product-recommendation -f \"submission_task1.parquet\""
   ]
  }
 ],
 "metadata": {
  "kernelspec": {
   "display_name": "Python 3 (ipykernel)",
   "language": "python",
   "name": "python3"
  },
  "language_info": {
   "codemirror_mode": {
    "name": "ipython",
    "version": 3
   },
   "file_extension": ".py",
   "mimetype": "text/x-python",
   "name": "python",
   "nbconvert_exporter": "python",
   "pygments_lexer": "ipython3",
   "version": "3.9.7"
  }
 },
 "nbformat": 4,
 "nbformat_minor": 5
}
