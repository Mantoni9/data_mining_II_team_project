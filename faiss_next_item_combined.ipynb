{
 "cells": [
  {
   "cell_type": "markdown",
   "id": "ee32351a-6f4c-456d-867f-62d1b9222673",
   "metadata": {},
   "source": [
    "# Next Item"
   ]
  },
  {
   "cell_type": "code",
   "execution_count": 1,
   "id": "3deb1f6a-9128-42c0-b45a-fac48ce54241",
   "metadata": {
    "tags": []
   },
   "outputs": [],
   "source": [
    "import warnings\n",
    "warnings.simplefilter('ignore')\n",
    "\n",
    "import gc\n",
    "import re\n",
    "from collections import defaultdict, Counter\n",
    "\n",
    "import numpy as np\n",
    "import pandas as pd\n",
    "pd.set_option('display.max_columns', None)\n",
    "from tqdm.auto import tqdm"
   ]
  },
  {
   "cell_type": "code",
   "execution_count": 2,
   "id": "f7266334-c420-43a0-bef8-e28be4fff401",
   "metadata": {
    "tags": []
   },
   "outputs": [
    {
     "data": {
      "text/html": [
       "<div>\n",
       "<style scoped>\n",
       "    .dataframe tbody tr th:only-of-type {\n",
       "        vertical-align: middle;\n",
       "    }\n",
       "\n",
       "    .dataframe tbody tr th {\n",
       "        vertical-align: top;\n",
       "    }\n",
       "\n",
       "    .dataframe thead th {\n",
       "        text-align: right;\n",
       "    }\n",
       "</style>\n",
       "<table border=\"1\" class=\"dataframe\">\n",
       "  <thead>\n",
       "    <tr style=\"text-align: right;\">\n",
       "      <th></th>\n",
       "      <th>prev_items</th>\n",
       "      <th>next_item</th>\n",
       "      <th>locale</th>\n",
       "    </tr>\n",
       "  </thead>\n",
       "  <tbody>\n",
       "    <tr>\n",
       "      <th>0</th>\n",
       "      <td>['B09W9FND7K' 'B09JSPLN1M']</td>\n",
       "      <td>B09M7GY217</td>\n",
       "      <td>DE</td>\n",
       "    </tr>\n",
       "    <tr>\n",
       "      <th>1</th>\n",
       "      <td>['B076THCGSG' 'B007MO8IME' 'B08MF65MLV' 'B001B...</td>\n",
       "      <td>B001B4THSA</td>\n",
       "      <td>DE</td>\n",
       "    </tr>\n",
       "    <tr>\n",
       "      <th>2</th>\n",
       "      <td>['B0B1LGXWDS' 'B00AZYORS2' 'B0B1LGXWDS' 'B00AZ...</td>\n",
       "      <td>B0767DTG2Q</td>\n",
       "      <td>DE</td>\n",
       "    </tr>\n",
       "    <tr>\n",
       "      <th>3</th>\n",
       "      <td>['B09XMTWDVT' 'B0B4MZZ8MB' 'B0B7HZ2GWX' 'B09XM...</td>\n",
       "      <td>B0B4R9NN4B</td>\n",
       "      <td>DE</td>\n",
       "    </tr>\n",
       "    <tr>\n",
       "      <th>4</th>\n",
       "      <td>['B09Y5CSL3T' 'B09Y5DPTXN' 'B09FKD61R8']</td>\n",
       "      <td>B0BGVBKWGZ</td>\n",
       "      <td>DE</td>\n",
       "    </tr>\n",
       "    <tr>\n",
       "      <th>...</th>\n",
       "      <td>...</td>\n",
       "      <td>...</td>\n",
       "      <td>...</td>\n",
       "    </tr>\n",
       "    <tr>\n",
       "      <th>2272517</th>\n",
       "      <td>['B00I46IIFQ' 'B0007SQEPK']</td>\n",
       "      <td>B0000E5SEQ</td>\n",
       "      <td>UK</td>\n",
       "    </tr>\n",
       "    <tr>\n",
       "      <th>2272518</th>\n",
       "      <td>['B09JWPQ7TC' 'B017OUFLMA']</td>\n",
       "      <td>B076HWCG63</td>\n",
       "      <td>UK</td>\n",
       "    </tr>\n",
       "    <tr>\n",
       "      <th>2272519</th>\n",
       "      <td>['B0B81KX8XK' 'B091F65ZYX' 'B07G71F8NX' 'B0816...</td>\n",
       "      <td>B0B4DLXQTW</td>\n",
       "      <td>UK</td>\n",
       "    </tr>\n",
       "    <tr>\n",
       "      <th>2272520</th>\n",
       "      <td>['B09W5ZJZ6P' 'B09W5VR5DS' 'B09W5VZ7PQ' 'B09W5...</td>\n",
       "      <td>B09XB864PV</td>\n",
       "      <td>UK</td>\n",
       "    </tr>\n",
       "    <tr>\n",
       "      <th>2272521</th>\n",
       "      <td>['B082MJT29P' 'B01N9SLJF6' 'B09BTX5WVG' 'B00H1...</td>\n",
       "      <td>B091G4B</td>\n",
       "      <td>NaN</td>\n",
       "    </tr>\n",
       "  </tbody>\n",
       "</table>\n",
       "<p>2272522 rows × 3 columns</p>\n",
       "</div>"
      ],
      "text/plain": [
       "                                                prev_items   next_item locale\n",
       "0                              ['B09W9FND7K' 'B09JSPLN1M']  B09M7GY217     DE\n",
       "1        ['B076THCGSG' 'B007MO8IME' 'B08MF65MLV' 'B001B...  B001B4THSA     DE\n",
       "2        ['B0B1LGXWDS' 'B00AZYORS2' 'B0B1LGXWDS' 'B00AZ...  B0767DTG2Q     DE\n",
       "3        ['B09XMTWDVT' 'B0B4MZZ8MB' 'B0B7HZ2GWX' 'B09XM...  B0B4R9NN4B     DE\n",
       "4                 ['B09Y5CSL3T' 'B09Y5DPTXN' 'B09FKD61R8']  B0BGVBKWGZ     DE\n",
       "...                                                    ...         ...    ...\n",
       "2272517                        ['B00I46IIFQ' 'B0007SQEPK']  B0000E5SEQ     UK\n",
       "2272518                        ['B09JWPQ7TC' 'B017OUFLMA']  B076HWCG63     UK\n",
       "2272519  ['B0B81KX8XK' 'B091F65ZYX' 'B07G71F8NX' 'B0816...  B0B4DLXQTW     UK\n",
       "2272520  ['B09W5ZJZ6P' 'B09W5VR5DS' 'B09W5VZ7PQ' 'B09W5...  B09XB864PV     UK\n",
       "2272521  ['B082MJT29P' 'B01N9SLJF6' 'B09BTX5WVG' 'B00H1...     B091G4B    NaN\n",
       "\n",
       "[2272522 rows x 3 columns]"
      ]
     },
     "execution_count": 2,
     "metadata": {},
     "output_type": "execute_result"
    }
   ],
   "source": [
    "df_sess = pd.read_csv('data/sessions_train.csv')\n",
    "df_sess"
   ]
  },
  {
   "cell_type": "code",
   "execution_count": 3,
   "id": "f9a1fd8c-b8ba-491b-9f25-99bd432147c8",
   "metadata": {
    "tags": []
   },
   "outputs": [
    {
     "data": {
      "text/html": [
       "<div>\n",
       "<style scoped>\n",
       "    .dataframe tbody tr th:only-of-type {\n",
       "        vertical-align: middle;\n",
       "    }\n",
       "\n",
       "    .dataframe tbody tr th {\n",
       "        vertical-align: top;\n",
       "    }\n",
       "\n",
       "    .dataframe thead th {\n",
       "        text-align: right;\n",
       "    }\n",
       "</style>\n",
       "<table border=\"1\" class=\"dataframe\">\n",
       "  <thead>\n",
       "    <tr style=\"text-align: right;\">\n",
       "      <th></th>\n",
       "      <th>prev_items</th>\n",
       "      <th>locale</th>\n",
       "    </tr>\n",
       "  </thead>\n",
       "  <tbody>\n",
       "    <tr>\n",
       "      <th>0</th>\n",
       "      <td>['B08V12CT4C' 'B08V1KXBQD' 'B01BVG1XJS' 'B09VC...</td>\n",
       "      <td>DE</td>\n",
       "    </tr>\n",
       "    <tr>\n",
       "      <th>1</th>\n",
       "      <td>['B00R9R5ND6' 'B00R9RZ9ZS' 'B00R9RZ9ZS']</td>\n",
       "      <td>DE</td>\n",
       "    </tr>\n",
       "    <tr>\n",
       "      <th>2</th>\n",
       "      <td>['B07YSRXJD3' 'B07G7Q5N6G' 'B08C9Q7QVK' 'B07G7...</td>\n",
       "      <td>DE</td>\n",
       "    </tr>\n",
       "    <tr>\n",
       "      <th>3</th>\n",
       "      <td>['B08KQBYV43' '3955350843' '3955350843' '39553...</td>\n",
       "      <td>DE</td>\n",
       "    </tr>\n",
       "    <tr>\n",
       "      <th>4</th>\n",
       "      <td>['B09FPTCWMC' 'B09FPTQP68' 'B08HMRY8NG' 'B08TB...</td>\n",
       "      <td>DE</td>\n",
       "    </tr>\n",
       "    <tr>\n",
       "      <th>...</th>\n",
       "      <td>...</td>\n",
       "      <td>...</td>\n",
       "    </tr>\n",
       "    <tr>\n",
       "      <th>316966</th>\n",
       "      <td>['B077SZ2C3Y' 'B0B14M3VZX']</td>\n",
       "      <td>UK</td>\n",
       "    </tr>\n",
       "    <tr>\n",
       "      <th>316967</th>\n",
       "      <td>['B08KFHDPY9' 'B0851KTSRZ' 'B08KFHDPY9' 'B0851...</td>\n",
       "      <td>UK</td>\n",
       "    </tr>\n",
       "    <tr>\n",
       "      <th>316968</th>\n",
       "      <td>['B07PY1N81F' 'B07Q1Z8SQN' 'B07PY1N81F' 'B07Q1...</td>\n",
       "      <td>UK</td>\n",
       "    </tr>\n",
       "    <tr>\n",
       "      <th>316969</th>\n",
       "      <td>['B01MCQMORK' 'B09JYZ325W']</td>\n",
       "      <td>UK</td>\n",
       "    </tr>\n",
       "    <tr>\n",
       "      <th>316970</th>\n",
       "      <td>['B0B8JX92YJ' 'B09TN4MP6V' 'B0BG2LZQSL']</td>\n",
       "      <td>UK</td>\n",
       "    </tr>\n",
       "  </tbody>\n",
       "</table>\n",
       "<p>316971 rows × 2 columns</p>\n",
       "</div>"
      ],
      "text/plain": [
       "                                               prev_items locale\n",
       "0       ['B08V12CT4C' 'B08V1KXBQD' 'B01BVG1XJS' 'B09VC...     DE\n",
       "1                ['B00R9R5ND6' 'B00R9RZ9ZS' 'B00R9RZ9ZS']     DE\n",
       "2       ['B07YSRXJD3' 'B07G7Q5N6G' 'B08C9Q7QVK' 'B07G7...     DE\n",
       "3       ['B08KQBYV43' '3955350843' '3955350843' '39553...     DE\n",
       "4       ['B09FPTCWMC' 'B09FPTQP68' 'B08HMRY8NG' 'B08TB...     DE\n",
       "...                                                   ...    ...\n",
       "316966                        ['B077SZ2C3Y' 'B0B14M3VZX']     UK\n",
       "316967  ['B08KFHDPY9' 'B0851KTSRZ' 'B08KFHDPY9' 'B0851...     UK\n",
       "316968  ['B07PY1N81F' 'B07Q1Z8SQN' 'B07PY1N81F' 'B07Q1...     UK\n",
       "316969                        ['B01MCQMORK' 'B09JYZ325W']     UK\n",
       "316970           ['B0B8JX92YJ' 'B09TN4MP6V' 'B0BG2LZQSL']     UK\n",
       "\n",
       "[316971 rows x 2 columns]"
      ]
     },
     "execution_count": 3,
     "metadata": {},
     "output_type": "execute_result"
    }
   ],
   "source": [
    "df_test = pd.read_csv('data/sessions_test_task1.csv')\n",
    "df_test"
   ]
  },
  {
   "cell_type": "code",
   "execution_count": 4,
   "id": "ee57d7f1-a8af-48db-83cc-a0d7f2342b1c",
   "metadata": {
    "tags": []
   },
   "outputs": [],
   "source": [
    "def str2list(x):\n",
    "    x = x.replace('[', '').replace(']', '').replace(\"'\", '').replace('\\n', ' ').replace('\\r', ' ')\n",
    "    l = [i for i in x.split() if i]\n",
    "    return l"
   ]
  },
  {
   "cell_type": "code",
   "execution_count": 5,
   "id": "96003632-5fdf-4c0d-955c-854c32fb687f",
   "metadata": {
    "tags": []
   },
   "outputs": [
    {
     "data": {
      "application/vnd.jupyter.widget-view+json": {
       "model_id": "305e3b7fc2734499923439501ff17e62",
       "version_major": 2,
       "version_minor": 0
      },
      "text/plain": [
       "  0%|          | 0/2272522 [00:00<?, ?it/s]"
      ]
     },
     "metadata": {},
     "output_type": "display_data"
    }
   ],
   "source": [
    "next_item_dict = defaultdict(list)\n",
    "\n",
    "for _, row in tqdm(df_sess.iterrows(), total=len(df_sess)):\n",
    "    prev_items = str2list(row['prev_items'])\n",
    "    next_item = row['next_item']\n",
    "    prev_items_length = len(prev_items)\n",
    "    if prev_items_length <= 1:\n",
    "        next_item_dict[prev_items[0]].append(next_item)\n",
    "    else:\n",
    "        for i, item in enumerate(prev_items[:-1]):\n",
    "            next_item_dict[item].append(prev_items[i+1])\n",
    "        next_item_dict[prev_items[-1]].append(next_item)"
   ]
  },
  {
   "cell_type": "code",
   "execution_count": 6,
   "id": "32301403-308a-4751-8ec7-98dfaf2cd28a",
   "metadata": {
    "tags": []
   },
   "outputs": [
    {
     "data": {
      "application/vnd.jupyter.widget-view+json": {
       "model_id": "38f6063f5657406baa44f741cac3a851",
       "version_major": 2,
       "version_minor": 0
      },
      "text/plain": [
       "  0%|          | 0/316971 [00:00<?, ?it/s]"
      ]
     },
     "metadata": {},
     "output_type": "display_data"
    }
   ],
   "source": [
    "for _, row in tqdm(df_test.iterrows(), total=len(df_test)):\n",
    "    prev_items = str2list(row['prev_items'])\n",
    "    prev_items_length = len(prev_items)\n",
    "    if prev_items_length <= 1:\n",
    "        continue\n",
    "    else:\n",
    "        for i, item in enumerate(prev_items[:-1]):\n",
    "            next_item_dict[item].append(prev_items[i+1])"
   ]
  },
  {
   "cell_type": "code",
   "execution_count": 7,
   "id": "324ade69-37e5-4b8f-8a22-fd6d3760bccf",
   "metadata": {
    "tags": []
   },
   "outputs": [
    {
     "data": {
      "application/vnd.jupyter.widget-view+json": {
       "model_id": "6f5ef27593624697bfd27102572fb278",
       "version_major": 2,
       "version_minor": 0
      },
      "text/plain": [
       "  0%|          | 0/1074040 [00:00<?, ?it/s]"
      ]
     },
     "metadata": {},
     "output_type": "display_data"
    }
   ],
   "source": [
    "next_item_map = {}\n",
    "\n",
    "for item in tqdm(next_item_dict):\n",
    "    counter = Counter(next_item_dict[item])\n",
    "    next_item_map[item] = [i[0] for i in counter.most_common(100)]"
   ]
  },
  {
   "cell_type": "code",
   "execution_count": 8,
   "id": "6db1cd80-c3d1-4897-98ed-e372db2878ca",
   "metadata": {
    "tags": []
   },
   "outputs": [
    {
     "data": {
      "text/html": [
       "<div>\n",
       "<style scoped>\n",
       "    .dataframe tbody tr th:only-of-type {\n",
       "        vertical-align: middle;\n",
       "    }\n",
       "\n",
       "    .dataframe tbody tr th {\n",
       "        vertical-align: top;\n",
       "    }\n",
       "\n",
       "    .dataframe thead th {\n",
       "        text-align: right;\n",
       "    }\n",
       "</style>\n",
       "<table border=\"1\" class=\"dataframe\">\n",
       "  <thead>\n",
       "    <tr style=\"text-align: right;\">\n",
       "      <th></th>\n",
       "      <th>item</th>\n",
       "      <th>next_item</th>\n",
       "    </tr>\n",
       "  </thead>\n",
       "  <tbody>\n",
       "    <tr>\n",
       "      <th>0</th>\n",
       "      <td>B09W9FND7K</td>\n",
       "      <td>B09JSPLN1M</td>\n",
       "    </tr>\n",
       "    <tr>\n",
       "      <th>1</th>\n",
       "      <td>B09W9FND7K</td>\n",
       "      <td>B09JSPLN1M</td>\n",
       "    </tr>\n",
       "    <tr>\n",
       "      <th>2</th>\n",
       "      <td>B09W9FND7K</td>\n",
       "      <td>B09JSPLN1M</td>\n",
       "    </tr>\n",
       "    <tr>\n",
       "      <th>3</th>\n",
       "      <td>B09W9FND7K</td>\n",
       "      <td>B09JSPLN1M</td>\n",
       "    </tr>\n",
       "    <tr>\n",
       "      <th>4</th>\n",
       "      <td>B09W9FND7K</td>\n",
       "      <td>B078WW2WN5</td>\n",
       "    </tr>\n",
       "    <tr>\n",
       "      <th>...</th>\n",
       "      <td>...</td>\n",
       "      <td>...</td>\n",
       "    </tr>\n",
       "    <tr>\n",
       "      <th>11009677</th>\n",
       "      <td>B09SZMLQ9T</td>\n",
       "      <td>B075JHKSGJ</td>\n",
       "    </tr>\n",
       "    <tr>\n",
       "      <th>11009678</th>\n",
       "      <td>B081TXFKS5</td>\n",
       "      <td>B004RN5I6W</td>\n",
       "    </tr>\n",
       "    <tr>\n",
       "      <th>11009679</th>\n",
       "      <td>1402277822</td>\n",
       "      <td>1402277822</td>\n",
       "    </tr>\n",
       "    <tr>\n",
       "      <th>11009680</th>\n",
       "      <td>1402277822</td>\n",
       "      <td>B00APIVOIE</td>\n",
       "    </tr>\n",
       "    <tr>\n",
       "      <th>11009681</th>\n",
       "      <td>B07H31QX5Q</td>\n",
       "      <td>B08R7685RH</td>\n",
       "    </tr>\n",
       "  </tbody>\n",
       "</table>\n",
       "<p>11009682 rows × 2 columns</p>\n",
       "</div>"
      ],
      "text/plain": [
       "                item   next_item\n",
       "0         B09W9FND7K  B09JSPLN1M\n",
       "1         B09W9FND7K  B09JSPLN1M\n",
       "2         B09W9FND7K  B09JSPLN1M\n",
       "3         B09W9FND7K  B09JSPLN1M\n",
       "4         B09W9FND7K  B078WW2WN5\n",
       "...              ...         ...\n",
       "11009677  B09SZMLQ9T  B075JHKSGJ\n",
       "11009678  B081TXFKS5  B004RN5I6W\n",
       "11009679  1402277822  1402277822\n",
       "11009680  1402277822  B00APIVOIE\n",
       "11009681  B07H31QX5Q  B08R7685RH\n",
       "\n",
       "[11009682 rows x 2 columns]"
      ]
     },
     "execution_count": 8,
     "metadata": {},
     "output_type": "execute_result"
    }
   ],
   "source": [
    "k = []\n",
    "v = []\n",
    "\n",
    "for item in next_item_dict:\n",
    "    k.append(item)\n",
    "    v.append(next_item_dict[item])\n",
    "    \n",
    "df_next = pd.DataFrame({'item': k, 'next_item': v})\n",
    "df_next = df_next.explode('next_item').reset_index(drop=True)\n",
    "df_next"
   ]
  },
  {
   "cell_type": "code",
   "execution_count": 9,
   "id": "cdd55783-80f3-4263-9ef4-a7cde9ab11fc",
   "metadata": {
    "tags": []
   },
   "outputs": [],
   "source": [
    "top200 = df_next['next_item'].value_counts().index.tolist()[:200]"
   ]
  },
  {
   "cell_type": "code",
   "execution_count": 10,
   "id": "0e584702-0d93-432f-863a-612b42645523",
   "metadata": {
    "tags": []
   },
   "outputs": [
    {
     "data": {
      "text/html": [
       "<div>\n",
       "<style scoped>\n",
       "    .dataframe tbody tr th:only-of-type {\n",
       "        vertical-align: middle;\n",
       "    }\n",
       "\n",
       "    .dataframe tbody tr th {\n",
       "        vertical-align: top;\n",
       "    }\n",
       "\n",
       "    .dataframe thead th {\n",
       "        text-align: right;\n",
       "    }\n",
       "</style>\n",
       "<table border=\"1\" class=\"dataframe\">\n",
       "  <thead>\n",
       "    <tr style=\"text-align: right;\">\n",
       "      <th></th>\n",
       "      <th>prev_items</th>\n",
       "      <th>locale</th>\n",
       "      <th>last_item</th>\n",
       "      <th>next_item_prediction</th>\n",
       "    </tr>\n",
       "  </thead>\n",
       "  <tbody>\n",
       "    <tr>\n",
       "      <th>0</th>\n",
       "      <td>['B08V12CT4C' 'B08V1KXBQD' 'B01BVG1XJS' 'B09VC...</td>\n",
       "      <td>DE</td>\n",
       "      <td>B099NQFMG7</td>\n",
       "      <td>[B099NS1XPG, B08496TCCQ, B01BVG1XJS, B099NR3X6...</td>\n",
       "    </tr>\n",
       "    <tr>\n",
       "      <th>1</th>\n",
       "      <td>['B00R9R5ND6' 'B00R9RZ9ZS' 'B00R9RZ9ZS']</td>\n",
       "      <td>DE</td>\n",
       "      <td>B00R9RZ9ZS</td>\n",
       "      <td>[B004ZXMV4Q, B00R9R5ND6, B095TQTZXY, B086J6RTT...</td>\n",
       "    </tr>\n",
       "    <tr>\n",
       "      <th>2</th>\n",
       "      <td>['B07YSRXJD3' 'B07G7Q5N6G' 'B08C9Q7QVK' 'B07G7...</td>\n",
       "      <td>DE</td>\n",
       "      <td>B07G7Q5N6G</td>\n",
       "      <td>[B08C9Q7QVK, B07G7Q5N6G, B07YSRXJD3, B0B5QNFWJ...</td>\n",
       "    </tr>\n",
       "    <tr>\n",
       "      <th>3</th>\n",
       "      <td>['B08KQBYV43' '3955350843' '3955350843' '39553...</td>\n",
       "      <td>DE</td>\n",
       "      <td>3955350843</td>\n",
       "      <td>[395535086X, 3955350843, B0829LZFT1, 377247695...</td>\n",
       "    </tr>\n",
       "    <tr>\n",
       "      <th>4</th>\n",
       "      <td>['B09FPTCWMC' 'B09FPTQP68' 'B08HMRY8NG' 'B08TB...</td>\n",
       "      <td>DE</td>\n",
       "      <td>B09J945WQR</td>\n",
       "      <td>[B09J8V18FL, B09J8T6TTH, B09J8SKX9G, B09J8TWRV...</td>\n",
       "    </tr>\n",
       "    <tr>\n",
       "      <th>...</th>\n",
       "      <td>...</td>\n",
       "      <td>...</td>\n",
       "      <td>...</td>\n",
       "      <td>...</td>\n",
       "    </tr>\n",
       "    <tr>\n",
       "      <th>316966</th>\n",
       "      <td>['B077SZ2C3Y' 'B0B14M3VZX']</td>\n",
       "      <td>UK</td>\n",
       "      <td>B0B14M3VZX</td>\n",
       "      <td>[B08X9L5RGD]</td>\n",
       "    </tr>\n",
       "    <tr>\n",
       "      <th>316967</th>\n",
       "      <td>['B08KFHDPY9' 'B0851KTSRZ' 'B08KFHDPY9' 'B0851...</td>\n",
       "      <td>UK</td>\n",
       "      <td>B081YDH55K</td>\n",
       "      <td>[B09CPNS7XV, B0989BHLSY, B09895QPQF, B09CPP92Q...</td>\n",
       "    </tr>\n",
       "    <tr>\n",
       "      <th>316968</th>\n",
       "      <td>['B07PY1N81F' 'B07Q1Z8SQN' 'B07PY1N81F' 'B07Q1...</td>\n",
       "      <td>UK</td>\n",
       "      <td>B09HL11V5B</td>\n",
       "      <td>[B09HKZBNZH, B09HL141QC, B09HZSRJWW, B07Q1ZMNZ...</td>\n",
       "    </tr>\n",
       "    <tr>\n",
       "      <th>316969</th>\n",
       "      <td>['B01MCQMORK' 'B09JYZ325W']</td>\n",
       "      <td>UK</td>\n",
       "      <td>B09JYZ325W</td>\n",
       "      <td>[B08JG8TSCP, B07TR5LQSL, B09JYZ325W]</td>\n",
       "    </tr>\n",
       "    <tr>\n",
       "      <th>316970</th>\n",
       "      <td>['B0B8JX92YJ' 'B09TN4MP6V' 'B0BG2LZQSL']</td>\n",
       "      <td>UK</td>\n",
       "      <td>B0BG2LZQSL</td>\n",
       "      <td>[B09XPX59JK, B09TN4MP6V, B08LGRK6MT]</td>\n",
       "    </tr>\n",
       "  </tbody>\n",
       "</table>\n",
       "<p>316971 rows × 4 columns</p>\n",
       "</div>"
      ],
      "text/plain": [
       "                                               prev_items locale   last_item  \\\n",
       "0       ['B08V12CT4C' 'B08V1KXBQD' 'B01BVG1XJS' 'B09VC...     DE  B099NQFMG7   \n",
       "1                ['B00R9R5ND6' 'B00R9RZ9ZS' 'B00R9RZ9ZS']     DE  B00R9RZ9ZS   \n",
       "2       ['B07YSRXJD3' 'B07G7Q5N6G' 'B08C9Q7QVK' 'B07G7...     DE  B07G7Q5N6G   \n",
       "3       ['B08KQBYV43' '3955350843' '3955350843' '39553...     DE  3955350843   \n",
       "4       ['B09FPTCWMC' 'B09FPTQP68' 'B08HMRY8NG' 'B08TB...     DE  B09J945WQR   \n",
       "...                                                   ...    ...         ...   \n",
       "316966                        ['B077SZ2C3Y' 'B0B14M3VZX']     UK  B0B14M3VZX   \n",
       "316967  ['B08KFHDPY9' 'B0851KTSRZ' 'B08KFHDPY9' 'B0851...     UK  B081YDH55K   \n",
       "316968  ['B07PY1N81F' 'B07Q1Z8SQN' 'B07PY1N81F' 'B07Q1...     UK  B09HL11V5B   \n",
       "316969                        ['B01MCQMORK' 'B09JYZ325W']     UK  B09JYZ325W   \n",
       "316970           ['B0B8JX92YJ' 'B09TN4MP6V' 'B0BG2LZQSL']     UK  B0BG2LZQSL   \n",
       "\n",
       "                                     next_item_prediction  \n",
       "0       [B099NS1XPG, B08496TCCQ, B01BVG1XJS, B099NR3X6...  \n",
       "1       [B004ZXMV4Q, B00R9R5ND6, B095TQTZXY, B086J6RTT...  \n",
       "2       [B08C9Q7QVK, B07G7Q5N6G, B07YSRXJD3, B0B5QNFWJ...  \n",
       "3       [395535086X, 3955350843, B0829LZFT1, 377247695...  \n",
       "4       [B09J8V18FL, B09J8T6TTH, B09J8SKX9G, B09J8TWRV...  \n",
       "...                                                   ...  \n",
       "316966                                       [B08X9L5RGD]  \n",
       "316967  [B09CPNS7XV, B0989BHLSY, B09895QPQF, B09CPP92Q...  \n",
       "316968  [B09HKZBNZH, B09HL141QC, B09HZSRJWW, B07Q1ZMNZ...  \n",
       "316969               [B08JG8TSCP, B07TR5LQSL, B09JYZ325W]  \n",
       "316970               [B09XPX59JK, B09TN4MP6V, B08LGRK6MT]  \n",
       "\n",
       "[316971 rows x 4 columns]"
      ]
     },
     "execution_count": 10,
     "metadata": {},
     "output_type": "execute_result"
    }
   ],
   "source": [
    "df_test['last_item'] = df_test['prev_items'].apply(lambda x: str2list(x)[-1])\n",
    "df_test['next_item_prediction'] = df_test['last_item'].map(next_item_map)\n",
    "df_test"
   ]
  },
  {
   "cell_type": "markdown",
   "id": "8e18d2ee-bc96-4405-8864-0576bd80f893",
   "metadata": {},
   "source": [
    "# Fill up with FAISS"
   ]
  },
  {
   "cell_type": "code",
   "execution_count": 11,
   "id": "bbcaede7-eef5-4382-b520-269c4a0f4889",
   "metadata": {
    "tags": []
   },
   "outputs": [],
   "source": [
    "# next items preds\n",
    "df_test_de = df_test[df_test[\"locale\"] == \"DE\"]\n",
    "df_test_uk = df_test[df_test[\"locale\"] == \"UK\"]\n",
    "df_test_jp = df_test[df_test[\"locale\"] == \"JP\"]"
   ]
  },
  {
   "cell_type": "code",
   "execution_count": 12,
   "id": "2498d804-00bf-434c-a394-d520a678799f",
   "metadata": {
    "tags": []
   },
   "outputs": [
    {
     "data": {
      "text/html": [
       "<div>\n",
       "<style scoped>\n",
       "    .dataframe tbody tr th:only-of-type {\n",
       "        vertical-align: middle;\n",
       "    }\n",
       "\n",
       "    .dataframe tbody tr th {\n",
       "        vertical-align: top;\n",
       "    }\n",
       "\n",
       "    .dataframe thead th {\n",
       "        text-align: right;\n",
       "    }\n",
       "</style>\n",
       "<table border=\"1\" class=\"dataframe\">\n",
       "  <thead>\n",
       "    <tr style=\"text-align: right;\">\n",
       "      <th></th>\n",
       "      <th>prev_items</th>\n",
       "      <th>locale</th>\n",
       "      <th>next_item</th>\n",
       "    </tr>\n",
       "  </thead>\n",
       "  <tbody>\n",
       "    <tr>\n",
       "      <th>0</th>\n",
       "      <td>['B08V12CT4C', 'B08V1KXBQD', 'B01BVG1XJS', 'B0...</td>\n",
       "      <td>DE</td>\n",
       "      <td>['B08V1KXBQD', 'B07TV22X9M', 'B08V12CT4C', 'B0...</td>\n",
       "    </tr>\n",
       "    <tr>\n",
       "      <th>1</th>\n",
       "      <td>['B00R9R5ND6', 'B00R9RZ9ZS', 'B00R9RZ9ZS']</td>\n",
       "      <td>DE</td>\n",
       "      <td>['B00R9RZ9ZS', 'B00R9R5ND6', 'B095TL42FL', '37...</td>\n",
       "    </tr>\n",
       "    <tr>\n",
       "      <th>2</th>\n",
       "      <td>['B07YSRXJD3', 'B07G7Q5N6G', 'B08C9Q7QVK', 'B0...</td>\n",
       "      <td>DE</td>\n",
       "      <td>['B07G7Q5N6G', 'B08C9Q7QVK', 'B099277D7Q', 'B0...</td>\n",
       "    </tr>\n",
       "    <tr>\n",
       "      <th>3</th>\n",
       "      <td>['B08KQBYV43', '3955350843', '3955350843', '39...</td>\n",
       "      <td>DE</td>\n",
       "      <td>['3741524131', '3955350878', '395535086X', 'B0...</td>\n",
       "    </tr>\n",
       "    <tr>\n",
       "      <th>4</th>\n",
       "      <td>['B09FPTCWMC', 'B09FPTQP68', 'B08HMRY8NG', 'B0...</td>\n",
       "      <td>DE</td>\n",
       "      <td>['B09J8V18FL', 'B09J8VPTTW', 'B09J8TTZ68', 'B0...</td>\n",
       "    </tr>\n",
       "  </tbody>\n",
       "</table>\n",
       "</div>"
      ],
      "text/plain": [
       "                                          prev_items locale  \\\n",
       "0  ['B08V12CT4C', 'B08V1KXBQD', 'B01BVG1XJS', 'B0...     DE   \n",
       "1         ['B00R9R5ND6', 'B00R9RZ9ZS', 'B00R9RZ9ZS']     DE   \n",
       "2  ['B07YSRXJD3', 'B07G7Q5N6G', 'B08C9Q7QVK', 'B0...     DE   \n",
       "3  ['B08KQBYV43', '3955350843', '3955350843', '39...     DE   \n",
       "4  ['B09FPTCWMC', 'B09FPTQP68', 'B08HMRY8NG', 'B0...     DE   \n",
       "\n",
       "                                           next_item  \n",
       "0  ['B08V1KXBQD', 'B07TV22X9M', 'B08V12CT4C', 'B0...  \n",
       "1  ['B00R9RZ9ZS', 'B00R9R5ND6', 'B095TL42FL', '37...  \n",
       "2  ['B07G7Q5N6G', 'B08C9Q7QVK', 'B099277D7Q', 'B0...  \n",
       "3  ['3741524131', '3955350878', '395535086X', 'B0...  \n",
       "4  ['B09J8V18FL', 'B09J8VPTTW', 'B09J8TTZ68', 'B0...  "
      ]
     },
     "metadata": {},
     "output_type": "display_data"
    },
    {
     "data": {
      "text/html": [
       "<div>\n",
       "<style scoped>\n",
       "    .dataframe tbody tr th:only-of-type {\n",
       "        vertical-align: middle;\n",
       "    }\n",
       "\n",
       "    .dataframe tbody tr th {\n",
       "        vertical-align: top;\n",
       "    }\n",
       "\n",
       "    .dataframe thead th {\n",
       "        text-align: right;\n",
       "    }\n",
       "</style>\n",
       "<table border=\"1\" class=\"dataframe\">\n",
       "  <thead>\n",
       "    <tr style=\"text-align: right;\">\n",
       "      <th></th>\n",
       "      <th>prev_items</th>\n",
       "      <th>locale</th>\n",
       "      <th>next_item</th>\n",
       "    </tr>\n",
       "  </thead>\n",
       "  <tbody>\n",
       "    <tr>\n",
       "      <th>104568</th>\n",
       "      <td>['B09NZHMKXW', 'B0823M5W31', 'B017GSMOJS', 'B0...</td>\n",
       "      <td>JP</td>\n",
       "      <td>['B08NZN9WC1', 'B09S25SZ1Q', 'B06Y4F4NDS', 'B0...</td>\n",
       "    </tr>\n",
       "    <tr>\n",
       "      <th>104569</th>\n",
       "      <td>['B08S31PW4G', 'B09TKN5SGL']</td>\n",
       "      <td>JP</td>\n",
       "      <td>['B09BHP5PP1', 'B07F3WG12T', 'B09CG7D7LN', 'B0...</td>\n",
       "    </tr>\n",
       "    <tr>\n",
       "      <th>104570</th>\n",
       "      <td>['B0BHWBZ4ZJ', 'B0BHWBZ4ZJ', 'B09MQCDRZ1', 'B0...</td>\n",
       "      <td>JP</td>\n",
       "      <td>['B09V7RBRWN', 'B000J3VKLQ', 'B09CD5BQ7Y', 'B0...</td>\n",
       "    </tr>\n",
       "    <tr>\n",
       "      <th>104571</th>\n",
       "      <td>['B07VHJZQYB', 'B07Y1P1B5T']</td>\n",
       "      <td>JP</td>\n",
       "      <td>['B087CQM9BT', 'B089SWFFFV', 'B07VCLCJT3', 'B0...</td>\n",
       "    </tr>\n",
       "    <tr>\n",
       "      <th>104572</th>\n",
       "      <td>['B09JK112HQ', 'B07GCTJ7JX', 'B0BKK2NRPJ', 'B0...</td>\n",
       "      <td>JP</td>\n",
       "      <td>['B09FSNXWKP', 'B0926NWR4L', 'B09QXDVQ1V', 'B0...</td>\n",
       "    </tr>\n",
       "  </tbody>\n",
       "</table>\n",
       "</div>"
      ],
      "text/plain": [
       "                                               prev_items locale  \\\n",
       "104568  ['B09NZHMKXW', 'B0823M5W31', 'B017GSMOJS', 'B0...     JP   \n",
       "104569                       ['B08S31PW4G', 'B09TKN5SGL']     JP   \n",
       "104570  ['B0BHWBZ4ZJ', 'B0BHWBZ4ZJ', 'B09MQCDRZ1', 'B0...     JP   \n",
       "104571                       ['B07VHJZQYB', 'B07Y1P1B5T']     JP   \n",
       "104572  ['B09JK112HQ', 'B07GCTJ7JX', 'B0BKK2NRPJ', 'B0...     JP   \n",
       "\n",
       "                                                next_item  \n",
       "104568  ['B08NZN9WC1', 'B09S25SZ1Q', 'B06Y4F4NDS', 'B0...  \n",
       "104569  ['B09BHP5PP1', 'B07F3WG12T', 'B09CG7D7LN', 'B0...  \n",
       "104570  ['B09V7RBRWN', 'B000J3VKLQ', 'B09CD5BQ7Y', 'B0...  \n",
       "104571  ['B087CQM9BT', 'B089SWFFFV', 'B07VCLCJT3', 'B0...  \n",
       "104572  ['B09FSNXWKP', 'B0926NWR4L', 'B09QXDVQ1V', 'B0...  "
      ]
     },
     "metadata": {},
     "output_type": "display_data"
    },
    {
     "data": {
      "text/html": [
       "<div>\n",
       "<style scoped>\n",
       "    .dataframe tbody tr th:only-of-type {\n",
       "        vertical-align: middle;\n",
       "    }\n",
       "\n",
       "    .dataframe tbody tr th {\n",
       "        vertical-align: top;\n",
       "    }\n",
       "\n",
       "    .dataframe thead th {\n",
       "        text-align: right;\n",
       "    }\n",
       "</style>\n",
       "<table border=\"1\" class=\"dataframe\">\n",
       "  <thead>\n",
       "    <tr style=\"text-align: right;\">\n",
       "      <th></th>\n",
       "      <th>prev_items</th>\n",
       "      <th>locale</th>\n",
       "      <th>next_item</th>\n",
       "    </tr>\n",
       "  </thead>\n",
       "  <tbody>\n",
       "    <tr>\n",
       "      <th>201035</th>\n",
       "      <td>['B007MO0FIO', 'B09QXPN2TL', 'B005PA3I8G', 'B0...</td>\n",
       "      <td>UK</td>\n",
       "      <td>['B091TLGK2T', 'B0BFX4PPYM', 'B08WPCZ8KR', 'B0...</td>\n",
       "    </tr>\n",
       "    <tr>\n",
       "      <th>201036</th>\n",
       "      <td>['B082P6M3HC', 'B082BHJ9G8', 'B0797QCXS6', 'B0...</td>\n",
       "      <td>UK</td>\n",
       "      <td>['B0791BS4NL', 'B09SH64F6S', 'B07S7CZZ7L', 'B0...</td>\n",
       "    </tr>\n",
       "    <tr>\n",
       "      <th>201037</th>\n",
       "      <td>['B0894HWG1H', 'B07S79G11S', 'B092VCHVS7', 'B0...</td>\n",
       "      <td>UK</td>\n",
       "      <td>['B0B7RW8HYV', 'B07TS1NXSH', 'B07MMWKWH1', 'B0...</td>\n",
       "    </tr>\n",
       "    <tr>\n",
       "      <th>201038</th>\n",
       "      <td>['B00FLTE8OE', 'B07CRNCKMR', 'B0784T65RK']</td>\n",
       "      <td>UK</td>\n",
       "      <td>['B0B717ZVD5', 'B006L4DLW8', 'B091F4QN7K', 'B0...</td>\n",
       "    </tr>\n",
       "    <tr>\n",
       "      <th>201039</th>\n",
       "      <td>['B0B5XPGRXD', 'B0BHSXQLSX', 'B0BJKJZJNM']</td>\n",
       "      <td>UK</td>\n",
       "      <td>['3742322508', 'B095XWVYMN', 'B001QCELXS', 'B0...</td>\n",
       "    </tr>\n",
       "  </tbody>\n",
       "</table>\n",
       "</div>"
      ],
      "text/plain": [
       "                                               prev_items locale  \\\n",
       "201035  ['B007MO0FIO', 'B09QXPN2TL', 'B005PA3I8G', 'B0...     UK   \n",
       "201036  ['B082P6M3HC', 'B082BHJ9G8', 'B0797QCXS6', 'B0...     UK   \n",
       "201037  ['B0894HWG1H', 'B07S79G11S', 'B092VCHVS7', 'B0...     UK   \n",
       "201038         ['B00FLTE8OE', 'B07CRNCKMR', 'B0784T65RK']     UK   \n",
       "201039         ['B0B5XPGRXD', 'B0BHSXQLSX', 'B0BJKJZJNM']     UK   \n",
       "\n",
       "                                                next_item  \n",
       "201035  ['B091TLGK2T', 'B0BFX4PPYM', 'B08WPCZ8KR', 'B0...  \n",
       "201036  ['B0791BS4NL', 'B09SH64F6S', 'B07S7CZZ7L', 'B0...  \n",
       "201037  ['B0B7RW8HYV', 'B07TS1NXSH', 'B07MMWKWH1', 'B0...  \n",
       "201038  ['B0B717ZVD5', 'B006L4DLW8', 'B091F4QN7K', 'B0...  \n",
       "201039  ['3742322508', 'B095XWVYMN', 'B001QCELXS', 'B0...  "
      ]
     },
     "metadata": {},
     "output_type": "display_data"
    }
   ],
   "source": [
    "# faiss preds\n",
    "preds_de = pd.read_csv(\"pred_sessions_test_task1_de.csv\", index_col=[0])\n",
    "preds_uk = pd.read_csv(\"pred_sessions_test_task1_jp.csv\", index_col=[0])\n",
    "preds_jp = pd.read_csv(\"pred_sessions_test_task1_uk.csv\", index_col=[0])\n",
    "\n",
    "display(preds_de.head())\n",
    "display(preds_uk.head())\n",
    "display(preds_jp.head())"
   ]
  },
  {
   "cell_type": "code",
   "execution_count": 13,
   "id": "f653cc4d-a82e-4e68-a370-4bda83aff86c",
   "metadata": {
    "tags": []
   },
   "outputs": [],
   "source": [
    "df_test_de['next_item_prediction'] = df_test_de['next_item_prediction'].replace('[', '').replace(']', '').replace(\"'\", '').replace('\\n', ' ').replace('\\r', ' ')\n",
    "df_test_uk['next_item_prediction'] = df_test_uk['next_item_prediction'].replace('[', '').replace(']', '').replace(\"'\", '').replace('\\n', ' ').replace('\\r', ' ')\n",
    "df_test_jp['next_item_prediction'] = df_test_jp['next_item_prediction'].replace('[', '').replace(']', '').replace(\"'\", '').replace('\\n', ' ').replace('\\r', ' ')"
   ]
  },
  {
   "cell_type": "code",
   "execution_count": 14,
   "id": "b80021a7-2fb2-4e95-8e1a-4ecab4ea6ca3",
   "metadata": {
    "tags": []
   },
   "outputs": [],
   "source": [
    "preds_de = list(preds_de['next_item'].str.strip(\"[']\").str.split(\"', '\"))\n",
    "preds_uk = list(preds_uk['next_item'].str.strip(\"[']\").str.split(\"', '\"))\n",
    "preds_jp = list(preds_jp['next_item'].str.strip(\"[']\").str.split(\"', '\"))"
   ]
  },
  {
   "cell_type": "code",
   "execution_count": 15,
   "id": "66b8a13c-5563-4945-8511-ae9aaa0109c3",
   "metadata": {
    "tags": []
   },
   "outputs": [
    {
     "ename": "ValueError",
     "evalue": "Unable to coerce to Series, length must be 4: given 104568",
     "output_type": "error",
     "traceback": [
      "\u001b[0;31m---------------------------------------------------------------------------\u001b[0m",
      "\u001b[0;31mValueError\u001b[0m                                Traceback (most recent call last)",
      "Cell \u001b[0;32mIn[15], line 1\u001b[0m\n\u001b[0;32m----> 1\u001b[0m preds_combined_de \u001b[38;5;241m=\u001b[39m \u001b[43mdf_test_de\u001b[49m\u001b[43m \u001b[49m\u001b[38;5;241;43m+\u001b[39;49m\u001b[43m \u001b[49m\u001b[43mpreds_de\u001b[49m\n\u001b[1;32m      2\u001b[0m preds_combined_uk \u001b[38;5;241m=\u001b[39m df_test_uk \u001b[38;5;241m+\u001b[39m preds_uk\n\u001b[1;32m      3\u001b[0m preds_combined_jp \u001b[38;5;241m=\u001b[39m df_test_jp \u001b[38;5;241m+\u001b[39m preds_jp\n",
      "File \u001b[0;32m/opt/bwhpc/common/jupyter/tensorflow/2023-03-24/lib/python3.9/site-packages/pandas/core/ops/common.py:72\u001b[0m, in \u001b[0;36m_unpack_zerodim_and_defer.<locals>.new_method\u001b[0;34m(self, other)\u001b[0m\n\u001b[1;32m     68\u001b[0m             \u001b[38;5;28;01mreturn\u001b[39;00m \u001b[38;5;28mNotImplemented\u001b[39m\n\u001b[1;32m     70\u001b[0m other \u001b[38;5;241m=\u001b[39m item_from_zerodim(other)\n\u001b[0;32m---> 72\u001b[0m \u001b[38;5;28;01mreturn\u001b[39;00m \u001b[43mmethod\u001b[49m\u001b[43m(\u001b[49m\u001b[38;5;28;43mself\u001b[39;49m\u001b[43m,\u001b[49m\u001b[43m \u001b[49m\u001b[43mother\u001b[49m\u001b[43m)\u001b[49m\n",
      "File \u001b[0;32m/opt/bwhpc/common/jupyter/tensorflow/2023-03-24/lib/python3.9/site-packages/pandas/core/arraylike.py:102\u001b[0m, in \u001b[0;36mOpsMixin.__add__\u001b[0;34m(self, other)\u001b[0m\n\u001b[1;32m    100\u001b[0m \u001b[38;5;129m@unpack_zerodim_and_defer\u001b[39m(\u001b[38;5;124m\"\u001b[39m\u001b[38;5;124m__add__\u001b[39m\u001b[38;5;124m\"\u001b[39m)\n\u001b[1;32m    101\u001b[0m \u001b[38;5;28;01mdef\u001b[39;00m \u001b[38;5;21m__add__\u001b[39m(\u001b[38;5;28mself\u001b[39m, other):\n\u001b[0;32m--> 102\u001b[0m     \u001b[38;5;28;01mreturn\u001b[39;00m \u001b[38;5;28;43mself\u001b[39;49m\u001b[38;5;241;43m.\u001b[39;49m\u001b[43m_arith_method\u001b[49m\u001b[43m(\u001b[49m\u001b[43mother\u001b[49m\u001b[43m,\u001b[49m\u001b[43m \u001b[49m\u001b[43moperator\u001b[49m\u001b[38;5;241;43m.\u001b[39;49m\u001b[43madd\u001b[49m\u001b[43m)\u001b[49m\n",
      "File \u001b[0;32m/opt/bwhpc/common/jupyter/tensorflow/2023-03-24/lib/python3.9/site-packages/pandas/core/frame.py:7592\u001b[0m, in \u001b[0;36mDataFrame._arith_method\u001b[0;34m(self, other, op)\u001b[0m\n\u001b[1;32m   7589\u001b[0m axis \u001b[38;5;241m=\u001b[39m \u001b[38;5;241m1\u001b[39m  \u001b[38;5;66;03m# only relevant for Series other case\u001b[39;00m\n\u001b[1;32m   7590\u001b[0m other \u001b[38;5;241m=\u001b[39m ops\u001b[38;5;241m.\u001b[39mmaybe_prepare_scalar_for_op(other, (\u001b[38;5;28mself\u001b[39m\u001b[38;5;241m.\u001b[39mshape[axis],))\n\u001b[0;32m-> 7592\u001b[0m \u001b[38;5;28mself\u001b[39m, other \u001b[38;5;241m=\u001b[39m \u001b[43mops\u001b[49m\u001b[38;5;241;43m.\u001b[39;49m\u001b[43malign_method_FRAME\u001b[49m\u001b[43m(\u001b[49m\u001b[38;5;28;43mself\u001b[39;49m\u001b[43m,\u001b[49m\u001b[43m \u001b[49m\u001b[43mother\u001b[49m\u001b[43m,\u001b[49m\u001b[43m \u001b[49m\u001b[43maxis\u001b[49m\u001b[43m,\u001b[49m\u001b[43m \u001b[49m\u001b[43mflex\u001b[49m\u001b[38;5;241;43m=\u001b[39;49m\u001b[38;5;28;43;01mTrue\u001b[39;49;00m\u001b[43m,\u001b[49m\u001b[43m \u001b[49m\u001b[43mlevel\u001b[49m\u001b[38;5;241;43m=\u001b[39;49m\u001b[38;5;28;43;01mNone\u001b[39;49;00m\u001b[43m)\u001b[49m\n\u001b[1;32m   7594\u001b[0m new_data \u001b[38;5;241m=\u001b[39m \u001b[38;5;28mself\u001b[39m\u001b[38;5;241m.\u001b[39m_dispatch_frame_op(other, op, axis\u001b[38;5;241m=\u001b[39maxis)\n\u001b[1;32m   7595\u001b[0m \u001b[38;5;28;01mreturn\u001b[39;00m \u001b[38;5;28mself\u001b[39m\u001b[38;5;241m.\u001b[39m_construct_result(new_data)\n",
      "File \u001b[0;32m/opt/bwhpc/common/jupyter/tensorflow/2023-03-24/lib/python3.9/site-packages/pandas/core/ops/__init__.py:282\u001b[0m, in \u001b[0;36malign_method_FRAME\u001b[0;34m(left, right, axis, flex, level)\u001b[0m\n\u001b[1;32m    278\u001b[0m         \u001b[38;5;28;01mraise\u001b[39;00m \u001b[38;5;167;01mValueError\u001b[39;00m(\n\u001b[1;32m    279\u001b[0m             \u001b[38;5;124mf\u001b[39m\u001b[38;5;124m\"\u001b[39m\u001b[38;5;124mUnable to coerce list of \u001b[39m\u001b[38;5;132;01m{\u001b[39;00m\u001b[38;5;28mtype\u001b[39m(right[\u001b[38;5;241m0\u001b[39m])\u001b[38;5;132;01m}\u001b[39;00m\u001b[38;5;124m to Series/DataFrame\u001b[39m\u001b[38;5;124m\"\u001b[39m\n\u001b[1;32m    280\u001b[0m         )\n\u001b[1;32m    281\u001b[0m     \u001b[38;5;66;03m# GH17901\u001b[39;00m\n\u001b[0;32m--> 282\u001b[0m     right \u001b[38;5;241m=\u001b[39m \u001b[43mto_series\u001b[49m\u001b[43m(\u001b[49m\u001b[43mright\u001b[49m\u001b[43m)\u001b[49m\n\u001b[1;32m    284\u001b[0m \u001b[38;5;28;01mif\u001b[39;00m flex \u001b[38;5;129;01mis\u001b[39;00m \u001b[38;5;129;01mnot\u001b[39;00m \u001b[38;5;28;01mNone\u001b[39;00m \u001b[38;5;129;01mand\u001b[39;00m \u001b[38;5;28misinstance\u001b[39m(right, ABCDataFrame):\n\u001b[1;32m    285\u001b[0m     \u001b[38;5;28;01mif\u001b[39;00m \u001b[38;5;129;01mnot\u001b[39;00m left\u001b[38;5;241m.\u001b[39m_indexed_same(right):\n",
      "File \u001b[0;32m/opt/bwhpc/common/jupyter/tensorflow/2023-03-24/lib/python3.9/site-packages/pandas/core/ops/__init__.py:239\u001b[0m, in \u001b[0;36malign_method_FRAME.<locals>.to_series\u001b[0;34m(right)\u001b[0m\n\u001b[1;32m    237\u001b[0m \u001b[38;5;28;01melse\u001b[39;00m:\n\u001b[1;32m    238\u001b[0m     \u001b[38;5;28;01mif\u001b[39;00m \u001b[38;5;28mlen\u001b[39m(left\u001b[38;5;241m.\u001b[39mcolumns) \u001b[38;5;241m!=\u001b[39m \u001b[38;5;28mlen\u001b[39m(right):\n\u001b[0;32m--> 239\u001b[0m         \u001b[38;5;28;01mraise\u001b[39;00m \u001b[38;5;167;01mValueError\u001b[39;00m(\n\u001b[1;32m    240\u001b[0m             msg\u001b[38;5;241m.\u001b[39mformat(req_len\u001b[38;5;241m=\u001b[39m\u001b[38;5;28mlen\u001b[39m(left\u001b[38;5;241m.\u001b[39mcolumns), given_len\u001b[38;5;241m=\u001b[39m\u001b[38;5;28mlen\u001b[39m(right))\n\u001b[1;32m    241\u001b[0m         )\n\u001b[1;32m    242\u001b[0m     right \u001b[38;5;241m=\u001b[39m left\u001b[38;5;241m.\u001b[39m_constructor_sliced(right, index\u001b[38;5;241m=\u001b[39mleft\u001b[38;5;241m.\u001b[39mcolumns)\n\u001b[1;32m    243\u001b[0m \u001b[38;5;28;01mreturn\u001b[39;00m right\n",
      "\u001b[0;31mValueError\u001b[0m: Unable to coerce to Series, length must be 4: given 104568"
     ]
    }
   ],
   "source": [
    "# preds_combined_de = df_test_de + preds_de\n",
    "# preds_combined_uk = df_test_uk + preds_uk\n",
    "# preds_combined_jp = df_test_jp + preds_jp"
   ]
  },
  {
   "cell_type": "code",
   "execution_count": 16,
   "id": "5cb87dc6-291e-4cc7-b206-e8a5ab74db9b",
   "metadata": {
    "tags": []
   },
   "outputs": [],
   "source": [
    "def drop_duplicates_from_list(original_list):\n",
    "    unique_list = []\n",
    "    for element in original_list:\n",
    "        if element not in unique_list:\n",
    "            unique_list.append(element)\n",
    "    return unique_list"
   ]
  },
  {
   "cell_type": "code",
   "execution_count": 19,
   "id": "4bda3ae0-e3dc-45cb-b37c-b625a6b82458",
   "metadata": {
    "tags": []
   },
   "outputs": [],
   "source": [
    "# fill up next_item lists that are shorter than 100 items with most common items\n",
    "def fill_up(next_items, locale):\n",
    "    n_items_missing = 100 - len(next_items)\n",
    "    \n",
    "    if n_items_missing > 0:\n",
    "        if locale == \"DE\":\n",
    "            next_items = next_items + preds_de\n",
    "            next_items = drop_duplicates_from_list(next_items)\n",
    "            if len(next_items) < 100:\n",
    "                print(\"DE missing\")\n",
    "            return next_items[:100]\n",
    "        if locale == \"UK\":\n",
    "            next_items = next_items + preds_uk\n",
    "            next_items = drop_duplicates_from_list(next_items)\n",
    "            if len(next_items) < 100:\n",
    "                print(\"UK missing\")\n",
    "            return next_items[:100]\n",
    "        if locale == \"JP\":\n",
    "            next_items = next_items + preds_jp\n",
    "            next_items = drop_duplicates_from_list(next_items)\n",
    "            if len(next_items) < 100:\n",
    "                print(\"JP missing\")\n",
    "            return next_items[:100]\n",
    "    else:\n",
    "        return next_items"
   ]
  },
  {
   "cell_type": "code",
   "execution_count": null,
   "id": "4c35e247-3e01-4c53-ad0a-908a321462f7",
   "metadata": {
    "tags": []
   },
   "outputs": [],
   "source": [
    "df_test_de[\"next_item_prediction\"] = df_test_de[\"next_item_prediction\"].apply(lambda l: fill_up(l, \"DE\"))\n",
    "df_test_uk[\"next_item_prediction\"] = df_test_uk[\"next_item_prediction\"].apply(lambda l: fill_up(l, \"UK\"))\n",
    "df_test_jp[\"next_item_prediction\"] = df_test_jp[\"next_item_prediction\"].apply(lambda l: fill_up(l, \"JP\"))"
   ]
  }
 ],
 "metadata": {
  "kernelspec": {
   "display_name": "Python 3 (ipykernel)",
   "language": "python",
   "name": "python3"
  },
  "language_info": {
   "codemirror_mode": {
    "name": "ipython",
    "version": 3
   },
   "file_extension": ".py",
   "mimetype": "text/x-python",
   "name": "python",
   "nbconvert_exporter": "python",
   "pygments_lexer": "ipython3",
   "version": "3.9.7"
  }
 },
 "nbformat": 4,
 "nbformat_minor": 5
}
