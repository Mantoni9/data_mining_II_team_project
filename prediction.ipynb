{
 "cells": [
  {
   "cell_type": "code",
   "execution_count": 1,
   "id": "e3d6e8fc-0fce-4b41-b235-4ffbdcb5e3aa",
   "metadata": {
    "tags": []
   },
   "outputs": [],
   "source": [
    "import pandas as pd\n",
    "import numpy as np"
   ]
  },
  {
   "cell_type": "code",
   "execution_count": 2,
   "id": "bbbf03c9-b8c9-4140-bb85-e43383e43c7a",
   "metadata": {
    "tags": []
   },
   "outputs": [
    {
     "name": "stdout",
     "output_type": "stream",
     "text": [
      "/bin/bash: apt: command not found\n",
      "Defaulting to user installation because normal site-packages is not writeable\n",
      "Requirement already satisfied: faiss-gpu in ./.local/lib/python3.9/site-packages (1.7.2)\n",
      "\n",
      "\u001b[1m[\u001b[0m\u001b[34;49mnotice\u001b[0m\u001b[1;39;49m]\u001b[0m\u001b[39;49m A new release of pip is available: \u001b[0m\u001b[31;49m23.0.1\u001b[0m\u001b[39;49m -> \u001b[0m\u001b[32;49m23.1.2\u001b[0m\n",
      "\u001b[1m[\u001b[0m\u001b[34;49mnotice\u001b[0m\u001b[1;39;49m]\u001b[0m\u001b[39;49m To update, run: \u001b[0m\u001b[32;49mpip install --upgrade pip\u001b[0m\n"
     ]
    }
   ],
   "source": [
    "!apt install libomp-dev\n",
    "!pip install faiss-gpu # if you don't have a NVIDA GPU use pip install faiss"
   ]
  },
  {
   "cell_type": "code",
   "execution_count": 3,
   "id": "fe44be9f-4ba7-48c6-be2b-49a6479bbabc",
   "metadata": {
    "tags": []
   },
   "outputs": [],
   "source": [
    "import faiss"
   ]
  },
  {
   "cell_type": "code",
   "execution_count": 4,
   "id": "8ac7d60b-9d0e-4637-be2d-9b6363eedadb",
   "metadata": {
    "tags": []
   },
   "outputs": [],
   "source": [
    "products_train = pd.read_csv(\"./data/products_train.csv\")"
   ]
  },
  {
   "cell_type": "code",
   "execution_count": 5,
   "id": "d01a151a-168d-4edc-80b0-54ed2c79671e",
   "metadata": {
    "tags": []
   },
   "outputs": [],
   "source": [
    "sessions_test_task1 = pd.read_csv(\"./data/sessions_test_task1.csv\")"
   ]
  },
  {
   "cell_type": "code",
   "execution_count": 6,
   "id": "91bb418f-3b36-4a72-88d9-04c951c505ac",
   "metadata": {
    "tags": []
   },
   "outputs": [],
   "source": [
    "products_de = products_train[products_train[\"locale\"] == \"DE\"][[\"id\", \"title\"]]\n",
    "products_uk = products_train[products_train[\"locale\"] == \"UK\"][[\"id\", \"title\"]]\n",
    "products_jp = products_train[products_train[\"locale\"] == \"JP\"][[\"id\", \"title\"]]"
   ]
  },
  {
   "cell_type": "code",
   "execution_count": 7,
   "id": "64080a93-225d-408c-9aa5-0c27bfe6dc3a",
   "metadata": {
    "tags": []
   },
   "outputs": [
    {
     "data": {
      "text/html": [
       "<div>\n",
       "<style scoped>\n",
       "    .dataframe tbody tr th:only-of-type {\n",
       "        vertical-align: middle;\n",
       "    }\n",
       "\n",
       "    .dataframe tbody tr th {\n",
       "        vertical-align: top;\n",
       "    }\n",
       "\n",
       "    .dataframe thead th {\n",
       "        text-align: right;\n",
       "    }\n",
       "</style>\n",
       "<table border=\"1\" class=\"dataframe\">\n",
       "  <thead>\n",
       "    <tr style=\"text-align: right;\">\n",
       "      <th></th>\n",
       "      <th>id</th>\n",
       "      <th>title</th>\n",
       "    </tr>\n",
       "  </thead>\n",
       "  <tbody>\n",
       "    <tr>\n",
       "      <th>518327</th>\n",
       "      <td>B0BCFTG541</td>\n",
       "      <td>ワタシガモテナイノハドウカンガエテモオマエラガワルイ022 (デジタルバンガンガンコミックス...</td>\n",
       "    </tr>\n",
       "    <tr>\n",
       "      <th>518328</th>\n",
       "      <td>B096F11HV9</td>\n",
       "      <td>Apple MacBook Air M1 2020(13インチAir,8GB RAM,256...</td>\n",
       "    </tr>\n",
       "    <tr>\n",
       "      <th>518329</th>\n",
       "      <td>B0178VYR6Q</td>\n",
       "      <td>キユーピー やさしい献立 なめらかごはん 150g×6個【区分4:かまなくてよい】</td>\n",
       "    </tr>\n",
       "    <tr>\n",
       "      <th>518330</th>\n",
       "      <td>B09VWM3SCD</td>\n",
       "      <td>Coticam outdoor ランタンシェード LED ライト ランタン キャンプ アウト...</td>\n",
       "    </tr>\n",
       "    <tr>\n",
       "      <th>518331</th>\n",
       "      <td>B07KFZPKLV</td>\n",
       "      <td>Colorsroom こたつ布団 正方形 コタツ布団 185×185cm コタツふとん 掛け...</td>\n",
       "    </tr>\n",
       "  </tbody>\n",
       "</table>\n",
       "</div>"
      ],
      "text/plain": [
       "                id                                              title\n",
       "518327  B0BCFTG541  ワタシガモテナイノハドウカンガエテモオマエラガワルイ022 (デジタルバンガンガンコミックス...\n",
       "518328  B096F11HV9  Apple MacBook Air M1 2020(13インチAir,8GB RAM,256...\n",
       "518329  B0178VYR6Q          キユーピー やさしい献立 なめらかごはん 150g×6個【区分4:かまなくてよい】\n",
       "518330  B09VWM3SCD  Coticam outdoor ランタンシェード LED ライト ランタン キャンプ アウト...\n",
       "518331  B07KFZPKLV  Colorsroom こたつ布団 正方形 コタツ布団 185×185cm コタツふとん 掛け..."
      ]
     },
     "execution_count": 7,
     "metadata": {},
     "output_type": "execute_result"
    }
   ],
   "source": [
    "products_jp.head()"
   ]
  },
  {
   "cell_type": "code",
   "execution_count": 8,
   "id": "b8457260-969c-4a5d-be02-fab99d7ec83d",
   "metadata": {
    "tags": []
   },
   "outputs": [],
   "source": [
    "jp_embeddings = pd.read_csv(\"/pfs/work7/workspace/scratch/ma_ndoering-data_mining_2/jp_embeddings.csv\")\n",
    "de_embeddings = pd.read_csv(\"/pfs/work7/workspace/scratch/ma_ndoering-data_mining_2/de_embeddings.csv\")\n",
    "uk_embeddings = pd.read_csv(\"/pfs/work7/workspace/scratch/ma_ndoering-data_mining_2/uk_embeddings.csv\")"
   ]
  },
  {
   "cell_type": "code",
   "execution_count": 9,
   "id": "1715e615-aef6-4d58-8233-89263a250317",
   "metadata": {
    "tags": []
   },
   "outputs": [],
   "source": [
    "jp_embeddings = jp_embeddings.set_index('Unnamed: 0')"
   ]
  },
  {
   "cell_type": "code",
   "execution_count": 10,
   "id": "a283e480-b61f-407a-9a7e-77d564233df2",
   "metadata": {
    "tags": []
   },
   "outputs": [],
   "source": [
    "de_embeddings = de_embeddings.set_index('Unnamed: 0')"
   ]
  },
  {
   "cell_type": "code",
   "execution_count": 11,
   "id": "70f66391-930b-40a2-955d-c3fbb6240481",
   "metadata": {
    "tags": []
   },
   "outputs": [],
   "source": [
    "uk_embeddings = uk_embeddings.set_index('Unnamed: 0')"
   ]
  },
  {
   "cell_type": "code",
   "execution_count": 12,
   "id": "6398a7c0-ef88-49ed-aae6-6784ee11e2be",
   "metadata": {
    "tags": []
   },
   "outputs": [
    {
     "data": {
      "text/html": [
       "<div>\n",
       "<style scoped>\n",
       "    .dataframe tbody tr th:only-of-type {\n",
       "        vertical-align: middle;\n",
       "    }\n",
       "\n",
       "    .dataframe tbody tr th {\n",
       "        vertical-align: top;\n",
       "    }\n",
       "\n",
       "    .dataframe thead th {\n",
       "        text-align: right;\n",
       "    }\n",
       "</style>\n",
       "<table border=\"1\" class=\"dataframe\">\n",
       "  <thead>\n",
       "    <tr style=\"text-align: right;\">\n",
       "      <th></th>\n",
       "      <th>0</th>\n",
       "      <th>1</th>\n",
       "      <th>2</th>\n",
       "      <th>3</th>\n",
       "      <th>4</th>\n",
       "      <th>5</th>\n",
       "      <th>6</th>\n",
       "      <th>7</th>\n",
       "      <th>8</th>\n",
       "      <th>9</th>\n",
       "      <th>...</th>\n",
       "      <th>758</th>\n",
       "      <th>759</th>\n",
       "      <th>760</th>\n",
       "      <th>761</th>\n",
       "      <th>762</th>\n",
       "      <th>763</th>\n",
       "      <th>764</th>\n",
       "      <th>765</th>\n",
       "      <th>766</th>\n",
       "      <th>767</th>\n",
       "    </tr>\n",
       "    <tr>\n",
       "      <th>Unnamed: 0</th>\n",
       "      <th></th>\n",
       "      <th></th>\n",
       "      <th></th>\n",
       "      <th></th>\n",
       "      <th></th>\n",
       "      <th></th>\n",
       "      <th></th>\n",
       "      <th></th>\n",
       "      <th></th>\n",
       "      <th></th>\n",
       "      <th></th>\n",
       "      <th></th>\n",
       "      <th></th>\n",
       "      <th></th>\n",
       "      <th></th>\n",
       "      <th></th>\n",
       "      <th></th>\n",
       "      <th></th>\n",
       "      <th></th>\n",
       "      <th></th>\n",
       "      <th></th>\n",
       "    </tr>\n",
       "  </thead>\n",
       "  <tbody>\n",
       "    <tr>\n",
       "      <th>913336</th>\n",
       "      <td>0.005139</td>\n",
       "      <td>0.211136</td>\n",
       "      <td>-0.020479</td>\n",
       "      <td>-0.399604</td>\n",
       "      <td>-0.209036</td>\n",
       "      <td>-0.123346</td>\n",
       "      <td>-0.233503</td>\n",
       "      <td>-0.269078</td>\n",
       "      <td>-0.054231</td>\n",
       "      <td>0.246596</td>\n",
       "      <td>...</td>\n",
       "      <td>-0.391046</td>\n",
       "      <td>-0.195277</td>\n",
       "      <td>0.234048</td>\n",
       "      <td>-0.055439</td>\n",
       "      <td>0.304113</td>\n",
       "      <td>-0.198861</td>\n",
       "      <td>-0.166215</td>\n",
       "      <td>-0.010816</td>\n",
       "      <td>-0.383944</td>\n",
       "      <td>0.291048</td>\n",
       "    </tr>\n",
       "    <tr>\n",
       "      <th>913337</th>\n",
       "      <td>-0.052915</td>\n",
       "      <td>-0.217416</td>\n",
       "      <td>-0.039206</td>\n",
       "      <td>0.029838</td>\n",
       "      <td>-0.130204</td>\n",
       "      <td>0.236605</td>\n",
       "      <td>-0.031174</td>\n",
       "      <td>-0.194213</td>\n",
       "      <td>0.118137</td>\n",
       "      <td>0.307406</td>\n",
       "      <td>...</td>\n",
       "      <td>0.059672</td>\n",
       "      <td>-0.354787</td>\n",
       "      <td>-0.148002</td>\n",
       "      <td>0.065507</td>\n",
       "      <td>0.398155</td>\n",
       "      <td>-0.049602</td>\n",
       "      <td>-0.641497</td>\n",
       "      <td>-0.258222</td>\n",
       "      <td>-0.186205</td>\n",
       "      <td>0.721447</td>\n",
       "    </tr>\n",
       "    <tr>\n",
       "      <th>913338</th>\n",
       "      <td>-0.049783</td>\n",
       "      <td>-0.081251</td>\n",
       "      <td>-0.263270</td>\n",
       "      <td>-0.405046</td>\n",
       "      <td>-0.125849</td>\n",
       "      <td>0.169087</td>\n",
       "      <td>0.164938</td>\n",
       "      <td>-0.265093</td>\n",
       "      <td>0.083483</td>\n",
       "      <td>0.090827</td>\n",
       "      <td>...</td>\n",
       "      <td>-0.193471</td>\n",
       "      <td>0.182153</td>\n",
       "      <td>-0.101107</td>\n",
       "      <td>-0.291143</td>\n",
       "      <td>0.264302</td>\n",
       "      <td>-0.069890</td>\n",
       "      <td>0.437861</td>\n",
       "      <td>0.287080</td>\n",
       "      <td>-0.336499</td>\n",
       "      <td>0.122173</td>\n",
       "    </tr>\n",
       "    <tr>\n",
       "      <th>913339</th>\n",
       "      <td>-0.236246</td>\n",
       "      <td>0.148378</td>\n",
       "      <td>-0.148813</td>\n",
       "      <td>0.005976</td>\n",
       "      <td>0.518185</td>\n",
       "      <td>0.309402</td>\n",
       "      <td>-0.144434</td>\n",
       "      <td>-0.180091</td>\n",
       "      <td>-0.300445</td>\n",
       "      <td>0.175444</td>\n",
       "      <td>...</td>\n",
       "      <td>-0.042600</td>\n",
       "      <td>-0.236823</td>\n",
       "      <td>0.144878</td>\n",
       "      <td>-0.010462</td>\n",
       "      <td>0.320540</td>\n",
       "      <td>-0.095306</td>\n",
       "      <td>-0.422972</td>\n",
       "      <td>0.095173</td>\n",
       "      <td>-0.198688</td>\n",
       "      <td>-0.057634</td>\n",
       "    </tr>\n",
       "    <tr>\n",
       "      <th>913340</th>\n",
       "      <td>-0.066016</td>\n",
       "      <td>0.196939</td>\n",
       "      <td>-0.158766</td>\n",
       "      <td>-0.128924</td>\n",
       "      <td>0.019124</td>\n",
       "      <td>0.386307</td>\n",
       "      <td>0.121630</td>\n",
       "      <td>-0.139293</td>\n",
       "      <td>-0.137734</td>\n",
       "      <td>-0.016959</td>\n",
       "      <td>...</td>\n",
       "      <td>-0.185110</td>\n",
       "      <td>-0.176911</td>\n",
       "      <td>-0.096027</td>\n",
       "      <td>0.113822</td>\n",
       "      <td>0.576839</td>\n",
       "      <td>-0.123349</td>\n",
       "      <td>-0.005054</td>\n",
       "      <td>0.181056</td>\n",
       "      <td>-0.130519</td>\n",
       "      <td>-0.035407</td>\n",
       "    </tr>\n",
       "  </tbody>\n",
       "</table>\n",
       "<p>5 rows × 768 columns</p>\n",
       "</div>"
      ],
      "text/plain": [
       "                   0         1         2         3         4         5  \\\n",
       "Unnamed: 0                                                               \n",
       "913336      0.005139  0.211136 -0.020479 -0.399604 -0.209036 -0.123346   \n",
       "913337     -0.052915 -0.217416 -0.039206  0.029838 -0.130204  0.236605   \n",
       "913338     -0.049783 -0.081251 -0.263270 -0.405046 -0.125849  0.169087   \n",
       "913339     -0.236246  0.148378 -0.148813  0.005976  0.518185  0.309402   \n",
       "913340     -0.066016  0.196939 -0.158766 -0.128924  0.019124  0.386307   \n",
       "\n",
       "                   6         7         8         9  ...       758       759  \\\n",
       "Unnamed: 0                                          ...                       \n",
       "913336     -0.233503 -0.269078 -0.054231  0.246596  ... -0.391046 -0.195277   \n",
       "913337     -0.031174 -0.194213  0.118137  0.307406  ...  0.059672 -0.354787   \n",
       "913338      0.164938 -0.265093  0.083483  0.090827  ... -0.193471  0.182153   \n",
       "913339     -0.144434 -0.180091 -0.300445  0.175444  ... -0.042600 -0.236823   \n",
       "913340      0.121630 -0.139293 -0.137734 -0.016959  ... -0.185110 -0.176911   \n",
       "\n",
       "                 760       761       762       763       764       765  \\\n",
       "Unnamed: 0                                                               \n",
       "913336      0.234048 -0.055439  0.304113 -0.198861 -0.166215 -0.010816   \n",
       "913337     -0.148002  0.065507  0.398155 -0.049602 -0.641497 -0.258222   \n",
       "913338     -0.101107 -0.291143  0.264302 -0.069890  0.437861  0.287080   \n",
       "913339      0.144878 -0.010462  0.320540 -0.095306 -0.422972  0.095173   \n",
       "913340     -0.096027  0.113822  0.576839 -0.123349 -0.005054  0.181056   \n",
       "\n",
       "                 766       767  \n",
       "Unnamed: 0                      \n",
       "913336     -0.383944  0.291048  \n",
       "913337     -0.186205  0.721447  \n",
       "913338     -0.336499  0.122173  \n",
       "913339     -0.198688 -0.057634  \n",
       "913340     -0.130519 -0.035407  \n",
       "\n",
       "[5 rows x 768 columns]"
      ]
     },
     "execution_count": 12,
     "metadata": {},
     "output_type": "execute_result"
    }
   ],
   "source": [
    "uk_embeddings.head()"
   ]
  },
  {
   "cell_type": "code",
   "execution_count": 13,
   "id": "1167c3b5-4024-44ab-8540-9d874c9148bb",
   "metadata": {
    "tags": []
   },
   "outputs": [],
   "source": [
    "# join embeddings and products on index to get id\n",
    "de_embeddings = de_embeddings.join(products_de, how='inner')"
   ]
  },
  {
   "cell_type": "code",
   "execution_count": 14,
   "id": "3aaac96b-3b54-44ff-bfb2-977745dcf23a",
   "metadata": {
    "tags": []
   },
   "outputs": [],
   "source": [
    "uk_embeddings = uk_embeddings.join(products_uk, how='inner')"
   ]
  },
  {
   "cell_type": "code",
   "execution_count": 15,
   "id": "ecb1659f-e5a4-4771-b9ca-ce9fa3d53caa",
   "metadata": {
    "tags": []
   },
   "outputs": [],
   "source": [
    "jp_embeddings = jp_embeddings.join(products_jp, how='inner')"
   ]
  },
  {
   "cell_type": "code",
   "execution_count": 16,
   "id": "4f8d7aa2-ab39-4994-8206-94b3a213290f",
   "metadata": {
    "tags": []
   },
   "outputs": [
    {
     "data": {
      "text/html": [
       "<div>\n",
       "<style scoped>\n",
       "    .dataframe tbody tr th:only-of-type {\n",
       "        vertical-align: middle;\n",
       "    }\n",
       "\n",
       "    .dataframe tbody tr th {\n",
       "        vertical-align: top;\n",
       "    }\n",
       "\n",
       "    .dataframe thead th {\n",
       "        text-align: right;\n",
       "    }\n",
       "</style>\n",
       "<table border=\"1\" class=\"dataframe\">\n",
       "  <thead>\n",
       "    <tr style=\"text-align: right;\">\n",
       "      <th></th>\n",
       "      <th>0</th>\n",
       "      <th>1</th>\n",
       "      <th>2</th>\n",
       "      <th>3</th>\n",
       "      <th>4</th>\n",
       "      <th>5</th>\n",
       "      <th>6</th>\n",
       "      <th>7</th>\n",
       "      <th>8</th>\n",
       "      <th>9</th>\n",
       "      <th>...</th>\n",
       "      <th>760</th>\n",
       "      <th>761</th>\n",
       "      <th>762</th>\n",
       "      <th>763</th>\n",
       "      <th>764</th>\n",
       "      <th>765</th>\n",
       "      <th>766</th>\n",
       "      <th>767</th>\n",
       "      <th>id</th>\n",
       "      <th>title</th>\n",
       "    </tr>\n",
       "    <tr>\n",
       "      <th>Unnamed: 0</th>\n",
       "      <th></th>\n",
       "      <th></th>\n",
       "      <th></th>\n",
       "      <th></th>\n",
       "      <th></th>\n",
       "      <th></th>\n",
       "      <th></th>\n",
       "      <th></th>\n",
       "      <th></th>\n",
       "      <th></th>\n",
       "      <th></th>\n",
       "      <th></th>\n",
       "      <th></th>\n",
       "      <th></th>\n",
       "      <th></th>\n",
       "      <th></th>\n",
       "      <th></th>\n",
       "      <th></th>\n",
       "      <th></th>\n",
       "      <th></th>\n",
       "      <th></th>\n",
       "    </tr>\n",
       "  </thead>\n",
       "  <tbody>\n",
       "    <tr>\n",
       "      <th>518327</th>\n",
       "      <td>0.090665</td>\n",
       "      <td>-0.073974</td>\n",
       "      <td>0.022465</td>\n",
       "      <td>0.076569</td>\n",
       "      <td>0.204538</td>\n",
       "      <td>-0.012383</td>\n",
       "      <td>0.030401</td>\n",
       "      <td>0.093524</td>\n",
       "      <td>0.143870</td>\n",
       "      <td>-0.149051</td>\n",
       "      <td>...</td>\n",
       "      <td>-0.008671</td>\n",
       "      <td>-0.016234</td>\n",
       "      <td>0.173121</td>\n",
       "      <td>-0.575610</td>\n",
       "      <td>0.082543</td>\n",
       "      <td>-0.174739</td>\n",
       "      <td>0.125635</td>\n",
       "      <td>-0.173299</td>\n",
       "      <td>B0BCFTG541</td>\n",
       "      <td>ワタシガモテナイノハドウカンガエテモオマエラガワルイ022 (デジタルバンガンガンコミックス...</td>\n",
       "    </tr>\n",
       "    <tr>\n",
       "      <th>518328</th>\n",
       "      <td>0.023493</td>\n",
       "      <td>-0.063302</td>\n",
       "      <td>-0.017221</td>\n",
       "      <td>-0.182368</td>\n",
       "      <td>-0.011209</td>\n",
       "      <td>0.074113</td>\n",
       "      <td>0.051969</td>\n",
       "      <td>0.195828</td>\n",
       "      <td>0.087949</td>\n",
       "      <td>-0.090970</td>\n",
       "      <td>...</td>\n",
       "      <td>0.134284</td>\n",
       "      <td>-0.094964</td>\n",
       "      <td>0.117156</td>\n",
       "      <td>-0.322038</td>\n",
       "      <td>-0.166085</td>\n",
       "      <td>-0.096027</td>\n",
       "      <td>0.073333</td>\n",
       "      <td>-0.094562</td>\n",
       "      <td>B096F11HV9</td>\n",
       "      <td>Apple MacBook Air M1 2020(13インチAir,8GB RAM,256...</td>\n",
       "    </tr>\n",
       "    <tr>\n",
       "      <th>518329</th>\n",
       "      <td>0.030009</td>\n",
       "      <td>-0.014210</td>\n",
       "      <td>0.043582</td>\n",
       "      <td>-0.100854</td>\n",
       "      <td>0.035944</td>\n",
       "      <td>0.068090</td>\n",
       "      <td>0.119002</td>\n",
       "      <td>0.077852</td>\n",
       "      <td>0.051228</td>\n",
       "      <td>-0.226813</td>\n",
       "      <td>...</td>\n",
       "      <td>0.037147</td>\n",
       "      <td>-0.085642</td>\n",
       "      <td>0.445817</td>\n",
       "      <td>0.019931</td>\n",
       "      <td>-0.120491</td>\n",
       "      <td>-0.142811</td>\n",
       "      <td>0.120793</td>\n",
       "      <td>-0.062999</td>\n",
       "      <td>B0178VYR6Q</td>\n",
       "      <td>キユーピー やさしい献立 なめらかごはん 150g×6個【区分4:かまなくてよい】</td>\n",
       "    </tr>\n",
       "    <tr>\n",
       "      <th>518330</th>\n",
       "      <td>0.165104</td>\n",
       "      <td>-0.142523</td>\n",
       "      <td>0.065503</td>\n",
       "      <td>-0.202531</td>\n",
       "      <td>-0.058595</td>\n",
       "      <td>0.051793</td>\n",
       "      <td>0.123486</td>\n",
       "      <td>-0.059623</td>\n",
       "      <td>0.000484</td>\n",
       "      <td>-0.092261</td>\n",
       "      <td>...</td>\n",
       "      <td>0.046393</td>\n",
       "      <td>-0.026026</td>\n",
       "      <td>0.238105</td>\n",
       "      <td>0.085282</td>\n",
       "      <td>0.036479</td>\n",
       "      <td>-0.098220</td>\n",
       "      <td>0.122920</td>\n",
       "      <td>0.004804</td>\n",
       "      <td>B09VWM3SCD</td>\n",
       "      <td>Coticam outdoor ランタンシェード LED ライト ランタン キャンプ アウト...</td>\n",
       "    </tr>\n",
       "    <tr>\n",
       "      <th>518331</th>\n",
       "      <td>0.270576</td>\n",
       "      <td>-0.056105</td>\n",
       "      <td>0.033222</td>\n",
       "      <td>-0.011895</td>\n",
       "      <td>-0.295037</td>\n",
       "      <td>-0.094913</td>\n",
       "      <td>0.135623</td>\n",
       "      <td>0.009747</td>\n",
       "      <td>0.020907</td>\n",
       "      <td>-0.099880</td>\n",
       "      <td>...</td>\n",
       "      <td>-0.033029</td>\n",
       "      <td>-0.043809</td>\n",
       "      <td>0.484195</td>\n",
       "      <td>0.167638</td>\n",
       "      <td>-0.120333</td>\n",
       "      <td>-0.071608</td>\n",
       "      <td>0.104310</td>\n",
       "      <td>-0.061590</td>\n",
       "      <td>B07KFZPKLV</td>\n",
       "      <td>Colorsroom こたつ布団 正方形 コタツ布団 185×185cm コタツふとん 掛け...</td>\n",
       "    </tr>\n",
       "  </tbody>\n",
       "</table>\n",
       "<p>5 rows × 770 columns</p>\n",
       "</div>"
      ],
      "text/plain": [
       "                   0         1         2         3         4         5  \\\n",
       "Unnamed: 0                                                               \n",
       "518327      0.090665 -0.073974  0.022465  0.076569  0.204538 -0.012383   \n",
       "518328      0.023493 -0.063302 -0.017221 -0.182368 -0.011209  0.074113   \n",
       "518329      0.030009 -0.014210  0.043582 -0.100854  0.035944  0.068090   \n",
       "518330      0.165104 -0.142523  0.065503 -0.202531 -0.058595  0.051793   \n",
       "518331      0.270576 -0.056105  0.033222 -0.011895 -0.295037 -0.094913   \n",
       "\n",
       "                   6         7         8         9  ...       760       761  \\\n",
       "Unnamed: 0                                          ...                       \n",
       "518327      0.030401  0.093524  0.143870 -0.149051  ... -0.008671 -0.016234   \n",
       "518328      0.051969  0.195828  0.087949 -0.090970  ...  0.134284 -0.094964   \n",
       "518329      0.119002  0.077852  0.051228 -0.226813  ...  0.037147 -0.085642   \n",
       "518330      0.123486 -0.059623  0.000484 -0.092261  ...  0.046393 -0.026026   \n",
       "518331      0.135623  0.009747  0.020907 -0.099880  ... -0.033029 -0.043809   \n",
       "\n",
       "                 762       763       764       765       766       767  \\\n",
       "Unnamed: 0                                                               \n",
       "518327      0.173121 -0.575610  0.082543 -0.174739  0.125635 -0.173299   \n",
       "518328      0.117156 -0.322038 -0.166085 -0.096027  0.073333 -0.094562   \n",
       "518329      0.445817  0.019931 -0.120491 -0.142811  0.120793 -0.062999   \n",
       "518330      0.238105  0.085282  0.036479 -0.098220  0.122920  0.004804   \n",
       "518331      0.484195  0.167638 -0.120333 -0.071608  0.104310 -0.061590   \n",
       "\n",
       "                    id                                              title  \n",
       "Unnamed: 0                                                                 \n",
       "518327      B0BCFTG541  ワタシガモテナイノハドウカンガエテモオマエラガワルイ022 (デジタルバンガンガンコミックス...  \n",
       "518328      B096F11HV9  Apple MacBook Air M1 2020(13インチAir,8GB RAM,256...  \n",
       "518329      B0178VYR6Q          キユーピー やさしい献立 なめらかごはん 150g×6個【区分4:かまなくてよい】  \n",
       "518330      B09VWM3SCD  Coticam outdoor ランタンシェード LED ライト ランタン キャンプ アウト...  \n",
       "518331      B07KFZPKLV  Colorsroom こたつ布団 正方形 コタツ布団 185×185cm コタツふとん 掛け...  \n",
       "\n",
       "[5 rows x 770 columns]"
      ]
     },
     "execution_count": 16,
     "metadata": {},
     "output_type": "execute_result"
    }
   ],
   "source": [
    "jp_embeddings.head()"
   ]
  },
  {
   "cell_type": "code",
   "execution_count": 17,
   "id": "1b2adf0e-3cbb-40af-bd52-0b43f8460f1f",
   "metadata": {
    "tags": []
   },
   "outputs": [
    {
     "data": {
      "text/html": [
       "<div>\n",
       "<style scoped>\n",
       "    .dataframe tbody tr th:only-of-type {\n",
       "        vertical-align: middle;\n",
       "    }\n",
       "\n",
       "    .dataframe tbody tr th {\n",
       "        vertical-align: top;\n",
       "    }\n",
       "\n",
       "    .dataframe thead th {\n",
       "        text-align: right;\n",
       "    }\n",
       "</style>\n",
       "<table border=\"1\" class=\"dataframe\">\n",
       "  <thead>\n",
       "    <tr style=\"text-align: right;\">\n",
       "      <th></th>\n",
       "      <th>0</th>\n",
       "      <th>1</th>\n",
       "      <th>2</th>\n",
       "      <th>3</th>\n",
       "      <th>4</th>\n",
       "      <th>5</th>\n",
       "      <th>6</th>\n",
       "      <th>7</th>\n",
       "      <th>8</th>\n",
       "      <th>9</th>\n",
       "      <th>...</th>\n",
       "      <th>760</th>\n",
       "      <th>761</th>\n",
       "      <th>762</th>\n",
       "      <th>763</th>\n",
       "      <th>764</th>\n",
       "      <th>765</th>\n",
       "      <th>766</th>\n",
       "      <th>767</th>\n",
       "      <th>id</th>\n",
       "      <th>title</th>\n",
       "    </tr>\n",
       "    <tr>\n",
       "      <th>Unnamed: 0</th>\n",
       "      <th></th>\n",
       "      <th></th>\n",
       "      <th></th>\n",
       "      <th></th>\n",
       "      <th></th>\n",
       "      <th></th>\n",
       "      <th></th>\n",
       "      <th></th>\n",
       "      <th></th>\n",
       "      <th></th>\n",
       "      <th></th>\n",
       "      <th></th>\n",
       "      <th></th>\n",
       "      <th></th>\n",
       "      <th></th>\n",
       "      <th></th>\n",
       "      <th></th>\n",
       "      <th></th>\n",
       "      <th></th>\n",
       "      <th></th>\n",
       "      <th></th>\n",
       "    </tr>\n",
       "  </thead>\n",
       "  <tbody>\n",
       "    <tr>\n",
       "      <th>370409</th>\n",
       "      <td>-0.194557</td>\n",
       "      <td>-0.128179</td>\n",
       "      <td>-0.280744</td>\n",
       "      <td>-0.713724</td>\n",
       "      <td>-0.057707</td>\n",
       "      <td>-0.011575</td>\n",
       "      <td>-0.091817</td>\n",
       "      <td>-0.085418</td>\n",
       "      <td>-0.060973</td>\n",
       "      <td>-0.01764</td>\n",
       "      <td>...</td>\n",
       "      <td>-0.025056</td>\n",
       "      <td>0.060648</td>\n",
       "      <td>0.184876</td>\n",
       "      <td>-0.458743</td>\n",
       "      <td>-0.282159</td>\n",
       "      <td>-0.13066</td>\n",
       "      <td>-0.015066</td>\n",
       "      <td>0.193408</td>\n",
       "      <td>B08V12CT4C</td>\n",
       "      <td>ThermoPro TP49 digitales Mini Thermo-Hygromete...</td>\n",
       "    </tr>\n",
       "  </tbody>\n",
       "</table>\n",
       "<p>1 rows × 770 columns</p>\n",
       "</div>"
      ],
      "text/plain": [
       "                   0         1         2         3         4         5  \\\n",
       "Unnamed: 0                                                               \n",
       "370409     -0.194557 -0.128179 -0.280744 -0.713724 -0.057707 -0.011575   \n",
       "\n",
       "                   6         7         8        9  ...       760       761  \\\n",
       "Unnamed: 0                                         ...                       \n",
       "370409     -0.091817 -0.085418 -0.060973 -0.01764  ... -0.025056  0.060648   \n",
       "\n",
       "                 762       763       764      765       766       767  \\\n",
       "Unnamed: 0                                                              \n",
       "370409      0.184876 -0.458743 -0.282159 -0.13066 -0.015066  0.193408   \n",
       "\n",
       "                    id                                              title  \n",
       "Unnamed: 0                                                                 \n",
       "370409      B08V12CT4C  ThermoPro TP49 digitales Mini Thermo-Hygromete...  \n",
       "\n",
       "[1 rows x 770 columns]"
      ]
     },
     "execution_count": 17,
     "metadata": {},
     "output_type": "execute_result"
    }
   ],
   "source": [
    "de_embeddings.loc[de_embeddings['id'] == 'B08V12CT4C']"
   ]
  },
  {
   "cell_type": "code",
   "execution_count": 18,
   "id": "958d8ee7-ec58-42e0-afbf-c3a79bd3e119",
   "metadata": {
    "tags": []
   },
   "outputs": [],
   "source": [
    "def get_m_centroids(dim):\n",
    "  # Prints possible values for m i.e. the number of centroids in the final vector in the index creation, where dim must be a multiple of m\n",
    "  for n in range(1, 101):\n",
    "    modulo = dim % n\n",
    "    if modulo == 0:\n",
    "      print(n)"
   ]
  },
  {
   "cell_type": "code",
   "execution_count": 19,
   "id": "e3bf9171-1d2d-48b2-8db1-0f10f6be04d8",
   "metadata": {
    "tags": []
   },
   "outputs": [],
   "source": [
    "def create_gpu_index_for_locale(embeddings, nlist, m, bits, num_samples):\n",
    "    \n",
    "    sample_indices = np.random.choice(embeddings.shape[0], num_samples, replace=False)\n",
    "    vector_sample = embeddings[sample_indices]\n",
    "    \n",
    "    quantizer = faiss.IndexFlatL2(embeddings.shape[1])\n",
    "    \n",
    "    # initialize index\n",
    "    index_cpu = faiss.IndexIVFPQ(quantizer, embeddings.shape[1], nlist, m, bits)\n",
    "    index_gpu = faiss.index_cpu_to_gpu(faiss.StandardGpuResources(), 0, index_cpu) # not needed for cpu only\n",
    "    \n",
    "    index_gpu.train(vector_sample)\n",
    "    \n",
    "    print('Index is trained {}'.format(index_gpu.is_trained))\n",
    "    \n",
    "    index_gpu.add(embeddings)\n",
    "    \n",
    "    return index_gpu"
   ]
  },
  {
   "cell_type": "code",
   "execution_count": 20,
   "id": "85daa62f-139b-458f-9fb6-6e6177118c2f",
   "metadata": {
    "tags": []
   },
   "outputs": [],
   "source": [
    "sessions_test_task1['prev_items'] = sessions_test_task1['prev_items'].str.strip(\"[']\").str.replace(\"\\n\", \"\").str.split(\"' '\")"
   ]
  },
  {
   "cell_type": "code",
   "execution_count": 21,
   "id": "21109974-a1a8-4b25-a8b8-944a3872d519",
   "metadata": {
    "tags": []
   },
   "outputs": [
    {
     "data": {
      "text/html": [
       "<div>\n",
       "<style scoped>\n",
       "    .dataframe tbody tr th:only-of-type {\n",
       "        vertical-align: middle;\n",
       "    }\n",
       "\n",
       "    .dataframe tbody tr th {\n",
       "        vertical-align: top;\n",
       "    }\n",
       "\n",
       "    .dataframe thead th {\n",
       "        text-align: right;\n",
       "    }\n",
       "</style>\n",
       "<table border=\"1\" class=\"dataframe\">\n",
       "  <thead>\n",
       "    <tr style=\"text-align: right;\">\n",
       "      <th></th>\n",
       "      <th>prev_items</th>\n",
       "      <th>locale</th>\n",
       "    </tr>\n",
       "  </thead>\n",
       "  <tbody>\n",
       "    <tr>\n",
       "      <th>0</th>\n",
       "      <td>[B08V12CT4C, B08V1KXBQD, B01BVG1XJS, B09VC5PKN...</td>\n",
       "      <td>DE</td>\n",
       "    </tr>\n",
       "    <tr>\n",
       "      <th>1</th>\n",
       "      <td>[B00R9R5ND6, B00R9RZ9ZS, B00R9RZ9ZS]</td>\n",
       "      <td>DE</td>\n",
       "    </tr>\n",
       "    <tr>\n",
       "      <th>2</th>\n",
       "      <td>[B07YSRXJD3, B07G7Q5N6G, B08C9Q7QVK, B07G7Q5N6G]</td>\n",
       "      <td>DE</td>\n",
       "    </tr>\n",
       "    <tr>\n",
       "      <th>3</th>\n",
       "      <td>[B08KQBYV43, 3955350843, 3955350843, 395535086...</td>\n",
       "      <td>DE</td>\n",
       "    </tr>\n",
       "    <tr>\n",
       "      <th>4</th>\n",
       "      <td>[B09FPTCWMC, B09FPTQP68, B08HMRY8NG, B08TBBQ4B...</td>\n",
       "      <td>DE</td>\n",
       "    </tr>\n",
       "    <tr>\n",
       "      <th>...</th>\n",
       "      <td>...</td>\n",
       "      <td>...</td>\n",
       "    </tr>\n",
       "    <tr>\n",
       "      <th>316966</th>\n",
       "      <td>[B077SZ2C3Y, B0B14M3VZX]</td>\n",
       "      <td>UK</td>\n",
       "    </tr>\n",
       "    <tr>\n",
       "      <th>316967</th>\n",
       "      <td>[B08KFHDPY9, B0851KTSRZ, B08KFHDPY9, B0851KTSR...</td>\n",
       "      <td>UK</td>\n",
       "    </tr>\n",
       "    <tr>\n",
       "      <th>316968</th>\n",
       "      <td>[B07PY1N81F, B07Q1Z8SQN, B07PY1N81F, B07Q1Z8SQ...</td>\n",
       "      <td>UK</td>\n",
       "    </tr>\n",
       "    <tr>\n",
       "      <th>316969</th>\n",
       "      <td>[B01MCQMORK, B09JYZ325W]</td>\n",
       "      <td>UK</td>\n",
       "    </tr>\n",
       "    <tr>\n",
       "      <th>316970</th>\n",
       "      <td>[B0B8JX92YJ, B09TN4MP6V, B0BG2LZQSL]</td>\n",
       "      <td>UK</td>\n",
       "    </tr>\n",
       "  </tbody>\n",
       "</table>\n",
       "<p>316971 rows × 2 columns</p>\n",
       "</div>"
      ],
      "text/plain": [
       "                                               prev_items locale\n",
       "0       [B08V12CT4C, B08V1KXBQD, B01BVG1XJS, B09VC5PKN...     DE\n",
       "1                    [B00R9R5ND6, B00R9RZ9ZS, B00R9RZ9ZS]     DE\n",
       "2        [B07YSRXJD3, B07G7Q5N6G, B08C9Q7QVK, B07G7Q5N6G]     DE\n",
       "3       [B08KQBYV43, 3955350843, 3955350843, 395535086...     DE\n",
       "4       [B09FPTCWMC, B09FPTQP68, B08HMRY8NG, B08TBBQ4B...     DE\n",
       "...                                                   ...    ...\n",
       "316966                           [B077SZ2C3Y, B0B14M3VZX]     UK\n",
       "316967  [B08KFHDPY9, B0851KTSRZ, B08KFHDPY9, B0851KTSR...     UK\n",
       "316968  [B07PY1N81F, B07Q1Z8SQN, B07PY1N81F, B07Q1Z8SQ...     UK\n",
       "316969                           [B01MCQMORK, B09JYZ325W]     UK\n",
       "316970               [B0B8JX92YJ, B09TN4MP6V, B0BG2LZQSL]     UK\n",
       "\n",
       "[316971 rows x 2 columns]"
      ]
     },
     "execution_count": 21,
     "metadata": {},
     "output_type": "execute_result"
    }
   ],
   "source": [
    "sessions_test_task1"
   ]
  },
  {
   "cell_type": "code",
   "execution_count": 109,
   "id": "b3e5b895-1f3b-4205-8015-711a99fb9e5c",
   "metadata": {},
   "outputs": [],
   "source": [
    "def predict_next_100_items(row, embeddings, products, k, index):\n",
    "\n",
    "    session_embedding = embeddings.loc[row['prev_items']]\n",
    "    session_embedding = session_embedding.drop(['title'], axis=1)\n",
    "    session_embedding = np.mean(session_embedding, axis=0)\n",
    "    session_embedding = session_embedding.values.astype('float32')\n",
    "    \n",
    "    D, I = index.search(np.array([session_embedding]), k)\n",
    "    \n",
    "    next_item = [products.loc[i]['id'] for i in I[0] if i < len(products) and i > 0] # here I[0] returns indices which are not valid indices in products\n",
    "    next_item = next_item[:100]\n",
    "    \n",
    "    return next_item\n",
    "    "
   ]
  },
  {
   "cell_type": "markdown",
   "id": "3c561722-1301-4781-a846-4e075dbbf17d",
   "metadata": {},
   "source": [
    "# DE Locale"
   ]
  },
  {
   "cell_type": "code",
   "execution_count": 35,
   "id": "cd4e7b3c-e439-44fa-98ca-f70ed842ccb2",
   "metadata": {
    "tags": []
   },
   "outputs": [
    {
     "ename": "KeyError",
     "evalue": "\"None of ['id'] are in the columns\"",
     "output_type": "error",
     "traceback": [
      "\u001b[0;31m---------------------------------------------------------------------------\u001b[0m",
      "\u001b[0;31mKeyError\u001b[0m                                  Traceback (most recent call last)",
      "Cell \u001b[0;32mIn[35], line 1\u001b[0m\n\u001b[0;32m----> 1\u001b[0m de_embeddings \u001b[38;5;241m=\u001b[39m \u001b[43mde_embeddings\u001b[49m\u001b[38;5;241;43m.\u001b[39;49m\u001b[43mset_index\u001b[49m\u001b[43m(\u001b[49m\u001b[38;5;124;43m'\u001b[39;49m\u001b[38;5;124;43mid\u001b[39;49m\u001b[38;5;124;43m'\u001b[39;49m\u001b[43m)\u001b[49m\n",
      "File \u001b[0;32m/opt/bwhpc/common/jupyter/tensorflow/2023-03-24/lib/python3.9/site-packages/pandas/util/_decorators.py:331\u001b[0m, in \u001b[0;36mdeprecate_nonkeyword_arguments.<locals>.decorate.<locals>.wrapper\u001b[0;34m(*args, **kwargs)\u001b[0m\n\u001b[1;32m    325\u001b[0m \u001b[38;5;28;01mif\u001b[39;00m \u001b[38;5;28mlen\u001b[39m(args) \u001b[38;5;241m>\u001b[39m num_allow_args:\n\u001b[1;32m    326\u001b[0m     warnings\u001b[38;5;241m.\u001b[39mwarn(\n\u001b[1;32m    327\u001b[0m         msg\u001b[38;5;241m.\u001b[39mformat(arguments\u001b[38;5;241m=\u001b[39m_format_argument_list(allow_args)),\n\u001b[1;32m    328\u001b[0m         \u001b[38;5;167;01mFutureWarning\u001b[39;00m,\n\u001b[1;32m    329\u001b[0m         stacklevel\u001b[38;5;241m=\u001b[39mfind_stack_level(),\n\u001b[1;32m    330\u001b[0m     )\n\u001b[0;32m--> 331\u001b[0m \u001b[38;5;28;01mreturn\u001b[39;00m \u001b[43mfunc\u001b[49m\u001b[43m(\u001b[49m\u001b[38;5;241;43m*\u001b[39;49m\u001b[43margs\u001b[49m\u001b[43m,\u001b[49m\u001b[43m \u001b[49m\u001b[38;5;241;43m*\u001b[39;49m\u001b[38;5;241;43m*\u001b[39;49m\u001b[43mkwargs\u001b[49m\u001b[43m)\u001b[49m\n",
      "File \u001b[0;32m/opt/bwhpc/common/jupyter/tensorflow/2023-03-24/lib/python3.9/site-packages/pandas/core/frame.py:6012\u001b[0m, in \u001b[0;36mDataFrame.set_index\u001b[0;34m(self, keys, drop, append, inplace, verify_integrity)\u001b[0m\n\u001b[1;32m   6009\u001b[0m                 missing\u001b[38;5;241m.\u001b[39mappend(col)\n\u001b[1;32m   6011\u001b[0m \u001b[38;5;28;01mif\u001b[39;00m missing:\n\u001b[0;32m-> 6012\u001b[0m     \u001b[38;5;28;01mraise\u001b[39;00m \u001b[38;5;167;01mKeyError\u001b[39;00m(\u001b[38;5;124mf\u001b[39m\u001b[38;5;124m\"\u001b[39m\u001b[38;5;124mNone of \u001b[39m\u001b[38;5;132;01m{\u001b[39;00mmissing\u001b[38;5;132;01m}\u001b[39;00m\u001b[38;5;124m are in the columns\u001b[39m\u001b[38;5;124m\"\u001b[39m)\n\u001b[1;32m   6014\u001b[0m \u001b[38;5;28;01mif\u001b[39;00m inplace:\n\u001b[1;32m   6015\u001b[0m     frame \u001b[38;5;241m=\u001b[39m \u001b[38;5;28mself\u001b[39m\n",
      "\u001b[0;31mKeyError\u001b[0m: \"None of ['id'] are in the columns\""
     ]
    }
   ],
   "source": [
    "de_embeddings = de_embeddings.set_index('id')"
   ]
  },
  {
   "cell_type": "code",
   "execution_count": 37,
   "id": "9a0577c8-6020-4b1c-9185-a2f61e4ac19c",
   "metadata": {
    "tags": []
   },
   "outputs": [],
   "source": [
    "index_training_de_embeddings = de_embeddings.drop(['title'], axis=1)"
   ]
  },
  {
   "cell_type": "code",
   "execution_count": 38,
   "id": "02c03b8b-615f-4b2f-a73b-ad28f49d4705",
   "metadata": {
    "tags": []
   },
   "outputs": [],
   "source": [
    "# convert dataframe to numpy array\n",
    "index_training_de_embeddings = index_training_de_embeddings.values.astype('float32').copy()"
   ]
  },
  {
   "cell_type": "code",
   "execution_count": 39,
   "id": "b0d37db2-7450-481e-b07d-6fbd24917d61",
   "metadata": {
    "tags": []
   },
   "outputs": [
    {
     "data": {
      "text/plain": [
       "(518327, 768)"
      ]
     },
     "execution_count": 39,
     "metadata": {},
     "output_type": "execute_result"
    }
   ],
   "source": [
    "index_training_de_embeddings.shape"
   ]
  },
  {
   "cell_type": "code",
   "execution_count": 40,
   "id": "b95fcc2b-aaf3-4956-abf5-2eacdff56bd4",
   "metadata": {
    "tags": []
   },
   "outputs": [
    {
     "name": "stdout",
     "output_type": "stream",
     "text": [
      "1\n",
      "2\n",
      "3\n",
      "4\n",
      "6\n",
      "8\n",
      "12\n",
      "16\n",
      "24\n",
      "32\n",
      "48\n",
      "64\n",
      "96\n"
     ]
    }
   ],
   "source": [
    "get_m_centroids(index_training_de_embeddings.shape[1])"
   ]
  },
  {
   "cell_type": "code",
   "execution_count": 41,
   "id": "4ac2e1bf-7324-443d-8a10-6f32c037007b",
   "metadata": {
    "tags": []
   },
   "outputs": [
    {
     "name": "stdout",
     "output_type": "stream",
     "text": [
      "Index is trained True\n"
     ]
    }
   ],
   "source": [
    "index_gpu_de = create_gpu_index_for_locale(index_training_de_embeddings, 100, 24, 8, 10000)"
   ]
  },
  {
   "cell_type": "code",
   "execution_count": 42,
   "id": "3265345e-6378-4a4f-8f0a-5f243bf74476",
   "metadata": {
    "tags": []
   },
   "outputs": [],
   "source": [
    "sessions_test_task1_de = sessions_test_task1[sessions_test_task1['locale'] == \"DE\"]"
   ]
  },
  {
   "cell_type": "code",
   "execution_count": 110,
   "id": "36c68570-ea4b-49fb-8289-acdefea2710b",
   "metadata": {
    "tags": []
   },
   "outputs": [
    {
     "name": "stderr",
     "output_type": "stream",
     "text": [
      "/scratch/slurm_tmpdir/job_22225816/ipykernel_493281/175976782.py:1: SettingWithCopyWarning: \n",
      "A value is trying to be set on a copy of a slice from a DataFrame.\n",
      "Try using .loc[row_indexer,col_indexer] = value instead\n",
      "\n",
      "See the caveats in the documentation: https://pandas.pydata.org/pandas-docs/stable/user_guide/indexing.html#returning-a-view-versus-a-copy\n",
      "  sessions_test_task1_de['next_item'] = sessions_test_task1_de.apply(lambda row: predict_next_100_items(row, de_embeddings, products_de, 200, index_gpu_de), axis=1)\n"
     ]
    }
   ],
   "source": [
    "sessions_test_task1_de['next_item'] = sessions_test_task1_de.apply(lambda row: predict_next_100_items(row, de_embeddings, products_de, 200, index_gpu_de), axis=1)"
   ]
  },
  {
   "cell_type": "code",
   "execution_count": 49,
   "id": "b1697e6c-0f64-4552-88c4-902ae7149ac8",
   "metadata": {
    "tags": []
   },
   "outputs": [],
   "source": [
    "# sessions_test_task1_de['next_item'] = sessions_test_task1_de.apply(predict_next_100_items, args=(de_embeddings, 100, index_gpu_de), axis=1)"
   ]
  },
  {
   "cell_type": "code",
   "execution_count": 111,
   "id": "e337fe2b-ab45-4a9d-bf48-1841ba4f9823",
   "metadata": {
    "tags": []
   },
   "outputs": [
    {
     "data": {
      "text/html": [
       "<div>\n",
       "<style scoped>\n",
       "    .dataframe tbody tr th:only-of-type {\n",
       "        vertical-align: middle;\n",
       "    }\n",
       "\n",
       "    .dataframe tbody tr th {\n",
       "        vertical-align: top;\n",
       "    }\n",
       "\n",
       "    .dataframe thead th {\n",
       "        text-align: right;\n",
       "    }\n",
       "</style>\n",
       "<table border=\"1\" class=\"dataframe\">\n",
       "  <thead>\n",
       "    <tr style=\"text-align: right;\">\n",
       "      <th></th>\n",
       "      <th>prev_items</th>\n",
       "      <th>locale</th>\n",
       "      <th>next_item</th>\n",
       "    </tr>\n",
       "  </thead>\n",
       "  <tbody>\n",
       "    <tr>\n",
       "      <th>0</th>\n",
       "      <td>[B08V12CT4C, B08V1KXBQD, B01BVG1XJS, B09VC5PKN...</td>\n",
       "      <td>DE</td>\n",
       "      <td>[B08V1KXBQD, B07TV22X9M, B08V12CT4C, B099NS1XP...</td>\n",
       "    </tr>\n",
       "    <tr>\n",
       "      <th>1</th>\n",
       "      <td>[B00R9R5ND6, B00R9RZ9ZS, B00R9RZ9ZS]</td>\n",
       "      <td>DE</td>\n",
       "      <td>[B00R9RZ9ZS, B00R9R5ND6, B095TL42FL, 377246997...</td>\n",
       "    </tr>\n",
       "    <tr>\n",
       "      <th>2</th>\n",
       "      <td>[B07YSRXJD3, B07G7Q5N6G, B08C9Q7QVK, B07G7Q5N6G]</td>\n",
       "      <td>DE</td>\n",
       "      <td>[B07G7Q5N6G, B08C9Q7QVK, B099277D7Q, B09XTMPM8...</td>\n",
       "    </tr>\n",
       "    <tr>\n",
       "      <th>3</th>\n",
       "      <td>[B08KQBYV43, 3955350843, 3955350843, 395535086...</td>\n",
       "      <td>DE</td>\n",
       "      <td>[3741524131, 3955350878, 395535086X, B0041VW2D...</td>\n",
       "    </tr>\n",
       "    <tr>\n",
       "      <th>4</th>\n",
       "      <td>[B09FPTCWMC, B09FPTQP68, B08HMRY8NG, B08TBBQ4B...</td>\n",
       "      <td>DE</td>\n",
       "      <td>[B09J945WQR, B09J8V9RQQ, B09J8T6TTH, B09J8TWRV...</td>\n",
       "    </tr>\n",
       "    <tr>\n",
       "      <th>...</th>\n",
       "      <td>...</td>\n",
       "      <td>...</td>\n",
       "      <td>...</td>\n",
       "    </tr>\n",
       "    <tr>\n",
       "      <th>104563</th>\n",
       "      <td>[B014I8SSD0, B07YTX31J8, B07TVG9964, B004BEMD5...</td>\n",
       "      <td>DE</td>\n",
       "      <td>[B00B4CVV60, B004BHZHIS, B004XISZ8E, B00SWYTH3...</td>\n",
       "    </tr>\n",
       "    <tr>\n",
       "      <th>104564</th>\n",
       "      <td>[B003M0NURK, B09VPJ4394, B07TVH9NHP]</td>\n",
       "      <td>DE</td>\n",
       "      <td>[B08CMX8WZ6, B08CMPSCMQ, B07TVH9NHP, B09VPJ439...</td>\n",
       "    </tr>\n",
       "    <tr>\n",
       "      <th>104565</th>\n",
       "      <td>[B07B38Z3S7, B079HF6FSP, B079HF6FSP, B07B38Z3S7]</td>\n",
       "      <td>DE</td>\n",
       "      <td>[B079MBWZS9, B079HF6FSP, B07B33GMCF, B079H8G39...</td>\n",
       "    </tr>\n",
       "    <tr>\n",
       "      <th>104566</th>\n",
       "      <td>[B00HFDYJGQ, B018G6YYDI, B00HFDYJGQ]</td>\n",
       "      <td>DE</td>\n",
       "      <td>[B00HFDYJGQ, B00HFDYYRU, B08JH72VJG, B08JH6P9J...</td>\n",
       "    </tr>\n",
       "    <tr>\n",
       "      <th>104567</th>\n",
       "      <td>[B079K755SJ, B0799LV38F, B0799LPW6D, B0799LV38...</td>\n",
       "      <td>DE</td>\n",
       "      <td>[B089QNRG96, B0799LPW6D, B07JRD2RJC, B07JQ84XX...</td>\n",
       "    </tr>\n",
       "  </tbody>\n",
       "</table>\n",
       "<p>104568 rows × 3 columns</p>\n",
       "</div>"
      ],
      "text/plain": [
       "                                               prev_items locale  \\\n",
       "0       [B08V12CT4C, B08V1KXBQD, B01BVG1XJS, B09VC5PKN...     DE   \n",
       "1                    [B00R9R5ND6, B00R9RZ9ZS, B00R9RZ9ZS]     DE   \n",
       "2        [B07YSRXJD3, B07G7Q5N6G, B08C9Q7QVK, B07G7Q5N6G]     DE   \n",
       "3       [B08KQBYV43, 3955350843, 3955350843, 395535086...     DE   \n",
       "4       [B09FPTCWMC, B09FPTQP68, B08HMRY8NG, B08TBBQ4B...     DE   \n",
       "...                                                   ...    ...   \n",
       "104563  [B014I8SSD0, B07YTX31J8, B07TVG9964, B004BEMD5...     DE   \n",
       "104564               [B003M0NURK, B09VPJ4394, B07TVH9NHP]     DE   \n",
       "104565   [B07B38Z3S7, B079HF6FSP, B079HF6FSP, B07B38Z3S7]     DE   \n",
       "104566               [B00HFDYJGQ, B018G6YYDI, B00HFDYJGQ]     DE   \n",
       "104567  [B079K755SJ, B0799LV38F, B0799LPW6D, B0799LV38...     DE   \n",
       "\n",
       "                                                next_item  \n",
       "0       [B08V1KXBQD, B07TV22X9M, B08V12CT4C, B099NS1XP...  \n",
       "1       [B00R9RZ9ZS, B00R9R5ND6, B095TL42FL, 377246997...  \n",
       "2       [B07G7Q5N6G, B08C9Q7QVK, B099277D7Q, B09XTMPM8...  \n",
       "3       [3741524131, 3955350878, 395535086X, B0041VW2D...  \n",
       "4       [B09J945WQR, B09J8V9RQQ, B09J8T6TTH, B09J8TWRV...  \n",
       "...                                                   ...  \n",
       "104563  [B00B4CVV60, B004BHZHIS, B004XISZ8E, B00SWYTH3...  \n",
       "104564  [B08CMX8WZ6, B08CMPSCMQ, B07TVH9NHP, B09VPJ439...  \n",
       "104565  [B079MBWZS9, B079HF6FSP, B07B33GMCF, B079H8G39...  \n",
       "104566  [B00HFDYJGQ, B00HFDYYRU, B08JH72VJG, B08JH6P9J...  \n",
       "104567  [B089QNRG96, B0799LPW6D, B07JRD2RJC, B07JQ84XX...  \n",
       "\n",
       "[104568 rows x 3 columns]"
      ]
     },
     "execution_count": 111,
     "metadata": {},
     "output_type": "execute_result"
    }
   ],
   "source": [
    "sessions_test_task1_de"
   ]
  },
  {
   "cell_type": "code",
   "execution_count": 51,
   "id": "1977e6d4-31fa-4d8d-bc5c-d0bb36f3b0ee",
   "metadata": {
    "tags": []
   },
   "outputs": [],
   "source": [
    "sessions_test_task1_de.to_csv('pred_sessions_test_task1_de.csv')"
   ]
  },
  {
   "cell_type": "code",
   "execution_count": 112,
   "id": "e4195549-94f7-4690-9fa7-200f7bb0d5d6",
   "metadata": {
    "tags": []
   },
   "outputs": [
    {
     "name": "stdout",
     "output_type": "stream",
     "text": [
      "The length of the list at index 61854 is 6\n",
      "The length of the list at index 91747 is 6\n"
     ]
    }
   ],
   "source": [
    "# Check if there is a list which does not have 100 items\n",
    "list_lengths = sessions_test_task1_de['next_item'].apply(len)\n",
    "indices = list_lengths[list_lengths != 100].index.tolist()\n",
    "\n",
    "# Print the result\n",
    "for i in indices:\n",
    "    print(f\"The length of the list at index {i} is {list_lengths[i]}\")"
   ]
  },
  {
   "cell_type": "markdown",
   "id": "7319f5a7-1850-4b4d-b890-d6e7c8f21e18",
   "metadata": {},
   "source": [
    "# JP Locale"
   ]
  },
  {
   "cell_type": "code",
   "execution_count": 52,
   "id": "05b99ab9-b83a-429c-8ac7-e3c39f493d47",
   "metadata": {
    "tags": []
   },
   "outputs": [],
   "source": [
    "jp_embeddings = jp_embeddings.set_index('id')"
   ]
  },
  {
   "cell_type": "code",
   "execution_count": 53,
   "id": "a1471d4b-c853-4a6d-9f9d-9c6d64a5319b",
   "metadata": {
    "tags": []
   },
   "outputs": [
    {
     "data": {
      "text/html": [
       "<div>\n",
       "<style scoped>\n",
       "    .dataframe tbody tr th:only-of-type {\n",
       "        vertical-align: middle;\n",
       "    }\n",
       "\n",
       "    .dataframe tbody tr th {\n",
       "        vertical-align: top;\n",
       "    }\n",
       "\n",
       "    .dataframe thead th {\n",
       "        text-align: right;\n",
       "    }\n",
       "</style>\n",
       "<table border=\"1\" class=\"dataframe\">\n",
       "  <thead>\n",
       "    <tr style=\"text-align: right;\">\n",
       "      <th></th>\n",
       "      <th>0</th>\n",
       "      <th>1</th>\n",
       "      <th>2</th>\n",
       "      <th>3</th>\n",
       "      <th>4</th>\n",
       "      <th>5</th>\n",
       "      <th>6</th>\n",
       "      <th>7</th>\n",
       "      <th>8</th>\n",
       "      <th>9</th>\n",
       "      <th>...</th>\n",
       "      <th>759</th>\n",
       "      <th>760</th>\n",
       "      <th>761</th>\n",
       "      <th>762</th>\n",
       "      <th>763</th>\n",
       "      <th>764</th>\n",
       "      <th>765</th>\n",
       "      <th>766</th>\n",
       "      <th>767</th>\n",
       "      <th>title</th>\n",
       "    </tr>\n",
       "    <tr>\n",
       "      <th>id</th>\n",
       "      <th></th>\n",
       "      <th></th>\n",
       "      <th></th>\n",
       "      <th></th>\n",
       "      <th></th>\n",
       "      <th></th>\n",
       "      <th></th>\n",
       "      <th></th>\n",
       "      <th></th>\n",
       "      <th></th>\n",
       "      <th></th>\n",
       "      <th></th>\n",
       "      <th></th>\n",
       "      <th></th>\n",
       "      <th></th>\n",
       "      <th></th>\n",
       "      <th></th>\n",
       "      <th></th>\n",
       "      <th></th>\n",
       "      <th></th>\n",
       "      <th></th>\n",
       "    </tr>\n",
       "  </thead>\n",
       "  <tbody>\n",
       "    <tr>\n",
       "      <th>B09Y86W9DD</th>\n",
       "      <td>0.062639</td>\n",
       "      <td>-0.155497</td>\n",
       "      <td>-0.015371</td>\n",
       "      <td>-0.189894</td>\n",
       "      <td>-0.063635</td>\n",
       "      <td>0.027157</td>\n",
       "      <td>0.088613</td>\n",
       "      <td>0.116732</td>\n",
       "      <td>0.11028</td>\n",
       "      <td>-0.263356</td>\n",
       "      <td>...</td>\n",
       "      <td>-0.061514</td>\n",
       "      <td>0.013169</td>\n",
       "      <td>-0.037273</td>\n",
       "      <td>0.099331</td>\n",
       "      <td>-0.291745</td>\n",
       "      <td>0.03227</td>\n",
       "      <td>0.034889</td>\n",
       "      <td>0.017256</td>\n",
       "      <td>-0.092252</td>\n",
       "      <td>ウルトラマンデッカー DX最強なりきりセット (早期購入特典 金のウルトラディメンションカー...</td>\n",
       "    </tr>\n",
       "  </tbody>\n",
       "</table>\n",
       "<p>1 rows × 769 columns</p>\n",
       "</div>"
      ],
      "text/plain": [
       "                   0         1         2         3         4         5  \\\n",
       "id                                                                       \n",
       "B09Y86W9DD  0.062639 -0.155497 -0.015371 -0.189894 -0.063635  0.027157   \n",
       "\n",
       "                   6         7        8         9  ...       759       760  \\\n",
       "id                                                 ...                       \n",
       "B09Y86W9DD  0.088613  0.116732  0.11028 -0.263356  ... -0.061514  0.013169   \n",
       "\n",
       "                 761       762       763      764       765       766  \\\n",
       "id                                                                      \n",
       "B09Y86W9DD -0.037273  0.099331 -0.291745  0.03227  0.034889  0.017256   \n",
       "\n",
       "                 767                                              title  \n",
       "id                                                                       \n",
       "B09Y86W9DD -0.092252  ウルトラマンデッカー DX最強なりきりセット (早期購入特典 金のウルトラディメンションカー...  \n",
       "\n",
       "[1 rows x 769 columns]"
      ]
     },
     "execution_count": 53,
     "metadata": {},
     "output_type": "execute_result"
    }
   ],
   "source": [
    "jp_embeddings.sample()"
   ]
  },
  {
   "cell_type": "code",
   "execution_count": 54,
   "id": "d7136192-6618-4b60-9447-85ad3c899f4e",
   "metadata": {
    "tags": []
   },
   "outputs": [],
   "source": [
    "index_training_jp_embeddings = jp_embeddings.drop(['title'], axis=1)"
   ]
  },
  {
   "cell_type": "code",
   "execution_count": 55,
   "id": "09e83e65-eb5b-4d6c-a010-9a4af26f8644",
   "metadata": {
    "tags": []
   },
   "outputs": [],
   "source": [
    "# convert dataframe to numpy array\n",
    "index_training_jp_embeddings = index_training_jp_embeddings.values.astype('float32').copy()"
   ]
  },
  {
   "cell_type": "code",
   "execution_count": 56,
   "id": "ad9839b6-a3b9-43b6-95b0-20caa8d87829",
   "metadata": {
    "tags": []
   },
   "outputs": [
    {
     "data": {
      "text/plain": [
       "(395009, 768)"
      ]
     },
     "execution_count": 56,
     "metadata": {},
     "output_type": "execute_result"
    }
   ],
   "source": [
    "index_training_jp_embeddings.shape"
   ]
  },
  {
   "cell_type": "code",
   "execution_count": 57,
   "id": "b9efc5ec-d374-4f77-9ac9-f79476a344ce",
   "metadata": {
    "tags": []
   },
   "outputs": [
    {
     "name": "stdout",
     "output_type": "stream",
     "text": [
      "1\n",
      "2\n",
      "3\n",
      "4\n",
      "6\n",
      "8\n",
      "12\n",
      "16\n",
      "24\n",
      "32\n",
      "48\n",
      "64\n",
      "96\n"
     ]
    }
   ],
   "source": [
    "get_m_centroids(index_training_jp_embeddings.shape[1])"
   ]
  },
  {
   "cell_type": "code",
   "execution_count": 58,
   "id": "bcabbf44-c518-4adf-b1ef-32350ef732a6",
   "metadata": {
    "tags": []
   },
   "outputs": [
    {
     "name": "stdout",
     "output_type": "stream",
     "text": [
      "Index is trained True\n"
     ]
    }
   ],
   "source": [
    "index_gpu_jp = create_gpu_index_for_locale(index_training_jp_embeddings, 100, 24, 8, 10000)"
   ]
  },
  {
   "cell_type": "code",
   "execution_count": 59,
   "id": "50bdbb13-2907-498d-a7c0-8a0193750f08",
   "metadata": {
    "tags": []
   },
   "outputs": [],
   "source": [
    "sessions_test_task1_jp = sessions_test_task1[sessions_test_task1['locale'] == \"JP\"]"
   ]
  },
  {
   "cell_type": "code",
   "execution_count": 60,
   "id": "a27bbb9e-a5a9-4c0e-ac7f-85bd7cdef2d8",
   "metadata": {
    "tags": []
   },
   "outputs": [
    {
     "data": {
      "text/html": [
       "<div>\n",
       "<style scoped>\n",
       "    .dataframe tbody tr th:only-of-type {\n",
       "        vertical-align: middle;\n",
       "    }\n",
       "\n",
       "    .dataframe tbody tr th {\n",
       "        vertical-align: top;\n",
       "    }\n",
       "\n",
       "    .dataframe thead th {\n",
       "        text-align: right;\n",
       "    }\n",
       "</style>\n",
       "<table border=\"1\" class=\"dataframe\">\n",
       "  <thead>\n",
       "    <tr style=\"text-align: right;\">\n",
       "      <th></th>\n",
       "      <th>id</th>\n",
       "      <th>title</th>\n",
       "    </tr>\n",
       "  </thead>\n",
       "  <tbody>\n",
       "    <tr>\n",
       "      <th>518327</th>\n",
       "      <td>B0BCFTG541</td>\n",
       "      <td>ワタシガモテナイノハドウカンガエテモオマエラガワルイ022 (デジタルバンガンガンコミックス...</td>\n",
       "    </tr>\n",
       "    <tr>\n",
       "      <th>518328</th>\n",
       "      <td>B096F11HV9</td>\n",
       "      <td>Apple MacBook Air M1 2020(13インチAir,8GB RAM,256...</td>\n",
       "    </tr>\n",
       "    <tr>\n",
       "      <th>518329</th>\n",
       "      <td>B0178VYR6Q</td>\n",
       "      <td>キユーピー やさしい献立 なめらかごはん 150g×6個【区分4:かまなくてよい】</td>\n",
       "    </tr>\n",
       "    <tr>\n",
       "      <th>518330</th>\n",
       "      <td>B09VWM3SCD</td>\n",
       "      <td>Coticam outdoor ランタンシェード LED ライト ランタン キャンプ アウト...</td>\n",
       "    </tr>\n",
       "    <tr>\n",
       "      <th>518331</th>\n",
       "      <td>B07KFZPKLV</td>\n",
       "      <td>Colorsroom こたつ布団 正方形 コタツ布団 185×185cm コタツふとん 掛け...</td>\n",
       "    </tr>\n",
       "  </tbody>\n",
       "</table>\n",
       "</div>"
      ],
      "text/plain": [
       "                id                                              title\n",
       "518327  B0BCFTG541  ワタシガモテナイノハドウカンガエテモオマエラガワルイ022 (デジタルバンガンガンコミックス...\n",
       "518328  B096F11HV9  Apple MacBook Air M1 2020(13インチAir,8GB RAM,256...\n",
       "518329  B0178VYR6Q          キユーピー やさしい献立 なめらかごはん 150g×6個【区分4:かまなくてよい】\n",
       "518330  B09VWM3SCD  Coticam outdoor ランタンシェード LED ライト ランタン キャンプ アウト...\n",
       "518331  B07KFZPKLV  Colorsroom こたつ布団 正方形 コタツ布団 185×185cm コタツふとん 掛け..."
      ]
     },
     "execution_count": 60,
     "metadata": {},
     "output_type": "execute_result"
    }
   ],
   "source": [
    "products_jp.head()"
   ]
  },
  {
   "cell_type": "code",
   "execution_count": 63,
   "id": "11fd6b0d-d9cb-4efd-941f-b6d8b46cd332",
   "metadata": {
    "tags": []
   },
   "outputs": [
    {
     "name": "stderr",
     "output_type": "stream",
     "text": [
      "/scratch/slurm_tmpdir/job_22225816/ipykernel_493281/2871624978.py:1: SettingWithCopyWarning: \n",
      "A value is trying to be set on a copy of a slice from a DataFrame.\n",
      "Try using .loc[row_indexer,col_indexer] = value instead\n",
      "\n",
      "See the caveats in the documentation: https://pandas.pydata.org/pandas-docs/stable/user_guide/indexing.html#returning-a-view-versus-a-copy\n",
      "  sessions_test_task1_jp['next_item'] = sessions_test_task1_jp.apply(lambda row: predict_next_100_items(row, jp_embeddings, 100, index_gpu_jp), axis=1)\n"
     ]
    }
   ],
   "source": [
    "sessions_test_task1_jp['next_item'] = sessions_test_task1_jp.apply(lambda row: predict_next_100_items(row, jp_embeddings, products_jp, 100, index_gpu_jp), axis=1)"
   ]
  },
  {
   "cell_type": "code",
   "execution_count": 64,
   "id": "d1069480-a3d9-4fab-9c45-0e32f0cc08a2",
   "metadata": {
    "tags": []
   },
   "outputs": [
    {
     "data": {
      "text/html": [
       "<div>\n",
       "<style scoped>\n",
       "    .dataframe tbody tr th:only-of-type {\n",
       "        vertical-align: middle;\n",
       "    }\n",
       "\n",
       "    .dataframe tbody tr th {\n",
       "        vertical-align: top;\n",
       "    }\n",
       "\n",
       "    .dataframe thead th {\n",
       "        text-align: right;\n",
       "    }\n",
       "</style>\n",
       "<table border=\"1\" class=\"dataframe\">\n",
       "  <thead>\n",
       "    <tr style=\"text-align: right;\">\n",
       "      <th></th>\n",
       "      <th>prev_items</th>\n",
       "      <th>locale</th>\n",
       "      <th>next_item</th>\n",
       "    </tr>\n",
       "  </thead>\n",
       "  <tbody>\n",
       "    <tr>\n",
       "      <th>104568</th>\n",
       "      <td>[B09NZHMKXW, B0823M5W31, B017GSMOJS, B09NZHMKX...</td>\n",
       "      <td>JP</td>\n",
       "      <td>[B08NZN9WC1, B09S25SZ1Q, B06Y4F4NDS, B0BBW7QVH...</td>\n",
       "    </tr>\n",
       "    <tr>\n",
       "      <th>104569</th>\n",
       "      <td>[B08S31PW4G, B09TKN5SGL]</td>\n",
       "      <td>JP</td>\n",
       "      <td>[B09BHP5PP1, B07F3WG12T, B09CG7D7LN, B08FB62GK...</td>\n",
       "    </tr>\n",
       "    <tr>\n",
       "      <th>104570</th>\n",
       "      <td>[B0BHWBZ4ZJ, B0BHWBZ4ZJ, B09MQCDRZ1, B07YC81BS...</td>\n",
       "      <td>JP</td>\n",
       "      <td>[B09V7RBRWN, B000J3VKLQ, B09CD5BQ7Y, B0B7NHB4Q...</td>\n",
       "    </tr>\n",
       "    <tr>\n",
       "      <th>104571</th>\n",
       "      <td>[B07VHJZQYB, B07Y1P1B5T]</td>\n",
       "      <td>JP</td>\n",
       "      <td>[B087CQM9BT, B089SWFFFV, B07VCLCJT3, B07K9LGGQ...</td>\n",
       "    </tr>\n",
       "    <tr>\n",
       "      <th>104572</th>\n",
       "      <td>[B09JK112HQ, B07GCTJ7JX, B0BKK2NRPJ, B07P1BH2S...</td>\n",
       "      <td>JP</td>\n",
       "      <td>[B09FSNXWKP, B0926NWR4L, B09QXDVQ1V, B088ZW7GD...</td>\n",
       "    </tr>\n",
       "    <tr>\n",
       "      <th>...</th>\n",
       "      <td>...</td>\n",
       "      <td>...</td>\n",
       "      <td>...</td>\n",
       "    </tr>\n",
       "    <tr>\n",
       "      <th>201030</th>\n",
       "      <td>[B06WVR45WV, B00SMEQW6C, B00SMEQW3U]</td>\n",
       "      <td>JP</td>\n",
       "      <td>[B005DY18Y0, B006RI3QN2, B07JZLWPQQ, B08QR8X8D...</td>\n",
       "    </tr>\n",
       "    <tr>\n",
       "      <th>201031</th>\n",
       "      <td>[B07QSHYZDR, B07QSHYZDR, B00AMUOOPK, B0044IF40...</td>\n",
       "      <td>JP</td>\n",
       "      <td>[B0BBTP4S6N, B0B5KP97T5, B09SGBD4JF, B00FGI2QV...</td>\n",
       "    </tr>\n",
       "    <tr>\n",
       "      <th>201032</th>\n",
       "      <td>[B0146F7BBU, B06XCKFSTS, B007TFQ2QU]</td>\n",
       "      <td>JP</td>\n",
       "      <td>[B00O9N1BEI, B0B48XHCRV, B07JG3JMCC, B005IXH6D...</td>\n",
       "    </tr>\n",
       "    <tr>\n",
       "      <th>201033</th>\n",
       "      <td>[B09SHMC6KN, B09SHMC6KN, B07PYRX4D6, B07KDH4RN...</td>\n",
       "      <td>JP</td>\n",
       "      <td>[B07Q614Z3C, B07XGZWDZ4, B09PBD5H8X, B0B3X3FDH...</td>\n",
       "    </tr>\n",
       "    <tr>\n",
       "      <th>201034</th>\n",
       "      <td>[B08WWQ5LFZ, B08DRJYVFR, B08DRJSWBH]</td>\n",
       "      <td>JP</td>\n",
       "      <td>[B0B1MWRLDZ, B08N5J3XB1, B085G5CDY7, B0BBVMXYC...</td>\n",
       "    </tr>\n",
       "  </tbody>\n",
       "</table>\n",
       "<p>96467 rows × 3 columns</p>\n",
       "</div>"
      ],
      "text/plain": [
       "                                               prev_items locale  \\\n",
       "104568  [B09NZHMKXW, B0823M5W31, B017GSMOJS, B09NZHMKX...     JP   \n",
       "104569                           [B08S31PW4G, B09TKN5SGL]     JP   \n",
       "104570  [B0BHWBZ4ZJ, B0BHWBZ4ZJ, B09MQCDRZ1, B07YC81BS...     JP   \n",
       "104571                           [B07VHJZQYB, B07Y1P1B5T]     JP   \n",
       "104572  [B09JK112HQ, B07GCTJ7JX, B0BKK2NRPJ, B07P1BH2S...     JP   \n",
       "...                                                   ...    ...   \n",
       "201030               [B06WVR45WV, B00SMEQW6C, B00SMEQW3U]     JP   \n",
       "201031  [B07QSHYZDR, B07QSHYZDR, B00AMUOOPK, B0044IF40...     JP   \n",
       "201032               [B0146F7BBU, B06XCKFSTS, B007TFQ2QU]     JP   \n",
       "201033  [B09SHMC6KN, B09SHMC6KN, B07PYRX4D6, B07KDH4RN...     JP   \n",
       "201034               [B08WWQ5LFZ, B08DRJYVFR, B08DRJSWBH]     JP   \n",
       "\n",
       "                                                next_item  \n",
       "104568  [B08NZN9WC1, B09S25SZ1Q, B06Y4F4NDS, B0BBW7QVH...  \n",
       "104569  [B09BHP5PP1, B07F3WG12T, B09CG7D7LN, B08FB62GK...  \n",
       "104570  [B09V7RBRWN, B000J3VKLQ, B09CD5BQ7Y, B0B7NHB4Q...  \n",
       "104571  [B087CQM9BT, B089SWFFFV, B07VCLCJT3, B07K9LGGQ...  \n",
       "104572  [B09FSNXWKP, B0926NWR4L, B09QXDVQ1V, B088ZW7GD...  \n",
       "...                                                   ...  \n",
       "201030  [B005DY18Y0, B006RI3QN2, B07JZLWPQQ, B08QR8X8D...  \n",
       "201031  [B0BBTP4S6N, B0B5KP97T5, B09SGBD4JF, B00FGI2QV...  \n",
       "201032  [B00O9N1BEI, B0B48XHCRV, B07JG3JMCC, B005IXH6D...  \n",
       "201033  [B07Q614Z3C, B07XGZWDZ4, B09PBD5H8X, B0B3X3FDH...  \n",
       "201034  [B0B1MWRLDZ, B08N5J3XB1, B085G5CDY7, B0BBVMXYC...  \n",
       "\n",
       "[96467 rows x 3 columns]"
      ]
     },
     "execution_count": 64,
     "metadata": {},
     "output_type": "execute_result"
    }
   ],
   "source": [
    "sessions_test_task1_jp"
   ]
  },
  {
   "cell_type": "code",
   "execution_count": 65,
   "id": "6ca4b360-1baa-400d-bce6-2bdbdf408358",
   "metadata": {
    "tags": []
   },
   "outputs": [],
   "source": [
    "sessions_test_task1_jp.to_csv('pred_sessions_test_task1_jp.csv')"
   ]
  },
  {
   "cell_type": "markdown",
   "id": "36da6274-f037-4b7b-ba75-8d814d09ed31",
   "metadata": {},
   "source": [
    "# UK Locale"
   ]
  },
  {
   "cell_type": "code",
   "execution_count": 66,
   "id": "8e9b4b97-979c-4700-90a5-7fbefd8d3515",
   "metadata": {
    "tags": []
   },
   "outputs": [],
   "source": [
    "uk_embeddings = uk_embeddings.set_index('id')"
   ]
  },
  {
   "cell_type": "code",
   "execution_count": 67,
   "id": "16673e6c-bd0d-4678-981a-279d5f9e5049",
   "metadata": {
    "tags": []
   },
   "outputs": [
    {
     "data": {
      "text/html": [
       "<div>\n",
       "<style scoped>\n",
       "    .dataframe tbody tr th:only-of-type {\n",
       "        vertical-align: middle;\n",
       "    }\n",
       "\n",
       "    .dataframe tbody tr th {\n",
       "        vertical-align: top;\n",
       "    }\n",
       "\n",
       "    .dataframe thead th {\n",
       "        text-align: right;\n",
       "    }\n",
       "</style>\n",
       "<table border=\"1\" class=\"dataframe\">\n",
       "  <thead>\n",
       "    <tr style=\"text-align: right;\">\n",
       "      <th></th>\n",
       "      <th>0</th>\n",
       "      <th>1</th>\n",
       "      <th>2</th>\n",
       "      <th>3</th>\n",
       "      <th>4</th>\n",
       "      <th>5</th>\n",
       "      <th>6</th>\n",
       "      <th>7</th>\n",
       "      <th>8</th>\n",
       "      <th>9</th>\n",
       "      <th>...</th>\n",
       "      <th>759</th>\n",
       "      <th>760</th>\n",
       "      <th>761</th>\n",
       "      <th>762</th>\n",
       "      <th>763</th>\n",
       "      <th>764</th>\n",
       "      <th>765</th>\n",
       "      <th>766</th>\n",
       "      <th>767</th>\n",
       "      <th>title</th>\n",
       "    </tr>\n",
       "    <tr>\n",
       "      <th>id</th>\n",
       "      <th></th>\n",
       "      <th></th>\n",
       "      <th></th>\n",
       "      <th></th>\n",
       "      <th></th>\n",
       "      <th></th>\n",
       "      <th></th>\n",
       "      <th></th>\n",
       "      <th></th>\n",
       "      <th></th>\n",
       "      <th></th>\n",
       "      <th></th>\n",
       "      <th></th>\n",
       "      <th></th>\n",
       "      <th></th>\n",
       "      <th></th>\n",
       "      <th></th>\n",
       "      <th></th>\n",
       "      <th></th>\n",
       "      <th></th>\n",
       "      <th></th>\n",
       "    </tr>\n",
       "  </thead>\n",
       "  <tbody>\n",
       "    <tr>\n",
       "      <th>B08WWPPV1P</th>\n",
       "      <td>0.216903</td>\n",
       "      <td>-0.085131</td>\n",
       "      <td>-0.03248</td>\n",
       "      <td>-0.905473</td>\n",
       "      <td>0.142746</td>\n",
       "      <td>0.315397</td>\n",
       "      <td>-0.027464</td>\n",
       "      <td>0.144623</td>\n",
       "      <td>-0.001491</td>\n",
       "      <td>0.067681</td>\n",
       "      <td>...</td>\n",
       "      <td>0.06848</td>\n",
       "      <td>0.037089</td>\n",
       "      <td>-0.120454</td>\n",
       "      <td>0.409435</td>\n",
       "      <td>0.111251</td>\n",
       "      <td>0.418192</td>\n",
       "      <td>-0.204423</td>\n",
       "      <td>0.008118</td>\n",
       "      <td>0.338016</td>\n",
       "      <td>Spiders Top Trumps Card Game</td>\n",
       "    </tr>\n",
       "  </tbody>\n",
       "</table>\n",
       "<p>1 rows × 769 columns</p>\n",
       "</div>"
      ],
      "text/plain": [
       "                   0         1        2         3         4         5  \\\n",
       "id                                                                      \n",
       "B08WWPPV1P  0.216903 -0.085131 -0.03248 -0.905473  0.142746  0.315397   \n",
       "\n",
       "                   6         7         8         9  ...      759       760  \\\n",
       "id                                                  ...                      \n",
       "B08WWPPV1P -0.027464  0.144623 -0.001491  0.067681  ...  0.06848  0.037089   \n",
       "\n",
       "                 761       762       763       764       765       766  \\\n",
       "id                                                                       \n",
       "B08WWPPV1P -0.120454  0.409435  0.111251  0.418192 -0.204423  0.008118   \n",
       "\n",
       "                 767                         title  \n",
       "id                                                  \n",
       "B08WWPPV1P  0.338016  Spiders Top Trumps Card Game  \n",
       "\n",
       "[1 rows x 769 columns]"
      ]
     },
     "execution_count": 67,
     "metadata": {},
     "output_type": "execute_result"
    }
   ],
   "source": [
    "uk_embeddings.sample()"
   ]
  },
  {
   "cell_type": "code",
   "execution_count": 68,
   "id": "58f22024-c1cd-48aa-b2e5-ff92f5d08b65",
   "metadata": {
    "tags": []
   },
   "outputs": [],
   "source": [
    "index_training_uk_embeddings = uk_embeddings.drop(['title'], axis=1)"
   ]
  },
  {
   "cell_type": "code",
   "execution_count": 69,
   "id": "5cdbfec7-3a4e-4616-86a9-8e729ea0071c",
   "metadata": {
    "tags": []
   },
   "outputs": [],
   "source": [
    "# convert dataframe to numpy array\n",
    "index_training_uk_embeddings = index_training_uk_embeddings.values.astype('float32').copy()"
   ]
  },
  {
   "cell_type": "code",
   "execution_count": 70,
   "id": "2daaad49-4710-4080-a46d-040709319ac1",
   "metadata": {
    "tags": []
   },
   "outputs": [
    {
     "data": {
      "text/plain": [
       "(500180, 768)"
      ]
     },
     "execution_count": 70,
     "metadata": {},
     "output_type": "execute_result"
    }
   ],
   "source": [
    "index_training_uk_embeddings.shape"
   ]
  },
  {
   "cell_type": "code",
   "execution_count": 71,
   "id": "e5b26a24-3800-4264-831b-69bab64de229",
   "metadata": {
    "tags": []
   },
   "outputs": [
    {
     "name": "stdout",
     "output_type": "stream",
     "text": [
      "1\n",
      "2\n",
      "3\n",
      "4\n",
      "6\n",
      "8\n",
      "12\n",
      "16\n",
      "24\n",
      "32\n",
      "48\n",
      "64\n",
      "96\n"
     ]
    }
   ],
   "source": [
    "get_m_centroids(index_training_uk_embeddings.shape[1])"
   ]
  },
  {
   "cell_type": "code",
   "execution_count": 72,
   "id": "c15f5391-164b-4fba-8d76-78d381146b0a",
   "metadata": {
    "tags": []
   },
   "outputs": [
    {
     "name": "stdout",
     "output_type": "stream",
     "text": [
      "Index is trained True\n"
     ]
    }
   ],
   "source": [
    "index_gpu_uk = create_gpu_index_for_locale(index_training_uk_embeddings, 100, 24, 8, 10000)"
   ]
  },
  {
   "cell_type": "code",
   "execution_count": 73,
   "id": "7e0c7c97-3473-43fb-bf23-bbe74e3bc6fb",
   "metadata": {
    "tags": []
   },
   "outputs": [],
   "source": [
    "sessions_test_task1_uk = sessions_test_task1[sessions_test_task1['locale'] == \"UK\"]"
   ]
  },
  {
   "cell_type": "code",
   "execution_count": 74,
   "id": "d7266045-f638-4089-9b87-e643fd7700e9",
   "metadata": {
    "tags": []
   },
   "outputs": [
    {
     "data": {
      "text/html": [
       "<div>\n",
       "<style scoped>\n",
       "    .dataframe tbody tr th:only-of-type {\n",
       "        vertical-align: middle;\n",
       "    }\n",
       "\n",
       "    .dataframe tbody tr th {\n",
       "        vertical-align: top;\n",
       "    }\n",
       "\n",
       "    .dataframe thead th {\n",
       "        text-align: right;\n",
       "    }\n",
       "</style>\n",
       "<table border=\"1\" class=\"dataframe\">\n",
       "  <thead>\n",
       "    <tr style=\"text-align: right;\">\n",
       "      <th></th>\n",
       "      <th>id</th>\n",
       "      <th>title</th>\n",
       "    </tr>\n",
       "  </thead>\n",
       "  <tbody>\n",
       "    <tr>\n",
       "      <th>913336</th>\n",
       "      <td>B087LZNPHS</td>\n",
       "      <td>SOCHOW Sherpa Fleece Throw Blanket, Double-Sid...</td>\n",
       "    </tr>\n",
       "    <tr>\n",
       "      <th>913337</th>\n",
       "      <td>B08THFN1KX</td>\n",
       "      <td>Hippowarehouse Personalised Photo Printed Mous...</td>\n",
       "    </tr>\n",
       "    <tr>\n",
       "      <th>913338</th>\n",
       "      <td>0804185328</td>\n",
       "      <td>500 Easy Recipes for Every Machine, Both Stove...</td>\n",
       "    </tr>\n",
       "    <tr>\n",
       "      <th>913339</th>\n",
       "      <td>B09VBKDBW6</td>\n",
       "      <td>TYHJOY Mini Bag Sealer, Handheld Vacuum Heat S...</td>\n",
       "    </tr>\n",
       "    <tr>\n",
       "      <th>913340</th>\n",
       "      <td>B096ZW8B49</td>\n",
       "      <td>Lucosobie Steering Wheel Lock - Car Anti-Theft...</td>\n",
       "    </tr>\n",
       "  </tbody>\n",
       "</table>\n",
       "</div>"
      ],
      "text/plain": [
       "                id                                              title\n",
       "913336  B087LZNPHS  SOCHOW Sherpa Fleece Throw Blanket, Double-Sid...\n",
       "913337  B08THFN1KX  Hippowarehouse Personalised Photo Printed Mous...\n",
       "913338  0804185328  500 Easy Recipes for Every Machine, Both Stove...\n",
       "913339  B09VBKDBW6  TYHJOY Mini Bag Sealer, Handheld Vacuum Heat S...\n",
       "913340  B096ZW8B49  Lucosobie Steering Wheel Lock - Car Anti-Theft..."
      ]
     },
     "execution_count": 74,
     "metadata": {},
     "output_type": "execute_result"
    }
   ],
   "source": [
    "products_uk.head()"
   ]
  },
  {
   "cell_type": "code",
   "execution_count": 75,
   "id": "84fbc8f3-177b-4377-8098-72e86ef71bd9",
   "metadata": {
    "tags": []
   },
   "outputs": [
    {
     "name": "stderr",
     "output_type": "stream",
     "text": [
      "/scratch/slurm_tmpdir/job_22225816/ipykernel_493281/2720364193.py:1: SettingWithCopyWarning: \n",
      "A value is trying to be set on a copy of a slice from a DataFrame.\n",
      "Try using .loc[row_indexer,col_indexer] = value instead\n",
      "\n",
      "See the caveats in the documentation: https://pandas.pydata.org/pandas-docs/stable/user_guide/indexing.html#returning-a-view-versus-a-copy\n",
      "  sessions_test_task1_uk['next_item'] = sessions_test_task1_uk.apply(lambda row: predict_next_100_items(row, uk_embeddings, 100, index_gpu_uk), axis=1)\n"
     ]
    }
   ],
   "source": [
    "sessions_test_task1_uk['next_item'] = sessions_test_task1_uk.apply(lambda row: predict_next_100_items(row, uk_embeddings, products_uk, 100, index_gpu_uk), axis=1)"
   ]
  },
  {
   "cell_type": "code",
   "execution_count": 76,
   "id": "5f9064bc-4dc9-492f-9d10-a09e780afe9f",
   "metadata": {
    "tags": []
   },
   "outputs": [
    {
     "data": {
      "text/html": [
       "<div>\n",
       "<style scoped>\n",
       "    .dataframe tbody tr th:only-of-type {\n",
       "        vertical-align: middle;\n",
       "    }\n",
       "\n",
       "    .dataframe tbody tr th {\n",
       "        vertical-align: top;\n",
       "    }\n",
       "\n",
       "    .dataframe thead th {\n",
       "        text-align: right;\n",
       "    }\n",
       "</style>\n",
       "<table border=\"1\" class=\"dataframe\">\n",
       "  <thead>\n",
       "    <tr style=\"text-align: right;\">\n",
       "      <th></th>\n",
       "      <th>prev_items</th>\n",
       "      <th>locale</th>\n",
       "      <th>next_item</th>\n",
       "    </tr>\n",
       "  </thead>\n",
       "  <tbody>\n",
       "    <tr>\n",
       "      <th>201035</th>\n",
       "      <td>[B007MO0FIO, B09QXPN2TL, B005PA3I8G, B003Y7MS6...</td>\n",
       "      <td>UK</td>\n",
       "      <td>[B091TLGK2T, B0BFX4PPYM, B08WPCZ8KR, B09J95XLG...</td>\n",
       "    </tr>\n",
       "    <tr>\n",
       "      <th>201036</th>\n",
       "      <td>[B082P6M3HC, B082BHJ9G8, B0797QCXS6, B082BGVKT...</td>\n",
       "      <td>UK</td>\n",
       "      <td>[B0791BS4NL, B09SH64F6S, B07S7CZZ7L, B09WZ4FJ3...</td>\n",
       "    </tr>\n",
       "    <tr>\n",
       "      <th>201037</th>\n",
       "      <td>[B0894HWG1H, B07S79G11S, B092VCHVS7, B09DCPQG5...</td>\n",
       "      <td>UK</td>\n",
       "      <td>[B0B7RW8HYV, B07TS1NXSH, B07MMWKWH1, B08HFJJTJ...</td>\n",
       "    </tr>\n",
       "    <tr>\n",
       "      <th>201038</th>\n",
       "      <td>[B00FLTE8OE, B07CRNCKMR, B0784T65RK]</td>\n",
       "      <td>UK</td>\n",
       "      <td>[B0B717ZVD5, B006L4DLW8, B091F4QN7K, B09PF9CPN...</td>\n",
       "    </tr>\n",
       "    <tr>\n",
       "      <th>201039</th>\n",
       "      <td>[B0B5XPGRXD, B0BHSXQLSX, B0BJKJZJNM]</td>\n",
       "      <td>UK</td>\n",
       "      <td>[3742322508, B095XWVYMN, B001QCELXS, B00629V1D...</td>\n",
       "    </tr>\n",
       "    <tr>\n",
       "      <th>...</th>\n",
       "      <td>...</td>\n",
       "      <td>...</td>\n",
       "      <td>...</td>\n",
       "    </tr>\n",
       "    <tr>\n",
       "      <th>316966</th>\n",
       "      <td>[B077SZ2C3Y, B0B14M3VZX]</td>\n",
       "      <td>UK</td>\n",
       "      <td>[B08TVMDJJ7, B088C252ZG, B017XZKLCG, B081RJWHB...</td>\n",
       "    </tr>\n",
       "    <tr>\n",
       "      <th>316967</th>\n",
       "      <td>[B08KFHDPY9, B0851KTSRZ, B08KFHDPY9, B0851KTSR...</td>\n",
       "      <td>UK</td>\n",
       "      <td>[B09HH12F4H, B08GCSTGCN, B09GBLVL8S, B07H4RXYN...</td>\n",
       "    </tr>\n",
       "    <tr>\n",
       "      <th>316968</th>\n",
       "      <td>[B07PY1N81F, B07Q1Z8SQN, B07PY1N81F, B07Q1Z8SQ...</td>\n",
       "      <td>UK</td>\n",
       "      <td>[B087PFHYSB, B089WCZ5YN, B0B7NTZ4N4, B0B7JBZ9K...</td>\n",
       "    </tr>\n",
       "    <tr>\n",
       "      <th>316969</th>\n",
       "      <td>[B01MCQMORK, B09JYZ325W]</td>\n",
       "      <td>UK</td>\n",
       "      <td>[B09SDJTL2Z, B093GH3HK6, B07GLMVWTB, B09FF8VS6...</td>\n",
       "    </tr>\n",
       "    <tr>\n",
       "      <th>316970</th>\n",
       "      <td>[B0B8JX92YJ, B09TN4MP6V, B0BG2LZQSL]</td>\n",
       "      <td>UK</td>\n",
       "      <td>[B0BHTF21FF, B00WTPDKQU, B08F387VT6, B09VGZXL5...</td>\n",
       "    </tr>\n",
       "  </tbody>\n",
       "</table>\n",
       "<p>115936 rows × 3 columns</p>\n",
       "</div>"
      ],
      "text/plain": [
       "                                               prev_items locale  \\\n",
       "201035  [B007MO0FIO, B09QXPN2TL, B005PA3I8G, B003Y7MS6...     UK   \n",
       "201036  [B082P6M3HC, B082BHJ9G8, B0797QCXS6, B082BGVKT...     UK   \n",
       "201037  [B0894HWG1H, B07S79G11S, B092VCHVS7, B09DCPQG5...     UK   \n",
       "201038               [B00FLTE8OE, B07CRNCKMR, B0784T65RK]     UK   \n",
       "201039               [B0B5XPGRXD, B0BHSXQLSX, B0BJKJZJNM]     UK   \n",
       "...                                                   ...    ...   \n",
       "316966                           [B077SZ2C3Y, B0B14M3VZX]     UK   \n",
       "316967  [B08KFHDPY9, B0851KTSRZ, B08KFHDPY9, B0851KTSR...     UK   \n",
       "316968  [B07PY1N81F, B07Q1Z8SQN, B07PY1N81F, B07Q1Z8SQ...     UK   \n",
       "316969                           [B01MCQMORK, B09JYZ325W]     UK   \n",
       "316970               [B0B8JX92YJ, B09TN4MP6V, B0BG2LZQSL]     UK   \n",
       "\n",
       "                                                next_item  \n",
       "201035  [B091TLGK2T, B0BFX4PPYM, B08WPCZ8KR, B09J95XLG...  \n",
       "201036  [B0791BS4NL, B09SH64F6S, B07S7CZZ7L, B09WZ4FJ3...  \n",
       "201037  [B0B7RW8HYV, B07TS1NXSH, B07MMWKWH1, B08HFJJTJ...  \n",
       "201038  [B0B717ZVD5, B006L4DLW8, B091F4QN7K, B09PF9CPN...  \n",
       "201039  [3742322508, B095XWVYMN, B001QCELXS, B00629V1D...  \n",
       "...                                                   ...  \n",
       "316966  [B08TVMDJJ7, B088C252ZG, B017XZKLCG, B081RJWHB...  \n",
       "316967  [B09HH12F4H, B08GCSTGCN, B09GBLVL8S, B07H4RXYN...  \n",
       "316968  [B087PFHYSB, B089WCZ5YN, B0B7NTZ4N4, B0B7JBZ9K...  \n",
       "316969  [B09SDJTL2Z, B093GH3HK6, B07GLMVWTB, B09FF8VS6...  \n",
       "316970  [B0BHTF21FF, B00WTPDKQU, B08F387VT6, B09VGZXL5...  \n",
       "\n",
       "[115936 rows x 3 columns]"
      ]
     },
     "execution_count": 76,
     "metadata": {},
     "output_type": "execute_result"
    }
   ],
   "source": [
    "sessions_test_task1_uk"
   ]
  },
  {
   "cell_type": "code",
   "execution_count": 77,
   "id": "eb988a23-30c2-42b3-ae39-71d46db33889",
   "metadata": {
    "tags": []
   },
   "outputs": [],
   "source": [
    "sessions_test_task1_uk.to_csv('pred_sessions_test_task1_uk.csv')"
   ]
  },
  {
   "cell_type": "code",
   "execution_count": 100,
   "id": "2064cbc6-7dcd-4f1e-9c97-e4d325f51baf",
   "metadata": {
    "tags": []
   },
   "outputs": [
    {
     "data": {
      "text/html": [
       "<div>\n",
       "<style scoped>\n",
       "    .dataframe tbody tr th:only-of-type {\n",
       "        vertical-align: middle;\n",
       "    }\n",
       "\n",
       "    .dataframe tbody tr th {\n",
       "        vertical-align: top;\n",
       "    }\n",
       "\n",
       "    .dataframe thead th {\n",
       "        text-align: right;\n",
       "    }\n",
       "</style>\n",
       "<table border=\"1\" class=\"dataframe\">\n",
       "  <thead>\n",
       "    <tr style=\"text-align: right;\">\n",
       "      <th></th>\n",
       "      <th>prev_items</th>\n",
       "      <th>locale</th>\n",
       "      <th>next_item</th>\n",
       "    </tr>\n",
       "  </thead>\n",
       "  <tbody>\n",
       "    <tr>\n",
       "      <th>201035</th>\n",
       "      <td>[B007MO0FIO, B09QXPN2TL, B005PA3I8G, B003Y7MS6...</td>\n",
       "      <td>UK</td>\n",
       "      <td>[B091TLGK2T, B0BFX4PPYM, B08WPCZ8KR, B09J95XLG...</td>\n",
       "    </tr>\n",
       "    <tr>\n",
       "      <th>201036</th>\n",
       "      <td>[B082P6M3HC, B082BHJ9G8, B0797QCXS6, B082BGVKT...</td>\n",
       "      <td>UK</td>\n",
       "      <td>[B0791BS4NL, B09SH64F6S, B07S7CZZ7L, B09WZ4FJ3...</td>\n",
       "    </tr>\n",
       "    <tr>\n",
       "      <th>201037</th>\n",
       "      <td>[B0894HWG1H, B07S79G11S, B092VCHVS7, B09DCPQG5...</td>\n",
       "      <td>UK</td>\n",
       "      <td>[B0B7RW8HYV, B07TS1NXSH, B07MMWKWH1, B08HFJJTJ...</td>\n",
       "    </tr>\n",
       "    <tr>\n",
       "      <th>201038</th>\n",
       "      <td>[B00FLTE8OE, B07CRNCKMR, B0784T65RK]</td>\n",
       "      <td>UK</td>\n",
       "      <td>[B0B717ZVD5, B006L4DLW8, B091F4QN7K, B09PF9CPN...</td>\n",
       "    </tr>\n",
       "    <tr>\n",
       "      <th>201039</th>\n",
       "      <td>[B0B5XPGRXD, B0BHSXQLSX, B0BJKJZJNM]</td>\n",
       "      <td>UK</td>\n",
       "      <td>[3742322508, B095XWVYMN, B001QCELXS, B00629V1D...</td>\n",
       "    </tr>\n",
       "    <tr>\n",
       "      <th>...</th>\n",
       "      <td>...</td>\n",
       "      <td>...</td>\n",
       "      <td>...</td>\n",
       "    </tr>\n",
       "    <tr>\n",
       "      <th>316966</th>\n",
       "      <td>[B077SZ2C3Y, B0B14M3VZX]</td>\n",
       "      <td>UK</td>\n",
       "      <td>[B08TVMDJJ7, B088C252ZG, B017XZKLCG, B081RJWHB...</td>\n",
       "    </tr>\n",
       "    <tr>\n",
       "      <th>316967</th>\n",
       "      <td>[B08KFHDPY9, B0851KTSRZ, B08KFHDPY9, B0851KTSR...</td>\n",
       "      <td>UK</td>\n",
       "      <td>[B09HH12F4H, B08GCSTGCN, B09GBLVL8S, B07H4RXYN...</td>\n",
       "    </tr>\n",
       "    <tr>\n",
       "      <th>316968</th>\n",
       "      <td>[B07PY1N81F, B07Q1Z8SQN, B07PY1N81F, B07Q1Z8SQ...</td>\n",
       "      <td>UK</td>\n",
       "      <td>[B087PFHYSB, B089WCZ5YN, B0B7NTZ4N4, B0B7JBZ9K...</td>\n",
       "    </tr>\n",
       "    <tr>\n",
       "      <th>316969</th>\n",
       "      <td>[B01MCQMORK, B09JYZ325W]</td>\n",
       "      <td>UK</td>\n",
       "      <td>[B09SDJTL2Z, B093GH3HK6, B07GLMVWTB, B09FF8VS6...</td>\n",
       "    </tr>\n",
       "    <tr>\n",
       "      <th>316970</th>\n",
       "      <td>[B0B8JX92YJ, B09TN4MP6V, B0BG2LZQSL]</td>\n",
       "      <td>UK</td>\n",
       "      <td>[B0BHTF21FF, B00WTPDKQU, B08F387VT6, B09VGZXL5...</td>\n",
       "    </tr>\n",
       "  </tbody>\n",
       "</table>\n",
       "<p>115936 rows × 3 columns</p>\n",
       "</div>"
      ],
      "text/plain": [
       "                                               prev_items locale  \\\n",
       "201035  [B007MO0FIO, B09QXPN2TL, B005PA3I8G, B003Y7MS6...     UK   \n",
       "201036  [B082P6M3HC, B082BHJ9G8, B0797QCXS6, B082BGVKT...     UK   \n",
       "201037  [B0894HWG1H, B07S79G11S, B092VCHVS7, B09DCPQG5...     UK   \n",
       "201038               [B00FLTE8OE, B07CRNCKMR, B0784T65RK]     UK   \n",
       "201039               [B0B5XPGRXD, B0BHSXQLSX, B0BJKJZJNM]     UK   \n",
       "...                                                   ...    ...   \n",
       "316966                           [B077SZ2C3Y, B0B14M3VZX]     UK   \n",
       "316967  [B08KFHDPY9, B0851KTSRZ, B08KFHDPY9, B0851KTSR...     UK   \n",
       "316968  [B07PY1N81F, B07Q1Z8SQN, B07PY1N81F, B07Q1Z8SQ...     UK   \n",
       "316969                           [B01MCQMORK, B09JYZ325W]     UK   \n",
       "316970               [B0B8JX92YJ, B09TN4MP6V, B0BG2LZQSL]     UK   \n",
       "\n",
       "                                                next_item  \n",
       "201035  [B091TLGK2T, B0BFX4PPYM, B08WPCZ8KR, B09J95XLG...  \n",
       "201036  [B0791BS4NL, B09SH64F6S, B07S7CZZ7L, B09WZ4FJ3...  \n",
       "201037  [B0B7RW8HYV, B07TS1NXSH, B07MMWKWH1, B08HFJJTJ...  \n",
       "201038  [B0B717ZVD5, B006L4DLW8, B091F4QN7K, B09PF9CPN...  \n",
       "201039  [3742322508, B095XWVYMN, B001QCELXS, B00629V1D...  \n",
       "...                                                   ...  \n",
       "316966  [B08TVMDJJ7, B088C252ZG, B017XZKLCG, B081RJWHB...  \n",
       "316967  [B09HH12F4H, B08GCSTGCN, B09GBLVL8S, B07H4RXYN...  \n",
       "316968  [B087PFHYSB, B089WCZ5YN, B0B7NTZ4N4, B0B7JBZ9K...  \n",
       "316969  [B09SDJTL2Z, B093GH3HK6, B07GLMVWTB, B09FF8VS6...  \n",
       "316970  [B0BHTF21FF, B00WTPDKQU, B08F387VT6, B09VGZXL5...  \n",
       "\n",
       "[115936 rows x 3 columns]"
      ]
     },
     "execution_count": 100,
     "metadata": {},
     "output_type": "execute_result"
    }
   ],
   "source": [
    "sessions_test_task1_uk"
   ]
  },
  {
   "cell_type": "code",
   "execution_count": 90,
   "id": "dcb77fed-032f-47dc-b29d-fe48803c16db",
   "metadata": {
    "tags": []
   },
   "outputs": [
    {
     "name": "stdout",
     "output_type": "stream",
     "text": [
      "The length of the list at index 203493 is 46\n",
      "The length of the list at index 207183 is 46\n",
      "The length of the list at index 209591 is 46\n",
      "The length of the list at index 210756 is 46\n",
      "The length of the list at index 211906 is 46\n",
      "The length of the list at index 216342 is 46\n",
      "The length of the list at index 216643 is 46\n",
      "The length of the list at index 218460 is 81\n",
      "The length of the list at index 227131 is 50\n",
      "The length of the list at index 239352 is 46\n",
      "The length of the list at index 239645 is 81\n",
      "The length of the list at index 246330 is 81\n",
      "The length of the list at index 246434 is 50\n",
      "The length of the list at index 251718 is 46\n",
      "The length of the list at index 255477 is 46\n",
      "The length of the list at index 280548 is 81\n",
      "The length of the list at index 281766 is 46\n",
      "The length of the list at index 285119 is 46\n",
      "The length of the list at index 291193 is 46\n",
      "The length of the list at index 294873 is 50\n",
      "The length of the list at index 311125 is 46\n",
      "The length of the list at index 314952 is 81\n"
     ]
    }
   ],
   "source": [
    "# Check if there is a list which does not have 100 items\n",
    "list_lengths = sessions_test_task1_uk['next_item'].apply(len)\n",
    "indices = list_lengths[list_lengths != 100].index.tolist()\n",
    "\n",
    "# Print the result\n",
    "for i in indices:\n",
    "    print(f\"The length of the list at index {i} is {list_lengths[i]}\")"
   ]
  },
  {
   "cell_type": "markdown",
   "id": "38107170-3163-4d3f-9ee3-40ec77065b5b",
   "metadata": {},
   "source": [
    "# Combine predictions"
   ]
  }
 ],
 "metadata": {
  "kernelspec": {
   "display_name": "Python 3 (ipykernel)",
   "language": "python",
   "name": "python3"
  },
  "language_info": {
   "codemirror_mode": {
    "name": "ipython",
    "version": 3
   },
   "file_extension": ".py",
   "mimetype": "text/x-python",
   "name": "python",
   "nbconvert_exporter": "python",
   "pygments_lexer": "ipython3",
   "version": "3.9.7"
  }
 },
 "nbformat": 4,
 "nbformat_minor": 5
}
